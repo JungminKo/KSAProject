{
 "cells": [
  {
   "cell_type": "markdown",
   "metadata": {},
   "source": [
    "## 사전"
   ]
  },
  {
   "cell_type": "code",
   "execution_count": 4,
   "metadata": {},
   "outputs": [
    {
     "data": {
      "text/plain": [
       "{1: 'A', 10: 'CC'}"
      ]
     },
     "execution_count": 4,
     "metadata": {},
     "output_type": "execute_result"
    }
   ],
   "source": [
    "aa={1:\"A\",10:\"CC\"}\n",
    "aa"
   ]
  },
  {
   "cell_type": "code",
   "execution_count": 5,
   "metadata": {},
   "outputs": [
    {
     "data": {
      "text/plain": [
       "dict"
      ]
     },
     "execution_count": 5,
     "metadata": {},
     "output_type": "execute_result"
    }
   ],
   "source": [
    "aa={}\n",
    "type(aa)"
   ]
  },
  {
   "cell_type": "code",
   "execution_count": 7,
   "metadata": {},
   "outputs": [
    {
     "name": "stdout",
     "output_type": "stream",
     "text": [
      "{2011975: 45, 2012182: 33, 2017342: 55} 33\n"
     ]
    }
   ],
   "source": [
    "aa=[(2011975,45),(2012182,33),(2017342,55)] #iterable하므로 사전으로 변환가능\n",
    "dic=dict(aa)\n",
    "print(dic,dic[2012182])"
   ]
  },
  {
   "cell_type": "code",
   "execution_count": 8,
   "metadata": {},
   "outputs": [
    {
     "name": "stdout",
     "output_type": "stream",
     "text": [
      "{2011975: 45, 2012182: 33, 2017342: 55} 33\n"
     ]
    }
   ],
   "source": [
    "aa=((2011975,45),(2012182,33),(2017342,55)) #튜플도 리스트처럼 사전으로 변환가능. 튜플도 iterable\n",
    "dic=dict(aa)\n",
    "print(dic,dic[2012182])"
   ]
  },
  {
   "cell_type": "code",
   "execution_count": 9,
   "metadata": {},
   "outputs": [
    {
     "name": "stdout",
     "output_type": "stream",
     "text": [
      "{2011975: 45, 2012182: 33, 2017342: 55} 33\n"
     ]
    }
   ],
   "source": [
    "aa=([2011975,45],(2012182,33),(2017342,55)) #원소에 리스트들어가도 OK\n",
    "dic=dict(aa)\n",
    "print(dic,dic[2012182])"
   ]
  },
  {
   "cell_type": "code",
   "execution_count": 10,
   "metadata": {},
   "outputs": [
    {
     "data": {
      "text/plain": [
       "<zip at 0x1a2374c2b88>"
      ]
     },
     "execution_count": 10,
     "metadata": {},
     "output_type": "execute_result"
    }
   ],
   "source": [
    "aa=[2,5,3,6,7,3] #길이가 같은 iterable한 자료들을 쌍으로 연결\n",
    "bb=[22,55,66,88,44,99]\n",
    "zip(aa,bb)"
   ]
  },
  {
   "cell_type": "code",
   "execution_count": 12,
   "metadata": {},
   "outputs": [
    {
     "data": {
      "text/plain": [
       "([(2, 22), (5, 55), (3, 66), (6, 88), (7, 44), (3, 99)],\n",
       " ((2, 22), (5, 55), (3, 66), (6, 88), (7, 44), (3, 99)),\n",
       " {2: 22, 5: 55, 3: 99, 6: 88, 7: 44})"
      ]
     },
     "execution_count": 12,
     "metadata": {},
     "output_type": "execute_result"
    }
   ],
   "source": [
    "list(zip(aa,bb)), tuple(zip(aa,bb)), dict(zip(aa,bb))"
   ]
  },
  {
   "cell_type": "code",
   "execution_count": 13,
   "metadata": {},
   "outputs": [
    {
     "name": "stdout",
     "output_type": "stream",
     "text": [
      "{1: 'one', 10: 'ten'} {1: 'one', 10: 'ten'}\n"
     ]
    }
   ],
   "source": [
    "aa={1:\"one\",10:\"ten\"}\n",
    "bb={1:\"one\",10:\"ten\",1:\"one\"} #값이 중복해서 들어가도 집합처럼 중복값허용X\n",
    "print(aa,bb)"
   ]
  },
  {
   "cell_type": "code",
   "execution_count": 16,
   "metadata": {},
   "outputs": [
    {
     "name": "stdout",
     "output_type": "stream",
     "text": [
      "True False\n"
     ]
    }
   ],
   "source": [
    "aa={1:\"one\",10:\"ten\"}\n",
    "bb={10:\"ten\",1:\"one\",1:\"one\"}  #aa와 순서가 달라도, 원소는 동일하므로 같은 걸로 인식\n",
    "cc={1:\"one\",2:\"two\",10:\"ten\"}\n",
    "print(aa,bb,cc)\n",
    "print(aa==bb,aa==cc)"
   ]
  },
  {
   "cell_type": "code",
   "execution_count": 17,
   "metadata": {},
   "outputs": [
    {
     "name": "stdout",
     "output_type": "stream",
     "text": [
      "{1: 'one', 10: 'ten'} {10: 'ten', 1: 'one'} {1: 'two', 10: 'ten'}\n",
      "True False\n"
     ]
    }
   ],
   "source": [
    "aa={1:\"one\",10:\"ten\"}\n",
    "bb={10:\"ten\",1:\"one\",1:\"one\"} \n",
    "cc={1:\"two\",10:\"ten\"} #키는 aa와 동일하나 값이 다르므로, 다른 걸로 인식\n",
    "print(aa,bb,cc)\n",
    "print(aa==bb,aa==cc)"
   ]
  },
  {
   "cell_type": "code",
   "execution_count": 18,
   "metadata": {},
   "outputs": [
    {
     "name": "stdout",
     "output_type": "stream",
     "text": [
      "{1: 'one', 10: 'ten'} {10: 'ten', 1: 'one'} {1: 'one', 10: 'ten'}\n",
      "True True\n"
     ]
    }
   ],
   "source": [
    "aa={1:\"one\",10:\"ten\"}\n",
    "bb={10:\"ten\",1:\"one\",1:\"one\"} \n",
    "cc={1:\"two\",1:\"one\",10:\"ten\"} #키값이 동일하면 하나로 취급. 뒤에 있는값으로 덮어써짐\n",
    "print(aa,bb,cc)\n",
    "print(aa==bb,aa==cc)"
   ]
  },
  {
   "cell_type": "markdown",
   "metadata": {},
   "source": [
    "### 사전의 데이터 수정"
   ]
  },
  {
   "cell_type": "code",
   "execution_count": 19,
   "metadata": {},
   "outputs": [
    {
     "data": {
      "text/plain": [
       "{'c++': 5, 'R': 5, 'Python': 20}"
      ]
     },
     "execution_count": 19,
     "metadata": {},
     "output_type": "execute_result"
    }
   ],
   "source": [
    "aa={\"c++\":5,\"R\":5,\"Python\":10}\n",
    "aa[\"Python\"]=20 # 값 수정\n",
    "aa"
   ]
  },
  {
   "cell_type": "code",
   "execution_count": 23,
   "metadata": {},
   "outputs": [
    {
     "name": "stdout",
     "output_type": "stream",
     "text": [
      "1796224198624\n",
      "1796224198624 {'c++': 5, 'R': 5, 'Python': 20}\n",
      "1796224198624 {'R': 5, 'Python': 20}\n"
     ]
    },
    {
     "ename": "NameError",
     "evalue": "name 'aa' is not defined",
     "output_type": "error",
     "traceback": [
      "\u001b[1;31m---------------------------------------------------------------------------\u001b[0m",
      "\u001b[1;31mNameError\u001b[0m                                 Traceback (most recent call last)",
      "\u001b[1;32m<ipython-input-23-ee01149e76b1>\u001b[0m in \u001b[0;36m<module>\u001b[1;34m\u001b[0m\n\u001b[0;32m      6\u001b[0m \u001b[0mprint\u001b[0m\u001b[1;33m(\u001b[0m\u001b[0mid\u001b[0m\u001b[1;33m(\u001b[0m\u001b[0maa\u001b[0m\u001b[1;33m)\u001b[0m\u001b[1;33m,\u001b[0m\u001b[0maa\u001b[0m\u001b[1;33m)\u001b[0m\u001b[1;33m\u001b[0m\u001b[1;33m\u001b[0m\u001b[0m\n\u001b[0;32m      7\u001b[0m \u001b[1;32mdel\u001b[0m \u001b[0maa\u001b[0m\u001b[1;33m\u001b[0m\u001b[1;33m\u001b[0m\u001b[0m\n\u001b[1;32m----> 8\u001b[1;33m \u001b[0maa\u001b[0m\u001b[1;33m\u001b[0m\u001b[1;33m\u001b[0m\u001b[0m\n\u001b[0m",
      "\u001b[1;31mNameError\u001b[0m: name 'aa' is not defined"
     ]
    }
   ],
   "source": [
    "aa={\"c++\":5,\"R\":5,\"Python\":10}\n",
    "print(id(aa))\n",
    "aa[\"Python\"]=20 # dict : mutable - id 안바뀜/같은개체로 인식\n",
    "print(id(aa),aa)\n",
    "del aa[\"c++\"] # 원소 삭제 가능\n",
    "print(id(aa),aa)\n",
    "del aa # 사전 삭제 가능\n",
    "aa"
   ]
  },
  {
   "cell_type": "markdown",
   "metadata": {},
   "source": [
    "### 사전 연산자"
   ]
  },
  {
   "cell_type": "code",
   "execution_count": 24,
   "metadata": {},
   "outputs": [
    {
     "data": {
      "text/plain": [
       "True"
      ]
     },
     "execution_count": 24,
     "metadata": {},
     "output_type": "execute_result"
    }
   ],
   "source": [
    "aa={\"c++\":5,\"R\":5,\"Python\":10}\n",
    "\"R\" in aa"
   ]
  },
  {
   "cell_type": "code",
   "execution_count": 25,
   "metadata": {},
   "outputs": [
    {
     "data": {
      "text/plain": [
       "False"
      ]
     },
     "execution_count": 25,
     "metadata": {},
     "output_type": "execute_result"
    }
   ],
   "source": [
    "\"R\" not in aa"
   ]
  },
  {
   "cell_type": "markdown",
   "metadata": {},
   "source": [
    "### 사전에서 사용하는 함수"
   ]
  },
  {
   "cell_type": "code",
   "execution_count": 26,
   "metadata": {},
   "outputs": [
    {
     "data": {
      "text/plain": [
       "'c++'"
      ]
     },
     "execution_count": 26,
     "metadata": {},
     "output_type": "execute_result"
    }
   ],
   "source": [
    "aa={\"c++\":5,\"R\":5,\"Python\":10}\n",
    "max(aa) # 문자열은 아스키코드 기준"
   ]
  },
  {
   "cell_type": "code",
   "execution_count": 28,
   "metadata": {},
   "outputs": [
    {
     "data": {
      "text/plain": [
       "(15, 30, [5, 10, 15])"
      ]
     },
     "execution_count": 28,
     "metadata": {},
     "output_type": "execute_result"
    }
   ],
   "source": [
    "aa={5:\"c++\",15:\"R\",10:\"Python\"}\n",
    "max(aa), sum(aa), sorted(aa) #sorted는 리스트로 나옴"
   ]
  },
  {
   "cell_type": "markdown",
   "metadata": {},
   "source": [
    "### 사전 메소드"
   ]
  },
  {
   "cell_type": "code",
   "execution_count": 31,
   "metadata": {},
   "outputs": [
    {
     "name": "stdout",
     "output_type": "stream",
     "text": [
      "1796224198552 1796224198552 1796224272784\n"
     ]
    }
   ],
   "source": [
    "aa={5:\"c++\",15:\"R\",10:\"Python\"}\n",
    "bb=aa #id 동일\n",
    "cc=aa.copy()  #id 달라짐\n",
    "print(id(aa),id(bb),id(cc))"
   ]
  },
  {
   "cell_type": "code",
   "execution_count": 32,
   "metadata": {},
   "outputs": [
    {
     "name": "stdout",
     "output_type": "stream",
     "text": [
      "1796224320208 1796224320208 1796224235704\n",
      "{5: 'c++', 15: 'R', 10: 'Python', 20: 'Java'} {5: 'c++', 15: 'R', 10: 'Python', 20: 'Java'} {5: 'c++', 15: 'R', 10: 'Python'}\n"
     ]
    }
   ],
   "source": [
    "aa={5:\"c++\",15:\"R\",10:\"Python\"}\n",
    "bb=aa #id 동일\n",
    "cc=aa.copy()  #id 달라짐\n",
    "bb[20]=\"Java\" #aa도 같이 바\n",
    "print(id(aa),id(bb),id(cc))\n",
    "print(aa,bb,cc)"
   ]
  },
  {
   "cell_type": "code",
   "execution_count": 34,
   "metadata": {},
   "outputs": [
    {
     "data": {
      "text/plain": [
       "{'P': None, 'y': None, 't': None, 'h': None, 'o': None, 'n': None}"
      ]
     },
     "execution_count": 34,
     "metadata": {},
     "output_type": "execute_result"
    }
   ],
   "source": [
    "aa=\"Python\"\n",
    "dic1=dict.fromkeys(aa) #iterable한 자료면 OK\n",
    "dic1"
   ]
  },
  {
   "cell_type": "code",
   "execution_count": 35,
   "metadata": {},
   "outputs": [
    {
     "data": {
      "text/plain": [
       "{1: None, 2: None, 3: None, 4: None, 5: None, 6: None}"
      ]
     },
     "execution_count": 35,
     "metadata": {},
     "output_type": "execute_result"
    }
   ],
   "source": [
    "aa=range(1,7)\n",
    "dic1=dict.fromkeys(aa) #iterable한 자료면 OK\n",
    "dic1"
   ]
  },
  {
   "cell_type": "code",
   "execution_count": 36,
   "metadata": {},
   "outputs": [
    {
     "data": {
      "text/plain": [
       "{5: None, 7: None, 33: None, 9: None}"
      ]
     },
     "execution_count": 36,
     "metadata": {},
     "output_type": "execute_result"
    }
   ],
   "source": [
    "aa=[5,7,33,9]\n",
    "dic1=dict.fromkeys(aa) #iterable한 자료면 OK\n",
    "dic1"
   ]
  },
  {
   "cell_type": "code",
   "execution_count": 37,
   "metadata": {},
   "outputs": [
    {
     "data": {
      "text/plain": [
       "{5: 99, 7: 99, 33: 99, 9: 99}"
      ]
     },
     "execution_count": 37,
     "metadata": {},
     "output_type": "execute_result"
    }
   ],
   "source": [
    "aa=[5,7,33,9]\n",
    "dic1=dict.fromkeys(aa,99) #초기값 설정도 가능\n",
    "dic1"
   ]
  },
  {
   "cell_type": "code",
   "execution_count": 38,
   "metadata": {},
   "outputs": [
    {
     "data": {
      "text/plain": [
       "{33: 99, 5: 99, 9: 99, 7: 99}"
      ]
     },
     "execution_count": 38,
     "metadata": {},
     "output_type": "execute_result"
    }
   ],
   "source": [
    "aa={5,7,33,9}\n",
    "dic1=dict.fromkeys(aa,99) #집합은 순서가 없으므로 랜덤으로 키값 배정\n",
    "dic1"
   ]
  },
  {
   "cell_type": "code",
   "execution_count": 40,
   "metadata": {},
   "outputs": [
    {
     "name": "stdout",
     "output_type": "stream",
     "text": [
      "Java Java\n"
     ]
    }
   ],
   "source": [
    "aa={5:\"R\",7:\"Python\",33:\"Java\",9:\"c++\"}\n",
    "print(aa.get(33),aa[33]) #키에 있는 값을 반환할 때, get도 인덱싱도 모두 가능"
   ]
  },
  {
   "cell_type": "code",
   "execution_count": 41,
   "metadata": {},
   "outputs": [
    {
     "ename": "KeyError",
     "evalue": "10",
     "output_type": "error",
     "traceback": [
      "\u001b[1;31m---------------------------------------------------------------------------\u001b[0m",
      "\u001b[1;31mKeyError\u001b[0m                                  Traceback (most recent call last)",
      "\u001b[1;32m<ipython-input-41-896af119fbe6>\u001b[0m in \u001b[0;36m<module>\u001b[1;34m\u001b[0m\n\u001b[0;32m      1\u001b[0m \u001b[0maa\u001b[0m\u001b[1;33m=\u001b[0m\u001b[1;33m{\u001b[0m\u001b[1;36m5\u001b[0m\u001b[1;33m:\u001b[0m\u001b[1;34m\"R\"\u001b[0m\u001b[1;33m,\u001b[0m\u001b[1;36m7\u001b[0m\u001b[1;33m:\u001b[0m\u001b[1;34m\"Python\"\u001b[0m\u001b[1;33m,\u001b[0m\u001b[1;36m33\u001b[0m\u001b[1;33m:\u001b[0m\u001b[1;34m\"Java\"\u001b[0m\u001b[1;33m,\u001b[0m\u001b[1;36m9\u001b[0m\u001b[1;33m:\u001b[0m\u001b[1;34m\"c++\"\u001b[0m\u001b[1;33m}\u001b[0m\u001b[1;33m\u001b[0m\u001b[1;33m\u001b[0m\u001b[0m\n\u001b[1;32m----> 2\u001b[1;33m \u001b[0maa\u001b[0m\u001b[1;33m[\u001b[0m\u001b[1;36m10\u001b[0m\u001b[1;33m]\u001b[0m\u001b[1;33m\u001b[0m\u001b[1;33m\u001b[0m\u001b[0m\n\u001b[0m",
      "\u001b[1;31mKeyError\u001b[0m: 10"
     ]
    }
   ],
   "source": [
    "aa={5:\"R\",7:\"Python\",33:\"Java\",9:\"c++\"}\n",
    "aa[10] #인덱싱은 없는 키를 적었을 때 Error 발생"
   ]
  },
  {
   "cell_type": "code",
   "execution_count": 43,
   "metadata": {},
   "outputs": [],
   "source": [
    "aa={5:\"R\",7:\"Python\",33:\"Java\",9:\"c++\"}\n",
    "aa.get(10) # get함수는 아무것도 안반환하고 끝냄"
   ]
  },
  {
   "cell_type": "code",
   "execution_count": 45,
   "metadata": {},
   "outputs": [
    {
     "data": {
      "text/plain": [
       "'없는 key'"
      ]
     },
     "execution_count": 45,
     "metadata": {},
     "output_type": "execute_result"
    }
   ],
   "source": [
    "aa={5:\"R\",7:\"Python\",33:\"Java\",9:\"c++\"}\n",
    "aa.get(10,\"없는 key\") # 값이 없을 때 반환값도 설정 가능"
   ]
  },
  {
   "cell_type": "code",
   "execution_count": 51,
   "metadata": {},
   "outputs": [
    {
     "name": "stdout",
     "output_type": "stream",
     "text": [
      "Java {5: 'R', 7: 'Python', 33: 'Java', 9: 'c++'}\n",
      "Java {5: 'R', 7: 'Python', 33: 'Java', 9: 'c++'}\n"
     ]
    }
   ],
   "source": [
    "aa={5:\"R\",7:\"Python\",33:\"Java\",9:\"c++\"}\n",
    "print(aa.get(33),aa)\n",
    "print(aa.setdefault(33),aa) #setdefault의 특징"
   ]
  },
  {
   "cell_type": "code",
   "execution_count": 50,
   "metadata": {},
   "outputs": [
    {
     "name": "stdout",
     "output_type": "stream",
     "text": [
      "None {5: 'R', 7: 'Python', 33: 'Java', 9: 'c++'}\n",
      "None {5: 'R', 7: 'Python', 33: 'Java', 9: 'c++', 11: None}\n"
     ]
    }
   ],
   "source": [
    "aa={5:\"R\",7:\"Python\",33:\"Java\",9:\"c++\"}\n",
    "print(aa.get(11),aa)\n",
    "print(aa.setdefault(11),aa) #setdefault의 특징 : 없는 key 추가"
   ]
  },
  {
   "cell_type": "code",
   "execution_count": 52,
   "metadata": {},
   "outputs": [
    {
     "name": "stdout",
     "output_type": "stream",
     "text": [
      "0 {5: 'R', 7: 'Python', 33: 'Java', 9: 'c++'}\n",
      "0 {5: 'R', 7: 'Python', 33: 'Java', 9: 'c++', 11: 0}\n"
     ]
    }
   ],
   "source": [
    "aa={5:\"R\",7:\"Python\",33:\"Java\",9:\"c++\"}\n",
    "print(aa.get(11,0),aa)\n",
    "print(aa.setdefault(11,0),aa) #setdefault의 특징 : 없는 key 추가"
   ]
  },
  {
   "cell_type": "code",
   "execution_count": 53,
   "metadata": {},
   "outputs": [
    {
     "name": "stdout",
     "output_type": "stream",
     "text": [
      "{5: 'R', 7: 'Python', 9: 'c++'} Java\n"
     ]
    }
   ],
   "source": [
    "aa={5:\"R\",7:\"Python\",33:\"Java\",9:\"c++\"}\n",
    "res=aa.pop(33) # 키33인 원소 삭제 및 반환\n",
    "print(aa,res)"
   ]
  },
  {
   "cell_type": "code",
   "execution_count": 58,
   "metadata": {},
   "outputs": [
    {
     "name": "stdout",
     "output_type": "stream",
     "text": [
      "{5: 'R', 7: 'Python', 9: 'c++'} Java\n"
     ]
    },
    {
     "ename": "KeyError",
     "evalue": "33",
     "output_type": "error",
     "traceback": [
      "\u001b[1;31m---------------------------------------------------------------------------\u001b[0m",
      "\u001b[1;31mKeyError\u001b[0m                                  Traceback (most recent call last)",
      "\u001b[1;32m<ipython-input-58-0570187fdc64>\u001b[0m in \u001b[0;36m<module>\u001b[1;34m\u001b[0m\n\u001b[0;32m      2\u001b[0m \u001b[0mres\u001b[0m\u001b[1;33m=\u001b[0m\u001b[0maa\u001b[0m\u001b[1;33m.\u001b[0m\u001b[0mpop\u001b[0m\u001b[1;33m(\u001b[0m\u001b[1;36m33\u001b[0m\u001b[1;33m)\u001b[0m\u001b[1;33m\u001b[0m\u001b[1;33m\u001b[0m\u001b[0m\n\u001b[0;32m      3\u001b[0m \u001b[0mprint\u001b[0m\u001b[1;33m(\u001b[0m\u001b[0maa\u001b[0m\u001b[1;33m,\u001b[0m\u001b[0mres\u001b[0m\u001b[1;33m)\u001b[0m\u001b[1;33m\u001b[0m\u001b[1;33m\u001b[0m\u001b[0m\n\u001b[1;32m----> 4\u001b[1;33m \u001b[0mres\u001b[0m\u001b[1;33m=\u001b[0m\u001b[0maa\u001b[0m\u001b[1;33m.\u001b[0m\u001b[0mpop\u001b[0m\u001b[1;33m(\u001b[0m\u001b[1;36m33\u001b[0m\u001b[1;33m)\u001b[0m \u001b[1;31m# 33이 사라졌으므로, KeyError 발생\u001b[0m\u001b[1;33m\u001b[0m\u001b[1;33m\u001b[0m\u001b[0m\n\u001b[0m\u001b[0;32m      5\u001b[0m \u001b[0mprint\u001b[0m\u001b[1;33m(\u001b[0m\u001b[0maa\u001b[0m\u001b[1;33m,\u001b[0m\u001b[0mres\u001b[0m\u001b[1;33m)\u001b[0m\u001b[1;33m\u001b[0m\u001b[1;33m\u001b[0m\u001b[0m\n",
      "\u001b[1;31mKeyError\u001b[0m: 33"
     ]
    }
   ],
   "source": [
    "aa={5:\"R\",7:\"Python\",33:\"Java\",9:\"c++\"}\n",
    "res=aa.pop(33) \n",
    "print(aa,res)\n",
    "res=aa.pop(33) # 33이 사라졌으므로, KeyError 발생\n",
    "print(aa,res)"
   ]
  },
  {
   "cell_type": "code",
   "execution_count": 59,
   "metadata": {},
   "outputs": [
    {
     "name": "stdout",
     "output_type": "stream",
     "text": [
      "{5: 'R', 7: 'Python', 9: 'c++'} Java\n",
      "{5: 'R', 7: 'Python', 9: 'c++'} 삭제\n"
     ]
    }
   ],
   "source": [
    "aa={5:\"R\",7:\"Python\",33:\"Java\",9:\"c++\"}\n",
    "res=aa.pop(33) \n",
    "print(aa,res)\n",
    "res=aa.pop(33,\"삭제\") # KeyError 없이 반환되게 만듦\n",
    "print(aa,res)"
   ]
  },
  {
   "cell_type": "code",
   "execution_count": 60,
   "metadata": {},
   "outputs": [
    {
     "name": "stdout",
     "output_type": "stream",
     "text": [
      "{5: 'R', 7: 'Python', 33: 'Java'} (9, 'c++')\n"
     ]
    }
   ],
   "source": [
    "aa={5:\"R\",7:\"Python\",33:\"Java\",9:\"c++\"}\n",
    "res=aa.popitem() # 임의의값을 제거하고 튜플로 키와 값을 돌려줌\n",
    "print(aa,res)"
   ]
  },
  {
   "cell_type": "code",
   "execution_count": 63,
   "metadata": {},
   "outputs": [
    {
     "name": "stdout",
     "output_type": "stream",
     "text": [
      "{5: 'R', 7: 'Python', 33: 'Java', 9: 'c++'} {33: 'Java', 2: 'c#', 99: 'VB', 7: 'Python'}\n",
      "{5: 'R', 7: 'Python', 33: 'Java', 9: 'c++', 2: 'c#', 99: 'VB'} {33: 'Java', 2: 'c#', 99: 'VB', 7: 'Python'}\n"
     ]
    }
   ],
   "source": [
    "aa={5:\"R\",7:\"Python\",33:\"Java\",9:\"c++\"}\n",
    "bb={33:\"Java\",2:\"c#\",99:\"VB\",7:\"Python\"}\n",
    "print(aa,bb)\n",
    "aa.update(bb) # aa와 bb 합집합하고 aa에 덮어씀\n",
    "print(aa,bb)"
   ]
  },
  {
   "cell_type": "code",
   "execution_count": 64,
   "metadata": {},
   "outputs": [
    {
     "name": "stdout",
     "output_type": "stream",
     "text": [
      "{5: 'R', 7: 'Python', 33: 'Java', 9: 'c++'} {33: 'Java', 2: 'c#', 99: 'VB', 7: 'Python'}\n",
      "{5: 'R', 7: 'Python', 33: 'Java', 9: 'c++'} {33: 'Java', 2: 'c#', 99: 'VB', 7: 'Python', 5: 'R', 9: 'c++'}\n"
     ]
    }
   ],
   "source": [
    "aa={5:\"R\",7:\"Python\",33:\"Java\",9:\"c++\"}\n",
    "bb={33:\"Java\",2:\"c#\",99:\"VB\",7:\"Python\"}\n",
    "print(aa,bb)\n",
    "bb.update(aa) # aa와 bb 합집합하고 bb에 덮어씀 / 중복된 것은 하나로만 취급(중복 기준은 key)\n",
    "print(aa,bb)"
   ]
  },
  {
   "cell_type": "code",
   "execution_count": 67,
   "metadata": {},
   "outputs": [
    {
     "data": {
      "text/plain": [
       "{'Java': 1, 'c#': 2, 'VB': 99, 'Python': 7, 'C': 100, 'Fortra': 999}"
      ]
     },
     "execution_count": 67,
     "metadata": {},
     "output_type": "execute_result"
    }
   ],
   "source": [
    "cc={\"Java\":1,\"c#\":2,\"VB\":99,\"Python\":7}\n",
    "cc.update(C=100,Fortra=999)\n",
    "cc"
   ]
  },
  {
   "cell_type": "code",
   "execution_count": 70,
   "metadata": {},
   "outputs": [
    {
     "data": {
      "text/plain": [
       "dict_items([(5, 'R'), (7, 'Python'), (33, 'Java'), (9, 'c++')])"
      ]
     },
     "execution_count": 70,
     "metadata": {},
     "output_type": "execute_result"
    }
   ],
   "source": [
    "aa={5:\"R\",7:\"Python\",33:\"Java\",9:\"c++\"}\n",
    "bb={33:\"Java\",2:\"c#\",99:\"VB\",7:\"Python\"}\n",
    "cc={\"Java\":1,\"c#\":2,\"VB\":99,\"Python\":7}\n",
    "aa.items() # 원소가 튜플인 리스트로 돌려줌"
   ]
  },
  {
   "cell_type": "code",
   "execution_count": 68,
   "metadata": {},
   "outputs": [
    {
     "data": {
      "text/plain": [
       "dict_keys([5, 7, 33, 9])"
      ]
     },
     "execution_count": 68,
     "metadata": {},
     "output_type": "execute_result"
    }
   ],
   "source": [
    "aa={5:\"R\",7:\"Python\",33:\"Java\",9:\"c++\"}\n",
    "bb={33:\"Java\",2:\"c#\",99:\"VB\",7:\"Python\"}\n",
    "cc={\"Java\":1,\"c#\":2,\"VB\":99,\"Python\":7}\n",
    "aa.keys() #리스트로 돌려줌"
   ]
  },
  {
   "cell_type": "code",
   "execution_count": 69,
   "metadata": {},
   "outputs": [
    {
     "data": {
      "text/plain": [
       "dict_values(['R', 'Python', 'Java', 'c++'])"
      ]
     },
     "execution_count": 69,
     "metadata": {},
     "output_type": "execute_result"
    }
   ],
   "source": [
    "aa={5:\"R\",7:\"Python\",33:\"Java\",9:\"c++\"}\n",
    "bb={33:\"Java\",2:\"c#\",99:\"VB\",7:\"Python\"}\n",
    "cc={\"Java\":1,\"c#\":2,\"VB\":99,\"Python\":7}\n",
    "aa.values() #리스트로 돌려줌"
   ]
  },
  {
   "cell_type": "code",
   "execution_count": 73,
   "metadata": {},
   "outputs": [
    {
     "data": {
      "text/plain": [
       "{0: '서울', 1: '경기', 2: '인천', 3: '세종'}"
      ]
     },
     "execution_count": 73,
     "metadata": {},
     "output_type": "execute_result"
    }
   ],
   "source": [
    "aa=[\"서울\",\"경기\",\"인천\",\"세종\"]\n",
    "dic={x:aa[x] for x in range(4)}\n",
    "dic"
   ]
  },
  {
   "cell_type": "code",
   "execution_count": 74,
   "metadata": {},
   "outputs": [
    {
     "name": "stdout",
     "output_type": "stream",
     "text": [
      "{23: '서울', 53: '경기', 1: '인천', 49: '세종'} {23: '서울', 53: '경기', 1: '인천', 49: '세종'}\n"
     ]
    }
   ],
   "source": [
    "aa=[\"서울\",\"경기\",\"인천\",\"세종\"]\n",
    "bb=[23,53,1,49]\n",
    "dic={bb[x]:aa[x] for x in range(4)}\n",
    "dic1=dict(zip(bb,aa))  #방법이 두가지 있으나 zip이 더 편하긴 함\n",
    "print(dic,dic1)"
   ]
  },
  {
   "cell_type": "markdown",
   "metadata": {},
   "source": [
    " # 함수"
   ]
  },
  {
   "cell_type": "code",
   "execution_count": 76,
   "metadata": {},
   "outputs": [
    {
     "name": "stdout",
     "output_type": "stream",
     "text": [
      "함수 예제\n"
     ]
    }
   ],
   "source": [
    "def HelloPy() : # 함수의 정의\n",
    "    print(\"함수의 정의\")\n",
    "    print(\"인수가 없는 함수\")\n",
    "print(\"함수 예제\")"
   ]
  },
  {
   "cell_type": "code",
   "execution_count": 78,
   "metadata": {},
   "outputs": [
    {
     "name": "stdout",
     "output_type": "stream",
     "text": [
      "함수 예제\n",
      "함수의 정의\n",
      "인수가 없는 함수\n"
     ]
    }
   ],
   "source": [
    "def HelloPy() : # 함수의 정의\n",
    "    print(\"함수의 정의\")\n",
    "    print(\"인수가 없는 함수\")\n",
    "print(\"함수 예제\")\n",
    "\n",
    "HelloPy() # 함수의 사용"
   ]
  },
  {
   "cell_type": "code",
   "execution_count": 79,
   "metadata": {},
   "outputs": [
    {
     "name": "stdout",
     "output_type": "stream",
     "text": [
      "함수 예제\n",
      "함수의 정의\n",
      "인수가 없는 함수\n",
      "함수의 정의\n",
      "전달 받은 인수 : 999\n"
     ]
    }
   ],
   "source": [
    "def HelloPy() : # 함수의 정의\n",
    "    print(\"함수의 정의\")\n",
    "    print(\"인수가 없는 함수\")\n",
    "print(\"함수 예제\")\n",
    "HelloPy() # 함수의 사용\n",
    "\n",
    "def HelloPy(x) : #함수의 재정의 # 인수가 없는 함수는 이제 더이상 사용 불가\n",
    "    print(\"함수의 정의\")\n",
    "    print(\"전달 받은 인수 : {0}\".format(x))\n",
    "HelloPy(999)"
   ]
  },
  {
   "cell_type": "code",
   "execution_count": 80,
   "metadata": {},
   "outputs": [
    {
     "name": "stdout",
     "output_type": "stream",
     "text": [
      "함수 예제\n",
      "함수의 정의\n",
      "인수가 없는 함수\n"
     ]
    },
    {
     "ename": "TypeError",
     "evalue": "HelloPy() missing 1 required positional argument: 'x'",
     "output_type": "error",
     "traceback": [
      "\u001b[1;31m---------------------------------------------------------------------------\u001b[0m",
      "\u001b[1;31mTypeError\u001b[0m                                 Traceback (most recent call last)",
      "\u001b[1;32m<ipython-input-80-576558532684>\u001b[0m in \u001b[0;36m<module>\u001b[1;34m\u001b[0m\n\u001b[0;32m      8\u001b[0m     \u001b[0mprint\u001b[0m\u001b[1;33m(\u001b[0m\u001b[1;34m\"함수의 정의\"\u001b[0m\u001b[1;33m)\u001b[0m\u001b[1;33m\u001b[0m\u001b[1;33m\u001b[0m\u001b[0m\n\u001b[0;32m      9\u001b[0m     \u001b[0mprint\u001b[0m\u001b[1;33m(\u001b[0m\u001b[1;34m\"전달 받은 인수 : {0}\"\u001b[0m\u001b[1;33m.\u001b[0m\u001b[0mformat\u001b[0m\u001b[1;33m(\u001b[0m\u001b[0mx\u001b[0m\u001b[1;33m)\u001b[0m\u001b[1;33m)\u001b[0m\u001b[1;33m\u001b[0m\u001b[1;33m\u001b[0m\u001b[0m\n\u001b[1;32m---> 10\u001b[1;33m \u001b[0mHelloPy\u001b[0m\u001b[1;33m(\u001b[0m\u001b[1;33m)\u001b[0m\u001b[1;33m\u001b[0m\u001b[1;33m\u001b[0m\u001b[0m\n\u001b[0m\u001b[0;32m     11\u001b[0m \u001b[1;33m\u001b[0m\u001b[0m\n\u001b[0;32m     12\u001b[0m \u001b[1;32mdef\u001b[0m \u001b[0mHelloPy\u001b[0m\u001b[1;33m(\u001b[0m\u001b[0mx\u001b[0m\u001b[1;33m=\u001b[0m\u001b[1;36m10000009\u001b[0m\u001b[1;33m)\u001b[0m \u001b[1;33m:\u001b[0m \u001b[1;31m#미리 초기값 지정. 인수가 없으면 초기값 반환\u001b[0m\u001b[1;33m\u001b[0m\u001b[1;33m\u001b[0m\u001b[0m\n",
      "\u001b[1;31mTypeError\u001b[0m: HelloPy() missing 1 required positional argument: 'x'"
     ]
    }
   ],
   "source": [
    "def HelloPy() : # 함수의 정의\n",
    "    print(\"함수의 정의\")\n",
    "    print(\"인수가 없는 함수\")\n",
    "print(\"함수 예제\")\n",
    "HelloPy() # 함수의 사용\n",
    "\n",
    "def HelloPy(x) : #함수의 재정의 # 인수가 없는 함수는 이제 더이상 사용 불가\n",
    "    print(\"함수의 정의\")\n",
    "    print(\"전달 받은 인수 : {0}\".format(x))\n",
    "HelloPy()\n",
    "\n",
    "def HelloPy(x=10000009) : #미리 초기값 지정. 인수가 없으면 초기값 반환\n",
    "    print(\"함수의 정의\")\n",
    "    print(\"전달 받은 인수 : {0}\".format(x))\n",
    "HelloPy()"
   ]
  },
  {
   "cell_type": "code",
   "execution_count": 81,
   "metadata": {},
   "outputs": [
    {
     "name": "stdout",
     "output_type": "stream",
     "text": [
      "함수 예제\n",
      "함수의 정의\n",
      "인수가 없는 함수\n",
      "함수의 정의\n",
      "전달 받은 인수 : 3\n",
      "함수의 정의\n",
      "전달 받은 인수 : 10000009\n"
     ]
    }
   ],
   "source": [
    "def HelloPy() : # 함수의 정의\n",
    "    print(\"함수의 정의\")\n",
    "    print(\"인수가 없는 함수\")\n",
    "print(\"함수 예제\")\n",
    "HelloPy() # 함수의 사용\n",
    "\n",
    "def HelloPy(x) : #함수의 재정의 # 인수가 없는 함수는 이제 더이상 사용 불가\n",
    "    print(\"함수의 정의\")\n",
    "    print(\"전달 받은 인수 : {0}\".format(x))\n",
    "HelloPy(3)\n",
    "\n",
    "def HelloPy(x=10000009) : #미리 초기값 지정. 인수가 없으면 초기값 반환\n",
    "    print(\"함수의 정의\")\n",
    "    print(\"전달 받은 인수 : {0}\".format(x))\n",
    "HelloPy()"
   ]
  },
  {
   "cell_type": "code",
   "execution_count": 82,
   "metadata": {},
   "outputs": [
    {
     "name": "stdout",
     "output_type": "stream",
     "text": [
      "함수 예제\n",
      "함수의 정의\n",
      "인수가 없는 함수\n",
      "함수의 정의\n",
      "전달 받은 인수 : 3\n",
      "함수의 정의\n",
      "전달 받은 인수 : 444455555\n"
     ]
    }
   ],
   "source": [
    "def HelloPy() : # 함수의 정의\n",
    "    print(\"함수의 정의\")\n",
    "    print(\"인수가 없는 함수\")\n",
    "print(\"함수 예제\")\n",
    "HelloPy() # 함수의 사용\n",
    "\n",
    "def HelloPy(x) : #함수의 재정의 # 인수가 없는 함수는 이제 더이상 사용 불가\n",
    "    print(\"함수의 정의\")\n",
    "    print(\"전달 받은 인수 : {0}\".format(x))\n",
    "HelloPy(3)\n",
    "\n",
    "def HelloPy(x=10000009) : #미리 초기값 지정. 인수가 없으면 초기값 반환\n",
    "    print(\"함수의 정의\")\n",
    "    print(\"전달 받은 인수 : {0}\".format(x))\n",
    "HelloPy(444455555) # 값을 넣으면 그에 따라 값 반환"
   ]
  },
  {
   "cell_type": "code",
   "execution_count": 87,
   "metadata": {},
   "outputs": [
    {
     "name": "stdout",
     "output_type": "stream",
     "text": [
      "*****\n",
      "*****\n",
      "\n",
      "##########\n",
      "##########\n",
      "##########\n",
      "\n",
      "@@@@@@@@@@@@@@@@@@@@@@@@@@@@@@\n",
      "@@@@@@@@@@@@@@@@@@@@@@@@@@@@@@\n",
      "@@@@@@@@@@@@@@@@@@@@@@@@@@@@@@\n",
      "@@@@@@@@@@@@@@@@@@@@@@@@@@@@@@\n",
      "\n",
      "@@@@@@@@@@@@@@@@@@@@@@@@@@@@@@\n",
      "@@@@@@@@@@@@@@@@@@@@@@@@@@@@@@\n",
      "@@@@@@@@@@@@@@@@@@@@@@@@@@@@@@\n",
      "@@@@@@@@@@@@@@@@@@@@@@@@@@@@@@\n",
      "\n"
     ]
    }
   ],
   "source": [
    "def print_char(ch=\"*\",a=2,b=5) :\n",
    "    for i in range(a) :\n",
    "        print(ch*b)\n",
    "    print()\n",
    "\n",
    "print_char()\n",
    "print_char(\"#\",3,10) #인수명 없이 함수 실행\n",
    "print_char(ch=\"@\",a=4,b=30) #인수명을 이용해서 함수 실행 \n",
    "print_char(a=4,ch=\"@\",b=30) #인수명을 쓰면, 함수에서 인수가정의된 순서를 안따라도 됨\n",
    "print_char(ch=\"@\",b=30) #일부 인수 안써도됨. 안쓰면 기본값으로\n",
    "print_char(\"@\",b=30) #혼합해서 사용해도 됨. 첫번째는 그자리 그대로이니 인수명 안써도 되나, a를 건너뛰었으므로 b는 인수명을 적어줘야"
   ]
  },
  {
   "cell_type": "code",
   "execution_count": 88,
   "metadata": {},
   "outputs": [
    {
     "ename": "SyntaxError",
     "evalue": "invalid syntax (<ipython-input-88-4037ccb36904>, line 1)",
     "output_type": "error",
     "traceback": [
      "\u001b[1;36m  File \u001b[1;32m\"<ipython-input-88-4037ccb36904>\"\u001b[1;36m, line \u001b[1;32m1\u001b[0m\n\u001b[1;33m    print_char(\"@\",,30) #R은 이런게 가능하나, Python은 불가능. Python은 건너뛰는 위치부터 인수명 적어줘야함\u001b[0m\n\u001b[1;37m                   ^\u001b[0m\n\u001b[1;31mSyntaxError\u001b[0m\u001b[1;31m:\u001b[0m invalid syntax\n"
     ]
    }
   ],
   "source": [
    "print_char(\"@\",,30) #R은 이런게 가능하나, Python은 불가능. Python은 건너뛰는 위치부터 인수명 적어줘야함"
   ]
  },
  {
   "cell_type": "code",
   "execution_count": 92,
   "metadata": {},
   "outputs": [
    {
     "name": "stdout",
     "output_type": "stream",
     "text": [
      "연산자 기호는 +,-,*,/ 사용\n"
     ]
    },
    {
     "ename": "UnboundLocalError",
     "evalue": "local variable 'c' referenced before assignment",
     "output_type": "error",
     "traceback": [
      "\u001b[1;31m---------------------------------------------------------------------------\u001b[0m",
      "\u001b[1;31mUnboundLocalError\u001b[0m                         Traceback (most recent call last)",
      "\u001b[1;32m<ipython-input-92-598898d5bcce>\u001b[0m in \u001b[0;36m<module>\u001b[1;34m\u001b[0m\n\u001b[0;32m     13\u001b[0m     \u001b[1;32mreturn\u001b[0m \u001b[0mc\u001b[0m\u001b[1;33m\u001b[0m\u001b[1;33m\u001b[0m\u001b[0m\n\u001b[0;32m     14\u001b[0m \u001b[1;33m\u001b[0m\u001b[0m\n\u001b[1;32m---> 15\u001b[1;33m \u001b[0mcalc\u001b[0m\u001b[1;33m(\u001b[0m\u001b[1;36m3\u001b[0m\u001b[1;33m,\u001b[0m\u001b[1;36m6\u001b[0m\u001b[1;33m,\u001b[0m\u001b[1;34m\"--\"\u001b[0m\u001b[1;33m)\u001b[0m\u001b[1;33m\u001b[0m\u001b[1;33m\u001b[0m\u001b[0m\n\u001b[0m",
      "\u001b[1;32m<ipython-input-92-598898d5bcce>\u001b[0m in \u001b[0;36mcalc\u001b[1;34m(a, b, op)\u001b[0m\n\u001b[0;32m     11\u001b[0m         \u001b[0mprint\u001b[0m\u001b[1;33m(\u001b[0m\u001b[1;34m\"연산자 기호는 +,-,*,/ 사용\"\u001b[0m\u001b[1;33m)\u001b[0m\u001b[1;33m\u001b[0m\u001b[1;33m\u001b[0m\u001b[0m\n\u001b[0;32m     12\u001b[0m         \u001b[1;31m# return # return을 안적으면 c가 없으므로 오류 발\u001b[0m\u001b[1;33m\u001b[0m\u001b[1;33m\u001b[0m\u001b[1;33m\u001b[0m\u001b[0m\n\u001b[1;32m---> 13\u001b[1;33m     \u001b[1;32mreturn\u001b[0m \u001b[0mc\u001b[0m\u001b[1;33m\u001b[0m\u001b[1;33m\u001b[0m\u001b[0m\n\u001b[0m\u001b[0;32m     14\u001b[0m \u001b[1;33m\u001b[0m\u001b[0m\n\u001b[0;32m     15\u001b[0m \u001b[0mcalc\u001b[0m\u001b[1;33m(\u001b[0m\u001b[1;36m3\u001b[0m\u001b[1;33m,\u001b[0m\u001b[1;36m6\u001b[0m\u001b[1;33m,\u001b[0m\u001b[1;34m\"--\"\u001b[0m\u001b[1;33m)\u001b[0m\u001b[1;33m\u001b[0m\u001b[1;33m\u001b[0m\u001b[0m\n",
      "\u001b[1;31mUnboundLocalError\u001b[0m: local variable 'c' referenced before assignment"
     ]
    }
   ],
   "source": [
    "def calc(a=2,b=10,op=\"+\") : # 함수의 정의\n",
    "    if(op==\"+\") :\n",
    "        c=a+b\n",
    "    elif(op==\"-\") :\n",
    "        c=a-b\n",
    "    elif(op==\"*\") :\n",
    "        c=a*b\n",
    "    elif(op==\"/\") :\n",
    "        c=a/b if b!=0 else 0\n",
    "    else :\n",
    "        print(\"연산자 기호는 +,-,*,/ 사용\")\n",
    "        # return # return을 안적으면 c가 없으므로 오류 발\n",
    "    return c\n",
    "\n",
    "calc(3,6,\"--\")"
   ]
  },
  {
   "cell_type": "code",
   "execution_count": 91,
   "metadata": {},
   "outputs": [
    {
     "name": "stdout",
     "output_type": "stream",
     "text": [
      "연산자 기호는 +,-,*,/ 사용\n"
     ]
    }
   ],
   "source": [
    "def calc(a=2,b=10,op=\"+\") : # 함수의 정의\n",
    "    if(op==\"+\") :\n",
    "        c=a+b\n",
    "    elif(op==\"-\") :\n",
    "        c=a-b\n",
    "    elif(op==\"*\") :\n",
    "        c=a*b\n",
    "    elif(op==\"/\") :\n",
    "        c=a/b if b!=0 else 0\n",
    "    else :\n",
    "        print(\"연산자 기호는 +,-,*,/ 사용\")\n",
    "        return # return을 안적으면 c가 없으므로 오류 발생.\n",
    "    return c\n",
    "\n",
    "calc(3,6,\"--\")"
   ]
  },
  {
   "cell_type": "code",
   "execution_count": 93,
   "metadata": {},
   "outputs": [
    {
     "data": {
      "text/plain": [
       "-3"
      ]
     },
     "execution_count": 93,
     "metadata": {},
     "output_type": "execute_result"
    }
   ],
   "source": [
    "calc(3,6,\"-\")"
   ]
  },
  {
   "cell_type": "code",
   "execution_count": 94,
   "metadata": {},
   "outputs": [
    {
     "data": {
      "text/plain": [
       "(3, '-', 6, -3)"
      ]
     },
     "execution_count": 94,
     "metadata": {},
     "output_type": "execute_result"
    }
   ],
   "source": [
    "def calc(a=2,b=10,op=\"+\") : # 함수의 정의\n",
    "    if(op==\"+\") :\n",
    "        c=a+b\n",
    "    elif(op==\"-\") :\n",
    "        c=a-b\n",
    "    elif(op==\"*\") :\n",
    "        c=a*b\n",
    "    elif(op==\"/\") :\n",
    "        c=a/b if b!=0 else 0\n",
    "    else :\n",
    "        print(\"연산자 기호는 +,-,*,/ 사용\")\n",
    "        return \n",
    "    return a, op, b, c #값을 여러개 반환받을 수도 있음. -> 튜플\n",
    "\n",
    "calc(3,6,\"-\")"
   ]
  },
  {
   "cell_type": "code",
   "execution_count": 95,
   "metadata": {},
   "outputs": [
    {
     "data": {
      "text/plain": [
       "(3, '-', 6, -3)"
      ]
     },
     "execution_count": 95,
     "metadata": {},
     "output_type": "execute_result"
    }
   ],
   "source": [
    "A=calc(3,6,\"-\")\n",
    "A"
   ]
  },
  {
   "cell_type": "code",
   "execution_count": 96,
   "metadata": {
    "scrolled": true
   },
   "outputs": [
    {
     "data": {
      "text/plain": [
       "29"
      ]
     },
     "execution_count": 96,
     "metadata": {},
     "output_type": "execute_result"
    }
   ],
   "source": [
    "def calc(*args) : \n",
    "    v=args\n",
    "    result=sum(v)\n",
    "    return result\n",
    "calc(2,3,4,3,5,4,5,3)"
   ]
  },
  {
   "cell_type": "code",
   "execution_count": 97,
   "metadata": {},
   "outputs": [
    {
     "name": "stdout",
     "output_type": "stream",
     "text": [
      "(2, 3, 4, 3, 5, 4, 5, 3)\n"
     ]
    },
    {
     "data": {
      "text/plain": [
       "29"
      ]
     },
     "execution_count": 97,
     "metadata": {},
     "output_type": "execute_result"
    }
   ],
   "source": [
    "def calc(*args) : \n",
    "    v=args\n",
    "    result=sum(v)\n",
    "    print(v) # 함수 안에서 튜플로 처리하는 것 확인가능\n",
    "    return result\n",
    "calc(2,3,4,3,5,4,5,3)"
   ]
  },
  {
   "cell_type": "code",
   "execution_count": 102,
   "metadata": {},
   "outputs": [
    {
     "name": "stdout",
     "output_type": "stream",
     "text": [
      "+ (2, 3, 4, 3, 5, 4, 5, 3)\n",
      "- (2, 3, 4, 3, 5, 4, 5, 3)\n",
      "29 -29\n"
     ]
    }
   ],
   "source": [
    "def calc(op,*args) : # 연산자와도 같이 사용 가능\n",
    "    v=args\n",
    "    result=0\n",
    "    if op==\"+\" :\n",
    "        for x in v :\n",
    "            result+=x\n",
    "    elif op==\"-\" :\n",
    "        for x in v :\n",
    "            result-=x\n",
    "    print(op,v) \n",
    "    return result\n",
    "\n",
    "print(calc(\"+\",2,3,4,3,5,4,5,3), calc(\"-\",2,3,4,3,5,4,5,3))"
   ]
  },
  {
   "cell_type": "code",
   "execution_count": 103,
   "metadata": {},
   "outputs": [
    {
     "name": "stdout",
     "output_type": "stream",
     "text": [
      "* 2 3 4 5\n"
     ]
    }
   ],
   "source": [
    "def calc(op,*args) : # 연산자와도 같이 사용 가능\n",
    "    v=args\n",
    "    result=0\n",
    "    if op==\"+\" :\n",
    "        for x in v :\n",
    "            result+=x\n",
    "    elif op==\"-\" :\n",
    "        for x in v :\n",
    "            result-=x\n",
    "    else :\n",
    "        return\n",
    "    print(op,v) \n",
    "    return result\n",
    "\n",
    "print(\"*\",2,3,4,5)"
   ]
  },
  {
   "cell_type": "code",
   "execution_count": 115,
   "metadata": {},
   "outputs": [
    {
     "name": "stdout",
     "output_type": "stream",
     "text": [
      "+ 4 (2, 3, 4, 5)\n"
     ]
    },
    {
     "data": {
      "text/plain": [
       "14"
      ]
     },
     "execution_count": 115,
     "metadata": {},
     "output_type": "execute_result"
    }
   ],
   "source": [
    "def calc(op,*args) : # 연산자와도 같이 사용 가능\n",
    "    argsn=len(args)\n",
    "    result=0\n",
    "    if op==\"+\" :\n",
    "        for x in args :\n",
    "            result+=x\n",
    "    elif op==\"-\" :\n",
    "        for x in args :\n",
    "            result-=x\n",
    "    else :\n",
    "        return\n",
    "    print(op,argsn,args) \n",
    "    return result\n",
    "\n",
    "calc(\"+\",2,3,4,5)"
   ]
  },
  {
   "cell_type": "code",
   "execution_count": 116,
   "metadata": {},
   "outputs": [
    {
     "name": "stdout",
     "output_type": "stream",
     "text": [
      "입력자료 : {'name': '이진호', 'age': 25, 'area': '경기'}\n",
      "\n"
     ]
    }
   ],
   "source": [
    "def func(**kwargs) : # 가변개수의 인수\n",
    "    v=kwargs\n",
    "    print(\"입력자료 : {0}\\n\".format(v))\n",
    "\n",
    "func(name=\"이진호\",age=25,area=\"경기\")"
   ]
  },
  {
   "cell_type": "code",
   "execution_count": 112,
   "metadata": {},
   "outputs": [
    {
     "data": {
      "text/plain": [
       "24"
      ]
     },
     "execution_count": 112,
     "metadata": {},
     "output_type": "execute_result"
    }
   ],
   "source": [
    "def f(n) :\n",
    "    re=1\n",
    "    for x in range(1,n+1):\n",
    "        re*=x\n",
    "    return re\n",
    "f(4)    \n"
   ]
  },
  {
   "cell_type": "code",
   "execution_count": 117,
   "metadata": {},
   "outputs": [
    {
     "data": {
      "text/plain": [
       "(24, 10.0)"
      ]
     },
     "execution_count": 117,
     "metadata": {},
     "output_type": "execute_result"
    }
   ],
   "source": [
    "def f(n) :\n",
    "    re=1\n",
    "    for x in range(1,n+1):\n",
    "        re*=x\n",
    "    return re\n",
    "\n",
    "\n",
    "def g(n,x):  # 사용자함수내에서 다른 (사용자)함수 사용가능\n",
    "    nf=f(n)  #nCx구할때, 팩토리얼 3번 나오니깐 원래대로라면 for문을 3번 써야함. 소모적이므로 앞에서 정의했던 함수이용\n",
    "    xf=f(x)\n",
    "    nxf=f(n-x)\n",
    "    return nf/(xf*nxf)\n",
    "\n",
    "f(4), g(5,2)"
   ]
  },
  {
   "cell_type": "code",
   "execution_count": 120,
   "metadata": {},
   "outputs": [
    {
     "name": "stdout",
     "output_type": "stream",
     "text": [
      "결과 : (5, 2, 10.0)\n",
      "결과 : 5, 2, 10.0\n"
     ]
    }
   ],
   "source": [
    "def f(n) :\n",
    "    re=1\n",
    "    for x in range(1,n+1):\n",
    "        re*=x\n",
    "    return re\n",
    "\n",
    "\n",
    "def g(n,x):  # 사용자함수내에서 다른 (사용자)함수 사용가능\n",
    "    nf=f(n)  #nCx구할때, 팩토리얼 3번 나오니깐 원래대로라면 for문을 3번 써야함. 소모적이므로 앞에서 정의했던 함수이용\n",
    "    xf=f(x)\n",
    "    nxf=f(n-x)\n",
    "    return n,x,nf/(xf*nxf)\n",
    "\n",
    "A=g(5,2)  # 결과를 튜플로 받을수도 있\n",
    "a, b, c=g(5,2) #결과를 따로따로 받을 수도 있음\n",
    "print(\"결과 : {0}\".format(A))\n",
    "print(\"결과 : {0}, {1}, {2}\".format(a,b,c))"
   ]
  },
  {
   "cell_type": "code",
   "execution_count": 123,
   "metadata": {},
   "outputs": [
    {
     "name": "stdout",
     "output_type": "stream",
     "text": [
      "지역변수 : 5\n",
      "전역변수 : 100\n"
     ]
    }
   ],
   "source": [
    "a=100 # 전역변수\n",
    "\n",
    "def calc() :\n",
    "    a=5 # 함수내에서는 지역변수가 우선순위. 이를 피하고 싶으면 a대신 다른  변수로 정의\n",
    "    print(\"지역변수 : {0}\".format(a))\n",
    "calc()\n",
    "print(\"전역변수 : {0}\".format(a))"
   ]
  },
  {
   "cell_type": "code",
   "execution_count": 124,
   "metadata": {},
   "outputs": [
    {
     "name": "stdout",
     "output_type": "stream",
     "text": [
      "지역변수 : 5000\n",
      "전역변수 : 5000\n"
     ]
    }
   ],
   "source": [
    "a=100 # 전역변수\n",
    "\n",
    "def calc() :\n",
    "    global a\n",
    "    a=5000 #global이라는 키워드 때문에 밖에 있는 전역변수 a와 동일한 a. a에 5000을 덮어썼기때문에 전역변수 a는 5000으로 바뀜\n",
    "    b=5 \n",
    "    print(\"지역변수 : {0}\".format(a))\n",
    "calc()\n",
    "print(\"전역변수 : {0}\".format(a))"
   ]
  },
  {
   "cell_type": "code",
   "execution_count": 126,
   "metadata": {},
   "outputs": [
    {
     "data": {
      "text/plain": [
       "[25, 17, 22]"
      ]
     },
     "execution_count": 126,
     "metadata": {},
     "output_type": "execute_result"
    }
   ],
   "source": [
    "X=[[2,4,3,6,4,6],[4,5,2,6],[5,3,4,5,2,3]]\n",
    "X\n",
    "n=len(X)  #코드가 너무 길어\n",
    "Result=[]\n",
    "for i in range(n) :\n",
    "    Result.append(sum(X[i]))\n",
    "Result"
   ]
  },
  {
   "cell_type": "code",
   "execution_count": 128,
   "metadata": {},
   "outputs": [
    {
     "name": "stdout",
     "output_type": "stream",
     "text": [
      "<map object at 0x000001A239216E10>\n",
      "[25, 17, 22]\n"
     ]
    },
    {
     "data": {
      "text/plain": [
       "[25, 17, 22]"
      ]
     },
     "execution_count": 128,
     "metadata": {},
     "output_type": "execute_result"
    }
   ],
   "source": [
    "X=[[2,4,3,6,4,6],[4,5,2,6],[5,3,4,5,2,3]]\n",
    "print(map(sum,X)) #map객체로 나옴. map은 원소의 갯수만큼 함수 적용. map이 for문보다 빨리끝남!!\n",
    "print(list(map(sum,X)))#list로 변환\n",
    "n=len(X)  #코드가 너무 길어\n",
    "Result=[]\n",
    "for i in range(n) :\n",
    "    Result.append(sum(X[i]))\n",
    "Result"
   ]
  },
  {
   "cell_type": "code",
   "execution_count": 129,
   "metadata": {},
   "outputs": [
    {
     "name": "stdout",
     "output_type": "stream",
     "text": [
      "결과 : 5, 2, 10.0\n",
      "Help on function f in module __main__:\n",
      "\n",
      "f(n)\n",
      "    f(n)\n",
      "        n! 계산 함수\n",
      "        n은 0보다 큰 양의 정수\n",
      "\n"
     ]
    }
   ],
   "source": [
    "def f(n) :\n",
    "    '''\n",
    "    f(n)\n",
    "        n! 계산 함수\n",
    "        n은 0보다 큰 양의 정수\n",
    "    '''\n",
    "    re=1\n",
    "    for x in range(1,n+1):\n",
    "        re*=x\n",
    "    return re\n",
    "\n",
    "\n",
    "def g(n,x):  # 사용자함수내에서 다른 (사용자)함수 사용가능\n",
    "    nf=f(n)  #nCx구할때, 팩토리얼 3번 나오니깐 원래대로라면 for문을 3번 써야함. 소모적이므로 앞에서 정의했던 함수이용\n",
    "    xf=f(x)\n",
    "    nxf=f(n-x)\n",
    "    return n,x,nf/(xf*nxf)\n",
    "\n",
    "A=g(5,2)  # 결과를 튜플로 받을수도 있\n",
    "a, b, c=g(5,2) #결과를 따로따로 받을 수도 있음\n",
    "print(\"결과 : {0}, {1}, {2}\".format(a,b,c))\n",
    "help(f) # docstring에 적은 내용 나타남"
   ]
  },
  {
   "cell_type": "markdown",
   "metadata": {},
   "source": [
    "# 모듈"
   ]
  },
  {
   "cell_type": "code",
   "execution_count": 133,
   "metadata": {},
   "outputs": [
    {
     "data": {
      "text/plain": [
       "(1.7320508075688772, 120)"
      ]
     },
     "execution_count": 133,
     "metadata": {},
     "output_type": "execute_result"
    }
   ],
   "source": [
    "import math\n",
    "math.sqrt(3), math.factorial(5)"
   ]
  },
  {
   "cell_type": "code",
   "execution_count": 136,
   "metadata": {},
   "outputs": [
    {
     "data": {
      "text/plain": [
       "2.718281828459045"
      ]
     },
     "execution_count": 136,
     "metadata": {},
     "output_type": "execute_result"
    }
   ],
   "source": [
    "import math\n",
    "math.e"
   ]
  },
  {
   "cell_type": "code",
   "execution_count": 137,
   "metadata": {},
   "outputs": [
    {
     "ename": "NameError",
     "evalue": "name 'e' is not defined",
     "output_type": "error",
     "traceback": [
      "\u001b[1;31m---------------------------------------------------------------------------\u001b[0m",
      "\u001b[1;31mNameError\u001b[0m                                 Traceback (most recent call last)",
      "\u001b[1;32m<ipython-input-137-2e091edd4b4d>\u001b[0m in \u001b[0;36m<module>\u001b[1;34m\u001b[0m\n\u001b[0;32m      1\u001b[0m \u001b[1;32mimport\u001b[0m \u001b[0mmath\u001b[0m\u001b[1;33m\u001b[0m\u001b[1;33m\u001b[0m\u001b[0m\n\u001b[1;32m----> 2\u001b[1;33m \u001b[0me\u001b[0m\u001b[1;33m\u001b[0m\u001b[1;33m\u001b[0m\u001b[0m\n\u001b[0m",
      "\u001b[1;31mNameError\u001b[0m: name 'e' is not defined"
     ]
    }
   ],
   "source": [
    "import math\n",
    "e #모듈이름 안적으면 오류 발생"
   ]
  },
  {
   "cell_type": "code",
   "execution_count": 139,
   "metadata": {},
   "outputs": [
    {
     "data": {
      "text/plain": [
       "(2.718281828459045, 3.141592653589793, <function math.factorial>)"
      ]
     },
     "execution_count": 139,
     "metadata": {},
     "output_type": "execute_result"
    }
   ],
   "source": [
    "from math import e, pi, factorial  #모듈이름적지않고 가져오기 위해서 쓰는 코드\n",
    "e, pi, factorial"
   ]
  },
  {
   "cell_type": "code",
   "execution_count": 141,
   "metadata": {},
   "outputs": [
    {
     "data": {
      "text/plain": [
       "(1.7320508075688772, 1.7320508075688772)"
      ]
     },
     "execution_count": 141,
     "metadata": {},
     "output_type": "execute_result"
    }
   ],
   "source": [
    "import math as mt #모듈에 별명붙이기도 가\n",
    "mt.sqrt(3),math.sqrt(3)"
   ]
  },
  {
   "cell_type": "code",
   "execution_count": 152,
   "metadata": {},
   "outputs": [],
   "source": [
    "\"\"\"\n",
    "    모듈명 : modul_test\n",
    "    cic_area(반지름) : 원의 넓이\n",
    "    circumference(반지름) : 원의 둘레\n",
    "\"\"\"\n",
    "\n",
    "pi=3.141592653589793 # 원주율\n",
    "\n",
    "def cic_area(r) : # 원의 넓이 구하는 함수\n",
    "    a_result=pi*r**2\n",
    "    return a_result\n",
    "\n",
    "def circumference(r) : # 원의 둘레 구하는 함수\n",
    "    c_result=pi*2*r\n",
    "    return c_result"
   ]
  },
  {
   "cell_type": "code",
   "execution_count": 153,
   "metadata": {},
   "outputs": [
    {
     "data": {
      "text/plain": [
       "12.566370614359172"
      ]
     },
     "execution_count": 153,
     "metadata": {},
     "output_type": "execute_result"
    }
   ],
   "source": [
    "cic_area(2)"
   ]
  }
 ],
 "metadata": {
  "kernelspec": {
   "display_name": "MyPython",
   "language": "python",
   "name": "mypython"
  },
  "language_info": {
   "codemirror_mode": {
    "name": "ipython",
    "version": 3
   },
   "file_extension": ".py",
   "mimetype": "text/x-python",
   "name": "python",
   "nbconvert_exporter": "python",
   "pygments_lexer": "ipython3",
   "version": "3.6.9"
  },
  "widgets": {
   "state": {},
   "version": "1.1.2"
  }
 },
 "nbformat": 4,
 "nbformat_minor": 2
}
