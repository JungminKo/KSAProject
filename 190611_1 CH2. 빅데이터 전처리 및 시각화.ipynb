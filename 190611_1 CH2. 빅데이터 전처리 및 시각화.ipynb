{
 "cells": [
  {
   "cell_type": "markdown",
   "metadata": {},
   "source": [
    "# 조건문\n",
    "## 단순 if문"
   ]
  },
  {
   "cell_type": "code",
   "execution_count": 1,
   "metadata": {},
   "outputs": [
    {
     "name": "stdout",
     "output_type": "stream",
     "text": [
      "감사합니다.\n"
     ]
    }
   ],
   "source": [
    "a=75\n",
    "if(a>=80) :\n",
    "    print(\"합격\") #if문이 거짓이므로 합격은 출력안됨\n",
    "print(\"감사합니다.\")"
   ]
  },
  {
   "cell_type": "code",
   "execution_count": 2,
   "metadata": {},
   "outputs": [
    {
     "name": "stdout",
     "output_type": "stream",
     "text": [
      "합격\n",
      "축하합니다.\n",
      "감사합니다.\n"
     ]
    }
   ],
   "source": [
    "a=85\n",
    "if(a>=80) :\n",
    "    print(\"합격\")\n",
    "    print(\"축하합니다.\")\n",
    "print(\"감사합니다.\")"
   ]
  },
  {
   "cell_type": "code",
   "execution_count": 4,
   "metadata": {},
   "outputs": [
    {
     "name": "stdout",
     "output_type": "stream",
     "text": [
      "합격\n",
      "점수 : 84\n",
      "감사합니다.\n"
     ]
    }
   ],
   "source": [
    "a=84\n",
    "if (a>=80) :\n",
    "    print(\"합격\")\n",
    "    print(\"점수 : {0}\".format(a)) #이 형식에 익숙해질 필요가 있는\n",
    "print(\"감사합니다.\")"
   ]
  },
  {
   "cell_type": "markdown",
   "metadata": {},
   "source": [
    "## if-else문"
   ]
  },
  {
   "cell_type": "code",
   "execution_count": 6,
   "metadata": {},
   "outputs": [
    {
     "name": "stdout",
     "output_type": "stream",
     "text": [
      "점수 : 78\n",
      "불합격\n",
      "감사합니다.\n"
     ]
    }
   ],
   "source": [
    "a=78\n",
    "if(a>=80) :\n",
    "    print(\"점수 : {0}\".format(a))\n",
    "    print(\"합격\")\n",
    "else : \n",
    "    print(\"점수 : {0}\".format(a))\n",
    "    print(\"불합격\")\n",
    "print(\"감사합니다.\")"
   ]
  },
  {
   "cell_type": "code",
   "execution_count": 7,
   "metadata": {},
   "outputs": [
    {
     "name": "stdout",
     "output_type": "stream",
     "text": [
      "점수 : 88\n",
      "합격\n",
      "감사합니다.\n"
     ]
    }
   ],
   "source": [
    "a=88\n",
    "if(a>=80) :\n",
    "    print(\"점수 : {0}\".format(a))\n",
    "    print(\"합격\")\n",
    "else : \n",
    "    print(\"점수 : {0}\".format(a))\n",
    "    print(\"불합격\")\n",
    "print(\"감사합니다.\")"
   ]
  },
  {
   "cell_type": "code",
   "execution_count": 8,
   "metadata": {},
   "outputs": [
    {
     "name": "stdout",
     "output_type": "stream",
     "text": [
      "점수 : 88\n",
      "합격\n"
     ]
    }
   ],
   "source": [
    "a=88\n",
    "if(a>=80) :\n",
    "    print(\"점수 : {0}\".format(a))\n",
    "    print(\"합격\")\n",
    "else : \n",
    "    print(\"점수 : {0}\".format(a))\n",
    "    print(\"불합격\")\n",
    "    print(\"감사합니다.\")"
   ]
  },
  {
   "cell_type": "markdown",
   "metadata": {},
   "source": [
    "## if ~ elif ~ else 문"
   ]
  },
  {
   "cell_type": "code",
   "execution_count": 9,
   "metadata": {},
   "outputs": [
    {
     "name": "stdout",
     "output_type": "stream",
     "text": [
      "점수 : 78\n",
      "재시험\n",
      "감사합니다.\n"
     ]
    }
   ],
   "source": [
    "a=78\n",
    "if(a>=80) :\n",
    "    print(\"점수 : {0}\".format(a))\n",
    "    print(\"합격\")\n",
    "elif(a>=60) : # 60점 이상 80점 미만\n",
    "    print(\"점수 : {0}\".format(a))\n",
    "    print(\"재시험\")\n",
    "else : # 60점 미만\n",
    "    print(\"점수 : {0}\".format(a))\n",
    "    print(\"불합격\")\n",
    "print(\"감사합니다.\")"
   ]
  },
  {
   "cell_type": "code",
   "execution_count": 10,
   "metadata": {},
   "outputs": [
    {
     "name": "stdout",
     "output_type": "stream",
     "text": [
      "B\n",
      "점수 : 84\n",
      "감사합니다.\n"
     ]
    }
   ],
   "source": [
    "a=84\n",
    "if(a>=90) :\n",
    "    print(\"A\")\n",
    "    print(\"점수 : {0}\".format(a))\n",
    "elif(a>=80) : #원래는 a>=80 and a<90\n",
    "    print(\"B\")\n",
    "    print(\"점수 : {0}\".format(a))\n",
    "elif(a>=70) : #elif는 여러개도 사용 가\n",
    "    print(\"C\")\n",
    "    print(\"점수 : {0}\".format(a))\n",
    "elif(a>=60) :\n",
    "    print(\"D\")\n",
    "    print(\"점수 : {0}\".format(a))\n",
    "else : \n",
    "    print(\"F\")\n",
    "    print(\"점수 : {0}\".format(a))\n",
    "print(\"감사합니다.\")"
   ]
  },
  {
   "cell_type": "markdown",
   "metadata": {},
   "source": [
    "## 삼항 연산자"
   ]
  },
  {
   "cell_type": "code",
   "execution_count": 11,
   "metadata": {},
   "outputs": [
    {
     "name": "stdout",
     "output_type": "stream",
     "text": [
      "점수 : 75\n",
      "불합격\n"
     ]
    }
   ],
   "source": [
    "a=75\n",
    "res=\"합격\" if(a>=80) else \"불합격\"\n",
    "print(\"점수 : {point}\\n{result}\".format(point=a, result=res))"
   ]
  },
  {
   "cell_type": "markdown",
   "metadata": {},
   "source": [
    "### 삼항연산자는 4줄짜리 코드를 1줄로!"
   ]
  },
  {
   "cell_type": "code",
   "execution_count": 12,
   "metadata": {},
   "outputs": [
    {
     "name": "stdout",
     "output_type": "stream",
     "text": [
      "불합격\n"
     ]
    }
   ],
   "source": [
    "a=84\n",
    "if(a>=90) :\n",
    "    result=\"합격\"\n",
    "else :\n",
    "    result=\"불합격\"\n",
    "print(result)"
   ]
  },
  {
   "cell_type": "code",
   "execution_count": 13,
   "metadata": {},
   "outputs": [
    {
     "name": "stdout",
     "output_type": "stream",
     "text": [
      "불합격\n"
     ]
    }
   ],
   "source": [
    "a=84\n",
    "result=\"합격\" if(a>=90) else \"불합격\"\n",
    "print(result) #위의 결과와 동일하게 나옴"
   ]
  },
  {
   "cell_type": "markdown",
   "metadata": {},
   "source": [
    "### 삼항 연산자를 두 번 쓸 수도 있음"
   ]
  },
  {
   "cell_type": "code",
   "execution_count": 15,
   "metadata": {},
   "outputs": [
    {
     "name": "stdout",
     "output_type": "stream",
     "text": [
      "재시험\n"
     ]
    }
   ],
   "source": [
    "a=84 \n",
    "result=\"합격\" if(a>=90) else(\"재시험\" if(a>=70) else \"불합격\")\n",
    "print(result)"
   ]
  },
  {
   "cell_type": "code",
   "execution_count": 16,
   "metadata": {},
   "outputs": [
    {
     "name": "stdout",
     "output_type": "stream",
     "text": [
      "재시험\n"
     ]
    }
   ],
   "source": [
    "a=84\n",
    "if(a>=90) :\n",
    "    result=\"합격\"\n",
    "elif(a>=70) :\n",
    "    result=\"재시험\"\n",
    "else :\n",
    "    result=\"불합격\"\n",
    "print(result)"
   ]
  },
  {
   "cell_type": "markdown",
   "metadata": {},
   "source": [
    "# 반복문"
   ]
  },
  {
   "cell_type": "markdown",
   "metadata": {},
   "source": [
    "## for문"
   ]
  },
  {
   "cell_type": "markdown",
   "metadata": {},
   "source": [
    "### list 이용"
   ]
  },
  {
   "cell_type": "code",
   "execution_count": 17,
   "metadata": {},
   "outputs": [
    {
     "name": "stdout",
     "output_type": "stream",
     "text": [
      "1번 학생 성적 처리...\n",
      "3번 학생 성적 처리...\n",
      "6번 학생 성적 처리...\n",
      "7번 학생 성적 처리...\n",
      "종료합니다.\n"
     ]
    }
   ],
   "source": [
    "for i in [1, 3, 6, 7] :\n",
    "    print(\"{0}번 학생 성적 처리...\".format(i))\n",
    "print(\"종료합니다.\")"
   ]
  },
  {
   "cell_type": "code",
   "execution_count": 21,
   "metadata": {},
   "outputs": [
    {
     "name": "stdout",
     "output_type": "stream",
     "text": [
      "A\n",
      "B\n",
      "i=1\n",
      "i=4\n",
      "i=6\n",
      "i=2\n"
     ]
    }
   ],
   "source": [
    "for i in [\"A\",\"B\"] :\n",
    "    print(i)\n",
    "    \n",
    "for i in [1,4,6,2] :\n",
    "    print(\"i={0}\".format(i))"
   ]
  },
  {
   "cell_type": "markdown",
   "metadata": {},
   "source": [
    "### range 함수 이용"
   ]
  },
  {
   "cell_type": "code",
   "execution_count": 19,
   "metadata": {},
   "outputs": [
    {
     "data": {
      "text/plain": [
       "[1, 2, 3, 4]"
      ]
     },
     "execution_count": 19,
     "metadata": {},
     "output_type": "execute_result"
    }
   ],
   "source": [
    "list(range(1,5)) # 시작값부터 끝값-1까"
   ]
  },
  {
   "cell_type": "code",
   "execution_count": 20,
   "metadata": {},
   "outputs": [
    {
     "name": "stdout",
     "output_type": "stream",
     "text": [
      "1번 학생 성적 처리...\n",
      "2번 학생 성적 처리...\n",
      "3번 학생 성적 처리...\n",
      "4번 학생 성적 처리...\n",
      "종료합니다.\n"
     ]
    }
   ],
   "source": [
    "for i in range(1,5):\n",
    "    print(\"{0}번 학생 성적 처리...\".format(i))\n",
    "print(\"종료합니다.\")"
   ]
  },
  {
   "cell_type": "code",
   "execution_count": 22,
   "metadata": {},
   "outputs": [
    {
     "name": "stdout",
     "output_type": "stream",
     "text": [
      "0\n",
      "1\n",
      "2\n",
      "3\n",
      "i=3\n",
      "i=4\n"
     ]
    }
   ],
   "source": [
    "for i in range(4) : #0부터 3(=4-1)까지\n",
    "    print(i)\n",
    "    \n",
    "for i in range(3,5) : \n",
    "    print(\"i={0}\".format(i))"
   ]
  },
  {
   "cell_type": "code",
   "execution_count": 23,
   "metadata": {},
   "outputs": [
    {
     "name": "stdout",
     "output_type": "stream",
     "text": [
      "1번 학생 성적 처리...\n",
      "4번 학생 성적 처리...\n",
      "7번 학생 성적 처리...\n",
      "종료합니다.\n"
     ]
    }
   ],
   "source": [
    "for i in range(1,10,3) :\n",
    "    print(\"{0}번 학생 성적 처리...\".format(i))\n",
    "print(\"종료합니다.\")"
   ]
  },
  {
   "cell_type": "markdown",
   "metadata": {},
   "source": [
    "### 숫자열의 연산을 할 때도 사용 가능"
   ]
  },
  {
   "cell_type": "code",
   "execution_count": 29,
   "metadata": {},
   "outputs": [
    {
     "name": "stdout",
     "output_type": "stream",
     "text": [
      "누적합은 39입니다.\n"
     ]
    }
   ],
   "source": [
    "csum=0\n",
    "for i in [3,2,5,7,3,5,6,7,1] :\n",
    "    csum+=i\n",
    "print(\"누적합은 {0}입니다.\".format(csum))"
   ]
  },
  {
   "cell_type": "code",
   "execution_count": 26,
   "metadata": {},
   "outputs": [
    {
     "name": "stdout",
     "output_type": "stream",
     "text": [
      "1부터 10까지의 합은 55입니다.\n"
     ]
    }
   ],
   "source": [
    "cums=0\n",
    "for i in [1,2,3,4,5,6,7,8,9,10] :\n",
    "    cums+=i\n",
    "print(\"1부터 10까지의 합은 {0}입니다.\".format(cums))"
   ]
  },
  {
   "cell_type": "code",
   "execution_count": 27,
   "metadata": {},
   "outputs": [
    {
     "name": "stdout",
     "output_type": "stream",
     "text": [
      "1부터 100까지의 합은 5050입니다.\n"
     ]
    }
   ],
   "source": [
    "cums=0\n",
    "for i in range(1,101) :\n",
    "    cums+=i\n",
    "print(\"1부터 100까지의 합은 {0}입니다.\".format(cums))"
   ]
  },
  {
   "cell_type": "markdown",
   "metadata": {},
   "source": [
    "#### 예제 : 팩토리얼 계산하기"
   ]
  },
  {
   "cell_type": "code",
   "execution_count": 31,
   "metadata": {},
   "outputs": [
    {
     "name": "stdout",
     "output_type": "stream",
     "text": [
      "4!=24\n"
     ]
    }
   ],
   "source": [
    "n=4\n",
    "cmult=1\n",
    "for i in range(1,(n+1)) : # n+1에 괄호안넣어도 돌아가긴 함.\n",
    "    cmult*=i\n",
    "print(\"{0}!={1}\".format(n,cmult))"
   ]
  },
  {
   "cell_type": "code",
   "execution_count": 32,
   "metadata": {},
   "outputs": [
    {
     "name": "stdout",
     "output_type": "stream",
     "text": [
      "---------+---------+---------+---------+---------+"
     ]
    }
   ],
   "source": [
    "for i in range(1,51) : # 10열 위치마다 \"+\"문자 출력\n",
    "    if(i%10==0) :\n",
    "        print(\"+\",end=\"\") #print는 기본적으로 줄바꾸기를 하므로, 이를 막기위해 end이용\n",
    "    else :\n",
    "        print(\"-\",end=\"\")"
   ]
  },
  {
   "cell_type": "markdown",
   "metadata": {},
   "source": [
    "### 중첩된 for문 - 블록 잡을 때 주의. "
   ]
  },
  {
   "cell_type": "markdown",
   "metadata": {},
   "source": [
    "밑의 경우에는 1번당 i=꼴이 2번 총 4 * 2= 8번 발생."
   ]
  },
  {
   "cell_type": "code",
   "execution_count": 25,
   "metadata": {},
   "outputs": [
    {
     "name": "stdout",
     "output_type": "stream",
     "text": [
      "0\n",
      "i=3\n",
      "i=4\n",
      "1\n",
      "i=3\n",
      "i=4\n",
      "2\n",
      "i=3\n",
      "i=4\n",
      "3\n",
      "i=3\n",
      "i=4\n"
     ]
    }
   ],
   "source": [
    "for i in range(4) :\n",
    "    print(i)\n",
    "    for i in range(3,5) :\n",
    "        print(\"i={0}\".format(i))"
   ]
  },
  {
   "cell_type": "code",
   "execution_count": 36,
   "metadata": {},
   "outputs": [
    {
     "name": "stdout",
     "output_type": "stream",
     "text": [
      "1x2=2\t1x4=4\t1x6=6\t1x8=8\n",
      "2x2=4\t2x4=8\t2x6=12\t2x8=16\n",
      "3x2=6\t3x4=12\t3x6=18\t3x8=24\n",
      "4x2=8\t4x4=16\t4x6=24\t4x8=32\n",
      "5x2=10\t5x4=20\t5x6=30\t5x8=40\n",
      "6x2=12\t6x4=24\t6x6=36\t6x8=48\n",
      "7x2=14\t7x4=28\t7x6=42\t7x8=56\n",
      "8x2=16\t8x4=32\t8x6=48\t8x8=64\n",
      "9x2=18\t9x4=36\t9x6=54\t9x8=72\n"
     ]
    }
   ],
   "source": [
    "for i in range(1,10) :\n",
    "    for j in [2,4,6,8] :\n",
    "        if(j!=8) :\n",
    "            print(\"{0}x{1}={2}\".format(i,j,i*j),end=\"\\t\")\n",
    "        else : \n",
    "            print(\"{0}x{1}={2}\".format(i,j,i*j))"
   ]
  },
  {
   "cell_type": "markdown",
   "metadata": {},
   "source": [
    "## while 문"
   ]
  },
  {
   "cell_type": "markdown",
   "metadata": {},
   "source": [
    "무한루프에 안빠지게 주의!!\n",
    "\n",
    "a=5\n",
    "while (a>3) : \n",
    "    print(a)\n",
    "    \n",
    "이런경우.."
   ]
  },
  {
   "cell_type": "code",
   "execution_count": 38,
   "metadata": {},
   "outputs": [
    {
     "name": "stdout",
     "output_type": "stream",
     "text": [
      "5\n",
      "4\n"
     ]
    }
   ],
   "source": [
    "a=5 \n",
    "while (a>3) :\n",
    "    print(a)\n",
    "    a-=1 ##이런식으로 구성"
   ]
  },
  {
   "cell_type": "markdown",
   "metadata": {},
   "source": [
    "### for문과 동일한 while 문 형식"
   ]
  },
  {
   "cell_type": "code",
   "execution_count": 39,
   "metadata": {},
   "outputs": [
    {
     "name": "stdout",
     "output_type": "stream",
     "text": [
      "0번 학생 성적처리...\n",
      "1번 학생 성적처리...\n",
      "2번 학생 성적처리...\n",
      "3번 학생 성적처리...\n",
      "0번 학생 성적 처리...\n",
      "1번 학생 성적 처리...\n",
      "2번 학생 성적 처리...\n",
      "3번 학생 성적 처리...\n"
     ]
    }
   ],
   "source": [
    "for i in range(4) :\n",
    "    print(\"{0}번 학생 성적처리...\".format(i))\n",
    "    \n",
    "i=0\n",
    "while(i<4) :\n",
    "    print(\"{0}번 학생 성적 처리...\".format(i))\n",
    "    i+=1 #for문처럼 증분값 표시 필요"
   ]
  },
  {
   "cell_type": "code",
   "execution_count": 41,
   "metadata": {},
   "outputs": [
    {
     "name": "stdout",
     "output_type": "stream",
     "text": [
      "1~50까지 합계 = 1275\n",
      "1~50까지 합계 = 1275\n"
     ]
    }
   ],
   "source": [
    "fcsum=0\n",
    "for i in range(1,51) :\n",
    "    fcsum+=i\n",
    "print(\"1~50까지 합계 = {0}\".format(fcsum))\n",
    "\n",
    "wcsum=0\n",
    "i=1\n",
    "while(i<51) :\n",
    "    wcsum+=i\n",
    "    i+=1\n",
    "print(\"1~50까지 합계 = {0}\".format(wcsum))"
   ]
  },
  {
   "cell_type": "code",
   "execution_count": 46,
   "metadata": {},
   "outputs": [
    {
     "name": "stdout",
     "output_type": "stream",
     "text": [
      "10!=3628800\n",
      "10!=3628800\n"
     ]
    }
   ],
   "source": [
    "n=10\n",
    "ffact=1\n",
    "for i in range(1,(n+1)) :\n",
    "    ffact*=i\n",
    "print(\"{0}!={1}\".format(n,ffact))\n",
    "\n",
    "wfact=1\n",
    "i=1\n",
    "while(i<=n) : #<n+1보다 <=n이 좀더 단순\n",
    "    wfact*=i\n",
    "    i+=1\n",
    "print(\"{0}!={1}\".format(n,wfact))"
   ]
  }
 ],
 "metadata": {
  "kernelspec": {
   "display_name": "MyPython",
   "language": "python",
   "name": "mypython"
  },
  "language_info": {
   "codemirror_mode": {
    "name": "ipython",
    "version": 3
   },
   "file_extension": ".py",
   "mimetype": "text/x-python",
   "name": "python",
   "nbconvert_exporter": "python",
   "pygments_lexer": "ipython3",
   "version": "3.6.9"
  },
  "widgets": {
   "state": {},
   "version": "1.1.2"
  }
 },
 "nbformat": 4,
 "nbformat_minor": 2
}
