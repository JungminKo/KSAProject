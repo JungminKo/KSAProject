{
 "cells": [
  {
   "cell_type": "markdown",
   "metadata": {},
   "source": [
    "# 분기문"
   ]
  },
  {
   "cell_type": "code",
   "execution_count": 1,
   "metadata": {},
   "outputs": [
    {
     "name": "stdout",
     "output_type": "stream",
     "text": [
      "첫 번째 정수 입력 : 4\n",
      "두 번째 정수 입력 : 8\n",
      "4+8=12\n",
      "첫 번째 정수 입력 : 2\n",
      "두 번째 정수 입력 : 4\n",
      "2+4=6\n",
      "첫 번째 정수 입력 : 1\n",
      "두 번째 정수 입력 : 5\n",
      "1+5=6\n",
      "계산 종료\n"
     ]
    }
   ],
   "source": [
    "for i in range(3) :\n",
    "    a=int(input(\"첫 번째 정수 입력 : \"))\n",
    "    b=int(input(\"두 번째 정수 입력 : \"))\n",
    "    print(\"{0}+{1}={2}\".format(a,b,a+b))\n",
    "print(\"계산 종료\")"
   ]
  },
  {
   "cell_type": "markdown",
   "metadata": {},
   "source": [
    "## break와 continue의 차이"
   ]
  },
  {
   "cell_type": "code",
   "execution_count": 2,
   "metadata": {},
   "outputs": [
    {
     "name": "stdout",
     "output_type": "stream",
     "text": [
      "첫 번째 정수 입력 : 5\n",
      "두 번째 정수 입력 : 7\n",
      "5+7=12\n",
      "첫 번째 정수 입력 : 0\n",
      "두 번째 정수 입력 : 0\n",
      "계산 종료\n"
     ]
    }
   ],
   "source": [
    "for i in range(3) :\n",
    "    a= int(input(\"첫 번째 정수 입력 : \"))\n",
    "    b= int(input(\"두 번째 정수 입력 : \"))\n",
    "    if(a==0 and b==0) :  # 0,0을 만나면 종료\n",
    "        break\n",
    "    print(\"{0}+{1}={2}\".format(a,b,a+b)) \n",
    "print(\"계산 종료\")"
   ]
  },
  {
   "cell_type": "code",
   "execution_count": 3,
   "metadata": {},
   "outputs": [
    {
     "name": "stdout",
     "output_type": "stream",
     "text": [
      "첫 번째 정수 입력 : 5\n",
      "두 번째 정수 입력 : 7\n",
      "5+7=12\n",
      "첫 번째 정수 입력 : 0\n",
      "두 번째 정수 입력 : 0\n",
      "첫 번째 정수 입력 : 5\n",
      "두 번째 정수 입력 : 7\n",
      "5+7=12\n",
      "계산 종료\n"
     ]
    }
   ],
   "source": [
    "for i in range(3) :\n",
    "    a= int(input(\"첫 번째 정수 입력 : \"))\n",
    "    b= int(input(\"두 번째 정수 입력 : \"))\n",
    "    if(a==0 and b==0) :  # 0,0을 만나면 밑에거 수행안하고 다시 루프문 시작위치로 올라감\n",
    "        continue\n",
    "    print(\"{0}+{1}={2}\".format(a,b,a+b)) \n",
    "print(\"계산 종료\")"
   ]
  },
  {
   "cell_type": "code",
   "execution_count": 4,
   "metadata": {},
   "outputs": [
    {
     "name": "stdout",
     "output_type": "stream",
     "text": [
      "첫 번째 정수 입력 : 5\n",
      "두 번째 정수 입력 : 9\n",
      "5+9=14\n",
      "두 번째 정수 입력 : 4\n",
      "5+4=9\n",
      "첫 번째 정수 입력 : 6\n",
      "두 번째 정수 입력 : 3\n",
      "6+3=9\n",
      "두 번째 정수 입력 : 4\n",
      "6+4=10\n",
      "첫 번째 정수 입력 : 0\n",
      "두 번째 정수 입력 : 0\n",
      "두 번째 정수 입력 : 2\n",
      "0+2=2\n",
      "계산 종료\n"
     ]
    }
   ],
   "source": [
    "for i in range(3) :\n",
    "    a= int(input(\"첫 번째 정수 입력 : \"))\n",
    "    for j in range(2) :\n",
    "        b= int(input(\"두 번째 정수 입력 : \")) # b가 2번나올동안 a값은 고정되어있는 중\n",
    "        if(a==0 and b==0) : \n",
    "            continue\n",
    "        print(\"{0}+{1}={2}\".format(a,b,a+b)) \n",
    "print(\"계산 종료\")"
   ]
  },
  {
   "cell_type": "code",
   "execution_count": 5,
   "metadata": {},
   "outputs": [
    {
     "name": "stdout",
     "output_type": "stream",
     "text": [
      "첫 번째 정수 입력 : 7\n",
      "두 번째 정수 입력 : 8\n",
      "7+8=15\n",
      "두 번째 정수 입력 : 6\n",
      "7+6=13\n",
      "첫 번째 정수 입력 : 0\n",
      "두 번째 정수 입력 : 0\n",
      "첫 번째 정수 입력 : 5\n",
      "두 번째 정수 입력 : 7\n",
      "5+7=12\n",
      "두 번째 정수 입력 : 6\n",
      "5+6=11\n",
      "계산 종료\n"
     ]
    }
   ],
   "source": [
    "for i in range(3) :\n",
    "    a= int(input(\"첫 번째 정수 입력 : \"))\n",
    "    for j in range(2) :\n",
    "        b= int(input(\"두 번째 정수 입력 : \")) # b가 2번나올동안 a값은 고정되어있는 중\n",
    "        if(a==0 and b==0) : \n",
    "            break                 #break는 본인이 해당하는 루프문만 빠져나옴\n",
    "        print(\"{0}+{1}={2}\".format(a,b,a+b)) \n",
    "print(\"계산 종료\")"
   ]
  },
  {
   "cell_type": "code",
   "execution_count": 6,
   "metadata": {},
   "outputs": [
    {
     "name": "stdout",
     "output_type": "stream",
     "text": [
      "첫 번째 정수 입력 : 0\n",
      "두 번째 정수 입력 : 0\n",
      "계산 종료\n"
     ]
    }
   ],
   "source": [
    "for i in range(3) :\n",
    "    a= int(input(\"첫 번째 정수 입력 : \"))\n",
    "    for j in range(2) :\n",
    "        b= int(input(\"두 번째 정수 입력 : \")) # b가 2번나올동안 a값은 고정되어있는 중\n",
    "        if(a==0 and b==0) : \n",
    "            break                 #break는 본인이 해당하는 루프문만 빠져나옴\n",
    "        print(\"{0}+{1}={2}\".format(a,b,a+b)) \n",
    "    if(a==0 and b==0) :\n",
    "        break\n",
    "print(\"계산 종료\")   #바깥쪽도 빠져나오려면 바깥쪽에도 루프문 만들어줘야함"
   ]
  },
  {
   "cell_type": "markdown",
   "metadata": {},
   "source": [
    "# 컨테이너형 데이터"
   ]
  },
  {
   "cell_type": "markdown",
   "metadata": {},
   "source": [
    "## 리스트"
   ]
  },
  {
   "cell_type": "code",
   "execution_count": 16,
   "metadata": {},
   "outputs": [
    {
     "name": "stdout",
     "output_type": "stream",
     "text": [
      "[]\n",
      "[2, 4, 3]\n",
      "['A', 'B', 'Kim']\n",
      "['a', 58, True]\n",
      "[3, True, ['a', 58, True]]\n"
     ]
    }
   ],
   "source": [
    "aa=[]\n",
    "bb=[2,4,3]\n",
    "cc=[\"A\",\"B\",\"Kim\"]\n",
    "dd=[\"a\",58,True] # 자료 타입이 달라도 OK\n",
    "ee=[3,True,dd] #원소에 컨테이너 자료형태가 들어가도 OK\n",
    "print(aa)\n",
    "print(bb)\n",
    "print(cc)\n",
    "print(dd)\n",
    "print(ee)"
   ]
  },
  {
   "cell_type": "code",
   "execution_count": 18,
   "metadata": {},
   "outputs": [
    {
     "data": {
      "text/plain": [
       "['a', 58, True]"
      ]
     },
     "execution_count": 18,
     "metadata": {},
     "output_type": "execute_result"
    }
   ],
   "source": [
    "ee[2] #항상 0부터 index 시작하는 것 기억!"
   ]
  },
  {
   "cell_type": "code",
   "execution_count": 19,
   "metadata": {},
   "outputs": [
    {
     "data": {
      "text/plain": [
       "58"
      ]
     },
     "execution_count": 19,
     "metadata": {},
     "output_type": "execute_result"
    }
   ],
   "source": [
    "ee[2][1]"
   ]
  },
  {
   "cell_type": "markdown",
   "metadata": {},
   "source": [
    "list 함수를 이용해서 iterable한 데이터를 강제로 반환해야함"
   ]
  },
  {
   "cell_type": "code",
   "execution_count": 22,
   "metadata": {},
   "outputs": [
    {
     "data": {
      "text/plain": [
       "['K', 'i', 'm', ' ', 'Y']"
      ]
     },
     "execution_count": 22,
     "metadata": {},
     "output_type": "execute_result"
    }
   ],
   "source": [
    "list(\"Kim Y\") # 문자열"
   ]
  },
  {
   "cell_type": "code",
   "execution_count": 23,
   "metadata": {},
   "outputs": [
    {
     "data": {
      "text/plain": [
       "[3, 2, 5, 6]"
      ]
     },
     "execution_count": 23,
     "metadata": {},
     "output_type": "execute_result"
    }
   ],
   "source": [
    "aa=(3,2,5,6) # 튜플\n",
    "list(aa) #강제로 list 변환"
   ]
  },
  {
   "cell_type": "code",
   "execution_count": 26,
   "metadata": {},
   "outputs": [
    {
     "data": {
      "text/plain": [
       "[33, 2, 5, 44, 345]"
      ]
     },
     "execution_count": 26,
     "metadata": {},
     "output_type": "execute_result"
    }
   ],
   "source": [
    "aa={33,5,44,2,345}\n",
    "list(aa) #집합은 순서가 없으므로 순서가 자기 마음대로 바뀜"
   ]
  },
  {
   "cell_type": "code",
   "execution_count": 126,
   "metadata": {},
   "outputs": [
    {
     "name": "stdout",
     "output_type": "stream",
     "text": [
      "['서울', '경기', '제주']\n"
     ]
    }
   ],
   "source": [
    "dic={\"서울\":\"02\",\"경기\":\"031\",\"제주\":\"064\"} #사전\n",
    "Ls4=list(dic) #'키'만 리스트에 저장\n",
    "print(Ls4)"
   ]
  },
  {
   "cell_type": "code",
   "execution_count": 20,
   "metadata": {},
   "outputs": [
    {
     "data": {
      "text/plain": [
       "range(1, 10, 2)"
      ]
     },
     "execution_count": 20,
     "metadata": {},
     "output_type": "execute_result"
    }
   ],
   "source": [
    "range(1,10,2) # range함수"
   ]
  },
  {
   "cell_type": "code",
   "execution_count": 21,
   "metadata": {
    "scrolled": true
   },
   "outputs": [
    {
     "data": {
      "text/plain": [
       "[1, 3, 5, 7, 9]"
      ]
     },
     "execution_count": 21,
     "metadata": {},
     "output_type": "execute_result"
    }
   ],
   "source": [
    "list(range(1,10,2))"
   ]
  },
  {
   "cell_type": "code",
   "execution_count": 27,
   "metadata": {},
   "outputs": [
    {
     "data": {
      "text/plain": [
       "<list_reverseiterator at 0x1a483196f98>"
      ]
     },
     "execution_count": 27,
     "metadata": {},
     "output_type": "execute_result"
    }
   ],
   "source": [
    "aa=reversed([33,5,44,2,345])\n",
    "aa\n",
    "#list(aa)"
   ]
  },
  {
   "cell_type": "code",
   "execution_count": 29,
   "metadata": {},
   "outputs": [
    {
     "data": {
      "text/plain": [
       "[345, 2, 44, 5, 33]"
      ]
     },
     "execution_count": 29,
     "metadata": {},
     "output_type": "execute_result"
    }
   ],
   "source": [
    "list(aa)"
   ]
  },
  {
   "cell_type": "code",
   "execution_count": 30,
   "metadata": {},
   "outputs": [
    {
     "data": {
      "text/plain": [
       "44"
      ]
     },
     "execution_count": 30,
     "metadata": {},
     "output_type": "execute_result"
    }
   ],
   "source": [
    "aa=reversed([33,5,44,2,345])\n",
    "next(aa)\n",
    "next(aa)\n",
    "next(aa) # iterable 객체는 next 함수를 이용해서 순차적으로 뽑아낼 수 있음"
   ]
  },
  {
   "cell_type": "markdown",
   "metadata": {},
   "source": [
    "list가 항상 iterator한 것은 아님. iter함수를 이용해야 함."
   ]
  },
  {
   "cell_type": "code",
   "execution_count": 31,
   "metadata": {},
   "outputs": [
    {
     "ename": "TypeError",
     "evalue": "'list' object is not an iterator",
     "output_type": "error",
     "traceback": [
      "\u001b[1;31m---------------------------------------------------------------------------\u001b[0m",
      "\u001b[1;31mTypeError\u001b[0m                                 Traceback (most recent call last)",
      "\u001b[1;32m<ipython-input-31-65e589dc59cc>\u001b[0m in \u001b[0;36m<module>\u001b[1;34m\u001b[0m\n\u001b[0;32m      1\u001b[0m \u001b[0maa\u001b[0m\u001b[1;33m=\u001b[0m\u001b[1;33m[\u001b[0m\u001b[1;36m33\u001b[0m\u001b[1;33m,\u001b[0m\u001b[1;36m5\u001b[0m\u001b[1;33m,\u001b[0m\u001b[1;36m44\u001b[0m\u001b[1;33m,\u001b[0m\u001b[1;36m2\u001b[0m\u001b[1;33m,\u001b[0m\u001b[1;36m345\u001b[0m\u001b[1;33m]\u001b[0m\u001b[1;33m\u001b[0m\u001b[1;33m\u001b[0m\u001b[0m\n\u001b[0;32m      2\u001b[0m \u001b[0mbb\u001b[0m\u001b[1;33m=\u001b[0m\u001b[0miter\u001b[0m\u001b[1;33m(\u001b[0m\u001b[0maa\u001b[0m\u001b[1;33m)\u001b[0m\u001b[1;33m\u001b[0m\u001b[1;33m\u001b[0m\u001b[0m\n\u001b[1;32m----> 3\u001b[1;33m \u001b[0mnext\u001b[0m\u001b[1;33m(\u001b[0m\u001b[0maa\u001b[0m\u001b[1;33m)\u001b[0m\u001b[1;33m\u001b[0m\u001b[1;33m\u001b[0m\u001b[0m\n\u001b[0m",
      "\u001b[1;31mTypeError\u001b[0m: 'list' object is not an iterator"
     ]
    }
   ],
   "source": [
    "aa=[33,5,44,2,345]\n",
    "bb=iter(aa)\n",
    "next(aa)"
   ]
  },
  {
   "cell_type": "code",
   "execution_count": 32,
   "metadata": {},
   "outputs": [
    {
     "data": {
      "text/plain": [
       "list_iterator"
      ]
     },
     "execution_count": 32,
     "metadata": {},
     "output_type": "execute_result"
    }
   ],
   "source": [
    "type(bb)"
   ]
  },
  {
   "cell_type": "code",
   "execution_count": 33,
   "metadata": {},
   "outputs": [
    {
     "data": {
      "text/plain": [
       "33"
      ]
     },
     "execution_count": 33,
     "metadata": {},
     "output_type": "execute_result"
    }
   ],
   "source": [
    "next(bb)"
   ]
  },
  {
   "cell_type": "markdown",
   "metadata": {},
   "source": [
    "## 리스트의 비교"
   ]
  },
  {
   "cell_type": "code",
   "execution_count": 34,
   "metadata": {},
   "outputs": [
    {
     "data": {
      "text/plain": [
       "(False, False, True)"
      ]
     },
     "execution_count": 34,
     "metadata": {},
     "output_type": "execute_result"
    }
   ],
   "source": [
    "A=[1,6,3]\n",
    "B=[1,6,3,6]\n",
    "C=[3,1,6]\n",
    "D=[1,6,3]\n",
    "A==B, A==C, A==D"
   ]
  },
  {
   "cell_type": "markdown",
   "metadata": {},
   "source": [
    "## 리스트의 인덱싱과 슬라이싱"
   ]
  },
  {
   "cell_type": "code",
   "execution_count": 35,
   "metadata": {},
   "outputs": [
    {
     "name": "stdout",
     "output_type": "stream",
     "text": [
      "[20, 40, 66]\n",
      "[20, 40, 66]\n",
      "[25, 20, 40, 66]\n",
      "[25, 30, 66]\n",
      "[12, 41, 20]\n"
     ]
    }
   ],
   "source": [
    "Isobj=[25,35,20,30,40,41,66,87,12]\n",
    "print(Isobj[2:8:2])\n",
    "print(Isobj[-7:-1:2])\n",
    "print(Isobj[:8:2])\n",
    "print(Isobj[::3])\n",
    "print(Isobj[::-3])"
   ]
  },
  {
   "cell_type": "markdown",
   "metadata": {},
   "source": [
    "## immutable 과 mutable?"
   ]
  },
  {
   "cell_type": "code",
   "execution_count": 36,
   "metadata": {},
   "outputs": [
    {
     "name": "stdout",
     "output_type": "stream",
     "text": [
      "1806086016624\n",
      "1806086016176\n"
     ]
    }
   ],
   "source": [
    "A=261522\n",
    "print(id(A))\n",
    "A=4732\n",
    "print(id(A))"
   ]
  },
  {
   "cell_type": "code",
   "execution_count": 39,
   "metadata": {},
   "outputs": [
    {
     "name": "stdout",
     "output_type": "stream",
     "text": [
      "1806086016176\n",
      "1806085310920 1806085310920\n"
     ]
    }
   ],
   "source": [
    "A=261522\n",
    "print(id(A))\n",
    "A=4732\n",
    "A=B\n",
    "print(id(A),id(B))"
   ]
  },
  {
   "cell_type": "code",
   "execution_count": 38,
   "metadata": {},
   "outputs": [
    {
     "name": "stdout",
     "output_type": "stream",
     "text": [
      "1806086016144\n",
      "1806086016624 1806085310920\n"
     ]
    }
   ],
   "source": [
    "A=261522\n",
    "print(id(A))\n",
    "A=4732\n",
    "A=B\n",
    "A=328495\n",
    "print(id(A),id(B))"
   ]
  },
  {
   "cell_type": "code",
   "execution_count": 40,
   "metadata": {},
   "outputs": [
    {
     "name": "stdout",
     "output_type": "stream",
     "text": [
      "ID : 1806085309000\t[3, 2, 5, 6, 4]\n"
     ]
    }
   ],
   "source": [
    "Isobj=[3,2,5,6,4]\n",
    "print(\"ID : {0}\\t{1}\".format(id(Isobj),Isobj))"
   ]
  },
  {
   "cell_type": "markdown",
   "metadata": {},
   "source": [
    "### 리스트의 데이터 수정"
   ]
  },
  {
   "cell_type": "code",
   "execution_count": 47,
   "metadata": {},
   "outputs": [
    {
     "name": "stdout",
     "output_type": "stream",
     "text": [
      "ID : 1806086051656\t[3, 2, 5, 6, 4]\n",
      "ID : 1806086051656\t[3, 2, 372638, 6, 4]\n",
      "ID : 1806086051656\t[123, 456, 372638, 6, 4]\n",
      "ID : 1806086051656\t[123, 99999, 4]\n"
     ]
    }
   ],
   "source": [
    "Isobj=[3,2,5,6,4]\n",
    "print(\"ID : {0}\\t{1}\".format(id(Isobj),Isobj))\n",
    "Isobj[2]=372638 # 인덱싱을 이용한 원소 수정\n",
    "print(\"ID : {0}\\t{1}\".format(id(Isobj),Isobj))\n",
    "Isobj[:2]=[123,456] # 슬라이싱을 이용하여 여러 개의 원소를 수정\n",
    "print(\"ID : {0}\\t{1}\".format(id(Isobj),Isobj))\n",
    "Isobj[1:4]=[99999] #하나의 값을 넣을때도 여러 개를 덮어쓸때는 iterable한 자료유형으로 덮어써야함. \n",
    "print(\"ID : {0}\\t{1}\".format(id(Isobj),Isobj))"
   ]
  },
  {
   "cell_type": "code",
   "execution_count": 49,
   "metadata": {},
   "outputs": [
    {
     "ename": "TypeError",
     "evalue": "can only assign an iterable",
     "output_type": "error",
     "traceback": [
      "\u001b[1;31m---------------------------------------------------------------------------\u001b[0m",
      "\u001b[1;31mTypeError\u001b[0m                                 Traceback (most recent call last)",
      "\u001b[1;32m<ipython-input-49-8506ec597f44>\u001b[0m in \u001b[0;36m<module>\u001b[1;34m\u001b[0m\n\u001b[0;32m      1\u001b[0m \u001b[0mIsobj\u001b[0m\u001b[1;33m=\u001b[0m\u001b[1;33m[\u001b[0m\u001b[1;36m3\u001b[0m\u001b[1;33m,\u001b[0m\u001b[1;36m2\u001b[0m\u001b[1;33m,\u001b[0m\u001b[1;36m5\u001b[0m\u001b[1;33m,\u001b[0m\u001b[1;36m6\u001b[0m\u001b[1;33m,\u001b[0m\u001b[1;36m4\u001b[0m\u001b[1;33m]\u001b[0m\u001b[1;33m\u001b[0m\u001b[1;33m\u001b[0m\u001b[0m\n\u001b[1;32m----> 2\u001b[1;33m \u001b[0mIsobj\u001b[0m\u001b[1;33m[\u001b[0m\u001b[1;36m1\u001b[0m\u001b[1;33m:\u001b[0m\u001b[1;36m4\u001b[0m\u001b[1;33m]\u001b[0m\u001b[1;33m=\u001b[0m\u001b[1;36m99999\u001b[0m \u001b[1;31m#하나의 값을 넣을때도 여러개를 덮어쓸때는 iterable한 자료유형으로 덮어써야함.\u001b[0m\u001b[1;33m\u001b[0m\u001b[1;33m\u001b[0m\u001b[0m\n\u001b[0m\u001b[0;32m      3\u001b[0m \u001b[0mprint\u001b[0m\u001b[1;33m(\u001b[0m\u001b[1;34m\"ID : {0}\\t{1}\"\u001b[0m\u001b[1;33m.\u001b[0m\u001b[0mformat\u001b[0m\u001b[1;33m(\u001b[0m\u001b[0mid\u001b[0m\u001b[1;33m(\u001b[0m\u001b[0mIsobj\u001b[0m\u001b[1;33m)\u001b[0m\u001b[1;33m,\u001b[0m\u001b[0mIsobj\u001b[0m\u001b[1;33m)\u001b[0m\u001b[1;33m)\u001b[0m\u001b[1;33m\u001b[0m\u001b[1;33m\u001b[0m\u001b[0m\n",
      "\u001b[1;31mTypeError\u001b[0m: can only assign an iterable"
     ]
    }
   ],
   "source": [
    "Isobj=[3,2,5,6,4]\n",
    "Isobj[1:4]=99999 #하나의 값을 넣을때도 여러개를 덮어쓸때는 iterable한 자료유형으로 덮어써야함. \n",
    "print(\"ID : {0}\\t{1}\".format(id(Isobj),Isobj))"
   ]
  },
  {
   "cell_type": "markdown",
   "metadata": {},
   "source": [
    "## 리스트 연산"
   ]
  },
  {
   "cell_type": "code",
   "execution_count": 50,
   "metadata": {
    "scrolled": true
   },
   "outputs": [
    {
     "name": "stdout",
     "output_type": "stream",
     "text": [
      "[3, 2, 5, 6, 4, 22, 546, 342]\n",
      "[22, 546, 342, 22, 546, 342, 22, 546, 342]\n",
      "[3, 2, 5, 6, 4, 22, 546, 342]\n",
      "[3, 2, 5, 6, 4, 3, 2, 5, 6, 4, 3, 2, 5, 6, 4]\n",
      "[3, 2, 5, 6, 4, 22, 546, 342]\n",
      "[22, 546, 342, 22, 546, 342, 22, 546, 342, 22, 546, 342]\n"
     ]
    }
   ],
   "source": [
    "ls1=[3,2,5,6,4]\n",
    "ls2=[22,546,342]\n",
    "print(ls1+ls2) \n",
    "print(ls2*3)\n",
    "\n",
    "ls3=ls1+ls2 #ls1과 ls2를 결합한 리스트 ls3 생성\n",
    "print(ls3)\n",
    "\n",
    "ls4=ls1*3 #ls1을 3번 반복한 리스트 ls4 생성\n",
    "print(ls4)\n",
    "\n",
    "ls1+=ls2 #ls1과 ls2를 결합하여 ls1에 대입\n",
    "print(ls1) # print(ls1+=ls2)는 오류발생\n",
    "\n",
    "ls2*=4 # ls2를 4번 반복하여 ls2에 대입\n",
    "print(ls2)"
   ]
  },
  {
   "cell_type": "code",
   "execution_count": 51,
   "metadata": {},
   "outputs": [
    {
     "name": "stdout",
     "output_type": "stream",
     "text": [
      "True True False True\n"
     ]
    }
   ],
   "source": [
    "lsobj=[2,3,7,1,5,105,33,False,\"Python\"]\n",
    "print(105 in lsobj, True in lsobj, \"python\" in lsobj, 100 not in lsobj)\n",
    "print(lsobj)"
   ]
  },
  {
   "cell_type": "code",
   "execution_count": 52,
   "metadata": {},
   "outputs": [
    {
     "name": "stdout",
     "output_type": "stream",
     "text": [
      "[2, 3, 7, 5, 105, 33, False, 'Python']\n",
      "[2, 7, 5, 33, False]\n"
     ]
    },
    {
     "ename": "NameError",
     "evalue": "name 'lsobj' is not defined",
     "output_type": "error",
     "traceback": [
      "\u001b[1;31m---------------------------------------------------------------------------\u001b[0m",
      "\u001b[1;31mNameError\u001b[0m                                 Traceback (most recent call last)",
      "\u001b[1;32m<ipython-input-52-5d9c06898ac4>\u001b[0m in \u001b[0;36m<module>\u001b[1;34m\u001b[0m\n\u001b[0;32m      6\u001b[0m \u001b[1;33m\u001b[0m\u001b[0m\n\u001b[0;32m      7\u001b[0m \u001b[1;32mdel\u001b[0m \u001b[0mlsobj\u001b[0m \u001b[1;31m#리스트 삭제(삭제된 리스트를 사용하려면 NameError 발생)\u001b[0m\u001b[1;33m\u001b[0m\u001b[1;33m\u001b[0m\u001b[0m\n\u001b[1;32m----> 8\u001b[1;33m \u001b[0mlsobj\u001b[0m\u001b[1;33m\u001b[0m\u001b[1;33m\u001b[0m\u001b[0m\n\u001b[0m",
      "\u001b[1;31mNameError\u001b[0m: name 'lsobj' is not defined"
     ]
    }
   ],
   "source": [
    "del lsobj[3] #인덱싱을 이용한 원소 삭제\n",
    "print(lsobj)\n",
    "\n",
    "del lsobj[1:8:3] #슬라이싱을 이용한 원소 삭\n",
    "print(lsobj)\n",
    "\n",
    "del lsobj #리스트 삭제(삭제된 리스트를 사용하려면 NameError 발생)\n",
    "lsobj"
   ]
  },
  {
   "cell_type": "code",
   "execution_count": 66,
   "metadata": {},
   "outputs": [
    {
     "data": {
      "text/plain": [
       "(7, 3, 201, 588, 84.0)"
      ]
     },
     "execution_count": 66,
     "metadata": {},
     "output_type": "execute_result"
    }
   ],
   "source": [
    "lsobj=[201,3,71,25,105,33,150]\n",
    "len(lsobj), min(lsobj), max(lsobj), sum(lsobj),sum(lsobj)/len(lsobj)"
   ]
  },
  {
   "cell_type": "code",
   "execution_count": 62,
   "metadata": {},
   "outputs": [
    {
     "data": {
      "text/plain": [
       "([201, 3, 71, 25, 105, 33, 150],\n",
       " [3, 25, 33, 71, 105, 150, 201],\n",
       " <list_reverseiterator at 0x1a4831ea2b0>,\n",
       " [150, 33, 105, 25, 71, 3, 201])"
      ]
     },
     "execution_count": 62,
     "metadata": {},
     "output_type": "execute_result"
    }
   ],
   "source": [
    "stls=sorted(lsobj) # 오름차순 정렬\n",
    "reobj=reversed(lsobj) # 원소를 역순으로 바꿈\n",
    "revis=list(reobj) # reversed는 객체이므로 list로 다시 만들어줘야\n",
    "lsobj, stls, reobj, revis"
   ]
  },
  {
   "cell_type": "code",
   "execution_count": 65,
   "metadata": {},
   "outputs": [
    {
     "data": {
      "text/plain": [
       "([4, 6, 5, 3, 2], [4, 6, 5, 3, 2])"
      ]
     },
     "execution_count": 65,
     "metadata": {},
     "output_type": "execute_result"
    }
   ],
   "source": [
    "lsobj1=[2,3,5,6,4]\n",
    "rr=reversed(lsobj1)\n",
    "list(rr), lsobj1[::-1] #역순 동일"
   ]
  },
  {
   "cell_type": "markdown",
   "metadata": {},
   "source": [
    "### 리스트 메소드"
   ]
  },
  {
   "cell_type": "code",
   "execution_count": 67,
   "metadata": {},
   "outputs": [
    {
     "data": {
      "text/plain": [
       "[4, 6, 5, 4, 7, 7]"
      ]
     },
     "execution_count": 67,
     "metadata": {},
     "output_type": "execute_result"
    }
   ],
   "source": [
    "A=[4,6,5,4,7]\n",
    "A.append(7) # 맨마지막에 7추가\n",
    "A"
   ]
  },
  {
   "cell_type": "code",
   "execution_count": 70,
   "metadata": {},
   "outputs": [
    {
     "data": {
      "text/plain": [
       "([4, 6, 5, 4, 7, 7], [4, 6, 5, 4, 7, 7, 234, 678])"
      ]
     },
     "execution_count": 70,
     "metadata": {},
     "output_type": "execute_result"
    }
   ],
   "source": [
    "A=[4,6,5,4,7]\n",
    "A.append(7) \n",
    "B=A+[234,678]\n",
    "A,B"
   ]
  },
  {
   "cell_type": "code",
   "execution_count": 71,
   "metadata": {},
   "outputs": [
    {
     "data": {
      "text/plain": [
       "([4, 6, 5, 4, 7, 7, 234, 678], [4, 6, 5, 4, 7, 7, 234, 678])"
      ]
     },
     "execution_count": 71,
     "metadata": {},
     "output_type": "execute_result"
    }
   ],
   "source": [
    "A=[4,6,5,4,7]\n",
    "A.append(7) \n",
    "B=A+[234,678]\n",
    "A+=[234,678]\n",
    "A,B"
   ]
  },
  {
   "cell_type": "code",
   "execution_count": 78,
   "metadata": {},
   "outputs": [
    {
     "data": {
      "text/plain": [
       "[2, 8, 7, 9, 7, [100, 200]]"
      ]
     },
     "execution_count": 78,
     "metadata": {},
     "output_type": "execute_result"
    }
   ],
   "source": [
    "L=[2,8,7,9]\n",
    "L.append(7)\n",
    "L.append([100,200]) # 맨 마지막에 리스트 [100,200] 추가\n",
    "L"
   ]
  },
  {
   "cell_type": "code",
   "execution_count": 79,
   "metadata": {},
   "outputs": [
    {
     "data": {
      "text/plain": [
       "[2, 8, 100, 7, 9, 7, [100, 200]]"
      ]
     },
     "execution_count": 79,
     "metadata": {},
     "output_type": "execute_result"
    }
   ],
   "source": [
    "L.insert(2,100) # index 2 위치에 100 추가\n",
    "L"
   ]
  },
  {
   "cell_type": "code",
   "execution_count": 90,
   "metadata": {},
   "outputs": [
    {
     "data": {
      "text/plain": [
       "[100, 94, 23, 85, 81, 76]"
      ]
     },
     "execution_count": 90,
     "metadata": {},
     "output_type": "execute_result"
    }
   ],
   "source": [
    "L=[100,94,23,85]\n",
    "L.extend([81,76]) # 리스트 연결\n",
    "L"
   ]
  },
  {
   "cell_type": "code",
   "execution_count": 75,
   "metadata": {},
   "outputs": [
    {
     "data": {
      "text/plain": [
       "(None, None)"
      ]
     },
     "execution_count": 75,
     "metadata": {},
     "output_type": "execute_result"
    }
   ],
   "source": [
    "L.append(999), L.extend([999]) # extend의 경우 숫자로 들어가면 안됨. iterable한 자료로 들어가야"
   ]
  },
  {
   "cell_type": "code",
   "execution_count": 91,
   "metadata": {},
   "outputs": [
    {
     "data": {
      "text/plain": [
       "[100, 94, 23, 85, 'P', 'y', 't', 'h', 'o', 'n']"
      ]
     },
     "execution_count": 91,
     "metadata": {},
     "output_type": "execute_result"
    }
   ],
   "source": [
    "L=[100,94,23,85]\n",
    "L.extend(\"Python\") # 문자열은 각각 문자를 분해하여 연결\n",
    "L"
   ]
  },
  {
   "cell_type": "code",
   "execution_count": 92,
   "metadata": {},
   "outputs": [
    {
     "data": {
      "text/plain": [
       "[100, 94, 23, 85, 71, 66]"
      ]
     },
     "execution_count": 92,
     "metadata": {},
     "output_type": "execute_result"
    }
   ],
   "source": [
    "L=[100,94,23,85]\n",
    "L.extend((71,66)) # 튜플 연결\n",
    "L"
   ]
  },
  {
   "cell_type": "code",
   "execution_count": 95,
   "metadata": {},
   "outputs": [
    {
     "data": {
      "text/plain": [
       "[100, 94, 23, 85, 81, 92, 60]"
      ]
     },
     "execution_count": 95,
     "metadata": {},
     "output_type": "execute_result"
    }
   ],
   "source": [
    "L=[100,94,23,85]\n",
    "L.extend({81,92,60}) # 집합 연결(순서 개념이 없음)\n",
    "L"
   ]
  },
  {
   "cell_type": "code",
   "execution_count": 96,
   "metadata": {},
   "outputs": [
    {
     "data": {
      "text/plain": [
       "[100, 94, 23, 85, 'Kim', 'Lee']"
      ]
     },
     "execution_count": 96,
     "metadata": {},
     "output_type": "execute_result"
    }
   ],
   "source": [
    "L=[100,94,23,85]\n",
    "L.extend({\"Kim\":\"78\",\"Lee\":\"90\"}) # 사전 연결(\"키\"만 연결)\n",
    "L"
   ]
  },
  {
   "cell_type": "code",
   "execution_count": 81,
   "metadata": {},
   "outputs": [
    {
     "data": {
      "text/plain": [
       "999"
      ]
     },
     "execution_count": 81,
     "metadata": {},
     "output_type": "execute_result"
    }
   ],
   "source": [
    "A=[4,6,5,4,7]\n",
    "A.append(999)\n",
    "A.pop() # 마지막 인덱스 자료 삭제하고 반환"
   ]
  },
  {
   "cell_type": "code",
   "execution_count": 82,
   "metadata": {},
   "outputs": [
    {
     "data": {
      "text/plain": [
       "(4, [4, 6, 5, 7, 999])"
      ]
     },
     "execution_count": 82,
     "metadata": {},
     "output_type": "execute_result"
    }
   ],
   "source": [
    "A=[4,6,5,4,7]\n",
    "A.append(999)\n",
    "A.pop(3), A"
   ]
  },
  {
   "cell_type": "code",
   "execution_count": 83,
   "metadata": {},
   "outputs": [
    {
     "data": {
      "text/plain": [
       "[6, 5, 4, 7, 999]"
      ]
     },
     "execution_count": 83,
     "metadata": {},
     "output_type": "execute_result"
    }
   ],
   "source": [
    "A=[4,6,5,4,7]\n",
    "A.append(999)\n",
    "A.remove(4) # 4처음나오는것삭제\n",
    "A"
   ]
  },
  {
   "cell_type": "code",
   "execution_count": 84,
   "metadata": {},
   "outputs": [
    {
     "data": {
      "text/plain": [
       "[]"
      ]
     },
     "execution_count": 84,
     "metadata": {},
     "output_type": "execute_result"
    }
   ],
   "source": [
    "A=[4,6,5,4,7]\n",
    "A.append(999)\n",
    "A.clear() #리스트가 있던것 다 지움\n",
    "A # 빈리스트"
   ]
  },
  {
   "cell_type": "code",
   "execution_count": 89,
   "metadata": {},
   "outputs": [
    {
     "name": "stdout",
     "output_type": "stream",
     "text": [
      " A ID : 1806086183176\tB ID : 1806086183176\n",
      " A : [4, 6, 5, 4, 7]\tB : [4, 6, 5, 4, 7]\n",
      " A ID : 1806086183176\tB ID : 1806086183176\n",
      " A : [4, 6, 10000, 4, 7]\tB : [4, 6, 10000, 4, 7]\n"
     ]
    }
   ],
   "source": [
    "A=[4,6,5,4,7]\n",
    "B=A\n",
    "print(\" A ID : {0}\\tB ID : {0}\".format(id(A), id(B)))\n",
    "print(\" A : {0}\\tB : {1}\".format(A, B))\n",
    "A[2]=10000\n",
    "print(\" A ID : {0}\\tB ID : {0}\".format(id(A), id(B))) # 같은 메모리 주소를 공유하고 있으므로 동일하게 수정\n",
    "print(\" A : {0}\\tB : {1}\".format(A, B))"
   ]
  },
  {
   "cell_type": "code",
   "execution_count": 97,
   "metadata": {},
   "outputs": [
    {
     "name": "stdout",
     "output_type": "stream",
     "text": [
      " A ID : 1806086184008\tB ID : 1806086184008\n",
      " A : [7, 3, 6, 3, 5, 9]\tB : [7, 3, 6, 3, 5, 9]\n",
      " C ID : 1806086181448\tD ID : 1806086181448\n",
      " C : [7, 3, 6, 3, 5, 9]\tD : [7, 3, 6, 3, 5, 9]\n"
     ]
    }
   ],
   "source": [
    "A=[7,3,6,3,5,9]\n",
    "B=A\n",
    "C=A.copy() # copy 메소드를 이용하여 생성\n",
    "D=A[:]  # 인덱싱을 이용하여 생성\n",
    "print(\" A ID : {0}\\tB ID : {0}\".format(id(A), id(B)))\n",
    "print(\" A : {0}\\tB : {1}\".format(A, B))\n",
    "print(\" C ID : {0}\\tD ID : {0}\".format(id(C), id(D)))\n",
    "print(\" C : {0}\\tD : {1}\".format(C, D))"
   ]
  },
  {
   "cell_type": "code",
   "execution_count": 98,
   "metadata": {},
   "outputs": [
    {
     "name": "stdout",
     "output_type": "stream",
     "text": [
      " A ID : 1806086219016\tB ID : 1806086219016\n",
      " A : [7, 3, 6, 483737373, 5, 9]\tB : [7, 3, 6, 483737373, 5, 9]\n",
      " C ID : 1806086183432\tD ID : 1806086183432\n",
      " C : [7, 3, 6, 3, 5, 9]\tD : [7, 3, 6, 3, 5, 9]\n"
     ]
    }
   ],
   "source": [
    "A=[7,3,6,3,5,9]\n",
    "B=A\n",
    "C=A.copy() # copy 메소드를 이용하여 생성\n",
    "D=A[:]  # 인덱싱을 이용하여 생성\n",
    "A[3]=483737373\n",
    "print(\" A ID : {0}\\tB ID : {0}\".format(id(A), id(B)))\n",
    "print(\" A : {0}\\tB : {1}\".format(A, B))\n",
    "print(\" C ID : {0}\\tD ID : {0}\".format(id(C), id(D)))\n",
    "print(\" C : {0}\\tD : {1}\".format(C, D))"
   ]
  },
  {
   "cell_type": "code",
   "execution_count": 99,
   "metadata": {},
   "outputs": [
    {
     "data": {
      "text/plain": [
       "2"
      ]
     },
     "execution_count": 99,
     "metadata": {},
     "output_type": "execute_result"
    }
   ],
   "source": [
    "A=[7,3,6,3,5,9]\n",
    "A.count(3) # 3의 갯수 세기"
   ]
  },
  {
   "cell_type": "code",
   "execution_count": 100,
   "metadata": {},
   "outputs": [
    {
     "data": {
      "text/plain": [
       "1"
      ]
     },
     "execution_count": 100,
     "metadata": {},
     "output_type": "execute_result"
    }
   ],
   "source": [
    "A.index(3) # 3이 처음 나오는 인덱스"
   ]
  },
  {
   "cell_type": "code",
   "execution_count": 101,
   "metadata": {},
   "outputs": [
    {
     "data": {
      "text/plain": [
       "3"
      ]
     },
     "execution_count": 101,
     "metadata": {},
     "output_type": "execute_result"
    }
   ],
   "source": [
    "A.index(3,2) # A[2:]에서 3이 처음 나오는 인덱스"
   ]
  },
  {
   "cell_type": "code",
   "execution_count": 105,
   "metadata": {},
   "outputs": [
    {
     "data": {
      "text/plain": [
       "[0, 10, 9, 6, 4, 8, 3]"
      ]
     },
     "execution_count": 105,
     "metadata": {},
     "output_type": "execute_result"
    }
   ],
   "source": [
    "IS=[3,8,4,6,9,10,0]\n",
    "IS.reverse() # 역순으로 변경\n",
    "IS"
   ]
  },
  {
   "cell_type": "code",
   "execution_count": 106,
   "metadata": {},
   "outputs": [
    {
     "data": {
      "text/plain": [
       "[0, 3, 4, 6, 8, 9, 10]"
      ]
     },
     "execution_count": 106,
     "metadata": {},
     "output_type": "execute_result"
    }
   ],
   "source": [
    "IS=[3,8,4,6,9,10,0]\n",
    "IS.sort() # 오름차순 정렬\n",
    "IS"
   ]
  },
  {
   "cell_type": "code",
   "execution_count": 107,
   "metadata": {},
   "outputs": [
    {
     "data": {
      "text/plain": [
       "[9, 8, 8, 4, -3, -6, -10]"
      ]
     },
     "execution_count": 107,
     "metadata": {},
     "output_type": "execute_result"
    }
   ],
   "source": [
    "Is=[-3,8,4,-6,9,-10,8]\n",
    "Is.sort(reverse=True) # 내림차순 정렬\n",
    "Is"
   ]
  },
  {
   "cell_type": "code",
   "execution_count": 108,
   "metadata": {},
   "outputs": [
    {
     "data": {
      "text/plain": [
       "['c++', 'java', 'python', 'r']"
      ]
     },
     "execution_count": 108,
     "metadata": {},
     "output_type": "execute_result"
    }
   ],
   "source": [
    "Is=[\"python\",\"r\",\"java\",\"c++\"]\n",
    "Is.sort() # 문자열은 아스키코드로 정렬\n",
    "Is"
   ]
  },
  {
   "cell_type": "code",
   "execution_count": 109,
   "metadata": {},
   "outputs": [
    {
     "data": {
      "text/plain": [
       "[-3, 4, -6, 8, 8, 9, -10]"
      ]
     },
     "execution_count": 109,
     "metadata": {},
     "output_type": "execute_result"
    }
   ],
   "source": [
    "Is=[-3,8,4,-6,9,-10,8]\n",
    "Is.sort(key=abs) # 절댓값으로 정렬(\"key=함수명\"으로 각 원소의 함수 결과로 정렬)\n",
    "Is "
   ]
  },
  {
   "cell_type": "code",
   "execution_count": 110,
   "metadata": {},
   "outputs": [
    {
     "data": {
      "text/plain": [
       "['python', 'java', 'c++', 'r']"
      ]
     },
     "execution_count": 110,
     "metadata": {},
     "output_type": "execute_result"
    }
   ],
   "source": [
    "Is=[\"python\",\"r\",\"java\",\"c++\"]\n",
    "Is.sort(key=len,reverse=True) # 문자열 길이로 내림차순 정렬\n",
    "Is"
   ]
  },
  {
   "cell_type": "markdown",
   "metadata": {},
   "source": [
    "## 리스트 안의 리스트"
   ]
  },
  {
   "cell_type": "code",
   "execution_count": 111,
   "metadata": {},
   "outputs": [
    {
     "data": {
      "text/plain": [
       "[[3, 8, 4, 6, 9, 10, 8], [3, 6, 8, 3, 6, 7], [4, 3, 6, 8, 0, 2, 3, 2]]"
      ]
     },
     "execution_count": 111,
     "metadata": {},
     "output_type": "execute_result"
    }
   ],
   "source": [
    "ls=[[3,8,4,6,9,10,8],\n",
    "   [3,6,8,3,6,7],\n",
    "   [4,3,6,8,0,2,3,2]]\n",
    "ls"
   ]
  },
  {
   "cell_type": "code",
   "execution_count": 112,
   "metadata": {},
   "outputs": [
    {
     "data": {
      "text/plain": [
       "[3, 6]"
      ]
     },
     "execution_count": 112,
     "metadata": {},
     "output_type": "execute_result"
    }
   ],
   "source": [
    "ls[1][3:5] #0부터 숫자세는 것. 3,4를 뽑아내면"
   ]
  },
  {
   "cell_type": "code",
   "execution_count": 114,
   "metadata": {},
   "outputs": [
    {
     "data": {
      "text/plain": [
       "[6.857142857142857, 5.5, 3.5]"
      ]
     },
     "execution_count": 114,
     "metadata": {},
     "output_type": "execute_result"
    }
   ],
   "source": [
    "avg=[]\n",
    "for i in range(len(ls)) :\n",
    "    avg.append(sum(ls[i])/len(ls[i])) # ls 리스트의 각 index 원소별 평균\n",
    "avg"
   ]
  },
  {
   "cell_type": "code",
   "execution_count": 115,
   "metadata": {},
   "outputs": [
    {
     "data": {
      "text/plain": [
       "[6.857142857142857, 5.5, 3.5]"
      ]
     },
     "execution_count": 115,
     "metadata": {},
     "output_type": "execute_result"
    }
   ],
   "source": [
    "avg=[]\n",
    "for i in range(len(ls)) : # 이렇게도 할 수 잇으나 메모리를 더 잡아먹으므로 비추\n",
    "    tmp=sum(ls[i])/len(ls[i])\n",
    "    avg.append(tmp) \n",
    "avg"
   ]
  },
  {
   "cell_type": "markdown",
   "metadata": {},
   "source": [
    "## 튜플"
   ]
  },
  {
   "cell_type": "code",
   "execution_count": 116,
   "metadata": {},
   "outputs": [
    {
     "data": {
      "text/plain": [
       "(345, 463, 463)"
      ]
     },
     "execution_count": 116,
     "metadata": {},
     "output_type": "execute_result"
    }
   ],
   "source": [
    "A=345; B=463; C=463\n",
    "A, B, C # 괄호를 생략한 튜플"
   ]
  },
  {
   "cell_type": "code",
   "execution_count": 119,
   "metadata": {},
   "outputs": [
    {
     "name": "stdout",
     "output_type": "stream",
     "text": [
      "tp1 type : <class 'tuple'>\t(3, 5, 7, 1)\n",
      "tp2 type : <class 'tuple'>\t(3, 5, 7, 1)\n"
     ]
    }
   ],
   "source": [
    "tp1=(3,5,7,1); tp2=3,5,7,1\n",
    "print(\"tp1 type : {0}\\t{1}\\ntp2 type : {2}\\t{3}\".format(type(tp1),tp1,type(tp2),tp2))"
   ]
  },
  {
   "cell_type": "code",
   "execution_count": 120,
   "metadata": {},
   "outputs": [
    {
     "name": "stdout",
     "output_type": "stream",
     "text": [
      "tp1 type : <class 'int'>\ttp2 type : <class 'tuple'>\n"
     ]
    }
   ],
   "source": [
    "tp1=(3); tp2=(3,) # 쉼표는 필수\n",
    "print(\"tp1 type : {0}\\ttp2 type : {1}\".format(type(tp1),type(tp2)))"
   ]
  },
  {
   "cell_type": "code",
   "execution_count": 121,
   "metadata": {},
   "outputs": [
    {
     "name": "stdout",
     "output_type": "stream",
     "text": [
      "tp1 type : <class 'list'>\ttp2 type : <class 'tuple'>\n"
     ]
    }
   ],
   "source": [
    "tp1=([25,78,52]); tp2=[25,78,52], #쉼표에 따라 자료 형태 달라\n",
    "print(\"tp1 type : {0}\\ttp2 type : {1}\".format(type(tp1),type(tp2)))"
   ]
  },
  {
   "cell_type": "code",
   "execution_count": 124,
   "metadata": {},
   "outputs": [
    {
     "ename": "TypeError",
     "evalue": "'tuple' object does not support item assignment",
     "output_type": "error",
     "traceback": [
      "\u001b[1;31m---------------------------------------------------------------------------\u001b[0m",
      "\u001b[1;31mTypeError\u001b[0m                                 Traceback (most recent call last)",
      "\u001b[1;32m<ipython-input-124-c62d2452614d>\u001b[0m in \u001b[0;36m<module>\u001b[1;34m\u001b[0m\n\u001b[0;32m      1\u001b[0m \u001b[0mA\u001b[0m\u001b[1;33m=\u001b[0m\u001b[1;33m(\u001b[0m\u001b[1;33m[\u001b[0m\u001b[1;36m345\u001b[0m\u001b[1;33m,\u001b[0m\u001b[1;36m345\u001b[0m\u001b[1;33m,\u001b[0m\u001b[1;36m222\u001b[0m\u001b[1;33m,\u001b[0m\u001b[1;36m9999\u001b[0m\u001b[1;33m]\u001b[0m\u001b[1;33m,\u001b[0m\u001b[1;33m)\u001b[0m\u001b[1;33m\u001b[0m\u001b[1;33m\u001b[0m\u001b[0m\n\u001b[1;32m----> 2\u001b[1;33m \u001b[0mA\u001b[0m\u001b[1;33m[\u001b[0m\u001b[1;36m0\u001b[0m\u001b[1;33m]\u001b[0m\u001b[1;33m=\u001b[0m\u001b[1;33m[\u001b[0m\u001b[1;36m365\u001b[0m\u001b[1;33m,\u001b[0m\u001b[1;36m555\u001b[0m\u001b[1;33m]\u001b[0m \u001b[1;31m# 튜플원소자체는 못바꿈\u001b[0m\u001b[1;33m\u001b[0m\u001b[1;33m\u001b[0m\u001b[0m\n\u001b[0m\u001b[0;32m      3\u001b[0m \u001b[0mA\u001b[0m\u001b[1;33m\u001b[0m\u001b[1;33m\u001b[0m\u001b[0m\n",
      "\u001b[1;31mTypeError\u001b[0m: 'tuple' object does not support item assignment"
     ]
    }
   ],
   "source": [
    "A=([345,345,222,9999],)\n",
    "A[0]=[365,555] # 튜플원소자체는 못바꿈\n",
    "A"
   ]
  },
  {
   "cell_type": "code",
   "execution_count": 125,
   "metadata": {},
   "outputs": [
    {
     "data": {
      "text/plain": [
       "([345, 365, 555, 9999],)"
      ]
     },
     "execution_count": 125,
     "metadata": {},
     "output_type": "execute_result"
    }
   ],
   "source": [
    "A=([345,345,222,9999],)\n",
    "A[0][1:3]=[365,555] # 원소의 원소가 list이므로 바꿀 수 있음\n",
    "A"
   ]
  },
  {
   "cell_type": "markdown",
   "metadata": {},
   "source": [
    "### tuple함수"
   ]
  },
  {
   "cell_type": "code",
   "execution_count": 127,
   "metadata": {},
   "outputs": [
    {
     "name": "stdout",
     "output_type": "stream",
     "text": [
      "('T', 'h', 'e', ' ', 'd', 'o', 'o', 'r', 's')\n"
     ]
    }
   ],
   "source": [
    "band=\"The doors\" #문자열\n",
    "tp1=tuple(band)\n",
    "print(tp1)"
   ]
  },
  {
   "cell_type": "code",
   "execution_count": 128,
   "metadata": {},
   "outputs": [
    {
     "name": "stdout",
     "output_type": "stream",
     "text": [
      "(25, 33, 47, 5)\n"
     ]
    }
   ],
   "source": [
    "ls=[25,33,47,5] # 리스트\n",
    "tp2=tuple(ls)\n",
    "print(tp2)"
   ]
  },
  {
   "cell_type": "code",
   "execution_count": 129,
   "metadata": {},
   "outputs": [
    {
     "name": "stdout",
     "output_type": "stream",
     "text": [
      "(96, 32, 2, 75, 47, 25)\n"
     ]
    }
   ],
   "source": [
    "st={25,75,96,32,47,2} # 집합\n",
    "tp3=tuple(st) # 집합은 순서의 개념이 없어 저장 순서가 다를 수 있음\n",
    "print(tp3)"
   ]
  },
  {
   "cell_type": "code",
   "execution_count": 130,
   "metadata": {},
   "outputs": [],
   "source": [
    "dic={\"서울\":\"02\",\"경기\":\"031\",}"
   ]
  },
  {
   "cell_type": "code",
   "execution_count": 132,
   "metadata": {},
   "outputs": [
    {
     "name": "stdout",
     "output_type": "stream",
     "text": [
      "1806086140360 [3, 4, 5]\n",
      "1806086140360 [3, 4, 5, 4, 3, 5, 33]\n"
     ]
    }
   ],
   "source": [
    "A=[3,4,5] #리스트\n",
    "B=[4,3,5,33]\n",
    "print(id(A),A)\n",
    "A+=B\n",
    "print(id(A),A)"
   ]
  },
  {
   "cell_type": "code",
   "execution_count": 133,
   "metadata": {
    "scrolled": true
   },
   "outputs": [
    {
     "name": "stdout",
     "output_type": "stream",
     "text": [
      "1806086057776 (3, 4, 5)\n",
      "1806083187904 (3, 4, 5, 4, 3, 5, 33)\n"
     ]
    }
   ],
   "source": [
    "A=(3,4,5) #튜플\n",
    "B=(4,3,5,33)\n",
    "print(id(A),A)\n",
    "A+=B\n",
    "print(id(A),A)"
   ]
  },
  {
   "cell_type": "markdown",
   "metadata": {},
   "source": [
    "## 집합"
   ]
  },
  {
   "cell_type": "code",
   "execution_count": 135,
   "metadata": {},
   "outputs": [
    {
     "name": "stdout",
     "output_type": "stream",
     "text": [
      "{3, 4, 5}\n",
      "[3, 4, 5, 5, 4, 3, 3, 3]\n"
     ]
    }
   ],
   "source": [
    "A={3,4,5,5,4,3,3,3}\n",
    "B=[3,4,5,5,4,3,3,3]\n",
    "print(A) # 중복된값 저장 불가\n",
    "print(B)"
   ]
  },
  {
   "cell_type": "code",
   "execution_count": 136,
   "metadata": {},
   "outputs": [
    {
     "name": "stdout",
     "output_type": "stream",
     "text": [
      "<class 'dict'> <class 'set'>\n"
     ]
    }
   ],
   "source": [
    "A={}\n",
    "B=set()\n",
    "print(type(A),type(B))"
   ]
  },
  {
   "cell_type": "code",
   "execution_count": 137,
   "metadata": {},
   "outputs": [
    {
     "name": "stdout",
     "output_type": "stream",
     "text": [
      "<class 'set'> {(3, 6, 3, 4, 4, 4, 55), 34, 'A'}\n"
     ]
    }
   ],
   "source": [
    "A=[3,4,6,4,7,7]\n",
    "B=(3,6,3,4,4,4,55)\n",
    "C={B,34,\"A\"} #A는 문자임..\n",
    "print(type(C),C)"
   ]
  },
  {
   "cell_type": "code",
   "execution_count": 138,
   "metadata": {},
   "outputs": [
    {
     "ename": "TypeError",
     "evalue": "unhashable type: 'list'",
     "output_type": "error",
     "traceback": [
      "\u001b[1;31m---------------------------------------------------------------------------\u001b[0m",
      "\u001b[1;31mTypeError\u001b[0m                                 Traceback (most recent call last)",
      "\u001b[1;32m<ipython-input-138-27ffd7579650>\u001b[0m in \u001b[0;36m<module>\u001b[1;34m\u001b[0m\n\u001b[0;32m      1\u001b[0m \u001b[0mA\u001b[0m\u001b[1;33m=\u001b[0m\u001b[1;33m[\u001b[0m\u001b[1;36m3\u001b[0m\u001b[1;33m,\u001b[0m\u001b[1;36m4\u001b[0m\u001b[1;33m,\u001b[0m\u001b[1;36m6\u001b[0m\u001b[1;33m,\u001b[0m\u001b[1;36m4\u001b[0m\u001b[1;33m,\u001b[0m\u001b[1;36m7\u001b[0m\u001b[1;33m,\u001b[0m\u001b[1;36m7\u001b[0m\u001b[1;33m]\u001b[0m\u001b[1;33m\u001b[0m\u001b[1;33m\u001b[0m\u001b[0m\n\u001b[0;32m      2\u001b[0m \u001b[0mB\u001b[0m\u001b[1;33m=\u001b[0m\u001b[1;33m(\u001b[0m\u001b[1;36m3\u001b[0m\u001b[1;33m,\u001b[0m\u001b[1;36m6\u001b[0m\u001b[1;33m,\u001b[0m\u001b[1;36m3\u001b[0m\u001b[1;33m,\u001b[0m\u001b[1;36m4\u001b[0m\u001b[1;33m,\u001b[0m\u001b[1;36m4\u001b[0m\u001b[1;33m,\u001b[0m\u001b[1;36m4\u001b[0m\u001b[1;33m,\u001b[0m\u001b[1;36m55\u001b[0m\u001b[1;33m)\u001b[0m\u001b[1;33m\u001b[0m\u001b[1;33m\u001b[0m\u001b[0m\n\u001b[1;32m----> 3\u001b[1;33m \u001b[0mC\u001b[0m\u001b[1;33m=\u001b[0m\u001b[1;33m{\u001b[0m\u001b[0mB\u001b[0m\u001b[1;33m,\u001b[0m\u001b[1;36m34\u001b[0m\u001b[1;33m,\u001b[0m\u001b[0mA\u001b[0m\u001b[1;33m}\u001b[0m\u001b[1;33m\u001b[0m\u001b[1;33m\u001b[0m\u001b[0m\n\u001b[0m\u001b[0;32m      4\u001b[0m \u001b[0mprint\u001b[0m\u001b[1;33m(\u001b[0m\u001b[0mtype\u001b[0m\u001b[1;33m(\u001b[0m\u001b[0mC\u001b[0m\u001b[1;33m)\u001b[0m\u001b[1;33m,\u001b[0m\u001b[0mC\u001b[0m\u001b[1;33m)\u001b[0m\u001b[1;33m\u001b[0m\u001b[1;33m\u001b[0m\u001b[0m\n",
      "\u001b[1;31mTypeError\u001b[0m: unhashable type: 'list'"
     ]
    }
   ],
   "source": [
    "A=[3,4,6,4,7,7]\n",
    "B=(3,6,3,4,4,4,55)\n",
    "C={B,34,A} #immutable한 자료만 원소로 사용가능\n",
    "print(type(C),C)"
   ]
  },
  {
   "cell_type": "code",
   "execution_count": 139,
   "metadata": {},
   "outputs": [
    {
     "name": "stdout",
     "output_type": "stream",
     "text": [
      "{3, 4, 6, 7, 999, 77, 22} {2, 3, 4, 6, 555, 55}\n"
     ]
    }
   ],
   "source": [
    "A={3,22,6,4,77,7}\n",
    "B={3,6,3,2,2,4,55}\n",
    "A.add(999) # 순서가 없으므로 붙는 위치는 자기 마음대로\n",
    "B.add(555)\n",
    "print(A,B)"
   ]
  },
  {
   "cell_type": "code",
   "execution_count": 143,
   "metadata": {},
   "outputs": [
    {
     "name": "stdout",
     "output_type": "stream",
     "text": [
      "7 {999, 77, 22} {2, 3, 4, 6, 555, 55}\n"
     ]
    }
   ],
   "source": [
    "ADel=A.pop() #임의의 원소 삭제\n",
    "print(ADel,A,B)"
   ]
  },
  {
   "cell_type": "code",
   "execution_count": 144,
   "metadata": {},
   "outputs": [
    {
     "name": "stdout",
     "output_type": "stream",
     "text": [
      "{3, 4, 7, 77, 22} {2, 3, 4, 55}\n"
     ]
    }
   ],
   "source": [
    "A={3,22,6,4,77,7}\n",
    "B={3,6,3,2,2,4,55}\n",
    "A.discard(6)\n",
    "B.remove(6)\n",
    "print(A,B)"
   ]
  },
  {
   "cell_type": "code",
   "execution_count": 145,
   "metadata": {},
   "outputs": [
    {
     "name": "stdout",
     "output_type": "stream",
     "text": [
      "{3, 4, 6, 7, 77, 22} {2, 3, 4, 55}\n"
     ]
    }
   ],
   "source": [
    "A={3,22,6,4,77,7}\n",
    "B={3,6,3,2,2,4,55}\n",
    "A.discard(11) #11이 없어도 discard는 아무것도 삭제 안하고 끝\n",
    "B.remove(6)\n",
    "print(A,B)"
   ]
  },
  {
   "cell_type": "code",
   "execution_count": 146,
   "metadata": {},
   "outputs": [
    {
     "ename": "KeyError",
     "evalue": "11",
     "output_type": "error",
     "traceback": [
      "\u001b[1;31m---------------------------------------------------------------------------\u001b[0m",
      "\u001b[1;31mKeyError\u001b[0m                                  Traceback (most recent call last)",
      "\u001b[1;32m<ipython-input-146-32c7f2a9593e>\u001b[0m in \u001b[0;36m<module>\u001b[1;34m\u001b[0m\n\u001b[0;32m      2\u001b[0m \u001b[0mB\u001b[0m\u001b[1;33m=\u001b[0m\u001b[1;33m{\u001b[0m\u001b[1;36m3\u001b[0m\u001b[1;33m,\u001b[0m\u001b[1;36m6\u001b[0m\u001b[1;33m,\u001b[0m\u001b[1;36m3\u001b[0m\u001b[1;33m,\u001b[0m\u001b[1;36m2\u001b[0m\u001b[1;33m,\u001b[0m\u001b[1;36m2\u001b[0m\u001b[1;33m,\u001b[0m\u001b[1;36m4\u001b[0m\u001b[1;33m,\u001b[0m\u001b[1;36m55\u001b[0m\u001b[1;33m}\u001b[0m\u001b[1;33m\u001b[0m\u001b[1;33m\u001b[0m\u001b[0m\n\u001b[0;32m      3\u001b[0m \u001b[0mA\u001b[0m\u001b[1;33m.\u001b[0m\u001b[0mdiscard\u001b[0m\u001b[1;33m(\u001b[0m\u001b[1;36m11\u001b[0m\u001b[1;33m)\u001b[0m\u001b[1;33m\u001b[0m\u001b[1;33m\u001b[0m\u001b[0m\n\u001b[1;32m----> 4\u001b[1;33m \u001b[0mB\u001b[0m\u001b[1;33m.\u001b[0m\u001b[0mremove\u001b[0m\u001b[1;33m(\u001b[0m\u001b[1;36m11\u001b[0m\u001b[1;33m)\u001b[0m\u001b[1;33m\u001b[0m\u001b[1;33m\u001b[0m\u001b[0m\n\u001b[0m\u001b[0;32m      5\u001b[0m \u001b[0mprint\u001b[0m\u001b[1;33m(\u001b[0m\u001b[0mA\u001b[0m\u001b[1;33m,\u001b[0m\u001b[0mB\u001b[0m\u001b[1;33m)\u001b[0m\u001b[1;33m\u001b[0m\u001b[1;33m\u001b[0m\u001b[0m\n",
      "\u001b[1;31mKeyError\u001b[0m: 11"
     ]
    }
   ],
   "source": [
    "A={3,22,6,4,77,7}\n",
    "B={3,6,3,2,2,4,55}\n",
    "A.discard(11)\n",
    "B.remove(11) #remove는 11이 없으므로 Error발\n",
    "print(A,B)"
   ]
  },
  {
   "cell_type": "code",
   "execution_count": 147,
   "metadata": {},
   "outputs": [
    {
     "name": "stdout",
     "output_type": "stream",
     "text": [
      "A ID : 1806085170344\tC ID : 1806085170344\n",
      "A : {3, 4, 6, 7, 77, 22}\tC : {3, 4, 6, 7, 77, 22}\n",
      "B ID : 1806085171016\tD ID : 1806083520552\n",
      "B : {2, 3, 4, 6, 55}\tD : {2, 3, 4, 6, 55}\n"
     ]
    }
   ],
   "source": [
    "A={3,22,6,4,77,7}\n",
    "B={3,6,3,2,2,4,55}\n",
    "C=A  # id 동일 - 같은 객체\n",
    "D=B.copy() # id 달라짐 - 다른 객체\n",
    "\n",
    "print(\"A ID : {0}\\tC ID : {1}\".format(id(A),id(C)))\n",
    "print(\"A : {0}\\tC : {1}\".format(A,C))\n",
    "print(\"B ID : {0}\\tD ID : {1}\".format(id(B),id(D)))\n",
    "print(\"B : {0}\\tD : {1}\".format(B,D))"
   ]
  },
  {
   "cell_type": "code",
   "execution_count": 148,
   "metadata": {},
   "outputs": [
    {
     "name": "stdout",
     "output_type": "stream",
     "text": [
      "A ID : 1806085171240\tC ID : 1806085171240\n",
      "A : {3, 4, 6, 7, 77, 9999, 22}\tC : {3, 4, 6, 7, 77, 9999, 22}\n",
      "B ID : 1806085171688\tD ID : 1806085170792\n",
      "B : {2, 3, 4, 6, 55}\tD : {9009, 2, 3, 4, 6, 55}\n"
     ]
    }
   ],
   "source": [
    "A={3,22,6,4,77,7}\n",
    "B={3,6,3,2,2,4,55}\n",
    "C=A  # id 동일\n",
    "D=B.copy() # id 달라짐\n",
    "C.add(9999)\n",
    "D.add(9009)\n",
    "\n",
    "print(\"A ID : {0}\\tC ID : {1}\".format(id(A),id(C)))\n",
    "print(\"A : {0}\\tC : {1}\".format(A,C))\n",
    "print(\"B ID : {0}\\tD ID : {1}\".format(id(B),id(D)))\n",
    "print(\"B : {0}\\tD : {1}\".format(B,D))"
   ]
  },
  {
   "cell_type": "code",
   "execution_count": 150,
   "metadata": {},
   "outputs": [
    {
     "name": "stdout",
     "output_type": "stream",
     "text": [
      "A ID : 1806085170792\tC ID : 1806085171688\n",
      "A : {3, 4, 6, 7, 77, 22}\tC : {2, 3, 4, 6, 7, 77, 22, 55}\n",
      "A ID : 1806085170792\tD ID : 1814469936\n",
      "A : {2, 3, 4, 6, 7, 77, 22, 55}\tD : None\n"
     ]
    }
   ],
   "source": [
    "A={3,22,6,4,77,7}\n",
    "B={3,6,3,2,2,4,55}\n",
    "C=A.union(B) # 새로운 객체로 돌려\n",
    "print(\"A ID : {0}\\tC ID : {1}\".format(id(A),id(C)))\n",
    "print(\"A : {0}\\tC : {1}\".format(A,C))\n",
    "\n",
    "D=A.update(B) # 동일한 객체에 덮어 씀. 즉 A=AUB꼴\n",
    "print(\"A ID : {0}\\tD ID : {1}\".format(id(A),id(D)))\n",
    "print(\"A : {0}\\tD : {1}\".format(A,D))"
   ]
  }
 ],
 "metadata": {
  "kernelspec": {
   "display_name": "MyPython",
   "language": "python",
   "name": "mypython"
  },
  "language_info": {
   "codemirror_mode": {
    "name": "ipython",
    "version": 3
   },
   "file_extension": ".py",
   "mimetype": "text/x-python",
   "name": "python",
   "nbconvert_exporter": "python",
   "pygments_lexer": "ipython3",
   "version": "3.6.9"
  },
  "widgets": {
   "state": {},
   "version": "1.1.2"
  }
 },
 "nbformat": 4,
 "nbformat_minor": 2
}
