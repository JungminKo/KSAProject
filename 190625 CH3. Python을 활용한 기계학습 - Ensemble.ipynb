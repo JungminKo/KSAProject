{
 "cells": [
  {
   "cell_type": "code",
   "execution_count": 1,
   "metadata": {},
   "outputs": [],
   "source": [
    "from sklearn.ensemble import BaggingClassifier\n",
    "from sklearn.tree import DecisionTreeClassifier\n",
    "from sklearn.datasets import make_moons\n",
    "from sklearn.model_selection import train_test_split\n",
    "\n",
    "X,y=make_moons(n_samples=500, noise=0.25, random_state=3)\n",
    "X_train, X_test, y_train, y_test = train_test_split(X,y,stratify=y,random_state=42)\n",
    "\n",
    "bag_clf=BaggingClassifier(DecisionTreeClassifier(),n_estimators=500,max_samples=100,bootstrap=True,n_jobs=-1)\n",
    "bag_clf.fit(X_train, y_train)\n",
    "y_pred=bag_clf.predict(X_test)\n",
    "\n",
    "dt_clf=DecisionTreeClassifier()\n",
    "dt_clf.fit(X_train,y_train)\n",
    "dt_y_pred=dt_clf.predict(X_test)"
   ]
  },
  {
   "cell_type": "code",
   "execution_count": 2,
   "metadata": {},
   "outputs": [
    {
     "data": {
      "text/plain": [
       "(0.9546666666666667, 0.928)"
      ]
     },
     "execution_count": 2,
     "metadata": {},
     "output_type": "execute_result"
    }
   ],
   "source": [
    "bag_clf.score(X_train,y_train), bag_clf.score(X_test,y_test) # 성능평가 : (train정확도, test정확도)"
   ]
  },
  {
   "cell_type": "code",
   "execution_count": 3,
   "metadata": {
    "scrolled": true
   },
   "outputs": [
    {
     "data": {
      "text/plain": [
       "(1.0, 0.888)"
      ]
     },
     "execution_count": 3,
     "metadata": {},
     "output_type": "execute_result"
    }
   ],
   "source": [
    "dt_clf.score(X_train,y_train), dt_clf.score(X_test,y_test)"
   ]
  },
  {
   "cell_type": "code",
   "execution_count": 4,
   "metadata": {},
   "outputs": [
    {
     "data": {
      "text/plain": [
       "array([ True,  True,  True, False,  True,  True, False,  True,  True,\n",
       "        True,  True,  True,  True,  True,  True,  True,  True,  True,\n",
       "        True,  True,  True, False,  True,  True,  True,  True,  True,\n",
       "        True,  True,  True,  True,  True,  True,  True,  True,  True,\n",
       "        True,  True,  True, False,  True,  True,  True,  True,  True,\n",
       "        True,  True,  True,  True,  True,  True,  True,  True,  True,\n",
       "        True,  True,  True,  True,  True,  True,  True,  True,  True,\n",
       "        True,  True,  True,  True,  True,  True,  True,  True,  True,\n",
       "        True, False,  True, False,  True,  True,  True,  True,  True,\n",
       "        True,  True,  True, False,  True,  True,  True,  True,  True,\n",
       "        True,  True,  True,  True,  True,  True,  True,  True,  True,\n",
       "        True,  True,  True,  True,  True,  True,  True,  True,  True,\n",
       "        True,  True,  True,  True,  True,  True,  True,  True,  True,\n",
       "        True,  True,  True,  True,  True,  True,  True,  True])"
      ]
     },
     "execution_count": 4,
     "metadata": {},
     "output_type": "execute_result"
    }
   ],
   "source": [
    "y_pred==dt_y_pred"
   ]
  },
  {
   "cell_type": "code",
   "execution_count": 5,
   "metadata": {},
   "outputs": [
    {
     "data": {
      "text/plain": [
       "0.9333333333333333"
      ]
     },
     "execution_count": 5,
     "metadata": {},
     "output_type": "execute_result"
    }
   ],
   "source": [
    "bag_clf=BaggingClassifier(DecisionTreeClassifier(),n_estimators=500,max_samples=100,\n",
    "                          bootstrap=True,n_jobs=-1,oob_score=True)\n",
    "bag_clf.fit(X_train, y_train)\n",
    "bag_clf.oob_score_"
   ]
  },
  {
   "cell_type": "code",
   "execution_count": 6,
   "metadata": {},
   "outputs": [
    {
     "data": {
      "text/plain": [
       "0.928"
      ]
     },
     "execution_count": 6,
     "metadata": {},
     "output_type": "execute_result"
    }
   ],
   "source": [
    "from sklearn.metrics import accuracy_score\n",
    "y_pred=bag_clf.predict(X_test)\n",
    "accuracy_score(y_test,y_pred)"
   ]
  },
  {
   "cell_type": "code",
   "execution_count": 7,
   "metadata": {},
   "outputs": [
    {
     "data": {
      "text/plain": [
       "0.928"
      ]
     },
     "execution_count": 7,
     "metadata": {},
     "output_type": "execute_result"
    }
   ],
   "source": [
    "bag_clf.score(X_test,y_test) "
   ]
  },
  {
   "cell_type": "code",
   "execution_count": 8,
   "metadata": {},
   "outputs": [],
   "source": [
    "from sklearn.model_selection import train_test_split\n",
    "from sklearn.datasets import make_moons"
   ]
  },
  {
   "cell_type": "code",
   "execution_count": 9,
   "metadata": {},
   "outputs": [],
   "source": [
    "Xm, ym=make_moons(n_samples=100, noise=0.25, random_state=3)\n",
    "Xm_train, Xm_test, ym_train, ym_test=train_test_split(Xm,ym,stratify=ym,random_state=42)"
   ]
  },
  {
   "cell_type": "code",
   "execution_count": 10,
   "metadata": {},
   "outputs": [
    {
     "data": {
      "text/plain": [
       "BaggingClassifier(base_estimator=DecisionTreeClassifier(class_weight=None,\n",
       "                                                        criterion='gini',\n",
       "                                                        max_depth=None,\n",
       "                                                        max_features=None,\n",
       "                                                        max_leaf_nodes=None,\n",
       "                                                        min_impurity_decrease=0.0,\n",
       "                                                        min_impurity_split=None,\n",
       "                                                        min_samples_leaf=1,\n",
       "                                                        min_samples_split=2,\n",
       "                                                        min_weight_fraction_leaf=0.0,\n",
       "                                                        presort=False,\n",
       "                                                        random_state=None,\n",
       "                                                        splitter='best'),\n",
       "                  bootstrap=True, bootstrap_features=False, max_features=1.0,\n",
       "                  max_samples=1.0, n_estimators=5, n_jobs=-1, oob_score=False,\n",
       "                  random_state=42, verbose=0, warm_start=False)"
      ]
     },
     "execution_count": 10,
     "metadata": {},
     "output_type": "execute_result"
    }
   ],
   "source": [
    "from sklearn.ensemble import BaggingClassifier\n",
    "from sklearn.tree import DecisionTreeClassifier\n",
    "bagging=BaggingClassifier(DecisionTreeClassifier(), n_estimators=5, n_jobs=-1, random_state=42)\n",
    "bagging.fit(Xm_train, ym_train)"
   ]
  },
  {
   "cell_type": "code",
   "execution_count": 15,
   "metadata": {
    "scrolled": false
   },
   "outputs": [
    {
     "name": "stderr",
     "output_type": "stream",
     "text": [
      "C:\\Users\\Affinity\\Anaconda3\\envs\\mypython\\lib\\site-packages\\sklearn\\externals\\six.py:31: DeprecationWarning: The module is deprecated in version 0.21 and will be removed in version 0.23 since we've dropped support for Python 2.7. Please rely on the official version of six (https://pypi.org/project/six/).\n",
      "  \"(https://pypi.org/project/six/).\", DeprecationWarning)\n",
      "C:\\Users\\Affinity\\Anaconda3\\envs\\mypython\\lib\\site-packages\\sklearn\\externals\\joblib\\__init__.py:15: DeprecationWarning: sklearn.externals.joblib is deprecated in 0.21 and will be removed in 0.23. Please import this functionality directly from joblib, which can be installed with: pip install joblib. If this warning is raised when loading pickled models, you may need to re-serialize those models with scikit-learn 0.21+.\n",
      "  warnings.warn(msg, category=DeprecationWarning)\n"
     ]
    },
    {
     "data": {
      "image/png": "[encoded data removed]",
      "text/plain": [
       "<Figure size 1440x720 with 6 Axes>"
      ]
     },
     "metadata": {},
     "output_type": "display_data"
    }
   ],
   "source": [
    "import matplotlib.pyplot as plt\n",
    "import mglearn\n",
    "\n",
    "fig,axes=plt.subplots(2,3,figsize=(20,10))\n",
    "for i,(ax,tree) in enumerate(zip(axes.ravel(),bagging.estimators_)):\n",
    "    ax.set_title(\"Tree:{}\".format(i))\n",
    "    mglearn.plots.plot_tree_partition(Xm,ym,tree,ax=ax)\n",
    "    \n",
    "mglearn.plots.plot_2d_separator(bagging, Xm, fill=True, ax=axes[-1,-1], alpha=0.4)\n",
    "axes[-1,-1].set_title(\"Bagging\")\n",
    "mglearn.discrete_scatter(Xm[:,0],Xm[:,1],ym)\n",
    "plt.show()"
   ]
  },
  {
   "cell_type": "code",
   "execution_count": 16,
   "metadata": {},
   "outputs": [
    {
     "data": {
      "text/plain": [
       "RandomForestClassifier(bootstrap=True, class_weight=None, criterion='gini',\n",
       "                       max_depth=None, max_features=1, max_leaf_nodes=None,\n",
       "                       min_impurity_decrease=0.0, min_impurity_split=None,\n",
       "                       min_samples_leaf=1, min_samples_split=2,\n",
       "                       min_weight_fraction_leaf=0.0, n_estimators=5, n_jobs=-1,\n",
       "                       oob_score=False, random_state=42, verbose=0,\n",
       "                       warm_start=False)"
      ]
     },
     "execution_count": 16,
     "metadata": {},
     "output_type": "execute_result"
    }
   ],
   "source": [
    "from sklearn.ensemble import RandomForestClassifier\n",
    "RF=RandomForestClassifier(n_estimators=5, n_jobs=-1, random_state=42, max_features=1)\n",
    "RF.fit(Xm_train, ym_train)"
   ]
  },
  {
   "cell_type": "code",
   "execution_count": 17,
   "metadata": {},
   "outputs": [
    {
     "data": {
      "image/png": "[encoded data removed]",
      "text/plain": [
       "<Figure size 1440x720 with 6 Axes>"
      ]
     },
     "metadata": {},
     "output_type": "display_data"
    }
   ],
   "source": [
    "import matplotlib.pyplot as plt\n",
    "import mglearn\n",
    "\n",
    "fig,axes=plt.subplots(2,3,figsize=(20,10))\n",
    "for i,(ax,tree) in enumerate(zip(axes.ravel(),RF.estimators_)):\n",
    "    ax.set_title(\"Tree:{}\".format(i))\n",
    "    mglearn.plots.plot_tree_partition(Xm,ym,tree,ax=ax)\n",
    "    \n",
    "mglearn.plots.plot_2d_separator(RF, Xm, fill=True, ax=axes[-1,-1], alpha=0.4)\n",
    "axes[-1,-1].set_title(\"RandomForest\")\n",
    "mglearn.discrete_scatter(Xm[:,0],Xm[:,1],ym)\n",
    "plt.show()"
   ]
  },
  {
   "cell_type": "code",
   "execution_count": 18,
   "metadata": {},
   "outputs": [
    {
     "data": {
      "text/plain": [
       "(500, 2)"
      ]
     },
     "execution_count": 18,
     "metadata": {},
     "output_type": "execute_result"
    }
   ],
   "source": [
    "X.shape"
   ]
  },
  {
   "cell_type": "code",
   "execution_count": 19,
   "metadata": {},
   "outputs": [
    {
     "data": {
      "text/plain": [
       "array([[-4.03039439e-01,  1.07769490e+00],\n",
       "       [ 9.56401908e-02,  2.00580798e-01],\n",
       "       [ 5.83048166e-01,  5.74628700e-01],\n",
       "       [-1.28586848e+00, -1.99985906e-01],\n",
       "       [-8.16065538e-01,  6.52314513e-01],\n",
       "       [ 1.29285289e+00, -2.18132256e-01],\n",
       "       [ 8.01088286e-01,  5.45782121e-02],\n",
       "       [ 6.72737108e-01,  5.90723657e-01],\n",
       "       [-6.36788612e-01,  2.57436194e-01],\n",
       "       [ 1.71520117e+00,  2.26019828e-01],\n",
       "       [-6.28604910e-01,  9.98864125e-01],\n",
       "       [-2.93358158e-01,  9.21588505e-01],\n",
       "       [-5.66151412e-01, -2.50036726e-02],\n",
       "       [ 5.75535557e-01, -3.23172961e-01],\n",
       "       [ 1.54505618e+00,  1.39638801e-01],\n",
       "       [-6.91604418e-01,  5.99253473e-01],\n",
       "       [ 1.24317022e+00, -2.33636703e-01],\n",
       "       [ 9.20383963e-02,  9.33530056e-01],\n",
       "       [ 9.86124826e-01,  8.19721905e-01],\n",
       "       [ 2.10636145e+00,  1.26332167e-01],\n",
       "       [-5.32053881e-01,  1.32138670e+00],\n",
       "       [ 2.46056634e-01,  9.68571758e-01],\n",
       "       [ 2.32875282e+00,  1.93473134e-01],\n",
       "       [ 6.96580816e-02,  9.63395418e-01],\n",
       "       [ 9.81228920e-01,  1.04591004e+00],\n",
       "       [-6.19497495e-01,  1.08482236e+00],\n",
       "       [-1.04989104e+00,  5.15703723e-01],\n",
       "       [ 1.70322657e+00, -6.15954919e-02],\n",
       "       [ 1.19134310e+00, -4.66807487e-01],\n",
       "       [-1.57411072e-01,  5.49841368e-01],\n",
       "       [ 4.44265527e-01, -4.24417127e-01],\n",
       "       [ 1.18202201e+00, -7.26275847e-01],\n",
       "       [ 5.56616693e-01,  1.03509189e+00],\n",
       "       [ 9.82853687e-02,  1.03474533e-01],\n",
       "       [-1.01542121e+00,  1.15036128e+00],\n",
       "       [-5.96640362e-01,  3.31324539e-01],\n",
       "       [ 7.95724060e-01, -4.18851162e-01],\n",
       "       [ 1.59730676e+00, -5.68362239e-01],\n",
       "       [ 2.24686223e-01, -2.04810090e-01],\n",
       "       [-9.72275875e-02,  6.79520644e-01],\n",
       "       [ 8.18223541e-01, -5.17296784e-01],\n",
       "       [ 3.32045554e-01,  8.88399165e-01],\n",
       "       [-1.06968687e+00,  4.82981511e-01],\n",
       "       [-7.13422253e-01,  1.08213438e+00],\n",
       "       [-1.05621061e+00,  8.73176138e-02],\n",
       "       [-8.71796478e-02,  1.11604680e+00],\n",
       "       [-1.77148043e-01,  7.81111625e-01],\n",
       "       [-1.00643295e+00,  4.85231941e-01],\n",
       "       [ 1.33049724e+00, -1.69484630e-01],\n",
       "       [ 4.41016650e-01,  7.98203367e-01],\n",
       "       [-7.01289749e-01,  7.07587705e-01],\n",
       "       [ 1.52955204e+00,  5.46276568e-01],\n",
       "       [-4.59826525e-01,  2.56796058e-01],\n",
       "       [ 5.29360688e-01,  5.81021062e-01],\n",
       "       [-7.89710299e-02,  6.64666275e-01],\n",
       "       [ 1.12703670e-01,  8.69124154e-01],\n",
       "       [-1.09509842e+00,  1.09802433e-01],\n",
       "       [-5.46620384e-01,  4.85689203e-01],\n",
       "       [ 5.03683147e-01, -1.40106400e-01],\n",
       "       [-1.61186864e-01,  8.51125412e-01],\n",
       "       [ 1.61709243e+00,  5.73700131e-01],\n",
       "       [ 8.25337022e-01,  2.32228533e-01],\n",
       "       [ 1.07305459e+00,  4.98522964e-01],\n",
       "       [-1.38421769e+00,  6.27659238e-01],\n",
       "       [ 9.24695196e-01,  6.70422445e-01],\n",
       "       [-1.29915305e-01,  3.86171661e-01],\n",
       "       [ 6.02176231e-01, -2.51662770e-01],\n",
       "       [ 8.81492093e-01,  2.11220576e-01],\n",
       "       [-1.21445896e+00,  2.12962052e-01],\n",
       "       [ 2.52455463e-01,  2.27689562e-01],\n",
       "       [ 1.64992591e+00, -2.28172637e-01],\n",
       "       [ 1.41044391e+00, -3.40190955e-01],\n",
       "       [ 8.01146476e-01, -7.58797736e-01],\n",
       "       [ 6.71051695e-01,  6.35232359e-01],\n",
       "       [-3.99929787e-01,  1.23100988e+00],\n",
       "       [ 2.94571821e-01, -6.32598437e-01],\n",
       "       [ 3.55689872e-01, -9.77168111e-02],\n",
       "       [ 4.49715913e-01, -8.34226595e-01],\n",
       "       [ 2.01648428e+00,  1.25739134e-01],\n",
       "       [ 1.13508300e+00,  2.07009321e-02],\n",
       "       [ 1.27641109e+00,  7.08829394e-02],\n",
       "       [ 2.13891132e-01,  9.29910784e-01],\n",
       "       [ 3.13339273e-01,  7.27997876e-01],\n",
       "       [-3.00892148e-01,  1.49260527e+00],\n",
       "       [ 9.01507008e-01, -7.09271891e-01],\n",
       "       [ 9.36414946e-01,  1.10868587e+00],\n",
       "       [ 1.78026649e+00, -3.65061158e-01],\n",
       "       [-4.86529879e-01,  6.48236747e-01],\n",
       "       [ 1.64131638e+00,  1.06856221e-01],\n",
       "       [ 1.20492902e+00, -1.69768061e-01],\n",
       "       [ 2.42464834e-01, -8.31696784e-03],\n",
       "       [ 1.60717083e+00, -7.41591008e-02],\n",
       "       [-1.58399545e-01,  1.06093906e+00],\n",
       "       [-1.12542539e+00, -1.13253879e-02],\n",
       "       [ 1.72136370e+00, -6.62290185e-01],\n",
       "       [ 9.55700803e-01, -1.23465862e+00],\n",
       "       [ 1.40244882e-01, -2.79349655e-01],\n",
       "       [-4.28176246e-01,  5.99278283e-01],\n",
       "       [ 6.82008047e-01, -4.86582878e-01],\n",
       "       [ 7.79992004e-01,  8.29455259e-03],\n",
       "       [-1.27028352e-01, -9.28456054e-02],\n",
       "       [-6.71508873e-01,  7.25187446e-01],\n",
       "       [ 3.40676183e-02,  1.28907980e+00],\n",
       "       [-8.28321713e-01,  7.44518735e-01],\n",
       "       [ 1.48740172e+00, -6.42387679e-01],\n",
       "       [-5.13859145e-01,  5.74677997e-01],\n",
       "       [-1.17092085e+00,  5.62679768e-01],\n",
       "       [ 1.64100560e+00, -5.64747771e-01],\n",
       "       [-9.16890095e-01,  5.75846321e-01],\n",
       "       [ 1.07784390e-01, -4.55868113e-01],\n",
       "       [ 3.96647415e-01,  1.33403590e+00],\n",
       "       [-2.36199009e-01,  1.16447095e+00],\n",
       "       [ 1.55584930e+00, -2.35933668e-01],\n",
       "       [-4.30987579e-01,  1.33050575e+00],\n",
       "       [ 4.60811769e-01,  7.40451560e-01],\n",
       "       [-9.63822235e-01,  1.49678702e-01],\n",
       "       [ 4.08311577e-01, -3.31629691e-01],\n",
       "       [ 1.01877980e-01,  1.10371167e+00],\n",
       "       [ 1.22124093e+00, -2.96637481e-01],\n",
       "       [ 6.46087209e-01,  6.19029398e-01],\n",
       "       [-9.93031355e-01,  5.18457550e-01],\n",
       "       [ 6.12729739e-01,  8.51821338e-01],\n",
       "       [ 1.17255363e+00,  1.47952808e-02],\n",
       "       [ 4.62773612e-01,  5.97012551e-01],\n",
       "       [ 1.60752975e+00,  4.27469371e-01],\n",
       "       [-9.29878707e-01, -3.15638076e-01],\n",
       "       [ 8.63244037e-01,  5.99639035e-01],\n",
       "       [ 7.02959123e-01, -7.89104991e-01],\n",
       "       [-7.49868871e-01,  9.03513364e-01],\n",
       "       [ 7.27669932e-01,  1.02618221e+00],\n",
       "       [ 1.39469716e-01, -2.02970033e-02],\n",
       "       [ 8.06904480e-01,  5.80862519e-01],\n",
       "       [ 1.82208222e-01,  1.27582696e+00],\n",
       "       [ 1.31010727e+00, -5.35792660e-01],\n",
       "       [ 5.13663298e-01,  9.19095981e-01],\n",
       "       [ 3.59994238e-01,  1.07625959e-01],\n",
       "       [-2.51157741e-01,  2.06802878e-01],\n",
       "       [ 8.70660855e-02,  2.70242565e-01],\n",
       "       [ 1.58845297e+00,  6.72852456e-02],\n",
       "       [-1.45617451e-01, -3.48132222e-01],\n",
       "       [ 8.63944905e-01, -9.04719774e-01],\n",
       "       [-1.13315858e-01,  3.38686013e-01],\n",
       "       [ 1.48216401e+00,  1.27646601e-01],\n",
       "       [ 1.43437923e-01, -4.36806458e-01],\n",
       "       [-8.46666241e-03,  8.94815834e-01],\n",
       "       [ 2.07594172e+00,  2.97585974e-02],\n",
       "       [ 2.05351912e-02,  9.16355936e-01],\n",
       "       [ 1.59947560e-01, -6.39891122e-01],\n",
       "       [ 5.78848778e-02,  3.11577068e-01],\n",
       "       [ 2.31113544e+00,  1.49345279e-01],\n",
       "       [ 1.99646950e-01,  6.53275596e-01],\n",
       "       [ 1.49648318e+00,  7.34846820e-03],\n",
       "       [ 2.01608761e+00,  1.92955396e-01],\n",
       "       [-7.98732581e-01,  1.02500704e+00],\n",
       "       [-8.29167219e-01,  7.32820890e-01],\n",
       "       [-1.02979636e+00,  1.75704792e-01],\n",
       "       [-2.11613920e-01,  9.77662242e-01],\n",
       "       [ 1.26700581e+00, -5.67642054e-02],\n",
       "       [ 4.83179870e-01, -2.92789148e-01],\n",
       "       [ 1.00663333e+00, -1.09757274e-02],\n",
       "       [-9.63948883e-01,  1.24271440e-01],\n",
       "       [ 1.83496406e+00, -2.84517674e-01],\n",
       "       [-1.35517764e-02,  1.22687625e-01],\n",
       "       [ 1.48746786e+00,  9.60084618e-02],\n",
       "       [ 4.81093015e-01,  1.39541063e+00],\n",
       "       [-2.74067690e-01,  5.80001969e-01],\n",
       "       [ 1.08045747e+00,  4.91193475e-01],\n",
       "       [ 9.51981117e-01, -4.12167272e-01],\n",
       "       [-6.65518101e-01,  9.18875591e-01],\n",
       "       [ 7.08900034e-01,  4.98796315e-01],\n",
       "       [ 1.96232812e+00, -1.62414111e-01],\n",
       "       [ 1.22163812e+00,  6.33922301e-01],\n",
       "       [ 1.16514817e+00, -4.00345789e-01],\n",
       "       [ 7.93461123e-01,  1.23406413e+00],\n",
       "       [ 1.37349581e+00, -1.64563409e-01],\n",
       "       [ 2.00162816e+00,  6.41455243e-01],\n",
       "       [ 3.01838094e-01,  5.73942774e-01],\n",
       "       [ 1.61950629e+00, -3.57463588e-01],\n",
       "       [ 8.97811901e-01, -5.66215730e-01],\n",
       "       [ 4.82553618e-01,  5.68974361e-01],\n",
       "       [ 2.16642111e+00, -2.57575265e-01],\n",
       "       [ 9.74545503e-01, -5.85481118e-01],\n",
       "       [ 9.16928516e-02,  2.11643756e-01],\n",
       "       [ 3.51680903e-01, -2.17080257e-01],\n",
       "       [ 4.82100861e-01,  5.56582088e-01],\n",
       "       [-1.37824483e-02,  6.26545512e-02],\n",
       "       [-3.49299181e-01,  3.36412681e-01],\n",
       "       [-7.20547268e-01,  3.59471436e-01],\n",
       "       [-3.76429082e-01,  3.74165317e-01],\n",
       "       [ 1.90033996e+00,  3.17562208e-01],\n",
       "       [ 9.54805650e-01, -2.63368838e-01],\n",
       "       [ 1.05745354e+00,  3.05637256e-01],\n",
       "       [ 1.09616587e+00,  1.41362435e-01],\n",
       "       [-5.61539260e-01,  4.85651059e-01],\n",
       "       [ 1.73211560e-01,  5.66714672e-02],\n",
       "       [-5.81902968e-01,  4.88206200e-01],\n",
       "       [ 2.67776647e+00,  6.05555151e-01],\n",
       "       [ 1.18886024e+00, -4.70854673e-02],\n",
       "       [ 6.05135994e-01,  1.21193016e+00],\n",
       "       [-9.47774899e-03,  9.77213463e-01],\n",
       "       [ 6.09933042e-01,  5.91727087e-01],\n",
       "       [ 9.01344503e-01,  4.52683602e-01],\n",
       "       [ 1.29141828e+00,  1.07374524e+00],\n",
       "       [ 1.90445488e+00,  4.48831605e-01],\n",
       "       [ 4.23876554e-01,  1.14476986e+00],\n",
       "       [ 3.27464911e-01,  6.12257568e-03],\n",
       "       [ 9.54521390e-01, -2.00678309e-03],\n",
       "       [ 1.92088022e+00,  2.14104213e-01],\n",
       "       [ 1.89838578e+00,  3.51635722e-01],\n",
       "       [ 2.10826346e+00, -1.24554308e-01],\n",
       "       [ 4.22479982e-01, -2.02916513e-01],\n",
       "       [ 6.65144392e-01,  8.02251938e-01],\n",
       "       [ 6.30671726e-01,  2.05109350e-01],\n",
       "       [-5.92611211e-01,  4.19151482e-01],\n",
       "       [-1.10689084e-01,  1.04103930e-01],\n",
       "       [ 6.79522636e-01,  7.95246387e-01],\n",
       "       [-6.52158064e-02,  9.61693304e-03],\n",
       "       [ 8.93570035e-01,  7.80324317e-01],\n",
       "       [-9.65641800e-01,  4.06659849e-02],\n",
       "       [ 1.67001673e+00,  3.74124507e-01],\n",
       "       [ 1.66480998e+00,  4.30875503e-01],\n",
       "       [ 1.85553854e+00,  4.44817023e-02],\n",
       "       [ 1.93591845e+00,  9.88148085e-02],\n",
       "       [ 2.42752312e+00,  6.04581200e-01],\n",
       "       [ 3.18104554e-01,  6.26063705e-01],\n",
       "       [ 1.01310892e+00,  4.85580845e-01],\n",
       "       [ 2.16248147e-01,  5.41428392e-01],\n",
       "       [ 9.74750941e-01, -6.08090837e-01],\n",
       "       [ 1.44504223e+00,  8.23857355e-02],\n",
       "       [ 1.46293781e+00, -5.86313228e-01],\n",
       "       [ 3.68695024e-01,  6.37123350e-02],\n",
       "       [ 8.77587391e-01,  9.05290269e-01],\n",
       "       [ 3.20491845e-02,  8.89100447e-01],\n",
       "       [-1.42961439e+00,  1.30913017e-01],\n",
       "       [ 1.38496025e+00,  5.65354414e-01],\n",
       "       [ 6.41361322e-01, -3.80381995e-01],\n",
       "       [-9.37207895e-02,  8.81385601e-01],\n",
       "       [-4.54076236e-01,  8.70618551e-01],\n",
       "       [-1.24480530e-01,  8.02100293e-01],\n",
       "       [ 7.23025291e-01, -1.16779128e-01],\n",
       "       [ 4.05906892e-01,  5.05996555e-01],\n",
       "       [ 6.26170862e-01, -4.44966919e-01],\n",
       "       [ 2.79450784e-01,  1.07588778e+00],\n",
       "       [ 1.65037585e+00, -3.88535269e-01],\n",
       "       [ 3.34349327e-01,  7.12541635e-01],\n",
       "       [-6.55665114e-01,  3.15443668e-01],\n",
       "       [ 1.48551843e+00, -3.47758036e-02],\n",
       "       [ 1.85798224e+00,  2.11558447e-01],\n",
       "       [ 6.21913119e-01, -3.75666628e-03],\n",
       "       [ 1.13819578e+00, -2.09100871e-01],\n",
       "       [ 1.97086818e+00,  1.92227105e-01],\n",
       "       [-1.89592883e-01,  9.40349294e-02],\n",
       "       [ 9.17156827e-01,  4.32447338e-01],\n",
       "       [ 1.56646794e+00, -5.77073711e-01],\n",
       "       [-1.33492332e+00,  1.26681602e-01],\n",
       "       [-7.27627364e-04,  5.74901599e-01],\n",
       "       [ 2.05416258e+00,  1.12227821e-01],\n",
       "       [ 6.85007684e-01, -1.38563108e-01],\n",
       "       [-5.31375071e-02,  8.61457643e-01],\n",
       "       [ 6.30906577e-01,  8.63356923e-01],\n",
       "       [ 1.11200478e+00, -5.55628261e-01],\n",
       "       [-2.12948248e-01,  5.71345265e-01],\n",
       "       [ 1.04227097e-02,  3.59466503e-02],\n",
       "       [-5.61287326e-01,  7.22383399e-01],\n",
       "       [ 1.53017195e+00, -3.20031804e-01],\n",
       "       [ 4.98147283e-01,  5.14303524e-01],\n",
       "       [ 8.63646143e-01, -2.34290197e-01],\n",
       "       [ 1.90590468e+00,  3.27964010e-01],\n",
       "       [-6.83168122e-01,  5.68886446e-01],\n",
       "       [ 1.45069520e+00, -2.49786495e-01],\n",
       "       [-2.80969274e-01, -2.95678755e-01],\n",
       "       [-8.52274293e-01,  5.13942286e-01],\n",
       "       [ 8.13681390e-01,  3.53848131e-01],\n",
       "       [ 2.43115457e-01, -2.39004460e-01],\n",
       "       [ 4.69522620e-01,  6.03419152e-02],\n",
       "       [-1.50995120e+00,  1.64984588e-01],\n",
       "       [-7.49898680e-01,  1.52725740e-01],\n",
       "       [ 1.33349243e+00, -9.45162711e-01],\n",
       "       [ 1.64584744e+00, -3.89256799e-01],\n",
       "       [ 5.25407623e-01, -1.63293411e-01],\n",
       "       [-1.70937805e-01,  3.89112564e-01],\n",
       "       [ 1.13555222e+00, -5.75534594e-02],\n",
       "       [-9.29679413e-01,  2.99295836e-01],\n",
       "       [ 3.37748020e-01,  1.88327234e-01],\n",
       "       [-3.88399868e-01,  9.09043717e-01],\n",
       "       [-2.20562569e-01,  9.27589622e-01],\n",
       "       [ 1.33327610e+00, -2.14384467e-01],\n",
       "       [ 4.82724043e-01, -8.31397293e-01],\n",
       "       [ 6.35553648e-01,  7.30878444e-01],\n",
       "       [ 1.77466876e+00,  3.43988326e-01],\n",
       "       [-1.04381771e+00,  2.57956066e-01],\n",
       "       [ 4.05623878e-01,  1.00236585e+00],\n",
       "       [-5.36773191e-01,  4.05764526e-01],\n",
       "       [ 6.69349679e-01,  7.46432223e-01],\n",
       "       [ 5.67975346e-01,  1.50539603e-01],\n",
       "       [ 3.32414928e-01,  3.05748975e-01],\n",
       "       [-4.78173789e-01,  2.66991923e-01],\n",
       "       [ 8.82724236e-01,  1.04439019e+00],\n",
       "       [-1.33311234e+00,  4.78747609e-01],\n",
       "       [ 2.69778463e-01, -5.11769710e-01],\n",
       "       [ 1.21768449e+00, -7.21060656e-01],\n",
       "       [ 2.09629613e+00,  3.07193257e-01],\n",
       "       [ 1.19492304e+00,  2.18567979e-01],\n",
       "       [-1.23530006e+00,  7.05048469e-01],\n",
       "       [-9.86846245e-01,  3.80889248e-01],\n",
       "       [ 2.04643147e+00, -5.51950041e-02],\n",
       "       [-1.22847669e+00,  2.62013334e-01],\n",
       "       [ 1.77321252e+00, -1.39006956e-01],\n",
       "       [ 8.51831070e-01, -9.71945080e-01],\n",
       "       [ 1.22455081e+00, -6.66169950e-01],\n",
       "       [ 4.73705044e-01,  1.22836685e+00],\n",
       "       [ 5.97833082e-01, -3.66429322e-01],\n",
       "       [ 3.29451756e-01, -1.18706422e-02],\n",
       "       [ 1.24075543e+00,  6.76255844e-01],\n",
       "       [-1.06024057e+00,  3.71600761e-01],\n",
       "       [ 6.64349363e-01,  1.16520425e+00],\n",
       "       [ 1.02438149e+00,  5.72582891e-01],\n",
       "       [ 1.32505288e+00,  4.19016667e-02],\n",
       "       [ 9.34552942e-01, -1.60539106e-01],\n",
       "       [-7.88004060e-01,  1.49872546e-01],\n",
       "       [ 1.41833552e+00, -5.95332853e-01],\n",
       "       [-6.47711701e-01,  4.93663372e-01],\n",
       "       [ 6.18154734e-01,  1.27916728e+00],\n",
       "       [ 2.49970651e-01, -5.71707385e-02],\n",
       "       [ 4.92956920e-01, -7.11063736e-01],\n",
       "       [ 8.87018841e-01, -5.02814525e-01],\n",
       "       [ 9.90235212e-01,  1.87425594e-01],\n",
       "       [ 2.09519847e-01,  9.24975260e-01],\n",
       "       [-4.79849976e-01,  1.18550921e+00],\n",
       "       [ 1.79190247e+00, -2.85898458e-01],\n",
       "       [-1.86090512e-01,  7.58510760e-01],\n",
       "       [-4.16813511e-01,  4.44306134e-01],\n",
       "       [ 1.72463884e+00, -6.87669813e-01],\n",
       "       [ 1.31222927e+00, -5.31836083e-01],\n",
       "       [ 6.50238431e-01, -8.06928189e-01],\n",
       "       [ 1.10077324e+00, -2.68328718e-01],\n",
       "       [-9.43470401e-01,  6.27846610e-01],\n",
       "       [ 1.51503854e-01, -1.26363289e-01],\n",
       "       [ 5.69501409e-01,  6.49230599e-01],\n",
       "       [ 1.67708108e+00,  5.57546118e-02],\n",
       "       [ 1.67594760e+00, -3.40118287e-01],\n",
       "       [ 2.34671854e+00,  7.61480025e-01],\n",
       "       [ 8.22570367e-01, -8.76717151e-01],\n",
       "       [ 1.64627764e+00,  6.28091974e-01],\n",
       "       [ 1.56512659e+00, -1.10647695e-01],\n",
       "       [ 1.13418709e+00, -9.74366947e-01],\n",
       "       [-1.27236338e-01,  6.39791567e-01],\n",
       "       [ 6.97497282e-01,  8.22052027e-01],\n",
       "       [ 1.81729080e+00,  5.65179239e-01],\n",
       "       [ 1.89330659e+00,  3.00773338e-02],\n",
       "       [ 2.65362859e-01,  1.31993960e+00],\n",
       "       [ 1.05956442e+00, -1.82390540e-01],\n",
       "       [ 1.60538382e+00,  7.26402204e-02],\n",
       "       [ 1.50777418e+00, -1.41356360e-01],\n",
       "       [-2.78490636e-01,  3.56488534e-01],\n",
       "       [-1.77223453e-01,  3.89299563e-01],\n",
       "       [ 9.12134546e-01, -2.68816066e-02],\n",
       "       [ 1.63117570e-01, -3.58303255e-01],\n",
       "       [-5.33783181e-01,  3.43049814e-01],\n",
       "       [ 2.08672883e+00,  2.44730095e-01],\n",
       "       [-2.28707652e-01,  1.61256166e+00],\n",
       "       [-3.24322594e-01, -4.24763927e-02],\n",
       "       [ 6.72586927e-01,  3.52964834e-01],\n",
       "       [-1.23350891e-01,  1.17761524e+00],\n",
       "       [ 8.47370695e-01,  7.46682207e-01],\n",
       "       [ 5.38058913e-01,  8.78433588e-01],\n",
       "       [ 1.93222710e+00,  2.25304387e-02],\n",
       "       [-1.03719914e+00,  4.22241655e-01],\n",
       "       [ 1.66329252e+00, -6.27723575e-01],\n",
       "       [ 1.58577506e+00, -4.93651013e-01],\n",
       "       [ 9.34392639e-02, -5.97360829e-02],\n",
       "       [ 8.85914138e-01, -5.28836735e-02],\n",
       "       [ 1.67768227e+00, -1.64845380e-01],\n",
       "       [-4.69839567e-01,  1.08087079e+00],\n",
       "       [ 1.15040071e+00,  4.98698022e-01],\n",
       "       [-8.30980785e-01,  5.88799186e-01],\n",
       "       [-2.72692833e-01,  1.37763389e+00],\n",
       "       [-6.91090898e-01,  3.19417256e-01],\n",
       "       [ 1.15297737e-01,  6.58324926e-01],\n",
       "       [ 3.94556086e-01, -1.36868739e-01],\n",
       "       [ 7.53577725e-01,  5.10617580e-01],\n",
       "       [ 1.96465857e-01,  2.78951260e-01],\n",
       "       [ 2.53522794e-02, -4.89963284e-01],\n",
       "       [ 6.55409509e-01,  1.05572730e+00],\n",
       "       [-9.23333965e-01,  2.84388511e-01],\n",
       "       [ 1.14389294e+00, -5.14773007e-01],\n",
       "       [-5.10459493e-01,  2.08955879e-01],\n",
       "       [ 2.45269026e-01, -3.09408000e-02],\n",
       "       [ 2.55816441e-01, -6.59109054e-01],\n",
       "       [-3.47463659e-01,  2.02441673e-01],\n",
       "       [ 1.41970128e+00, -3.80039757e-01],\n",
       "       [ 1.36630696e+00,  2.01503182e-01],\n",
       "       [ 1.46386924e+00, -4.64394862e-01],\n",
       "       [ 1.02772956e+00, -5.98585903e-01],\n",
       "       [ 2.05199159e-01,  4.62803216e-02],\n",
       "       [ 3.76578670e-01, -4.08171059e-01],\n",
       "       [ 3.48108941e-01,  9.72380202e-01],\n",
       "       [ 5.70275817e-01, -3.42114365e-01],\n",
       "       [ 1.82534319e+00, -4.74592967e-01],\n",
       "       [ 1.73648589e+00,  2.71324071e-01],\n",
       "       [ 3.06318951e-01,  8.09297390e-01],\n",
       "       [-6.86076303e-01,  9.65750469e-01],\n",
       "       [ 5.60818912e-01, -3.74689657e-01],\n",
       "       [ 2.33620076e+00,  5.82251767e-02],\n",
       "       [-7.81872965e-01,  6.70598841e-01],\n",
       "       [-1.07832872e+00, -1.21168292e-02],\n",
       "       [ 2.35860558e+00, -1.75025974e-01],\n",
       "       [ 5.14159474e-01,  7.18711102e-02],\n",
       "       [-4.97771128e-01,  6.05914809e-01],\n",
       "       [ 7.24256348e-01,  6.45558598e-02],\n",
       "       [-9.31530335e-01,  1.27896769e-01],\n",
       "       [-1.90618960e-01, -6.76569755e-03],\n",
       "       [ 2.65150016e-01, -1.40820706e-01],\n",
       "       [ 7.02194671e-01,  8.62962457e-01],\n",
       "       [-1.42932575e-01,  7.92226312e-01],\n",
       "       [-7.13791556e-01,  2.18748102e-01],\n",
       "       [ 7.34619540e-01, -6.42948597e-01],\n",
       "       [-6.55175999e-01,  8.36913647e-01],\n",
       "       [ 6.56151158e-01, -2.62530506e-01],\n",
       "       [ 2.27140126e+00,  2.92755493e-01],\n",
       "       [ 1.83183628e+00, -1.58506703e-01],\n",
       "       [-4.37889256e-01,  9.92234699e-01],\n",
       "       [ 1.71987297e-01, -2.85380331e-01],\n",
       "       [ 1.19263915e+00, -3.58211429e-01],\n",
       "       [-7.35038716e-01,  2.81932994e-01],\n",
       "       [ 2.18638097e-01,  8.06788999e-01],\n",
       "       [ 1.08760124e+00, -2.37580352e-01],\n",
       "       [-1.40102161e+00, -8.80519010e-03],\n",
       "       [ 1.62150139e+00, -2.68565850e-01],\n",
       "       [ 9.82912726e-02,  2.32330595e-01],\n",
       "       [ 6.44463606e-01, -5.08731975e-01],\n",
       "       [ 9.31694406e-01,  2.25258580e-01],\n",
       "       [ 7.34269171e-02,  7.44663544e-01],\n",
       "       [ 1.91478332e+00,  8.46005101e-01],\n",
       "       [-4.76859773e-01,  7.34571243e-01],\n",
       "       [-1.55318854e-01,  4.69458277e-01],\n",
       "       [ 2.08572348e+00, -5.76227405e-01],\n",
       "       [-1.11278272e+00,  5.71152200e-01],\n",
       "       [-7.92428828e-01,  6.07863465e-01],\n",
       "       [ 9.99684297e-01, -5.01030480e-01],\n",
       "       [ 6.45812184e-02,  4.06483521e-01],\n",
       "       [-4.65714088e-01,  7.77224714e-01],\n",
       "       [ 1.10364345e+00, -4.09491511e-01],\n",
       "       [ 5.31827138e-01,  6.41040804e-01],\n",
       "       [ 9.87328657e-01, -4.30995961e-01],\n",
       "       [ 8.42570804e-01,  3.59580713e-01],\n",
       "       [-1.54334399e+00,  7.56426983e-01],\n",
       "       [ 1.06396571e+00, -4.40674407e-01],\n",
       "       [ 2.10210497e+00,  4.86828124e-01],\n",
       "       [ 4.01349940e-01,  8.80609241e-01],\n",
       "       [ 1.18873632e+00, -5.84069120e-01],\n",
       "       [ 8.16351792e-01,  2.06498642e-01],\n",
       "       [ 4.03646982e-01,  2.38093058e-01],\n",
       "       [-8.36697160e-01,  6.20487229e-01],\n",
       "       [ 4.51775491e-01, -1.91396828e-01],\n",
       "       [ 9.15210874e-01, -8.46453105e-01],\n",
       "       [ 6.37994173e-01,  1.04656802e+00],\n",
       "       [-7.28562627e-01,  6.45653172e-01],\n",
       "       [ 7.23123251e-01,  9.14870837e-02],\n",
       "       [ 2.77718437e-01, -1.41245049e-01],\n",
       "       [ 1.92103556e+00,  4.00031089e-01],\n",
       "       [ 6.16020219e-01,  8.67685606e-01],\n",
       "       [ 1.75605457e+00, -2.78544611e-01],\n",
       "       [ 6.96447336e-01,  1.65355205e+00],\n",
       "       [ 1.61022700e-01,  1.01955740e+00],\n",
       "       [ 6.22423306e-01, -4.55405214e-01],\n",
       "       [ 3.21075345e-01,  5.85406054e-01],\n",
       "       [ 7.86813227e-01, -3.44679017e-02],\n",
       "       [ 1.41391941e+00,  4.04814737e-01],\n",
       "       [ 1.59665040e-02,  9.73850776e-01],\n",
       "       [ 6.75312045e-01, -7.12311607e-04],\n",
       "       [ 2.14753753e+00, -2.85723042e-01],\n",
       "       [-1.63409706e-01,  1.73994937e-01],\n",
       "       [ 6.44558823e-02, -2.52426585e-01],\n",
       "       [-4.00182782e-01,  1.07532874e+00],\n",
       "       [ 2.13916330e+00,  1.83054306e-01],\n",
       "       [ 8.11765107e-01, -8.65083329e-01],\n",
       "       [ 7.89054942e-01,  7.76951870e-01],\n",
       "       [ 1.32986002e+00, -8.79135463e-01],\n",
       "       [ 1.47627014e+00,  9.79335569e-03],\n",
       "       [ 1.12530694e-01,  1.13078045e+00],\n",
       "       [ 1.77341192e+00, -3.17731724e-01],\n",
       "       [ 7.79909166e-02,  7.30504489e-01],\n",
       "       [ 1.81123049e+00,  1.29032397e-01],\n",
       "       [ 1.45566496e+00, -3.55596337e-01],\n",
       "       [ 2.32358602e-01,  9.03048093e-01],\n",
       "       [ 1.20382442e+00, -2.53072328e-03],\n",
       "       [-1.74707517e-01,  1.02795252e+00],\n",
       "       [-1.52655606e-01,  9.94640462e-01],\n",
       "       [ 1.20700063e+00, -3.31809363e-01],\n",
       "       [-8.99786656e-01,  1.28051161e+00],\n",
       "       [-3.38224967e-02,  9.30425378e-01],\n",
       "       [ 5.20038702e-02,  1.88362295e-01],\n",
       "       [ 2.54856528e-01,  1.79272293e-01],\n",
       "       [ 1.98551664e+00, -3.73629832e-01],\n",
       "       [ 1.67906791e+00, -2.00102449e-01],\n",
       "       [-6.78948482e-01,  6.29826613e-01],\n",
       "       [-9.61316969e-01, -7.29345008e-01],\n",
       "       [-2.50188099e-01,  7.20031087e-01],\n",
       "       [ 7.60599207e-01, -1.11120729e-01]])"
      ]
     },
     "execution_count": 19,
     "metadata": {},
     "output_type": "execute_result"
    }
   ],
   "source": [
    "X"
   ]
  },
  {
   "cell_type": "code",
   "execution_count": 20,
   "metadata": {},
   "outputs": [
    {
     "name": "stdout",
     "output_type": "stream",
     "text": [
      "sepal length (cm) = 0.11249225099876375\n",
      "sepal width (cm) = 0.02311928828251033\n",
      "petal length (cm) = 0.4410304643639577\n",
      "petal width (cm) = 0.4233579963547682\n"
     ]
    }
   ],
   "source": [
    "from sklearn.datasets import load_iris\n",
    "iris=load_iris()\n",
    "rnd_clf=RandomForestClassifier(n_estimators=500,n_jobs=-1,random_state=42)\n",
    "rnd_clf.fit(iris[\"data\"],iris[\"target\"])\n",
    "for name, importance in zip(iris[\"feature_names\"],rnd_clf.feature_importances_):\n",
    "    print(name,\"=\",importance)"
   ]
  },
  {
   "cell_type": "code",
   "execution_count": 21,
   "metadata": {},
   "outputs": [
    {
     "data": {
      "image/png": "[encoded data removed]",
      "text/plain": [
       "<Figure size 432x288 with 1 Axes>"
      ]
     },
     "metadata": {
      "needs_background": "light"
     },
     "output_type": "display_data"
    }
   ],
   "source": [
    "import numpy as np\n",
    "\n",
    "features=iris['feature_names']\n",
    "importances=rnd_clf.feature_importances_\n",
    "indices=np.argsort(importances)\n",
    "\n",
    "plt.title('Feature Importances')\n",
    "plt.barh(range(len(indices)),importances[indices],color='b',align='center')\n",
    "plt.yticks(range(len(indices)),[features[i] for i in indices])\n",
    "plt.xlabel('Relative Importance')\n",
    "plt.show()"
   ]
  },
  {
   "cell_type": "code",
   "execution_count": 22,
   "metadata": {},
   "outputs": [],
   "source": [
    "from numpy import *\n",
    "import matplotlib.pyplot as plt"
   ]
  },
  {
   "cell_type": "code",
   "execution_count": 23,
   "metadata": {},
   "outputs": [],
   "source": [
    "def loadSimpData():\n",
    "    datMat=matrix([[1., 2.1],\n",
    "                 [2.0, 1.1],\n",
    "                 [1.3, 1.],\n",
    "                 [1., 1.],\n",
    "                 [2., 1.]])\n",
    "    classLabels=[1.0,1.0,-1.0,-1.0,1.0]\n",
    "    return datMat, classLabels"
   ]
  },
  {
   "cell_type": "code",
   "execution_count": 24,
   "metadata": {},
   "outputs": [],
   "source": [
    "datMat, classLabels= loadSimpData()"
   ]
  },
  {
   "cell_type": "code",
   "execution_count": 25,
   "metadata": {},
   "outputs": [
    {
     "data": {
      "image/png": "[encoded data removed]",
      "text/plain": [
       "<Figure size 432x288 with 1 Axes>"
      ]
     },
     "metadata": {
      "needs_background": "light"
     },
     "output_type": "display_data"
    }
   ],
   "source": [
    "xcord0=[]\n",
    "ycord0=[]\n",
    "xcord1=[]\n",
    "ycord1=[]\n",
    "markers=[]\n",
    "colors=[]\n",
    "\n",
    "for i in range(len(classLabels)):\n",
    "    if classLabels[i]==1.0:\n",
    "        xcord1.append(datMat[i,0]),ycord1.append(datMat[i,1])\n",
    "    else:\n",
    "        xcord0.append(datMat[i,0]),ycord0.append(datMat[i,1])\n",
    "\n",
    "fig = plt.figure()\n",
    "ax=fig.add_subplot(111)\n",
    "ax.scatter(xcord0, ycord0, marker='s', s=90)\n",
    "ax.scatter(xcord1, ycord1, marker='s', s=50, c='red')\n",
    "plt.title('Decision Stump Test Data')\n",
    "plt.show()"
   ]
  },
  {
   "cell_type": "code",
   "execution_count": 26,
   "metadata": {},
   "outputs": [
    {
     "data": {
      "text/plain": [
       "[1.0, 1.0, -1.0, -1.0, 1.0]"
      ]
     },
     "execution_count": 26,
     "metadata": {},
     "output_type": "execute_result"
    }
   ],
   "source": [
    "classLabels"
   ]
  },
  {
   "cell_type": "code",
   "execution_count": 27,
   "metadata": {},
   "outputs": [],
   "source": [
    "def stumpClassify(dataMatrix,dimen,threshVal,threshIneq):#just classify the data\n",
    "    retArray=ones((shape(dataMatrix)[0],1))\n",
    "    if threshIneq=='lt':\n",
    "        retArray[dataMatrix[:, dimen]<=threshVal] = -1.0\n",
    "    else:\n",
    "        retArray[dataMatrix[:, dimen]>threshVal] = -1.0\n",
    "    return retArray"
   ]
  },
  {
   "cell_type": "code",
   "execution_count": 28,
   "metadata": {},
   "outputs": [],
   "source": [
    "def buildStump(dataArr,classLabels,D):\n",
    "    dataMatrix=mat(dataArr)\n",
    "    labelMat=mat(classLabels).T\n",
    "    m,n=shape(dataMatrix)\n",
    "    numSteps=10.0\n",
    "    bestStump={}\n",
    "    bestClasEst=mat(zeros((m,1)))\n",
    "    minError=inf #init error sum, to +infinity\n",
    "    for i in range(n): #loop over all dimensions\n",
    "        rangeMin=dataMatrix[:,i].min()\n",
    "        rangeMax=dataMatrix[:,i].max()\n",
    "        stepSize=(rangeMax-rangeMin)/numSteps\n",
    "        for j in range(-1,int(numSteps)+1): #loop over all range in current dimension\n",
    "            for inequal in ['lt','gt']: #go over less than and greater than\n",
    "                threshVal=(rangeMin+float(j)*stepSize)\n",
    "                predictedVals=stumpClassify(dataMatrix,i,threshVal,inequal)\n",
    "                errArr=mat(ones((m,1)))\n",
    "                errArr[predictedVals==labelMat]=0\n",
    "                weightedError=D.T*errArr #calc total error multiplied by D\n",
    "                print(\"split:dim{}, thresh {}, \\\n",
    "                      thresh ineqal:{}, the wieghed error is {}\".format(i,threshVal,inequal,weightedError))\n",
    "                if weightedError<minError:\n",
    "                    minError=weightedError\n",
    "                    bestClasEst=predictedVals.copy()\n",
    "                    bestStump['dim']=i\n",
    "                    bestStump['thresh']=threshVal\n",
    "                    bestStump['ineq']=inequal\n",
    "    return bestStump,minError,bestClasEst"
   ]
  },
  {
   "cell_type": "code",
   "execution_count": 29,
   "metadata": {
    "scrolled": false
   },
   "outputs": [
    {
     "name": "stdout",
     "output_type": "stream",
     "text": [
      "split:dim0, thresh 0.9,                       thresh ineqal:lt, the wieghed error is [[0.4]]\n",
      "split:dim0, thresh 0.9,                       thresh ineqal:gt, the wieghed error is [[0.6]]\n",
      "split:dim0, thresh 1.0,                       thresh ineqal:lt, the wieghed error is [[0.4]]\n",
      "split:dim0, thresh 1.0,                       thresh ineqal:gt, the wieghed error is [[0.6]]\n",
      "split:dim0, thresh 1.1,                       thresh ineqal:lt, the wieghed error is [[0.4]]\n",
      "split:dim0, thresh 1.1,                       thresh ineqal:gt, the wieghed error is [[0.6]]\n",
      "split:dim0, thresh 1.2,                       thresh ineqal:lt, the wieghed error is [[0.4]]\n",
      "split:dim0, thresh 1.2,                       thresh ineqal:gt, the wieghed error is [[0.6]]\n",
      "split:dim0, thresh 1.3,                       thresh ineqal:lt, the wieghed error is [[0.2]]\n",
      "split:dim0, thresh 1.3,                       thresh ineqal:gt, the wieghed error is [[0.8]]\n",
      "split:dim0, thresh 1.4,                       thresh ineqal:lt, the wieghed error is [[0.2]]\n",
      "split:dim0, thresh 1.4,                       thresh ineqal:gt, the wieghed error is [[0.8]]\n",
      "split:dim0, thresh 1.5,                       thresh ineqal:lt, the wieghed error is [[0.2]]\n",
      "split:dim0, thresh 1.5,                       thresh ineqal:gt, the wieghed error is [[0.8]]\n",
      "split:dim0, thresh 1.6,                       thresh ineqal:lt, the wieghed error is [[0.2]]\n",
      "split:dim0, thresh 1.6,                       thresh ineqal:gt, the wieghed error is [[0.8]]\n",
      "split:dim0, thresh 1.7000000000000002,                       thresh ineqal:lt, the wieghed error is [[0.2]]\n",
      "split:dim0, thresh 1.7000000000000002,                       thresh ineqal:gt, the wieghed error is [[0.8]]\n",
      "split:dim0, thresh 1.8,                       thresh ineqal:lt, the wieghed error is [[0.2]]\n",
      "split:dim0, thresh 1.8,                       thresh ineqal:gt, the wieghed error is [[0.8]]\n",
      "split:dim0, thresh 1.9,                       thresh ineqal:lt, the wieghed error is [[0.2]]\n",
      "split:dim0, thresh 1.9,                       thresh ineqal:gt, the wieghed error is [[0.8]]\n",
      "split:dim0, thresh 2.0,                       thresh ineqal:lt, the wieghed error is [[0.6]]\n",
      "split:dim0, thresh 2.0,                       thresh ineqal:gt, the wieghed error is [[0.4]]\n",
      "split:dim1, thresh 0.89,                       thresh ineqal:lt, the wieghed error is [[0.4]]\n",
      "split:dim1, thresh 0.89,                       thresh ineqal:gt, the wieghed error is [[0.6]]\n",
      "split:dim1, thresh 1.0,                       thresh ineqal:lt, the wieghed error is [[0.2]]\n",
      "split:dim1, thresh 1.0,                       thresh ineqal:gt, the wieghed error is [[0.8]]\n",
      "split:dim1, thresh 1.11,                       thresh ineqal:lt, the wieghed error is [[0.4]]\n",
      "split:dim1, thresh 1.11,                       thresh ineqal:gt, the wieghed error is [[0.6]]\n",
      "split:dim1, thresh 1.22,                       thresh ineqal:lt, the wieghed error is [[0.4]]\n",
      "split:dim1, thresh 1.22,                       thresh ineqal:gt, the wieghed error is [[0.6]]\n",
      "split:dim1, thresh 1.33,                       thresh ineqal:lt, the wieghed error is [[0.4]]\n",
      "split:dim1, thresh 1.33,                       thresh ineqal:gt, the wieghed error is [[0.6]]\n",
      "split:dim1, thresh 1.44,                       thresh ineqal:lt, the wieghed error is [[0.4]]\n",
      "split:dim1, thresh 1.44,                       thresh ineqal:gt, the wieghed error is [[0.6]]\n",
      "split:dim1, thresh 1.55,                       thresh ineqal:lt, the wieghed error is [[0.4]]\n",
      "split:dim1, thresh 1.55,                       thresh ineqal:gt, the wieghed error is [[0.6]]\n",
      "split:dim1, thresh 1.6600000000000001,                       thresh ineqal:lt, the wieghed error is [[0.4]]\n",
      "split:dim1, thresh 1.6600000000000001,                       thresh ineqal:gt, the wieghed error is [[0.6]]\n",
      "split:dim1, thresh 1.77,                       thresh ineqal:lt, the wieghed error is [[0.4]]\n",
      "split:dim1, thresh 1.77,                       thresh ineqal:gt, the wieghed error is [[0.6]]\n",
      "split:dim1, thresh 1.8800000000000001,                       thresh ineqal:lt, the wieghed error is [[0.4]]\n",
      "split:dim1, thresh 1.8800000000000001,                       thresh ineqal:gt, the wieghed error is [[0.6]]\n",
      "split:dim1, thresh 1.9900000000000002,                       thresh ineqal:lt, the wieghed error is [[0.4]]\n",
      "split:dim1, thresh 1.9900000000000002,                       thresh ineqal:gt, the wieghed error is [[0.6]]\n",
      "split:dim1, thresh 2.1,                       thresh ineqal:lt, the wieghed error is [[0.6]]\n",
      "split:dim1, thresh 2.1,                       thresh ineqal:gt, the wieghed error is [[0.4]]\n"
     ]
    },
    {
     "data": {
      "text/plain": [
       "({'dim': 0, 'thresh': 1.3, 'ineq': 'lt'}, matrix([[0.2]]), array([[-1.],\n",
       "        [ 1.],\n",
       "        [-1.],\n",
       "        [-1.],\n",
       "        [ 1.]]))"
      ]
     },
     "execution_count": 29,
     "metadata": {},
     "output_type": "execute_result"
    }
   ],
   "source": [
    "D=mat(ones((5,1))/5)\n",
    "buildStump(datMat,classLabels,D)"
   ]
  },
  {
   "cell_type": "code",
   "execution_count": 30,
   "metadata": {},
   "outputs": [],
   "source": [
    "def adaBoostTrainDS(dataArr,classLabels,numlt=40):\n",
    "    weakClassArr=[]\n",
    "    m=shape(dataArr)[0]\n",
    "    D=mat(ones((m,1))/m) # initial D to all equal\n",
    "    aggClassEst=mat(zeros((m,1)))\n",
    "    for i in range(numlt):\n",
    "        bestStump,error,classEst=buildStump(dataArr,classLabels,D) #build stamp\n",
    "        print(\"D: {}\".format(D.T))\n",
    "        # calc alpha, throw in max(error,eps) to account for error=0\n",
    "        alpha=float(0.5*log((1.0-error)/max(error,1e-16)))\n",
    "        bestStump['alpha']=alpha\n",
    "        weakClassArr.append(bestStump) #store Stump Params in Array\n",
    "        print(\"classEst: {}\".format(classEst.T))\n",
    "        # exponent for D calc, getting messy\n",
    "        expon=multiply(-1*alpha*mat(classLabels).T,classEst)\n",
    "        D=multiply(D,exp(expon)) #calc New D for new iteration\n",
    "        D=D/D.sum()\n",
    "        # calc training error of all classifiers, \n",
    "        # if this is 0 quit for loop early(use break)\n",
    "        aggClassEst+=alpha*classEst\n",
    "        print(\"aggClassEst:{}\".format(aggClassEst.T))\n",
    "        aggErrors=multiply(sign(aggClassEst)!=mat(classLabels).T, ones((m,1)))\n",
    "        errorRate=aggErrors.sum()/m\n",
    "        print(\"total error:{}\".format(errorRate))\n",
    "        if errorRate==0.0: break\n",
    "    return weakClassArr"
   ]
  },
  {
   "cell_type": "code",
   "execution_count": 31,
   "metadata": {},
   "outputs": [
    {
     "name": "stdout",
     "output_type": "stream",
     "text": [
      "split:dim0, thresh 0.9,                       thresh ineqal:lt, the wieghed error is [[0.4]]\n",
      "split:dim0, thresh 0.9,                       thresh ineqal:gt, the wieghed error is [[0.6]]\n",
      "split:dim0, thresh 1.0,                       thresh ineqal:lt, the wieghed error is [[0.4]]\n",
      "split:dim0, thresh 1.0,                       thresh ineqal:gt, the wieghed error is [[0.6]]\n",
      "split:dim0, thresh 1.1,                       thresh ineqal:lt, the wieghed error is [[0.4]]\n",
      "split:dim0, thresh 1.1,                       thresh ineqal:gt, the wieghed error is [[0.6]]\n",
      "split:dim0, thresh 1.2,                       thresh ineqal:lt, the wieghed error is [[0.4]]\n",
      "split:dim0, thresh 1.2,                       thresh ineqal:gt, the wieghed error is [[0.6]]\n",
      "split:dim0, thresh 1.3,                       thresh ineqal:lt, the wieghed error is [[0.2]]\n",
      "split:dim0, thresh 1.3,                       thresh ineqal:gt, the wieghed error is [[0.8]]\n",
      "split:dim0, thresh 1.4,                       thresh ineqal:lt, the wieghed error is [[0.2]]\n",
      "split:dim0, thresh 1.4,                       thresh ineqal:gt, the wieghed error is [[0.8]]\n",
      "split:dim0, thresh 1.5,                       thresh ineqal:lt, the wieghed error is [[0.2]]\n",
      "split:dim0, thresh 1.5,                       thresh ineqal:gt, the wieghed error is [[0.8]]\n",
      "split:dim0, thresh 1.6,                       thresh ineqal:lt, the wieghed error is [[0.2]]\n",
      "split:dim0, thresh 1.6,                       thresh ineqal:gt, the wieghed error is [[0.8]]\n",
      "split:dim0, thresh 1.7000000000000002,                       thresh ineqal:lt, the wieghed error is [[0.2]]\n",
      "split:dim0, thresh 1.7000000000000002,                       thresh ineqal:gt, the wieghed error is [[0.8]]\n",
      "split:dim0, thresh 1.8,                       thresh ineqal:lt, the wieghed error is [[0.2]]\n",
      "split:dim0, thresh 1.8,                       thresh ineqal:gt, the wieghed error is [[0.8]]\n",
      "split:dim0, thresh 1.9,                       thresh ineqal:lt, the wieghed error is [[0.2]]\n",
      "split:dim0, thresh 1.9,                       thresh ineqal:gt, the wieghed error is [[0.8]]\n",
      "split:dim0, thresh 2.0,                       thresh ineqal:lt, the wieghed error is [[0.6]]\n",
      "split:dim0, thresh 2.0,                       thresh ineqal:gt, the wieghed error is [[0.4]]\n",
      "split:dim1, thresh 0.89,                       thresh ineqal:lt, the wieghed error is [[0.4]]\n",
      "split:dim1, thresh 0.89,                       thresh ineqal:gt, the wieghed error is [[0.6]]\n",
      "split:dim1, thresh 1.0,                       thresh ineqal:lt, the wieghed error is [[0.2]]\n",
      "split:dim1, thresh 1.0,                       thresh ineqal:gt, the wieghed error is [[0.8]]\n",
      "split:dim1, thresh 1.11,                       thresh ineqal:lt, the wieghed error is [[0.4]]\n",
      "split:dim1, thresh 1.11,                       thresh ineqal:gt, the wieghed error is [[0.6]]\n",
      "split:dim1, thresh 1.22,                       thresh ineqal:lt, the wieghed error is [[0.4]]\n",
      "split:dim1, thresh 1.22,                       thresh ineqal:gt, the wieghed error is [[0.6]]\n",
      "split:dim1, thresh 1.33,                       thresh ineqal:lt, the wieghed error is [[0.4]]\n",
      "split:dim1, thresh 1.33,                       thresh ineqal:gt, the wieghed error is [[0.6]]\n",
      "split:dim1, thresh 1.44,                       thresh ineqal:lt, the wieghed error is [[0.4]]\n",
      "split:dim1, thresh 1.44,                       thresh ineqal:gt, the wieghed error is [[0.6]]\n",
      "split:dim1, thresh 1.55,                       thresh ineqal:lt, the wieghed error is [[0.4]]\n",
      "split:dim1, thresh 1.55,                       thresh ineqal:gt, the wieghed error is [[0.6]]\n",
      "split:dim1, thresh 1.6600000000000001,                       thresh ineqal:lt, the wieghed error is [[0.4]]\n",
      "split:dim1, thresh 1.6600000000000001,                       thresh ineqal:gt, the wieghed error is [[0.6]]\n",
      "split:dim1, thresh 1.77,                       thresh ineqal:lt, the wieghed error is [[0.4]]\n",
      "split:dim1, thresh 1.77,                       thresh ineqal:gt, the wieghed error is [[0.6]]\n",
      "split:dim1, thresh 1.8800000000000001,                       thresh ineqal:lt, the wieghed error is [[0.4]]\n",
      "split:dim1, thresh 1.8800000000000001,                       thresh ineqal:gt, the wieghed error is [[0.6]]\n",
      "split:dim1, thresh 1.9900000000000002,                       thresh ineqal:lt, the wieghed error is [[0.4]]\n",
      "split:dim1, thresh 1.9900000000000002,                       thresh ineqal:gt, the wieghed error is [[0.6]]\n",
      "split:dim1, thresh 2.1,                       thresh ineqal:lt, the wieghed error is [[0.6]]\n",
      "split:dim1, thresh 2.1,                       thresh ineqal:gt, the wieghed error is [[0.4]]\n",
      "D: [[0.2 0.2 0.2 0.2 0.2]]\n",
      "classEst: [[-1.  1. -1. -1.  1.]]\n",
      "aggClassEst:[[-0.69314718  0.69314718 -0.69314718 -0.69314718  0.69314718]]\n",
      "total error:0.2\n",
      "split:dim0, thresh 0.9,                       thresh ineqal:lt, the wieghed error is [[0.25]]\n",
      "split:dim0, thresh 0.9,                       thresh ineqal:gt, the wieghed error is [[0.75]]\n",
      "split:dim0, thresh 1.0,                       thresh ineqal:lt, the wieghed error is [[0.625]]\n",
      "split:dim0, thresh 1.0,                       thresh ineqal:gt, the wieghed error is [[0.375]]\n",
      "split:dim0, thresh 1.1,                       thresh ineqal:lt, the wieghed error is [[0.625]]\n",
      "split:dim0, thresh 1.1,                       thresh ineqal:gt, the wieghed error is [[0.375]]\n",
      "split:dim0, thresh 1.2,                       thresh ineqal:lt, the wieghed error is [[0.625]]\n",
      "split:dim0, thresh 1.2,                       thresh ineqal:gt, the wieghed error is [[0.375]]\n",
      "split:dim0, thresh 1.3,                       thresh ineqal:lt, the wieghed error is [[0.5]]\n",
      "split:dim0, thresh 1.3,                       thresh ineqal:gt, the wieghed error is [[0.5]]\n",
      "split:dim0, thresh 1.4,                       thresh ineqal:lt, the wieghed error is [[0.5]]\n",
      "split:dim0, thresh 1.4,                       thresh ineqal:gt, the wieghed error is [[0.5]]\n",
      "split:dim0, thresh 1.5,                       thresh ineqal:lt, the wieghed error is [[0.5]]\n",
      "split:dim0, thresh 1.5,                       thresh ineqal:gt, the wieghed error is [[0.5]]\n",
      "split:dim0, thresh 1.6,                       thresh ineqal:lt, the wieghed error is [[0.5]]\n",
      "split:dim0, thresh 1.6,                       thresh ineqal:gt, the wieghed error is [[0.5]]\n",
      "split:dim0, thresh 1.7000000000000002,                       thresh ineqal:lt, the wieghed error is [[0.5]]\n",
      "split:dim0, thresh 1.7000000000000002,                       thresh ineqal:gt, the wieghed error is [[0.5]]\n",
      "split:dim0, thresh 1.8,                       thresh ineqal:lt, the wieghed error is [[0.5]]\n",
      "split:dim0, thresh 1.8,                       thresh ineqal:gt, the wieghed error is [[0.5]]\n",
      "split:dim0, thresh 1.9,                       thresh ineqal:lt, the wieghed error is [[0.5]]\n",
      "split:dim0, thresh 1.9,                       thresh ineqal:gt, the wieghed error is [[0.5]]\n",
      "split:dim0, thresh 2.0,                       thresh ineqal:lt, the wieghed error is [[0.75]]\n",
      "split:dim0, thresh 2.0,                       thresh ineqal:gt, the wieghed error is [[0.25]]\n",
      "split:dim1, thresh 0.89,                       thresh ineqal:lt, the wieghed error is [[0.25]]\n",
      "split:dim1, thresh 0.89,                       thresh ineqal:gt, the wieghed error is [[0.75]]\n",
      "split:dim1, thresh 1.0,                       thresh ineqal:lt, the wieghed error is [[0.125]]\n",
      "split:dim1, thresh 1.0,                       thresh ineqal:gt, the wieghed error is [[0.875]]\n",
      "split:dim1, thresh 1.11,                       thresh ineqal:lt, the wieghed error is [[0.25]]\n",
      "split:dim1, thresh 1.11,                       thresh ineqal:gt, the wieghed error is [[0.75]]\n",
      "split:dim1, thresh 1.22,                       thresh ineqal:lt, the wieghed error is [[0.25]]\n",
      "split:dim1, thresh 1.22,                       thresh ineqal:gt, the wieghed error is [[0.75]]\n",
      "split:dim1, thresh 1.33,                       thresh ineqal:lt, the wieghed error is [[0.25]]\n",
      "split:dim1, thresh 1.33,                       thresh ineqal:gt, the wieghed error is [[0.75]]\n",
      "split:dim1, thresh 1.44,                       thresh ineqal:lt, the wieghed error is [[0.25]]\n",
      "split:dim1, thresh 1.44,                       thresh ineqal:gt, the wieghed error is [[0.75]]\n",
      "split:dim1, thresh 1.55,                       thresh ineqal:lt, the wieghed error is [[0.25]]\n",
      "split:dim1, thresh 1.55,                       thresh ineqal:gt, the wieghed error is [[0.75]]\n",
      "split:dim1, thresh 1.6600000000000001,                       thresh ineqal:lt, the wieghed error is [[0.25]]\n",
      "split:dim1, thresh 1.6600000000000001,                       thresh ineqal:gt, the wieghed error is [[0.75]]\n",
      "split:dim1, thresh 1.77,                       thresh ineqal:lt, the wieghed error is [[0.25]]\n",
      "split:dim1, thresh 1.77,                       thresh ineqal:gt, the wieghed error is [[0.75]]\n",
      "split:dim1, thresh 1.8800000000000001,                       thresh ineqal:lt, the wieghed error is [[0.25]]\n",
      "split:dim1, thresh 1.8800000000000001,                       thresh ineqal:gt, the wieghed error is [[0.75]]\n",
      "split:dim1, thresh 1.9900000000000002,                       thresh ineqal:lt, the wieghed error is [[0.25]]\n",
      "split:dim1, thresh 1.9900000000000002,                       thresh ineqal:gt, the wieghed error is [[0.75]]\n",
      "split:dim1, thresh 2.1,                       thresh ineqal:lt, the wieghed error is [[0.75]]\n",
      "split:dim1, thresh 2.1,                       thresh ineqal:gt, the wieghed error is [[0.25]]\n",
      "D: [[0.5   0.125 0.125 0.125 0.125]]\n",
      "classEst: [[ 1.  1. -1. -1. -1.]]\n",
      "aggClassEst:[[ 0.27980789  1.66610226 -1.66610226 -1.66610226 -0.27980789]]\n",
      "total error:0.2\n",
      "split:dim0, thresh 0.9,                       thresh ineqal:lt, the wieghed error is [[0.14285714]]\n",
      "split:dim0, thresh 0.9,                       thresh ineqal:gt, the wieghed error is [[0.85714286]]\n",
      "split:dim0, thresh 1.0,                       thresh ineqal:lt, the wieghed error is [[0.35714286]]\n",
      "split:dim0, thresh 1.0,                       thresh ineqal:gt, the wieghed error is [[0.64285714]]\n",
      "split:dim0, thresh 1.1,                       thresh ineqal:lt, the wieghed error is [[0.35714286]]\n",
      "split:dim0, thresh 1.1,                       thresh ineqal:gt, the wieghed error is [[0.64285714]]\n",
      "split:dim0, thresh 1.2,                       thresh ineqal:lt, the wieghed error is [[0.35714286]]\n",
      "split:dim0, thresh 1.2,                       thresh ineqal:gt, the wieghed error is [[0.64285714]]\n",
      "split:dim0, thresh 1.3,                       thresh ineqal:lt, the wieghed error is [[0.28571429]]\n",
      "split:dim0, thresh 1.3,                       thresh ineqal:gt, the wieghed error is [[0.71428571]]\n",
      "split:dim0, thresh 1.4,                       thresh ineqal:lt, the wieghed error is [[0.28571429]]\n",
      "split:dim0, thresh 1.4,                       thresh ineqal:gt, the wieghed error is [[0.71428571]]\n",
      "split:dim0, thresh 1.5,                       thresh ineqal:lt, the wieghed error is [[0.28571429]]\n",
      "split:dim0, thresh 1.5,                       thresh ineqal:gt, the wieghed error is [[0.71428571]]\n",
      "split:dim0, thresh 1.6,                       thresh ineqal:lt, the wieghed error is [[0.28571429]]\n",
      "split:dim0, thresh 1.6,                       thresh ineqal:gt, the wieghed error is [[0.71428571]]\n",
      "split:dim0, thresh 1.7000000000000002,                       thresh ineqal:lt, the wieghed error is [[0.28571429]]\n",
      "split:dim0, thresh 1.7000000000000002,                       thresh ineqal:gt, the wieghed error is [[0.71428571]]\n",
      "split:dim0, thresh 1.8,                       thresh ineqal:lt, the wieghed error is [[0.28571429]]\n",
      "split:dim0, thresh 1.8,                       thresh ineqal:gt, the wieghed error is [[0.71428571]]\n",
      "split:dim0, thresh 1.9,                       thresh ineqal:lt, the wieghed error is [[0.28571429]]\n",
      "split:dim0, thresh 1.9,                       thresh ineqal:gt, the wieghed error is [[0.71428571]]\n",
      "split:dim0, thresh 2.0,                       thresh ineqal:lt, the wieghed error is [[0.85714286]]\n",
      "split:dim0, thresh 2.0,                       thresh ineqal:gt, the wieghed error is [[0.14285714]]\n",
      "split:dim1, thresh 0.89,                       thresh ineqal:lt, the wieghed error is [[0.14285714]]\n",
      "split:dim1, thresh 0.89,                       thresh ineqal:gt, the wieghed error is [[0.85714286]]\n",
      "split:dim1, thresh 1.0,                       thresh ineqal:lt, the wieghed error is [[0.5]]\n",
      "split:dim1, thresh 1.0,                       thresh ineqal:gt, the wieghed error is [[0.5]]\n",
      "split:dim1, thresh 1.11,                       thresh ineqal:lt, the wieghed error is [[0.57142857]]\n",
      "split:dim1, thresh 1.11,                       thresh ineqal:gt, the wieghed error is [[0.42857143]]\n",
      "split:dim1, thresh 1.22,                       thresh ineqal:lt, the wieghed error is [[0.57142857]]\n",
      "split:dim1, thresh 1.22,                       thresh ineqal:gt, the wieghed error is [[0.42857143]]\n",
      "split:dim1, thresh 1.33,                       thresh ineqal:lt, the wieghed error is [[0.57142857]]\n",
      "split:dim1, thresh 1.33,                       thresh ineqal:gt, the wieghed error is [[0.42857143]]\n",
      "split:dim1, thresh 1.44,                       thresh ineqal:lt, the wieghed error is [[0.57142857]]\n",
      "split:dim1, thresh 1.44,                       thresh ineqal:gt, the wieghed error is [[0.42857143]]\n",
      "split:dim1, thresh 1.55,                       thresh ineqal:lt, the wieghed error is [[0.57142857]]\n",
      "split:dim1, thresh 1.55,                       thresh ineqal:gt, the wieghed error is [[0.42857143]]\n",
      "split:dim1, thresh 1.6600000000000001,                       thresh ineqal:lt, the wieghed error is [[0.57142857]]\n",
      "split:dim1, thresh 1.6600000000000001,                       thresh ineqal:gt, the wieghed error is [[0.42857143]]\n",
      "split:dim1, thresh 1.77,                       thresh ineqal:lt, the wieghed error is [[0.57142857]]\n",
      "split:dim1, thresh 1.77,                       thresh ineqal:gt, the wieghed error is [[0.42857143]]\n",
      "split:dim1, thresh 1.8800000000000001,                       thresh ineqal:lt, the wieghed error is [[0.57142857]]\n",
      "split:dim1, thresh 1.8800000000000001,                       thresh ineqal:gt, the wieghed error is [[0.42857143]]\n",
      "split:dim1, thresh 1.9900000000000002,                       thresh ineqal:lt, the wieghed error is [[0.57142857]]\n",
      "split:dim1, thresh 1.9900000000000002,                       thresh ineqal:gt, the wieghed error is [[0.42857143]]\n",
      "split:dim1, thresh 2.1,                       thresh ineqal:lt, the wieghed error is [[0.85714286]]\n",
      "split:dim1, thresh 2.1,                       thresh ineqal:gt, the wieghed error is [[0.14285714]]\n",
      "D: [[0.28571429 0.07142857 0.07142857 0.07142857 0.5       ]]\n",
      "classEst: [[1. 1. 1. 1. 1.]]\n",
      "aggClassEst:[[ 1.17568763  2.56198199 -0.77022252 -0.77022252  0.61607184]]\n",
      "total error:0.0\n"
     ]
    },
    {
     "data": {
      "text/plain": [
       "[{'dim': 0, 'thresh': 1.3, 'ineq': 'lt', 'alpha': 0.6931471805599453},\n",
       " {'dim': 1, 'thresh': 1.0, 'ineq': 'lt', 'alpha': 0.9729550745276565},\n",
       " {'dim': 0, 'thresh': 0.9, 'ineq': 'lt', 'alpha': 0.8958797346140273}]"
      ]
     },
     "execution_count": 31,
     "metadata": {},
     "output_type": "execute_result"
    }
   ],
   "source": [
    "adaBoostTrainDS(datMat,classLabels,9)"
   ]
  },
  {
   "cell_type": "code",
   "execution_count": 42,
   "metadata": {},
   "outputs": [],
   "source": [
    "def adaClassify(datToClass,classifierArr):\n",
    "    #do stuff similar to last aggClassEst in adaBoostTrainDS\n",
    "    dataMatrix=mat(datToClass)\n",
    "    m=shape(dataMatrix)[0]\n",
    "    aggClassEst=mat(zeros((m,1)))\n",
    "    for i in range(len(classifierArr)):\n",
    "        classEst=stumpClassify(dataMatrix,classifierArr[i]['dim'],\\\n",
    "                              classifierArr[i]['thresh'],\\\n",
    "                              classifierArr[i]['ineq'])#call stamp classify\n",
    "        aggClassEst+=classifierArr[i]['alpha']*classEst\n",
    "        print(aggClassEst)\n",
    "    return sign(aggClassEst)\n",
    "    "
   ]
  },
  {
   "cell_type": "code",
   "execution_count": 43,
   "metadata": {},
   "outputs": [
    {
     "name": "stdout",
     "output_type": "stream",
     "text": [
      "D: [[0.2 0.2 0.2 0.2 0.2]]\n",
      "classEst: [[-1.  1. -1. -1.  1.]]\n",
      "aggClassEst:[[-0.69314718  0.69314718 -0.69314718 -0.69314718  0.69314718]]\n",
      "total error:0.2\n",
      "D: [[0.5   0.125 0.125 0.125 0.125]]\n",
      "classEst: [[ 1.  1. -1. -1. -1.]]\n",
      "aggClassEst:[[ 0.27980789  1.66610226 -1.66610226 -1.66610226 -0.27980789]]\n",
      "total error:0.2\n",
      "D: [[0.28571429 0.07142857 0.07142857 0.07142857 0.5       ]]\n",
      "classEst: [[1. 1. 1. 1. 1.]]\n",
      "aggClassEst:[[ 1.17568763  2.56198199 -0.77022252 -0.77022252  0.61607184]]\n",
      "total error:0.0\n"
     ]
    }
   ],
   "source": [
    "classifierArr=adaBoostTrainDS(datMat,classLabels,30)"
   ]
  },
  {
   "cell_type": "code",
   "execution_count": 44,
   "metadata": {},
   "outputs": [
    {
     "name": "stdout",
     "output_type": "stream",
     "text": [
      "[[-0.69314718]]\n",
      "[[-1.66610226]]\n",
      "[[-2.56198199]]\n"
     ]
    },
    {
     "data": {
      "text/plain": [
       "matrix([[-1.]])"
      ]
     },
     "execution_count": 44,
     "metadata": {},
     "output_type": "execute_result"
    }
   ],
   "source": [
    "adaClassify([0,0],classifierArr)"
   ]
  },
  {
   "cell_type": "code",
   "execution_count": 54,
   "metadata": {},
   "outputs": [],
   "source": [
    "from sklearn.model_selection import train_test_split\n",
    "from sklearn.datasets import make_moons\n",
    "Xm, ym=make_moons(n_samples=100, noise=0.25, random_state=3)\n",
    "Xm_train, Xm_test, ym_train, ym_test=train_test_split(Xm,ym,stratify=ym,random_state=42)"
   ]
  },
  {
   "cell_type": "code",
   "execution_count": 56,
   "metadata": {},
   "outputs": [
    {
     "data": {
      "text/plain": [
       "[<matplotlib.lines.Line2D at 0x24fe7b812b0>,\n",
       " <matplotlib.lines.Line2D at 0x24feb58e0b8>]"
      ]
     },
     "execution_count": 56,
     "metadata": {},
     "output_type": "execute_result"
    },
    {
     "data": {
      "image/png": "[encoded data removed]",
      "text/plain": [
       "<Figure size 1440x720 with 6 Axes>"
      ]
     },
     "metadata": {},
     "output_type": "display_data"
    }
   ],
   "source": [
    "import mglearn\n",
    "from sklearn.ensemble import AdaBoostClassifier\n",
    "\n",
    "ada=AdaBoostClassifier(n_estimators=5, random_state=42)\n",
    "ada.fit(Xm_train, ym_train)\n",
    "\n",
    "fig, axes=plt.subplots(2,3,figsize=(20,10))\n",
    "for i, (ax, tree) in enumerate(zip(axes.ravel(),ada.estimators_)):\n",
    "    ax.set_title(\"tree {}\".format(i))\n",
    "    mglearn.plots.plot_tree_partition(Xm,ym,tree,ax=ax)\n",
    "\n",
    "mglearn.plots.plot_2d_separator(ada,Xm,fill=True,ax=axes[-1,-1],alpha=.4)\n",
    "axes[-1,-1].set_title(\"adaboost\")\n",
    "mglearn.discrete_scatter(Xm[:,0],Xm[:,1],ym)"
   ]
  },
  {
   "cell_type": "code",
   "execution_count": 47,
   "metadata": {
    "scrolled": true
   },
   "outputs": [
    {
     "data": {
      "text/plain": [
       "AdaBoostClassifier(algorithm='SAMME.R', base_estimator=None,\n",
       "          learning_rate=1.0, n_estimators=5, random_state=42)"
      ]
     },
     "execution_count": 47,
     "metadata": {},
     "output_type": "execute_result"
    }
   ],
   "source": [
    "AdaBoostClassifier(n_estimators=5, random_state=42)"
   ]
  },
  {
   "cell_type": "code",
   "execution_count": 60,
   "metadata": {},
   "outputs": [
    {
     "data": {
      "text/plain": [
       "[-1, 0, 1, 2, 3, 4, 5, 6, 7, 8, 9, 10]"
      ]
     },
     "execution_count": 60,
     "metadata": {},
     "output_type": "execute_result"
    }
   ],
   "source": [
    "a=list(range(-1,10+1))\n",
    "a"
   ]
  },
  {
   "cell_type": "code",
   "execution_count": 61,
   "metadata": {},
   "outputs": [
    {
     "data": {
      "text/plain": [
       "0.5"
      ]
     },
     "execution_count": 61,
     "metadata": {},
     "output_type": "execute_result"
    }
   ],
   "source": [
    "5/10"
   ]
  },
  {
   "cell_type": "code",
   "execution_count": 62,
   "metadata": {},
   "outputs": [
    {
     "data": {
      "text/plain": [
       "0.3"
      ]
     },
     "execution_count": 62,
     "metadata": {},
     "output_type": "execute_result"
    }
   ],
   "source": [
    "3/10.0"
   ]
  },
  {
   "cell_type": "code",
   "execution_count": 8,
   "metadata": {},
   "outputs": [],
   "source": [
    "weakClassArr=[]"
   ]
  },
  {
   "cell_type": "code",
   "execution_count": 10,
   "metadata": {},
   "outputs": [],
   "source": [
    "dataArr=datMat"
   ]
  },
  {
   "cell_type": "code",
   "execution_count": 12,
   "metadata": {},
   "outputs": [
    {
     "data": {
      "text/plain": [
       "5"
      ]
     },
     "execution_count": 12,
     "metadata": {},
     "output_type": "execute_result"
    }
   ],
   "source": [
    "m=shape(dataArr)[0]\n",
    "m"
   ]
  },
  {
   "cell_type": "code",
   "execution_count": 13,
   "metadata": {},
   "outputs": [
    {
     "data": {
      "text/plain": [
       "matrix([[0.2],\n",
       "        [0.2],\n",
       "        [0.2],\n",
       "        [0.2],\n",
       "        [0.2]])"
      ]
     },
     "execution_count": 13,
     "metadata": {},
     "output_type": "execute_result"
    }
   ],
   "source": [
    "D=mat(ones((m,1))/m)\n",
    "D"
   ]
  },
  {
   "cell_type": "code",
   "execution_count": 14,
   "metadata": {},
   "outputs": [
    {
     "data": {
      "text/plain": [
       "matrix([[0.],\n",
       "        [0.],\n",
       "        [0.],\n",
       "        [0.],\n",
       "        [0.]])"
      ]
     },
     "execution_count": 14,
     "metadata": {},
     "output_type": "execute_result"
    }
   ],
   "source": [
    "aggClassEst=mat(zeros((m,1)))\n",
    "aggClassEst"
   ]
  },
  {
   "cell_type": "code",
   "execution_count": 15,
   "metadata": {},
   "outputs": [
    {
     "name": "stdout",
     "output_type": "stream",
     "text": [
      "split:dim0, thresh 0.9,                       thresh ineqal:lt, the wieghed error is [[0.4]]\n",
      "split:dim0, thresh 0.9,                       thresh ineqal:gt, the wieghed error is [[0.6]]\n",
      "split:dim0, thresh 1.0,                       thresh ineqal:lt, the wieghed error is [[0.4]]\n",
      "split:dim0, thresh 1.0,                       thresh ineqal:gt, the wieghed error is [[0.6]]\n",
      "split:dim0, thresh 1.1,                       thresh ineqal:lt, the wieghed error is [[0.4]]\n",
      "split:dim0, thresh 1.1,                       thresh ineqal:gt, the wieghed error is [[0.6]]\n",
      "split:dim0, thresh 1.2,                       thresh ineqal:lt, the wieghed error is [[0.4]]\n",
      "split:dim0, thresh 1.2,                       thresh ineqal:gt, the wieghed error is [[0.6]]\n",
      "split:dim0, thresh 1.3,                       thresh ineqal:lt, the wieghed error is [[0.2]]\n",
      "split:dim0, thresh 1.3,                       thresh ineqal:gt, the wieghed error is [[0.8]]\n",
      "split:dim0, thresh 1.4,                       thresh ineqal:lt, the wieghed error is [[0.2]]\n",
      "split:dim0, thresh 1.4,                       thresh ineqal:gt, the wieghed error is [[0.8]]\n",
      "split:dim0, thresh 1.5,                       thresh ineqal:lt, the wieghed error is [[0.2]]\n",
      "split:dim0, thresh 1.5,                       thresh ineqal:gt, the wieghed error is [[0.8]]\n",
      "split:dim0, thresh 1.6,                       thresh ineqal:lt, the wieghed error is [[0.2]]\n",
      "split:dim0, thresh 1.6,                       thresh ineqal:gt, the wieghed error is [[0.8]]\n",
      "split:dim0, thresh 1.7000000000000002,                       thresh ineqal:lt, the wieghed error is [[0.2]]\n",
      "split:dim0, thresh 1.7000000000000002,                       thresh ineqal:gt, the wieghed error is [[0.8]]\n",
      "split:dim0, thresh 1.8,                       thresh ineqal:lt, the wieghed error is [[0.2]]\n",
      "split:dim0, thresh 1.8,                       thresh ineqal:gt, the wieghed error is [[0.8]]\n",
      "split:dim0, thresh 1.9,                       thresh ineqal:lt, the wieghed error is [[0.2]]\n",
      "split:dim0, thresh 1.9,                       thresh ineqal:gt, the wieghed error is [[0.8]]\n",
      "split:dim0, thresh 2.0,                       thresh ineqal:lt, the wieghed error is [[0.6]]\n",
      "split:dim0, thresh 2.0,                       thresh ineqal:gt, the wieghed error is [[0.4]]\n",
      "split:dim1, thresh 0.89,                       thresh ineqal:lt, the wieghed error is [[0.4]]\n",
      "split:dim1, thresh 0.89,                       thresh ineqal:gt, the wieghed error is [[0.6]]\n",
      "split:dim1, thresh 1.0,                       thresh ineqal:lt, the wieghed error is [[0.2]]\n",
      "split:dim1, thresh 1.0,                       thresh ineqal:gt, the wieghed error is [[0.8]]\n",
      "split:dim1, thresh 1.11,                       thresh ineqal:lt, the wieghed error is [[0.4]]\n",
      "split:dim1, thresh 1.11,                       thresh ineqal:gt, the wieghed error is [[0.6]]\n",
      "split:dim1, thresh 1.22,                       thresh ineqal:lt, the wieghed error is [[0.4]]\n",
      "split:dim1, thresh 1.22,                       thresh ineqal:gt, the wieghed error is [[0.6]]\n",
      "split:dim1, thresh 1.33,                       thresh ineqal:lt, the wieghed error is [[0.4]]\n",
      "split:dim1, thresh 1.33,                       thresh ineqal:gt, the wieghed error is [[0.6]]\n",
      "split:dim1, thresh 1.44,                       thresh ineqal:lt, the wieghed error is [[0.4]]\n",
      "split:dim1, thresh 1.44,                       thresh ineqal:gt, the wieghed error is [[0.6]]\n",
      "split:dim1, thresh 1.55,                       thresh ineqal:lt, the wieghed error is [[0.4]]\n",
      "split:dim1, thresh 1.55,                       thresh ineqal:gt, the wieghed error is [[0.6]]\n",
      "split:dim1, thresh 1.6600000000000001,                       thresh ineqal:lt, the wieghed error is [[0.4]]\n",
      "split:dim1, thresh 1.6600000000000001,                       thresh ineqal:gt, the wieghed error is [[0.6]]\n",
      "split:dim1, thresh 1.77,                       thresh ineqal:lt, the wieghed error is [[0.4]]\n",
      "split:dim1, thresh 1.77,                       thresh ineqal:gt, the wieghed error is [[0.6]]\n",
      "split:dim1, thresh 1.8800000000000001,                       thresh ineqal:lt, the wieghed error is [[0.4]]\n",
      "split:dim1, thresh 1.8800000000000001,                       thresh ineqal:gt, the wieghed error is [[0.6]]\n",
      "split:dim1, thresh 1.9900000000000002,                       thresh ineqal:lt, the wieghed error is [[0.4]]\n",
      "split:dim1, thresh 1.9900000000000002,                       thresh ineqal:gt, the wieghed error is [[0.6]]\n",
      "split:dim1, thresh 2.1,                       thresh ineqal:lt, the wieghed error is [[0.6]]\n",
      "split:dim1, thresh 2.1,                       thresh ineqal:gt, the wieghed error is [[0.4]]\n"
     ]
    }
   ],
   "source": [
    "bestStump,error,classEst=buildStump(dataArr,classLabels,D)"
   ]
  },
  {
   "cell_type": "code",
   "execution_count": 22,
   "metadata": {},
   "outputs": [
    {
     "data": {
      "text/plain": [
       "{'dim': 0, 'thresh': 1.3, 'ineq': 'lt', 'alpha': 0.6931471805599453}"
      ]
     },
     "execution_count": 22,
     "metadata": {},
     "output_type": "execute_result"
    }
   ],
   "source": [
    "bestStump"
   ]
  },
  {
   "cell_type": "code",
   "execution_count": 24,
   "metadata": {},
   "outputs": [
    {
     "data": {
      "text/plain": [
       "array([[-1.],\n",
       "       [ 1.],\n",
       "       [-1.],\n",
       "       [-1.],\n",
       "       [ 1.]])"
      ]
     },
     "execution_count": 24,
     "metadata": {},
     "output_type": "execute_result"
    }
   ],
   "source": [
    "classEst"
   ]
  },
  {
   "cell_type": "code",
   "execution_count": 23,
   "metadata": {},
   "outputs": [
    {
     "data": {
      "text/plain": [
       "matrix([[0.2]])"
      ]
     },
     "execution_count": 23,
     "metadata": {},
     "output_type": "execute_result"
    }
   ],
   "source": [
    "error"
   ]
  },
  {
   "cell_type": "code",
   "execution_count": 16,
   "metadata": {},
   "outputs": [
    {
     "name": "stdout",
     "output_type": "stream",
     "text": [
      "D: [[0.2 0.2 0.2 0.2 0.2]]\n"
     ]
    }
   ],
   "source": [
    "print(\"D: {}\".format(D.T))"
   ]
  },
  {
   "cell_type": "code",
   "execution_count": 17,
   "metadata": {},
   "outputs": [
    {
     "data": {
      "text/plain": [
       "0.6931471805599453"
      ]
     },
     "execution_count": 17,
     "metadata": {},
     "output_type": "execute_result"
    }
   ],
   "source": [
    "alpha=float(0.5*log((1.0-error)/max(error,1e-16))) \n",
    "alpha"
   ]
  },
  {
   "cell_type": "code",
   "execution_count": 18,
   "metadata": {},
   "outputs": [],
   "source": [
    "bestStump['alpha']=alpha"
   ]
  },
  {
   "cell_type": "code",
   "execution_count": 19,
   "metadata": {},
   "outputs": [
    {
     "data": {
      "text/plain": [
       "{'dim': 0, 'thresh': 1.3, 'ineq': 'lt', 'alpha': 0.6931471805599453}"
      ]
     },
     "execution_count": 19,
     "metadata": {},
     "output_type": "execute_result"
    }
   ],
   "source": [
    "bestStump"
   ]
  },
  {
   "cell_type": "code",
   "execution_count": 25,
   "metadata": {},
   "outputs": [],
   "source": [
    "weakClassArr.append(bestStump)"
   ]
  },
  {
   "cell_type": "code",
   "execution_count": 26,
   "metadata": {},
   "outputs": [
    {
     "data": {
      "text/plain": [
       "[{'dim': 0, 'thresh': 1.3, 'ineq': 'lt', 'alpha': 0.6931471805599453}]"
      ]
     },
     "execution_count": 26,
     "metadata": {},
     "output_type": "execute_result"
    }
   ],
   "source": [
    "weakClassArr"
   ]
  },
  {
   "cell_type": "code",
   "execution_count": 27,
   "metadata": {},
   "outputs": [
    {
     "name": "stdout",
     "output_type": "stream",
     "text": [
      "classEst: [[-1.  1. -1. -1.  1.]]\n"
     ]
    }
   ],
   "source": [
    "print(\"classEst: {}\".format(classEst.T))"
   ]
  },
  {
   "cell_type": "code",
   "execution_count": 28,
   "metadata": {},
   "outputs": [],
   "source": [
    "expon=multiply(-1*alpha*mat(classLabels).T,classEst)"
   ]
  },
  {
   "cell_type": "code",
   "execution_count": 29,
   "metadata": {},
   "outputs": [
    {
     "data": {
      "text/plain": [
       "matrix([[ 0.69314718],\n",
       "        [-0.69314718],\n",
       "        [-0.69314718],\n",
       "        [-0.69314718],\n",
       "        [-0.69314718]])"
      ]
     },
     "execution_count": 29,
     "metadata": {},
     "output_type": "execute_result"
    }
   ],
   "source": [
    "expon"
   ]
  },
  {
   "cell_type": "code",
   "execution_count": 31,
   "metadata": {},
   "outputs": [
    {
     "data": {
      "text/plain": [
       "(5, 1)"
      ]
     },
     "execution_count": 31,
     "metadata": {},
     "output_type": "execute_result"
    }
   ],
   "source": [
    "classEst.shape"
   ]
  },
  {
   "cell_type": "code",
   "execution_count": 33,
   "metadata": {},
   "outputs": [
    {
     "data": {
      "text/plain": [
       "(5, 1)"
      ]
     },
     "execution_count": 33,
     "metadata": {},
     "output_type": "execute_result"
    }
   ],
   "source": [
    "mat(classLabels).T.shape"
   ]
  },
  {
   "cell_type": "code",
   "execution_count": 34,
   "metadata": {},
   "outputs": [],
   "source": [
    "D=multiply(D,exp(expon)) "
   ]
  },
  {
   "cell_type": "code",
   "execution_count": 36,
   "metadata": {},
   "outputs": [
    {
     "data": {
      "text/plain": [
       "matrix([[0.4],\n",
       "        [0.1],\n",
       "        [0.1],\n",
       "        [0.1],\n",
       "        [0.1]])"
      ]
     },
     "execution_count": 36,
     "metadata": {},
     "output_type": "execute_result"
    }
   ],
   "source": [
    "D"
   ]
  },
  {
   "cell_type": "code",
   "execution_count": 37,
   "metadata": {},
   "outputs": [],
   "source": [
    "D=D/D.sum()"
   ]
  },
  {
   "cell_type": "code",
   "execution_count": 38,
   "metadata": {},
   "outputs": [
    {
     "data": {
      "text/plain": [
       "matrix([[0.5  ],\n",
       "        [0.125],\n",
       "        [0.125],\n",
       "        [0.125],\n",
       "        [0.125]])"
      ]
     },
     "execution_count": 38,
     "metadata": {},
     "output_type": "execute_result"
    }
   ],
   "source": [
    "D"
   ]
  },
  {
   "cell_type": "code",
   "execution_count": 39,
   "metadata": {},
   "outputs": [],
   "source": [
    "aggClassEst+=alpha*classEst"
   ]
  },
  {
   "cell_type": "code",
   "execution_count": 40,
   "metadata": {},
   "outputs": [
    {
     "data": {
      "text/plain": [
       "matrix([[-0.69314718],\n",
       "        [ 0.69314718],\n",
       "        [-0.69314718],\n",
       "        [-0.69314718],\n",
       "        [ 0.69314718]])"
      ]
     },
     "execution_count": 40,
     "metadata": {},
     "output_type": "execute_result"
    }
   ],
   "source": [
    "aggClassEst"
   ]
  },
  {
   "cell_type": "code",
   "execution_count": 43,
   "metadata": {},
   "outputs": [
    {
     "data": {
      "text/plain": [
       "matrix([[ True],\n",
       "        [False],\n",
       "        [False],\n",
       "        [False],\n",
       "        [False]])"
      ]
     },
     "execution_count": 43,
     "metadata": {},
     "output_type": "execute_result"
    }
   ],
   "source": [
    "sign(aggClassEst)!=mat(classLabels).T"
   ]
  },
  {
   "cell_type": "code",
   "execution_count": 44,
   "metadata": {},
   "outputs": [],
   "source": [
    "aggErrors=multiply(sign(aggClassEst)!=mat(classLabels).T, ones((m,1)))"
   ]
  },
  {
   "cell_type": "code",
   "execution_count": 45,
   "metadata": {},
   "outputs": [
    {
     "data": {
      "text/plain": [
       "matrix([[1.],\n",
       "        [0.],\n",
       "        [0.],\n",
       "        [0.],\n",
       "        [0.]])"
      ]
     },
     "execution_count": 45,
     "metadata": {},
     "output_type": "execute_result"
    }
   ],
   "source": [
    "aggErrors"
   ]
  },
  {
   "cell_type": "code",
   "execution_count": 46,
   "metadata": {},
   "outputs": [
    {
     "data": {
      "text/plain": [
       "0.6931471805599453"
      ]
     },
     "execution_count": 46,
     "metadata": {},
     "output_type": "execute_result"
    }
   ],
   "source": [
    "alpha"
   ]
  },
  {
   "cell_type": "code",
   "execution_count": 47,
   "metadata": {},
   "outputs": [],
   "source": [
    "def adaBoostTrainDS(dataArr,classLabels,numlt=40):\n",
    "    weakClassArr=[]\n",
    "    m=shape(dataArr)[0]\n",
    "    D=mat(ones((m,1))/m) # initial D to all equal\n",
    "    aggClassEst=mat(zeros((m,1)))\n",
    "    for i in range(numlt):\n",
    "        bestStump,error,classEst=buildStump(dataArr,classLabels,D) #build stamp\n",
    "        print(\"D: {}\".format(D.T))\n",
    "        # calc alpha, throw in max(error,eps) to account for error=0\n",
    "        alpha=float(0.5*log((1.0-error)/max(error,1e-16))) # 분모를 0으로 안만들기 위해서\n",
    "        bestStump['alpha']=alpha\n",
    "        weakClassArr.append(bestStump) #store Stump Params in Array\n",
    "        print(\"classEst: {}\".format(classEst.T))\n",
    "        # exponent for D calc, getting messy\n",
    "        expon=multiply(-1*alpha*mat(classLabels).T,classEst) \n",
    "        D=multiply(D,exp(expon)) #calc New D for new iteration\n",
    "        D=D/D.sum()\n",
    "        # calc training error of all classifiers, \n",
    "        # if this is 0 quit for loop early(use break)\n",
    "        aggClassEst+=alpha*classEst\n",
    "        print(\"aggClassEst:{}\".format(aggClassEst.T))\n",
    "        aggErrors=multiply(sign(aggClassEst)!=mat(classLabels).T, ones((m,1)))\n",
    "        errorRate=aggErrors.sum()/m\n",
    "        print(\"total error:{}\".format(errorRate))\n",
    "        if errorRate==0.0: break\n",
    "    return weakClassArr"
   ]
  },
  {
   "cell_type": "code",
   "execution_count": 48,
   "metadata": {},
   "outputs": [
    {
     "name": "stdout",
     "output_type": "stream",
     "text": [
      "split:dim0, thresh 0.9,                       thresh ineqal:lt, the wieghed error is [[0.4]]\n",
      "split:dim0, thresh 0.9,                       thresh ineqal:gt, the wieghed error is [[0.6]]\n",
      "split:dim0, thresh 1.0,                       thresh ineqal:lt, the wieghed error is [[0.4]]\n",
      "split:dim0, thresh 1.0,                       thresh ineqal:gt, the wieghed error is [[0.6]]\n",
      "split:dim0, thresh 1.1,                       thresh ineqal:lt, the wieghed error is [[0.4]]\n",
      "split:dim0, thresh 1.1,                       thresh ineqal:gt, the wieghed error is [[0.6]]\n",
      "split:dim0, thresh 1.2,                       thresh ineqal:lt, the wieghed error is [[0.4]]\n",
      "split:dim0, thresh 1.2,                       thresh ineqal:gt, the wieghed error is [[0.6]]\n",
      "split:dim0, thresh 1.3,                       thresh ineqal:lt, the wieghed error is [[0.2]]\n",
      "split:dim0, thresh 1.3,                       thresh ineqal:gt, the wieghed error is [[0.8]]\n",
      "split:dim0, thresh 1.4,                       thresh ineqal:lt, the wieghed error is [[0.2]]\n",
      "split:dim0, thresh 1.4,                       thresh ineqal:gt, the wieghed error is [[0.8]]\n",
      "split:dim0, thresh 1.5,                       thresh ineqal:lt, the wieghed error is [[0.2]]\n",
      "split:dim0, thresh 1.5,                       thresh ineqal:gt, the wieghed error is [[0.8]]\n",
      "split:dim0, thresh 1.6,                       thresh ineqal:lt, the wieghed error is [[0.2]]\n",
      "split:dim0, thresh 1.6,                       thresh ineqal:gt, the wieghed error is [[0.8]]\n",
      "split:dim0, thresh 1.7000000000000002,                       thresh ineqal:lt, the wieghed error is [[0.2]]\n",
      "split:dim0, thresh 1.7000000000000002,                       thresh ineqal:gt, the wieghed error is [[0.8]]\n",
      "split:dim0, thresh 1.8,                       thresh ineqal:lt, the wieghed error is [[0.2]]\n",
      "split:dim0, thresh 1.8,                       thresh ineqal:gt, the wieghed error is [[0.8]]\n",
      "split:dim0, thresh 1.9,                       thresh ineqal:lt, the wieghed error is [[0.2]]\n",
      "split:dim0, thresh 1.9,                       thresh ineqal:gt, the wieghed error is [[0.8]]\n",
      "split:dim0, thresh 2.0,                       thresh ineqal:lt, the wieghed error is [[0.6]]\n",
      "split:dim0, thresh 2.0,                       thresh ineqal:gt, the wieghed error is [[0.4]]\n",
      "split:dim1, thresh 0.89,                       thresh ineqal:lt, the wieghed error is [[0.4]]\n",
      "split:dim1, thresh 0.89,                       thresh ineqal:gt, the wieghed error is [[0.6]]\n",
      "split:dim1, thresh 1.0,                       thresh ineqal:lt, the wieghed error is [[0.2]]\n",
      "split:dim1, thresh 1.0,                       thresh ineqal:gt, the wieghed error is [[0.8]]\n",
      "split:dim1, thresh 1.11,                       thresh ineqal:lt, the wieghed error is [[0.4]]\n",
      "split:dim1, thresh 1.11,                       thresh ineqal:gt, the wieghed error is [[0.6]]\n",
      "split:dim1, thresh 1.22,                       thresh ineqal:lt, the wieghed error is [[0.4]]\n",
      "split:dim1, thresh 1.22,                       thresh ineqal:gt, the wieghed error is [[0.6]]\n",
      "split:dim1, thresh 1.33,                       thresh ineqal:lt, the wieghed error is [[0.4]]\n",
      "split:dim1, thresh 1.33,                       thresh ineqal:gt, the wieghed error is [[0.6]]\n",
      "split:dim1, thresh 1.44,                       thresh ineqal:lt, the wieghed error is [[0.4]]\n",
      "split:dim1, thresh 1.44,                       thresh ineqal:gt, the wieghed error is [[0.6]]\n",
      "split:dim1, thresh 1.55,                       thresh ineqal:lt, the wieghed error is [[0.4]]\n",
      "split:dim1, thresh 1.55,                       thresh ineqal:gt, the wieghed error is [[0.6]]\n",
      "split:dim1, thresh 1.6600000000000001,                       thresh ineqal:lt, the wieghed error is [[0.4]]\n",
      "split:dim1, thresh 1.6600000000000001,                       thresh ineqal:gt, the wieghed error is [[0.6]]\n",
      "split:dim1, thresh 1.77,                       thresh ineqal:lt, the wieghed error is [[0.4]]\n",
      "split:dim1, thresh 1.77,                       thresh ineqal:gt, the wieghed error is [[0.6]]\n",
      "split:dim1, thresh 1.8800000000000001,                       thresh ineqal:lt, the wieghed error is [[0.4]]\n",
      "split:dim1, thresh 1.8800000000000001,                       thresh ineqal:gt, the wieghed error is [[0.6]]\n",
      "split:dim1, thresh 1.9900000000000002,                       thresh ineqal:lt, the wieghed error is [[0.4]]\n",
      "split:dim1, thresh 1.9900000000000002,                       thresh ineqal:gt, the wieghed error is [[0.6]]\n",
      "split:dim1, thresh 2.1,                       thresh ineqal:lt, the wieghed error is [[0.6]]\n",
      "split:dim1, thresh 2.1,                       thresh ineqal:gt, the wieghed error is [[0.4]]\n",
      "D: [[0.2 0.2 0.2 0.2 0.2]]\n",
      "classEst: [[-1.  1. -1. -1.  1.]]\n",
      "aggClassEst:[[-0.69314718  0.69314718 -0.69314718 -0.69314718  0.69314718]]\n",
      "total error:0.2\n",
      "split:dim0, thresh 0.9,                       thresh ineqal:lt, the wieghed error is [[0.25]]\n",
      "split:dim0, thresh 0.9,                       thresh ineqal:gt, the wieghed error is [[0.75]]\n",
      "split:dim0, thresh 1.0,                       thresh ineqal:lt, the wieghed error is [[0.625]]\n",
      "split:dim0, thresh 1.0,                       thresh ineqal:gt, the wieghed error is [[0.375]]\n",
      "split:dim0, thresh 1.1,                       thresh ineqal:lt, the wieghed error is [[0.625]]\n",
      "split:dim0, thresh 1.1,                       thresh ineqal:gt, the wieghed error is [[0.375]]\n",
      "split:dim0, thresh 1.2,                       thresh ineqal:lt, the wieghed error is [[0.625]]\n",
      "split:dim0, thresh 1.2,                       thresh ineqal:gt, the wieghed error is [[0.375]]\n",
      "split:dim0, thresh 1.3,                       thresh ineqal:lt, the wieghed error is [[0.5]]\n",
      "split:dim0, thresh 1.3,                       thresh ineqal:gt, the wieghed error is [[0.5]]\n",
      "split:dim0, thresh 1.4,                       thresh ineqal:lt, the wieghed error is [[0.5]]\n",
      "split:dim0, thresh 1.4,                       thresh ineqal:gt, the wieghed error is [[0.5]]\n",
      "split:dim0, thresh 1.5,                       thresh ineqal:lt, the wieghed error is [[0.5]]\n",
      "split:dim0, thresh 1.5,                       thresh ineqal:gt, the wieghed error is [[0.5]]\n",
      "split:dim0, thresh 1.6,                       thresh ineqal:lt, the wieghed error is [[0.5]]\n",
      "split:dim0, thresh 1.6,                       thresh ineqal:gt, the wieghed error is [[0.5]]\n",
      "split:dim0, thresh 1.7000000000000002,                       thresh ineqal:lt, the wieghed error is [[0.5]]\n",
      "split:dim0, thresh 1.7000000000000002,                       thresh ineqal:gt, the wieghed error is [[0.5]]\n",
      "split:dim0, thresh 1.8,                       thresh ineqal:lt, the wieghed error is [[0.5]]\n",
      "split:dim0, thresh 1.8,                       thresh ineqal:gt, the wieghed error is [[0.5]]\n",
      "split:dim0, thresh 1.9,                       thresh ineqal:lt, the wieghed error is [[0.5]]\n",
      "split:dim0, thresh 1.9,                       thresh ineqal:gt, the wieghed error is [[0.5]]\n",
      "split:dim0, thresh 2.0,                       thresh ineqal:lt, the wieghed error is [[0.75]]\n",
      "split:dim0, thresh 2.0,                       thresh ineqal:gt, the wieghed error is [[0.25]]\n",
      "split:dim1, thresh 0.89,                       thresh ineqal:lt, the wieghed error is [[0.25]]\n",
      "split:dim1, thresh 0.89,                       thresh ineqal:gt, the wieghed error is [[0.75]]\n",
      "split:dim1, thresh 1.0,                       thresh ineqal:lt, the wieghed error is [[0.125]]\n",
      "split:dim1, thresh 1.0,                       thresh ineqal:gt, the wieghed error is [[0.875]]\n",
      "split:dim1, thresh 1.11,                       thresh ineqal:lt, the wieghed error is [[0.25]]\n",
      "split:dim1, thresh 1.11,                       thresh ineqal:gt, the wieghed error is [[0.75]]\n",
      "split:dim1, thresh 1.22,                       thresh ineqal:lt, the wieghed error is [[0.25]]\n",
      "split:dim1, thresh 1.22,                       thresh ineqal:gt, the wieghed error is [[0.75]]\n",
      "split:dim1, thresh 1.33,                       thresh ineqal:lt, the wieghed error is [[0.25]]\n",
      "split:dim1, thresh 1.33,                       thresh ineqal:gt, the wieghed error is [[0.75]]\n",
      "split:dim1, thresh 1.44,                       thresh ineqal:lt, the wieghed error is [[0.25]]\n",
      "split:dim1, thresh 1.44,                       thresh ineqal:gt, the wieghed error is [[0.75]]\n",
      "split:dim1, thresh 1.55,                       thresh ineqal:lt, the wieghed error is [[0.25]]\n",
      "split:dim1, thresh 1.55,                       thresh ineqal:gt, the wieghed error is [[0.75]]\n",
      "split:dim1, thresh 1.6600000000000001,                       thresh ineqal:lt, the wieghed error is [[0.25]]\n",
      "split:dim1, thresh 1.6600000000000001,                       thresh ineqal:gt, the wieghed error is [[0.75]]\n",
      "split:dim1, thresh 1.77,                       thresh ineqal:lt, the wieghed error is [[0.25]]\n",
      "split:dim1, thresh 1.77,                       thresh ineqal:gt, the wieghed error is [[0.75]]\n",
      "split:dim1, thresh 1.8800000000000001,                       thresh ineqal:lt, the wieghed error is [[0.25]]\n",
      "split:dim1, thresh 1.8800000000000001,                       thresh ineqal:gt, the wieghed error is [[0.75]]\n",
      "split:dim1, thresh 1.9900000000000002,                       thresh ineqal:lt, the wieghed error is [[0.25]]\n",
      "split:dim1, thresh 1.9900000000000002,                       thresh ineqal:gt, the wieghed error is [[0.75]]\n",
      "split:dim1, thresh 2.1,                       thresh ineqal:lt, the wieghed error is [[0.75]]\n",
      "split:dim1, thresh 2.1,                       thresh ineqal:gt, the wieghed error is [[0.25]]\n",
      "D: [[0.5   0.125 0.125 0.125 0.125]]\n",
      "classEst: [[ 1.  1. -1. -1. -1.]]\n",
      "aggClassEst:[[ 0.27980789  1.66610226 -1.66610226 -1.66610226 -0.27980789]]\n",
      "total error:0.2\n",
      "split:dim0, thresh 0.9,                       thresh ineqal:lt, the wieghed error is [[0.14285714]]\n",
      "split:dim0, thresh 0.9,                       thresh ineqal:gt, the wieghed error is [[0.85714286]]\n",
      "split:dim0, thresh 1.0,                       thresh ineqal:lt, the wieghed error is [[0.35714286]]\n",
      "split:dim0, thresh 1.0,                       thresh ineqal:gt, the wieghed error is [[0.64285714]]\n",
      "split:dim0, thresh 1.1,                       thresh ineqal:lt, the wieghed error is [[0.35714286]]\n",
      "split:dim0, thresh 1.1,                       thresh ineqal:gt, the wieghed error is [[0.64285714]]\n",
      "split:dim0, thresh 1.2,                       thresh ineqal:lt, the wieghed error is [[0.35714286]]\n",
      "split:dim0, thresh 1.2,                       thresh ineqal:gt, the wieghed error is [[0.64285714]]\n",
      "split:dim0, thresh 1.3,                       thresh ineqal:lt, the wieghed error is [[0.28571429]]\n",
      "split:dim0, thresh 1.3,                       thresh ineqal:gt, the wieghed error is [[0.71428571]]\n",
      "split:dim0, thresh 1.4,                       thresh ineqal:lt, the wieghed error is [[0.28571429]]\n",
      "split:dim0, thresh 1.4,                       thresh ineqal:gt, the wieghed error is [[0.71428571]]\n",
      "split:dim0, thresh 1.5,                       thresh ineqal:lt, the wieghed error is [[0.28571429]]\n",
      "split:dim0, thresh 1.5,                       thresh ineqal:gt, the wieghed error is [[0.71428571]]\n",
      "split:dim0, thresh 1.6,                       thresh ineqal:lt, the wieghed error is [[0.28571429]]\n",
      "split:dim0, thresh 1.6,                       thresh ineqal:gt, the wieghed error is [[0.71428571]]\n",
      "split:dim0, thresh 1.7000000000000002,                       thresh ineqal:lt, the wieghed error is [[0.28571429]]\n",
      "split:dim0, thresh 1.7000000000000002,                       thresh ineqal:gt, the wieghed error is [[0.71428571]]\n",
      "split:dim0, thresh 1.8,                       thresh ineqal:lt, the wieghed error is [[0.28571429]]\n",
      "split:dim0, thresh 1.8,                       thresh ineqal:gt, the wieghed error is [[0.71428571]]\n",
      "split:dim0, thresh 1.9,                       thresh ineqal:lt, the wieghed error is [[0.28571429]]\n",
      "split:dim0, thresh 1.9,                       thresh ineqal:gt, the wieghed error is [[0.71428571]]\n",
      "split:dim0, thresh 2.0,                       thresh ineqal:lt, the wieghed error is [[0.85714286]]\n",
      "split:dim0, thresh 2.0,                       thresh ineqal:gt, the wieghed error is [[0.14285714]]\n",
      "split:dim1, thresh 0.89,                       thresh ineqal:lt, the wieghed error is [[0.14285714]]\n",
      "split:dim1, thresh 0.89,                       thresh ineqal:gt, the wieghed error is [[0.85714286]]\n",
      "split:dim1, thresh 1.0,                       thresh ineqal:lt, the wieghed error is [[0.5]]\n",
      "split:dim1, thresh 1.0,                       thresh ineqal:gt, the wieghed error is [[0.5]]\n",
      "split:dim1, thresh 1.11,                       thresh ineqal:lt, the wieghed error is [[0.57142857]]\n",
      "split:dim1, thresh 1.11,                       thresh ineqal:gt, the wieghed error is [[0.42857143]]\n",
      "split:dim1, thresh 1.22,                       thresh ineqal:lt, the wieghed error is [[0.57142857]]\n",
      "split:dim1, thresh 1.22,                       thresh ineqal:gt, the wieghed error is [[0.42857143]]\n",
      "split:dim1, thresh 1.33,                       thresh ineqal:lt, the wieghed error is [[0.57142857]]\n",
      "split:dim1, thresh 1.33,                       thresh ineqal:gt, the wieghed error is [[0.42857143]]\n",
      "split:dim1, thresh 1.44,                       thresh ineqal:lt, the wieghed error is [[0.57142857]]\n",
      "split:dim1, thresh 1.44,                       thresh ineqal:gt, the wieghed error is [[0.42857143]]\n",
      "split:dim1, thresh 1.55,                       thresh ineqal:lt, the wieghed error is [[0.57142857]]\n",
      "split:dim1, thresh 1.55,                       thresh ineqal:gt, the wieghed error is [[0.42857143]]\n",
      "split:dim1, thresh 1.6600000000000001,                       thresh ineqal:lt, the wieghed error is [[0.57142857]]\n",
      "split:dim1, thresh 1.6600000000000001,                       thresh ineqal:gt, the wieghed error is [[0.42857143]]\n",
      "split:dim1, thresh 1.77,                       thresh ineqal:lt, the wieghed error is [[0.57142857]]\n",
      "split:dim1, thresh 1.77,                       thresh ineqal:gt, the wieghed error is [[0.42857143]]\n",
      "split:dim1, thresh 1.8800000000000001,                       thresh ineqal:lt, the wieghed error is [[0.57142857]]\n",
      "split:dim1, thresh 1.8800000000000001,                       thresh ineqal:gt, the wieghed error is [[0.42857143]]\n",
      "split:dim1, thresh 1.9900000000000002,                       thresh ineqal:lt, the wieghed error is [[0.57142857]]\n",
      "split:dim1, thresh 1.9900000000000002,                       thresh ineqal:gt, the wieghed error is [[0.42857143]]\n",
      "split:dim1, thresh 2.1,                       thresh ineqal:lt, the wieghed error is [[0.85714286]]\n",
      "split:dim1, thresh 2.1,                       thresh ineqal:gt, the wieghed error is [[0.14285714]]\n",
      "D: [[0.28571429 0.07142857 0.07142857 0.07142857 0.5       ]]\n",
      "classEst: [[1. 1. 1. 1. 1.]]\n",
      "aggClassEst:[[ 1.17568763  2.56198199 -0.77022252 -0.77022252  0.61607184]]\n",
      "total error:0.0\n"
     ]
    },
    {
     "data": {
      "text/plain": [
       "[{'dim': 0, 'thresh': 1.3, 'ineq': 'lt', 'alpha': 0.6931471805599453},\n",
       " {'dim': 1, 'thresh': 1.0, 'ineq': 'lt', 'alpha': 0.9729550745276565},\n",
       " {'dim': 0, 'thresh': 0.9, 'ineq': 'lt', 'alpha': 0.8958797346140273}]"
      ]
     },
     "execution_count": 48,
     "metadata": {},
     "output_type": "execute_result"
    }
   ],
   "source": [
    "adaBoostTrainDS(datMat,classLabels,9)"
   ]
  }
 ],
 "metadata": {
  "kernelspec": {
   "display_name": "MyPython",
   "language": "python",
   "name": "mypython"
  },
  "language_info": {
   "codemirror_mode": {
    "name": "ipython",
    "version": 3
   },
   "file_extension": ".py",
   "mimetype": "text/x-python",
   "name": "python",
   "nbconvert_exporter": "python",
   "pygments_lexer": "ipython3",
   "version": "3.6.9"
  },
  "widgets": {
   "state": {},
   "version": "1.1.2"
  }
 },
 "nbformat": 4,
 "nbformat_minor": 2
}
