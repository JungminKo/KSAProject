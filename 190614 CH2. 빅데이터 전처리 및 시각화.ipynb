{
 "cells": [
  {
   "cell_type": "code",
   "execution_count": 3,
   "metadata": {},
   "outputs": [
    {
     "name": "stdout",
     "output_type": "stream",
     "text": [
      "Series\n",
      "0    14\n",
      "1   -27\n",
      "2    35\n",
      "3    73\n",
      "dtype: int64\n",
      "\n",
      "value\n",
      "[ 14 -27  35  73]\n",
      "\n",
      "index\n",
      "RangeIndex(start=0, stop=4, step=1)\n"
     ]
    }
   ],
   "source": [
    "from pandas import Series, DataFrame # 이걸 안적으면 pd.Series이런식으로 다 적어야함!\n",
    "import pandas as pd\n",
    "import numpy as np\n",
    "\n",
    "obj=Series([14,-27,35,73])\n",
    "print(\"Series\\n{0}\\n\\nvalue\\n{1}\\n\\nindex\\n{2}\".format(obj,obj.values,obj.index))"
   ]
  },
  {
   "cell_type": "code",
   "execution_count": 4,
   "metadata": {},
   "outputs": [
    {
     "data": {
      "text/plain": [
       "Index(['kim', 'lee', 'cho', 'kang'], dtype='object')"
      ]
     },
     "execution_count": 4,
     "metadata": {},
     "output_type": "execute_result"
    }
   ],
   "source": [
    "Exam=Series([2,3,4,4],index=[\"kim\",\"lee\",\"cho\",\"kang\"])\n",
    "Exam.index"
   ]
  },
  {
   "cell_type": "code",
   "execution_count": 5,
   "metadata": {},
   "outputs": [
    {
     "data": {
      "text/plain": [
       "3"
      ]
     },
     "execution_count": 5,
     "metadata": {},
     "output_type": "execute_result"
    }
   ],
   "source": [
    "Exam[\"lee\"] #인덱스를 통해 자료 접근 가능"
   ]
  },
  {
   "cell_type": "code",
   "execution_count": 6,
   "metadata": {},
   "outputs": [
    {
     "data": {
      "text/plain": [
       "lee     3\n",
       "kang    4\n",
       "dtype: int64"
      ]
     },
     "execution_count": 6,
     "metadata": {},
     "output_type": "execute_result"
    }
   ],
   "source": [
    "Exam[[\"lee\",\"kang\"]] #여러개의 인덱스도 접근 가능. "
   ]
  },
  {
   "cell_type": "code",
   "execution_count": 7,
   "metadata": {},
   "outputs": [
    {
     "data": {
      "text/plain": [
       "A    False\n",
       "B    False\n",
       "C     True\n",
       "D    False\n",
       "E    False\n",
       "F     True\n",
       "G     True\n",
       "H    False\n",
       "I    False\n",
       "J    False\n",
       "dtype: bool"
      ]
     },
     "execution_count": 7,
     "metadata": {},
     "output_type": "execute_result"
    }
   ],
   "source": [
    "Exam=Series([2,3,6,9,3,5,7,9,3,1],index=[\"A\",\"B\",\"C\",\"D\",\"E\",\"F\",\"G\",\"H\",\"I\",\"J\"])\n",
    "b_Result=(Exam>=4) & (Exam<8)  #논리값을 이용해서 데이터에 접근 가능\n",
    "b_Result"
   ]
  },
  {
   "cell_type": "code",
   "execution_count": 8,
   "metadata": {},
   "outputs": [
    {
     "data": {
      "text/plain": [
       "C    6\n",
       "F    5\n",
       "G    7\n",
       "dtype: int64"
      ]
     },
     "execution_count": 8,
     "metadata": {},
     "output_type": "execute_result"
    }
   ],
   "source": [
    "Exam[b_Result]"
   ]
  },
  {
   "cell_type": "code",
   "execution_count": 9,
   "metadata": {},
   "outputs": [
    {
     "data": {
      "text/plain": [
       "C    6\n",
       "F    5\n",
       "G    7\n",
       "dtype: int64"
      ]
     },
     "execution_count": 9,
     "metadata": {},
     "output_type": "execute_result"
    }
   ],
   "source": [
    "# 굳이 변수만들필요없음\n",
    "Exam[((Exam>=4) & (Exam<8))]"
   ]
  },
  {
   "cell_type": "code",
   "execution_count": 10,
   "metadata": {},
   "outputs": [
    {
     "data": {
      "text/plain": [
       "C    2.449490\n",
       "F    2.236068\n",
       "G    2.645751\n",
       "dtype: float64"
      ]
     },
     "execution_count": 10,
     "metadata": {},
     "output_type": "execute_result"
    }
   ],
   "source": [
    "np.sqrt(Exam[((Exam>=4) & (Exam<8))]) # numpy 함수도 사용 가능"
   ]
  },
  {
   "cell_type": "code",
   "execution_count": 11,
   "metadata": {},
   "outputs": [
    {
     "data": {
      "text/plain": [
       "kim    25\n",
       "lee    45\n",
       "cho    13\n",
       "dtype: int64"
      ]
     },
     "execution_count": 11,
     "metadata": {},
     "output_type": "execute_result"
    }
   ],
   "source": [
    "dic={\"kim\":25,\"lee\":45,\"cho\":13}\n",
    "Exam=Series(dic)\n",
    "Exam  #사전과 시리즈는 유사"
   ]
  },
  {
   "cell_type": "code",
   "execution_count": 12,
   "metadata": {},
   "outputs": [
    {
     "data": {
      "text/plain": [
       "lee     45.0\n",
       "kang     NaN\n",
       "cho     13.0\n",
       "kim     25.0\n",
       "dtype: float64"
      ]
     },
     "execution_count": 12,
     "metadata": {},
     "output_type": "execute_result"
    }
   ],
   "source": [
    "Exam=Series(dic,index=[\"lee\",\"kang\",\"cho\",\"kim\"])\n",
    "Exam"
   ]
  },
  {
   "cell_type": "code",
   "execution_count": 13,
   "metadata": {},
   "outputs": [
    {
     "data": {
      "text/plain": [
       "lee     False\n",
       "kang     True\n",
       "cho     False\n",
       "kim     False\n",
       "dtype: bool"
      ]
     },
     "execution_count": 13,
     "metadata": {},
     "output_type": "execute_result"
    }
   ],
   "source": [
    "pd.isnull(Exam) #각각에 대해서 결측값이니?"
   ]
  },
  {
   "cell_type": "code",
   "execution_count": 14,
   "metadata": {},
   "outputs": [
    {
     "data": {
      "text/plain": [
       "lee      True\n",
       "kang    False\n",
       "cho      True\n",
       "kim      True\n",
       "dtype: bool"
      ]
     },
     "execution_count": 14,
     "metadata": {},
     "output_type": "execute_result"
    }
   ],
   "source": [
    "pd.notnull(Exam) # 결측이 아니니?"
   ]
  },
  {
   "cell_type": "code",
   "execution_count": 15,
   "metadata": {},
   "outputs": [
    {
     "name": "stdout",
     "output_type": "stream",
     "text": [
      "kim    25\n",
      "lee    45\n",
      "cho    13\n",
      "dtype: int64 \n",
      "\n",
      " cho     56\n",
      "kim     75\n",
      "kang    85\n",
      "lee     96\n",
      "dtype: int64 \n",
      "\n",
      " cho      69.0\n",
      "kang      NaN\n",
      "kim     100.0\n",
      "lee     141.0\n",
      "dtype: float64\n"
     ]
    }
   ],
   "source": [
    "dic={\"kim\":25,\"lee\":45,\"cho\":13}\n",
    "Exam1=Series(dic)\n",
    "Exam2=Series([56,75,85,96],index=[\"cho\",\"kim\",\"kang\",\"lee\"])\n",
    "print(Exam1, \"\\n\\n\", Exam2, \"\\n\\n\",Exam1+Exam2)"
   ]
  },
  {
   "cell_type": "code",
   "execution_count": 16,
   "metadata": {},
   "outputs": [
    {
     "name": "stdout",
     "output_type": "stream",
     "text": [
      "kim    25\n",
      "lee    45\n",
      "cho    13\n",
      "dtype: int64 \n",
      "\n",
      " cho     56\n",
      "kim     75\n",
      "kang    85\n",
      "lee     96\n",
      "dtype: int64\n"
     ]
    },
    {
     "data": {
      "text/plain": [
       "cho      69.0\n",
       "kang      NaN\n",
       "kim     100.0\n",
       "lee     141.0\n",
       "Name: 성적, dtype: float64"
      ]
     },
     "execution_count": 16,
     "metadata": {},
     "output_type": "execute_result"
    }
   ],
   "source": [
    "dic={\"kim\":25,\"lee\":45,\"cho\":13}\n",
    "Exam1=Series(dic)\n",
    "Exam2=Series([56,75,85,96],index=[\"cho\",\"kim\",\"kang\",\"lee\"])\n",
    "print(Exam1, \"\\n\\n\", Exam2)\n",
    "Result=Exam1+Exam2 #색인같은것끼리 더하기\n",
    "Result.name=\"성적\" #시리즈에 이름붙일 수 있음\n",
    "Result"
   ]
  },
  {
   "cell_type": "code",
   "execution_count": 17,
   "metadata": {},
   "outputs": [
    {
     "data": {
      "text/plain": [
       "choi\n",
       "cho      69.0\n",
       "kang      NaN\n",
       "kim     100.0\n",
       "lee     141.0\n",
       "Name: 성적, dtype: float64"
      ]
     },
     "execution_count": 17,
     "metadata": {},
     "output_type": "execute_result"
    }
   ],
   "source": [
    "Result.index.name=\"choi\"\n",
    "Result #색인이름 추가, 빈값"
   ]
  },
  {
   "cell_type": "code",
   "execution_count": 18,
   "metadata": {},
   "outputs": [
    {
     "data": {
      "text/html": [
       "<div>\n",
       "<style scoped>\n",
       "    .dataframe tbody tr th:only-of-type {\n",
       "        vertical-align: middle;\n",
       "    }\n",
       "\n",
       "    .dataframe tbody tr th {\n",
       "        vertical-align: top;\n",
       "    }\n",
       "\n",
       "    .dataframe thead th {\n",
       "        text-align: right;\n",
       "    }\n",
       "</style>\n",
       "<table border=\"1\" class=\"dataframe\">\n",
       "  <thead>\n",
       "    <tr style=\"text-align: right;\">\n",
       "      <th></th>\n",
       "      <th>gender</th>\n",
       "      <th>mid</th>\n",
       "      <th>fin</th>\n",
       "    </tr>\n",
       "  </thead>\n",
       "  <tbody>\n",
       "    <tr>\n",
       "      <td>0</td>\n",
       "      <td>M</td>\n",
       "      <td>25</td>\n",
       "      <td>45</td>\n",
       "    </tr>\n",
       "    <tr>\n",
       "      <td>1</td>\n",
       "      <td>F</td>\n",
       "      <td>56</td>\n",
       "      <td>76</td>\n",
       "    </tr>\n",
       "    <tr>\n",
       "      <td>2</td>\n",
       "      <td>F</td>\n",
       "      <td>35</td>\n",
       "      <td>88</td>\n",
       "    </tr>\n",
       "    <tr>\n",
       "      <td>3</td>\n",
       "      <td>M</td>\n",
       "      <td>34</td>\n",
       "      <td>79</td>\n",
       "    </tr>\n",
       "  </tbody>\n",
       "</table>\n",
       "</div>"
      ],
      "text/plain": [
       "  gender  mid  fin\n",
       "0      M   25   45\n",
       "1      F   56   76\n",
       "2      F   35   88\n",
       "3      M   34   79"
      ]
     },
     "execution_count": 18,
     "metadata": {},
     "output_type": "execute_result"
    }
   ],
   "source": [
    "dic={\"gender\":[\"M\",\"F\",\"F\",\"M\"],\"mid\":[25,56,35,34],\"fin\":[45,76,88,79]} #key가 변수명\n",
    "Exam=DataFrame(dic)\n",
    "Exam"
   ]
  },
  {
   "cell_type": "code",
   "execution_count": 19,
   "metadata": {},
   "outputs": [
    {
     "data": {
      "text/html": [
       "<div>\n",
       "<style scoped>\n",
       "    .dataframe tbody tr th:only-of-type {\n",
       "        vertical-align: middle;\n",
       "    }\n",
       "\n",
       "    .dataframe tbody tr th {\n",
       "        vertical-align: top;\n",
       "    }\n",
       "\n",
       "    .dataframe thead th {\n",
       "        text-align: right;\n",
       "    }\n",
       "</style>\n",
       "<table border=\"1\" class=\"dataframe\">\n",
       "  <thead>\n",
       "    <tr style=\"text-align: right;\">\n",
       "      <th></th>\n",
       "      <th>fin</th>\n",
       "      <th>gender</th>\n",
       "      <th>mid</th>\n",
       "    </tr>\n",
       "  </thead>\n",
       "  <tbody>\n",
       "    <tr>\n",
       "      <td>0</td>\n",
       "      <td>45</td>\n",
       "      <td>M</td>\n",
       "      <td>25</td>\n",
       "    </tr>\n",
       "    <tr>\n",
       "      <td>1</td>\n",
       "      <td>76</td>\n",
       "      <td>F</td>\n",
       "      <td>56</td>\n",
       "    </tr>\n",
       "    <tr>\n",
       "      <td>2</td>\n",
       "      <td>88</td>\n",
       "      <td>F</td>\n",
       "      <td>35</td>\n",
       "    </tr>\n",
       "    <tr>\n",
       "      <td>3</td>\n",
       "      <td>79</td>\n",
       "      <td>M</td>\n",
       "      <td>34</td>\n",
       "    </tr>\n",
       "  </tbody>\n",
       "</table>\n",
       "</div>"
      ],
      "text/plain": [
       "   fin gender  mid\n",
       "0   45      M   25\n",
       "1   76      F   56\n",
       "2   88      F   35\n",
       "3   79      M   34"
      ]
     },
     "execution_count": 19,
     "metadata": {},
     "output_type": "execute_result"
    }
   ],
   "source": [
    "dic={\"gender\":[\"M\",\"F\",\"F\",\"M\"],\"mid\":[25,56,35,34],\"fin\":[45,76,88,79]} #key가 변수명\n",
    "Exam=DataFrame(dic,columns=[\"fin\",\"gender\",\"mid\"]) # 배열원하는대로 지정 가능\n",
    "Exam"
   ]
  },
  {
   "cell_type": "code",
   "execution_count": 20,
   "metadata": {},
   "outputs": [
    {
     "data": {
      "text/html": [
       "<div>\n",
       "<style scoped>\n",
       "    .dataframe tbody tr th:only-of-type {\n",
       "        vertical-align: middle;\n",
       "    }\n",
       "\n",
       "    .dataframe tbody tr th {\n",
       "        vertical-align: top;\n",
       "    }\n",
       "\n",
       "    .dataframe thead th {\n",
       "        text-align: right;\n",
       "    }\n",
       "</style>\n",
       "<table border=\"1\" class=\"dataframe\">\n",
       "  <thead>\n",
       "    <tr style=\"text-align: right;\">\n",
       "      <th></th>\n",
       "      <th>fin</th>\n",
       "      <th>gender</th>\n",
       "      <th>mid</th>\n",
       "      <th>NA</th>\n",
       "    </tr>\n",
       "  </thead>\n",
       "  <tbody>\n",
       "    <tr>\n",
       "      <td>0</td>\n",
       "      <td>45</td>\n",
       "      <td>M</td>\n",
       "      <td>25</td>\n",
       "      <td>NaN</td>\n",
       "    </tr>\n",
       "    <tr>\n",
       "      <td>1</td>\n",
       "      <td>76</td>\n",
       "      <td>F</td>\n",
       "      <td>56</td>\n",
       "      <td>NaN</td>\n",
       "    </tr>\n",
       "    <tr>\n",
       "      <td>2</td>\n",
       "      <td>88</td>\n",
       "      <td>F</td>\n",
       "      <td>35</td>\n",
       "      <td>NaN</td>\n",
       "    </tr>\n",
       "    <tr>\n",
       "      <td>3</td>\n",
       "      <td>79</td>\n",
       "      <td>M</td>\n",
       "      <td>34</td>\n",
       "      <td>NaN</td>\n",
       "    </tr>\n",
       "  </tbody>\n",
       "</table>\n",
       "</div>"
      ],
      "text/plain": [
       "   fin gender  mid   NA\n",
       "0   45      M   25  NaN\n",
       "1   76      F   56  NaN\n",
       "2   88      F   35  NaN\n",
       "3   79      M   34  NaN"
      ]
     },
     "execution_count": 20,
     "metadata": {},
     "output_type": "execute_result"
    }
   ],
   "source": [
    "dic={\"gender\":[\"M\",\"F\",\"F\",\"M\"],\"mid\":[25,56,35,34],\"fin\":[45,76,88,79]} #key가 변수명\n",
    "Exam=DataFrame(dic,columns=[\"fin\",\"gender\",\"mid\",\"NA\"]) # 비어있는 열 추가도 가능\n",
    "Exam"
   ]
  },
  {
   "cell_type": "code",
   "execution_count": 21,
   "metadata": {},
   "outputs": [
    {
     "data": {
      "text/html": [
       "<div>\n",
       "<style scoped>\n",
       "    .dataframe tbody tr th:only-of-type {\n",
       "        vertical-align: middle;\n",
       "    }\n",
       "\n",
       "    .dataframe tbody tr th {\n",
       "        vertical-align: top;\n",
       "    }\n",
       "\n",
       "    .dataframe thead th {\n",
       "        text-align: right;\n",
       "    }\n",
       "</style>\n",
       "<table border=\"1\" class=\"dataframe\">\n",
       "  <thead>\n",
       "    <tr style=\"text-align: right;\">\n",
       "      <th></th>\n",
       "      <th>fin</th>\n",
       "      <th>gender</th>\n",
       "      <th>mid</th>\n",
       "      <th>NA</th>\n",
       "    </tr>\n",
       "  </thead>\n",
       "  <tbody>\n",
       "    <tr>\n",
       "      <td>A</td>\n",
       "      <td>45</td>\n",
       "      <td>M</td>\n",
       "      <td>25</td>\n",
       "      <td>NaN</td>\n",
       "    </tr>\n",
       "    <tr>\n",
       "      <td>B</td>\n",
       "      <td>76</td>\n",
       "      <td>F</td>\n",
       "      <td>56</td>\n",
       "      <td>NaN</td>\n",
       "    </tr>\n",
       "    <tr>\n",
       "      <td>C</td>\n",
       "      <td>88</td>\n",
       "      <td>F</td>\n",
       "      <td>35</td>\n",
       "      <td>NaN</td>\n",
       "    </tr>\n",
       "    <tr>\n",
       "      <td>D</td>\n",
       "      <td>79</td>\n",
       "      <td>M</td>\n",
       "      <td>34</td>\n",
       "      <td>NaN</td>\n",
       "    </tr>\n",
       "  </tbody>\n",
       "</table>\n",
       "</div>"
      ],
      "text/plain": [
       "   fin gender  mid   NA\n",
       "A   45      M   25  NaN\n",
       "B   76      F   56  NaN\n",
       "C   88      F   35  NaN\n",
       "D   79      M   34  NaN"
      ]
     },
     "execution_count": 21,
     "metadata": {},
     "output_type": "execute_result"
    }
   ],
   "source": [
    "dic={\"gender\":[\"M\",\"F\",\"F\",\"M\"],\"mid\":[25,56,35,34],\"fin\":[45,76,88,79]} #key가 변수명\n",
    "Exam=DataFrame(dic,columns=[\"fin\",\"gender\",\"mid\",\"NA\"],index=[\"A\",\"B\",\"C\",\"D\"]) # 인덱스도 원하는대로 바꿀 수 있음\n",
    "Exam"
   ]
  },
  {
   "cell_type": "code",
   "execution_count": 22,
   "metadata": {},
   "outputs": [
    {
     "data": {
      "text/html": [
       "<div>\n",
       "<style scoped>\n",
       "    .dataframe tbody tr th:only-of-type {\n",
       "        vertical-align: middle;\n",
       "    }\n",
       "\n",
       "    .dataframe tbody tr th {\n",
       "        vertical-align: top;\n",
       "    }\n",
       "\n",
       "    .dataframe thead th {\n",
       "        text-align: right;\n",
       "    }\n",
       "</style>\n",
       "<table border=\"1\" class=\"dataframe\">\n",
       "  <thead>\n",
       "    <tr style=\"text-align: right;\">\n",
       "      <th></th>\n",
       "      <th>0</th>\n",
       "      <th>1</th>\n",
       "      <th>2</th>\n",
       "      <th>3</th>\n",
       "    </tr>\n",
       "  </thead>\n",
       "  <tbody>\n",
       "    <tr>\n",
       "      <td>0</td>\n",
       "      <td>3</td>\n",
       "      <td>5</td>\n",
       "      <td>7</td>\n",
       "      <td>2</td>\n",
       "    </tr>\n",
       "    <tr>\n",
       "      <td>1</td>\n",
       "      <td>25</td>\n",
       "      <td>56</td>\n",
       "      <td>35</td>\n",
       "      <td>34</td>\n",
       "    </tr>\n",
       "    <tr>\n",
       "      <td>2</td>\n",
       "      <td>45</td>\n",
       "      <td>76</td>\n",
       "      <td>88</td>\n",
       "      <td>79</td>\n",
       "    </tr>\n",
       "  </tbody>\n",
       "</table>\n",
       "</div>"
      ],
      "text/plain": [
       "    0   1   2   3\n",
       "0   3   5   7   2\n",
       "1  25  56  35  34\n",
       "2  45  76  88  79"
      ]
     },
     "execution_count": 22,
     "metadata": {},
     "output_type": "execute_result"
    }
   ],
   "source": [
    "arr=np.array([[3,5,7,2],[25,56,35,34],[45,76,88,79]])\n",
    "Exam=DataFrame(arr) # 리스트가 각각 행이 됨 \n",
    "Exam"
   ]
  },
  {
   "cell_type": "code",
   "execution_count": 23,
   "metadata": {},
   "outputs": [
    {
     "data": {
      "text/html": [
       "<div>\n",
       "<style scoped>\n",
       "    .dataframe tbody tr th:only-of-type {\n",
       "        vertical-align: middle;\n",
       "    }\n",
       "\n",
       "    .dataframe tbody tr th {\n",
       "        vertical-align: top;\n",
       "    }\n",
       "\n",
       "    .dataframe thead th {\n",
       "        text-align: right;\n",
       "    }\n",
       "</style>\n",
       "<table border=\"1\" class=\"dataframe\">\n",
       "  <thead>\n",
       "    <tr style=\"text-align: right;\">\n",
       "      <th></th>\n",
       "      <th>0</th>\n",
       "      <th>1</th>\n",
       "      <th>2</th>\n",
       "    </tr>\n",
       "  </thead>\n",
       "  <tbody>\n",
       "    <tr>\n",
       "      <td>0</td>\n",
       "      <td>3</td>\n",
       "      <td>25</td>\n",
       "      <td>45</td>\n",
       "    </tr>\n",
       "    <tr>\n",
       "      <td>1</td>\n",
       "      <td>5</td>\n",
       "      <td>56</td>\n",
       "      <td>76</td>\n",
       "    </tr>\n",
       "    <tr>\n",
       "      <td>2</td>\n",
       "      <td>7</td>\n",
       "      <td>35</td>\n",
       "      <td>88</td>\n",
       "    </tr>\n",
       "    <tr>\n",
       "      <td>3</td>\n",
       "      <td>2</td>\n",
       "      <td>34</td>\n",
       "      <td>79</td>\n",
       "    </tr>\n",
       "  </tbody>\n",
       "</table>\n",
       "</div>"
      ],
      "text/plain": [
       "   0   1   2\n",
       "0  3  25  45\n",
       "1  5  56  76\n",
       "2  7  35  88\n",
       "3  2  34  79"
      ]
     },
     "execution_count": 23,
     "metadata": {},
     "output_type": "execute_result"
    }
   ],
   "source": [
    "arr=np.array([[3,5,7,2],[25,56,35,34],[45,76,88,79]])\n",
    "Exam=DataFrame(arr.T) # 전치시켜서 넣으면 열별로도 가능\n",
    "Exam"
   ]
  },
  {
   "cell_type": "code",
   "execution_count": 24,
   "metadata": {},
   "outputs": [
    {
     "data": {
      "text/html": [
       "<div>\n",
       "<style scoped>\n",
       "    .dataframe tbody tr th:only-of-type {\n",
       "        vertical-align: middle;\n",
       "    }\n",
       "\n",
       "    .dataframe tbody tr th {\n",
       "        vertical-align: top;\n",
       "    }\n",
       "\n",
       "    .dataframe thead th {\n",
       "        text-align: right;\n",
       "    }\n",
       "</style>\n",
       "<table border=\"1\" class=\"dataframe\">\n",
       "  <thead>\n",
       "    <tr style=\"text-align: right;\">\n",
       "      <th></th>\n",
       "      <th>V1</th>\n",
       "      <th>V2</th>\n",
       "      <th>V3</th>\n",
       "    </tr>\n",
       "  </thead>\n",
       "  <tbody>\n",
       "    <tr>\n",
       "      <td>A</td>\n",
       "      <td>3</td>\n",
       "      <td>25</td>\n",
       "      <td>45</td>\n",
       "    </tr>\n",
       "    <tr>\n",
       "      <td>B</td>\n",
       "      <td>5</td>\n",
       "      <td>56</td>\n",
       "      <td>76</td>\n",
       "    </tr>\n",
       "    <tr>\n",
       "      <td>C</td>\n",
       "      <td>7</td>\n",
       "      <td>35</td>\n",
       "      <td>88</td>\n",
       "    </tr>\n",
       "    <tr>\n",
       "      <td>D</td>\n",
       "      <td>2</td>\n",
       "      <td>34</td>\n",
       "      <td>79</td>\n",
       "    </tr>\n",
       "  </tbody>\n",
       "</table>\n",
       "</div>"
      ],
      "text/plain": [
       "   V1  V2  V3\n",
       "A   3  25  45\n",
       "B   5  56  76\n",
       "C   7  35  88\n",
       "D   2  34  79"
      ]
     },
     "execution_count": 24,
     "metadata": {},
     "output_type": "execute_result"
    }
   ],
   "source": [
    "arr=np.array([[3,5,7,2],[25,56,35,34],[45,76,88,79]])\n",
    "Exam=DataFrame(arr.T,columns=[\"V1\",\"V2\",\"V3\"],index=[\"A\",\"B\",\"C\",\"D\"]) # 열, 행인덱스 추가\n",
    "Exam"
   ]
  },
  {
   "cell_type": "code",
   "execution_count": 25,
   "metadata": {},
   "outputs": [
    {
     "name": "stdout",
     "output_type": "stream",
     "text": [
      "[[ 3 25 45]\n",
      " [ 5 56 76]\n",
      " [ 7 35 88]\n",
      " [ 2 34 79]] \n",
      "\n",
      " Index(['A', 'B', 'C', 'D'], dtype='object') \n",
      "\n",
      " Index(['V1', 'V2', 'V3'], dtype='object')\n"
     ]
    }
   ],
   "source": [
    "arr=np.array([[3,5,7,2],[25,56,35,34],[45,76,88,79]])\n",
    "Exam=DataFrame(arr.T,columns=[\"V1\",\"V2\",\"V3\"],index=[\"A\",\"B\",\"C\",\"D\"]) # 열, 행인덱스 추가\n",
    "print(Exam.values,\"\\n\\n\",Exam.index,\"\\n\\n\",Exam.columns) # 값, #행 인덱스 # 열인덱스"
   ]
  },
  {
   "cell_type": "code",
   "execution_count": 26,
   "metadata": {},
   "outputs": [
    {
     "name": "stderr",
     "output_type": "stream",
     "text": [
      "C:\\Users\\Affinity\\Anaconda3\\envs\\mypython\\lib\\site-packages\\ipykernel_launcher.py:1: FutureWarning: \n",
      ".ix is deprecated. Please use\n",
      ".loc for label based indexing or\n",
      ".iloc for positional indexing\n",
      "\n",
      "See the documentation here:\n",
      "http://pandas.pydata.org/pandas-docs/stable/user_guide/indexing.html#ix-indexer-is-deprecated\n",
      "  \"\"\"Entry point for launching an IPython kernel.\n"
     ]
    },
    {
     "data": {
      "text/plain": [
       "V1     5\n",
       "V2    56\n",
       "V3    76\n",
       "Name: B, dtype: int32"
      ]
     },
     "execution_count": 26,
     "metadata": {},
     "output_type": "execute_result"
    }
   ],
   "source": [
    "Exam.ix[\"B\"] # 행인덱스를 통해 결과받음. 시리즈값으로 돌려받음"
   ]
  },
  {
   "cell_type": "code",
   "execution_count": 27,
   "metadata": {},
   "outputs": [
    {
     "data": {
      "text/html": [
       "<div>\n",
       "<style scoped>\n",
       "    .dataframe tbody tr th:only-of-type {\n",
       "        vertical-align: middle;\n",
       "    }\n",
       "\n",
       "    .dataframe tbody tr th {\n",
       "        vertical-align: top;\n",
       "    }\n",
       "\n",
       "    .dataframe thead th {\n",
       "        text-align: right;\n",
       "    }\n",
       "</style>\n",
       "<table border=\"1\" class=\"dataframe\">\n",
       "  <thead>\n",
       "    <tr style=\"text-align: right;\">\n",
       "      <th></th>\n",
       "      <th>V1</th>\n",
       "      <th>V2</th>\n",
       "      <th>V3</th>\n",
       "    </tr>\n",
       "  </thead>\n",
       "  <tbody>\n",
       "    <tr>\n",
       "      <td>B</td>\n",
       "      <td>5</td>\n",
       "      <td>56</td>\n",
       "      <td>76</td>\n",
       "    </tr>\n",
       "    <tr>\n",
       "      <td>A</td>\n",
       "      <td>3</td>\n",
       "      <td>25</td>\n",
       "      <td>45</td>\n",
       "    </tr>\n",
       "  </tbody>\n",
       "</table>\n",
       "</div>"
      ],
      "text/plain": [
       "   V1  V2  V3\n",
       "B   5  56  76\n",
       "A   3  25  45"
      ]
     },
     "execution_count": 27,
     "metadata": {},
     "output_type": "execute_result"
    }
   ],
   "source": [
    "Exam.loc[[\"B\",\"A\"]] # 두개이상의 행을 출력할 때에는 데이터 프레임으로 돌려받음"
   ]
  },
  {
   "cell_type": "code",
   "execution_count": 28,
   "metadata": {},
   "outputs": [
    {
     "data": {
      "text/plain": [
       "V1     5\n",
       "V2    56\n",
       "V3    76\n",
       "Name: B, dtype: int32"
      ]
     },
     "execution_count": 28,
     "metadata": {},
     "output_type": "execute_result"
    }
   ],
   "source": [
    "Exam.iloc[1] #원래인덱스번호를 이용해서 접근하게 해줌, 1번이면 2번째 행"
   ]
  },
  {
   "cell_type": "code",
   "execution_count": 29,
   "metadata": {},
   "outputs": [
    {
     "data": {
      "text/html": [
       "<div>\n",
       "<style scoped>\n",
       "    .dataframe tbody tr th:only-of-type {\n",
       "        vertical-align: middle;\n",
       "    }\n",
       "\n",
       "    .dataframe tbody tr th {\n",
       "        vertical-align: top;\n",
       "    }\n",
       "\n",
       "    .dataframe thead th {\n",
       "        text-align: right;\n",
       "    }\n",
       "</style>\n",
       "<table border=\"1\" class=\"dataframe\">\n",
       "  <thead>\n",
       "    <tr style=\"text-align: right;\">\n",
       "      <th></th>\n",
       "      <th>V1</th>\n",
       "      <th>V2</th>\n",
       "      <th>V3</th>\n",
       "    </tr>\n",
       "  </thead>\n",
       "  <tbody>\n",
       "    <tr>\n",
       "      <td>C</td>\n",
       "      <td>7</td>\n",
       "      <td>35</td>\n",
       "      <td>88</td>\n",
       "    </tr>\n",
       "    <tr>\n",
       "      <td>A</td>\n",
       "      <td>3</td>\n",
       "      <td>25</td>\n",
       "      <td>45</td>\n",
       "    </tr>\n",
       "  </tbody>\n",
       "</table>\n",
       "</div>"
      ],
      "text/plain": [
       "   V1  V2  V3\n",
       "C   7  35  88\n",
       "A   3  25  45"
      ]
     },
     "execution_count": 29,
     "metadata": {},
     "output_type": "execute_result"
    }
   ],
   "source": [
    "Exam.iloc[[2,0]] #2,0을 적을 때 []이용"
   ]
  },
  {
   "cell_type": "code",
   "execution_count": 30,
   "metadata": {},
   "outputs": [
    {
     "data": {
      "text/plain": [
       "A    45\n",
       "B    76\n",
       "C    88\n",
       "D    79\n",
       "Name: V3, dtype: int32"
      ]
     },
     "execution_count": 30,
     "metadata": {},
     "output_type": "execute_result"
    }
   ],
   "source": [
    "Exam[\"V3\"] # 열인덱스를 이용"
   ]
  },
  {
   "cell_type": "code",
   "execution_count": 31,
   "metadata": {},
   "outputs": [
    {
     "data": {
      "text/plain": [
       "A    45\n",
       "B    76\n",
       "C    88\n",
       "D    79\n",
       "Name: V3, dtype: int32"
      ]
     },
     "execution_count": 31,
     "metadata": {},
     "output_type": "execute_result"
    }
   ],
   "source": [
    "Exam.V3"
   ]
  },
  {
   "cell_type": "code",
   "execution_count": 32,
   "metadata": {},
   "outputs": [
    {
     "data": {
      "text/html": [
       "<div>\n",
       "<style scoped>\n",
       "    .dataframe tbody tr th:only-of-type {\n",
       "        vertical-align: middle;\n",
       "    }\n",
       "\n",
       "    .dataframe tbody tr th {\n",
       "        vertical-align: top;\n",
       "    }\n",
       "\n",
       "    .dataframe thead th {\n",
       "        text-align: right;\n",
       "    }\n",
       "</style>\n",
       "<table border=\"1\" class=\"dataframe\">\n",
       "  <thead>\n",
       "    <tr style=\"text-align: right;\">\n",
       "      <th></th>\n",
       "      <th>V3</th>\n",
       "      <th>V2</th>\n",
       "    </tr>\n",
       "  </thead>\n",
       "  <tbody>\n",
       "    <tr>\n",
       "      <td>A</td>\n",
       "      <td>45</td>\n",
       "      <td>25</td>\n",
       "    </tr>\n",
       "    <tr>\n",
       "      <td>B</td>\n",
       "      <td>76</td>\n",
       "      <td>56</td>\n",
       "    </tr>\n",
       "    <tr>\n",
       "      <td>C</td>\n",
       "      <td>88</td>\n",
       "      <td>35</td>\n",
       "    </tr>\n",
       "    <tr>\n",
       "      <td>D</td>\n",
       "      <td>79</td>\n",
       "      <td>34</td>\n",
       "    </tr>\n",
       "  </tbody>\n",
       "</table>\n",
       "</div>"
      ],
      "text/plain": [
       "   V3  V2\n",
       "A  45  25\n",
       "B  76  56\n",
       "C  88  35\n",
       "D  79  34"
      ]
     },
     "execution_count": 32,
     "metadata": {},
     "output_type": "execute_result"
    }
   ],
   "source": [
    "Exam[[\"V3\",\"V2\"]] #여러개의 열 추출할 때"
   ]
  },
  {
   "cell_type": "code",
   "execution_count": 33,
   "metadata": {},
   "outputs": [
    {
     "data": {
      "text/html": [
       "<div>\n",
       "<style scoped>\n",
       "    .dataframe tbody tr th:only-of-type {\n",
       "        vertical-align: middle;\n",
       "    }\n",
       "\n",
       "    .dataframe tbody tr th {\n",
       "        vertical-align: top;\n",
       "    }\n",
       "\n",
       "    .dataframe thead th {\n",
       "        text-align: right;\n",
       "    }\n",
       "</style>\n",
       "<table border=\"1\" class=\"dataframe\">\n",
       "  <thead>\n",
       "    <tr style=\"text-align: right;\">\n",
       "      <th></th>\n",
       "      <th>V2</th>\n",
       "      <th>V3</th>\n",
       "    </tr>\n",
       "  </thead>\n",
       "  <tbody>\n",
       "    <tr>\n",
       "      <td>B</td>\n",
       "      <td>56</td>\n",
       "      <td>76</td>\n",
       "    </tr>\n",
       "    <tr>\n",
       "      <td>C</td>\n",
       "      <td>35</td>\n",
       "      <td>88</td>\n",
       "    </tr>\n",
       "  </tbody>\n",
       "</table>\n",
       "</div>"
      ],
      "text/plain": [
       "   V2  V3\n",
       "B  56  76\n",
       "C  35  88"
      ]
     },
     "execution_count": 33,
     "metadata": {},
     "output_type": "execute_result"
    }
   ],
   "source": [
    "Exam.loc[[\"B\",\"C\"],[\"V2\",\"V3\"]] #한꺼번에도 사용 가능"
   ]
  },
  {
   "cell_type": "code",
   "execution_count": 34,
   "metadata": {},
   "outputs": [
    {
     "name": "stdout",
     "output_type": "stream",
     "text": [
      "   V1  V2  V3\n",
      "A   3  25  45\n",
      "B   5  56  76\n",
      "C   7  35  88\n",
      "D   2  34  79 \n",
      "\n",
      " D    남\n",
      "A    여\n",
      "E    남\n",
      "B    남\n",
      "dtype: object \n",
      "\n",
      "   V1  V2  V3 gender\n",
      "A   3  25  45      여\n",
      "B   5  56  76      남\n",
      "C   7  35  88    NaN\n",
      "D   2  34  79      남\n"
     ]
    }
   ],
   "source": [
    "arr=np.array([[3,5,7,2],[25,56,35,34],[45,76,88,79]])\n",
    "Exam=DataFrame(arr.T,columns=[\"V1\",\"V2\",\"V3\"],index=[\"A\",\"B\",\"C\",\"D\"])\n",
    "gender=Series([\"남\",\"여\",\"남\",\"남\"],index=[\"D\",\"A\",\"E\",\"B\"])\n",
    "print(Exam,\"\\n\\n\",gender,\"\\n\") \n",
    "Exam[\"gender\"]=gender #열추가한다고 생각하면 됨. #색인을 기준으로 결합 #E는 데이터가 원래 없으므로 빠지게됨\n",
    "print(Exam)"
   ]
  },
  {
   "cell_type": "code",
   "execution_count": 35,
   "metadata": {},
   "outputs": [
    {
     "name": "stdout",
     "output_type": "stream",
     "text": [
      "         A   B    C   D\n",
      "V1       3   5    7   2\n",
      "V2      25  56   35  34\n",
      "V3      45  76   88  79\n",
      "gender   여   남  NaN   남\n"
     ]
    }
   ],
   "source": [
    "print(Exam.T) #DataFrame도 전치가능"
   ]
  },
  {
   "cell_type": "code",
   "execution_count": 36,
   "metadata": {},
   "outputs": [
    {
     "data": {
      "text/html": [
       "<div>\n",
       "<style scoped>\n",
       "    .dataframe tbody tr th:only-of-type {\n",
       "        vertical-align: middle;\n",
       "    }\n",
       "\n",
       "    .dataframe tbody tr th {\n",
       "        vertical-align: top;\n",
       "    }\n",
       "\n",
       "    .dataframe thead th {\n",
       "        text-align: right;\n",
       "    }\n",
       "</style>\n",
       "<table border=\"1\" class=\"dataframe\">\n",
       "  <thead>\n",
       "    <tr style=\"text-align: right;\">\n",
       "      <th></th>\n",
       "      <th>gender</th>\n",
       "      <th>V1</th>\n",
       "    </tr>\n",
       "  </thead>\n",
       "  <tbody>\n",
       "    <tr>\n",
       "      <td>C</td>\n",
       "      <td>NaN</td>\n",
       "      <td>7</td>\n",
       "    </tr>\n",
       "    <tr>\n",
       "      <td>D</td>\n",
       "      <td>남</td>\n",
       "      <td>2</td>\n",
       "    </tr>\n",
       "  </tbody>\n",
       "</table>\n",
       "</div>"
      ],
      "text/plain": [
       "  gender  V1\n",
       "C    NaN   7\n",
       "D      남   2"
      ]
     },
     "execution_count": 36,
     "metadata": {},
     "output_type": "execute_result"
    }
   ],
   "source": [
    "Exam.iloc[[2,3]][[\"gender\",\"V1\"]]"
   ]
  },
  {
   "cell_type": "code",
   "execution_count": 37,
   "metadata": {},
   "outputs": [
    {
     "data": {
      "text/plain": [
       "C    NaN\n",
       "D      남\n",
       "Name: gender, dtype: object"
      ]
     },
     "execution_count": 37,
     "metadata": {},
     "output_type": "execute_result"
    }
   ],
   "source": [
    "Exam.iloc[[2,3]].gender # 하나의 열 추출할때는 이렇게 해도 가능"
   ]
  },
  {
   "cell_type": "code",
   "execution_count": 38,
   "metadata": {},
   "outputs": [
    {
     "data": {
      "text/plain": [
       "C    NaN\n",
       "A      여\n",
       "Name: gender, dtype: object"
      ]
     },
     "execution_count": 38,
     "metadata": {},
     "output_type": "execute_result"
    }
   ],
   "source": [
    "Exam.loc[[\"C\",\"A\"]].gender"
   ]
  },
  {
   "cell_type": "code",
   "execution_count": 39,
   "metadata": {},
   "outputs": [
    {
     "data": {
      "text/html": [
       "<div>\n",
       "<style scoped>\n",
       "    .dataframe tbody tr th:only-of-type {\n",
       "        vertical-align: middle;\n",
       "    }\n",
       "\n",
       "    .dataframe tbody tr th {\n",
       "        vertical-align: top;\n",
       "    }\n",
       "\n",
       "    .dataframe thead th {\n",
       "        text-align: right;\n",
       "    }\n",
       "</style>\n",
       "<table border=\"1\" class=\"dataframe\">\n",
       "  <thead>\n",
       "    <tr style=\"text-align: right;\">\n",
       "      <th></th>\n",
       "      <th>V1</th>\n",
       "      <th>V2</th>\n",
       "      <th>V3</th>\n",
       "      <th>gender</th>\n",
       "    </tr>\n",
       "  </thead>\n",
       "  <tbody>\n",
       "    <tr>\n",
       "      <td>C</td>\n",
       "      <td>7.0</td>\n",
       "      <td>35.0</td>\n",
       "      <td>88.0</td>\n",
       "      <td>NaN</td>\n",
       "    </tr>\n",
       "    <tr>\n",
       "      <td>A</td>\n",
       "      <td>3.0</td>\n",
       "      <td>25.0</td>\n",
       "      <td>45.0</td>\n",
       "      <td>여</td>\n",
       "    </tr>\n",
       "    <tr>\n",
       "      <td>B</td>\n",
       "      <td>5.0</td>\n",
       "      <td>56.0</td>\n",
       "      <td>76.0</td>\n",
       "      <td>남</td>\n",
       "    </tr>\n",
       "    <tr>\n",
       "      <td>F</td>\n",
       "      <td>NaN</td>\n",
       "      <td>NaN</td>\n",
       "      <td>NaN</td>\n",
       "      <td>NaN</td>\n",
       "    </tr>\n",
       "    <tr>\n",
       "      <td>D</td>\n",
       "      <td>2.0</td>\n",
       "      <td>34.0</td>\n",
       "      <td>79.0</td>\n",
       "      <td>남</td>\n",
       "    </tr>\n",
       "  </tbody>\n",
       "</table>\n",
       "</div>"
      ],
      "text/plain": [
       "    V1    V2    V3 gender\n",
       "C  7.0  35.0  88.0    NaN\n",
       "A  3.0  25.0  45.0      여\n",
       "B  5.0  56.0  76.0      남\n",
       "F  NaN   NaN   NaN    NaN\n",
       "D  2.0  34.0  79.0      남"
      ]
     },
     "execution_count": 39,
     "metadata": {},
     "output_type": "execute_result"
    }
   ],
   "source": [
    "Exam.reindex([\"C\",\"A\",\"B\",\"F\",\"D\"]) #F는 추가되므로 값자체는 비게해서!"
   ]
  },
  {
   "cell_type": "code",
   "execution_count": 40,
   "metadata": {},
   "outputs": [
    {
     "data": {
      "text/plain": [
       "0    3\n",
       "1    5\n",
       "2    2\n",
       "3    6\n",
       "dtype: int64"
      ]
     },
     "execution_count": 40,
     "metadata": {},
     "output_type": "execute_result"
    }
   ],
   "source": [
    "Ex=Series([3,5,2,6])\n",
    "Ex"
   ]
  },
  {
   "cell_type": "code",
   "execution_count": 41,
   "metadata": {},
   "outputs": [
    {
     "data": {
      "text/plain": [
       "2    2.0\n",
       "0    3.0\n",
       "3    6.0\n",
       "1    5.0\n",
       "5    NaN\n",
       "dtype: float64"
      ]
     },
     "execution_count": 41,
     "metadata": {},
     "output_type": "execute_result"
    }
   ],
   "source": [
    "Ex.reindex([2,0,3,1,5])"
   ]
  },
  {
   "cell_type": "code",
   "execution_count": 42,
   "metadata": {},
   "outputs": [
    {
     "data": {
      "text/plain": [
       "2    2\n",
       "0    3\n",
       "3    6\n",
       "1    5\n",
       "5    0\n",
       "dtype: int64"
      ]
     },
     "execution_count": 42,
     "metadata": {},
     "output_type": "execute_result"
    }
   ],
   "source": [
    "Ex.reindex([2,0,3,1,5],fill_value=0) #없는 인덱스추가할 때 자동으로 값 추가"
   ]
  },
  {
   "cell_type": "code",
   "execution_count": 43,
   "metadata": {},
   "outputs": [
    {
     "data": {
      "text/plain": [
       "2    2\n",
       "0    3\n",
       "3    6\n",
       "1    5\n",
       "5    6\n",
       "dtype: int64"
      ]
     },
     "execution_count": 43,
     "metadata": {},
     "output_type": "execute_result"
    }
   ],
   "source": [
    "Ex.reindex([2,0,3,1,5],method=\"ffill\") # 앞의 값으로 채우기"
   ]
  },
  {
   "cell_type": "code",
   "execution_count": 44,
   "metadata": {},
   "outputs": [
    {
     "name": "stdout",
     "output_type": "stream",
     "text": [
      "   V1  V2  V3\n",
      "A   3  25  45\n",
      "B   5  56  76\n",
      "C   7  35  88\n",
      "D   2  34  79\n"
     ]
    },
    {
     "data": {
      "text/html": [
       "<div>\n",
       "<style scoped>\n",
       "    .dataframe tbody tr th:only-of-type {\n",
       "        vertical-align: middle;\n",
       "    }\n",
       "\n",
       "    .dataframe tbody tr th {\n",
       "        vertical-align: top;\n",
       "    }\n",
       "\n",
       "    .dataframe thead th {\n",
       "        text-align: right;\n",
       "    }\n",
       "</style>\n",
       "<table border=\"1\" class=\"dataframe\">\n",
       "  <thead>\n",
       "    <tr style=\"text-align: right;\">\n",
       "      <th></th>\n",
       "      <th>V1</th>\n",
       "      <th>V2</th>\n",
       "      <th>V3</th>\n",
       "    </tr>\n",
       "  </thead>\n",
       "  <tbody>\n",
       "    <tr>\n",
       "      <td>C</td>\n",
       "      <td>7</td>\n",
       "      <td>35</td>\n",
       "      <td>88</td>\n",
       "    </tr>\n",
       "    <tr>\n",
       "      <td>A</td>\n",
       "      <td>3</td>\n",
       "      <td>25</td>\n",
       "      <td>45</td>\n",
       "    </tr>\n",
       "    <tr>\n",
       "      <td>B</td>\n",
       "      <td>5</td>\n",
       "      <td>56</td>\n",
       "      <td>76</td>\n",
       "    </tr>\n",
       "    <tr>\n",
       "      <td>F</td>\n",
       "      <td>2</td>\n",
       "      <td>34</td>\n",
       "      <td>79</td>\n",
       "    </tr>\n",
       "    <tr>\n",
       "      <td>D</td>\n",
       "      <td>2</td>\n",
       "      <td>34</td>\n",
       "      <td>79</td>\n",
       "    </tr>\n",
       "  </tbody>\n",
       "</table>\n",
       "</div>"
      ],
      "text/plain": [
       "   V1  V2  V3\n",
       "C   7  35  88\n",
       "A   3  25  45\n",
       "B   5  56  76\n",
       "F   2  34  79\n",
       "D   2  34  79"
      ]
     },
     "execution_count": 44,
     "metadata": {},
     "output_type": "execute_result"
    }
   ],
   "source": [
    "arr=np.array([[3,5,7,2],[25,56,35,34],[45,76,88,79]])\n",
    "Exam=DataFrame(arr.T,columns=[\"V1\",\"V2\",\"V3\"],index=[\"A\",\"B\",\"C\",\"D\"])\n",
    "#gender=Series([\"남\",\"여\",\"남\",\"남\"],index=[\"D\",\"A\",\"E\",\"B\"])\n",
    "#Exam[\"gender\"]=gender\n",
    "print(Exam)\n",
    "Exam.reindex([\"C\",\"A\",\"B\",\"F\",\"D\"],method=\"ffill\") #원래행렬을 기준으로 앞의 값 채우기. F는 D다음이므로 D를 따라감."
   ]
  },
  {
   "cell_type": "code",
   "execution_count": 45,
   "metadata": {
    "scrolled": true
   },
   "outputs": [
    {
     "name": "stdout",
     "output_type": "stream",
     "text": [
      "   V1  V2  V3\n",
      "A   3  25  45\n",
      "B   5  56  76\n",
      "C   7  35  88\n",
      "D   2  34  79\n"
     ]
    },
    {
     "data": {
      "text/html": [
       "<div>\n",
       "<style scoped>\n",
       "    .dataframe tbody tr th:only-of-type {\n",
       "        vertical-align: middle;\n",
       "    }\n",
       "\n",
       "    .dataframe tbody tr th {\n",
       "        vertical-align: top;\n",
       "    }\n",
       "\n",
       "    .dataframe thead th {\n",
       "        text-align: right;\n",
       "    }\n",
       "</style>\n",
       "<table border=\"1\" class=\"dataframe\">\n",
       "  <thead>\n",
       "    <tr style=\"text-align: right;\">\n",
       "      <th></th>\n",
       "      <th>V1</th>\n",
       "      <th>V2</th>\n",
       "      <th>V3</th>\n",
       "    </tr>\n",
       "  </thead>\n",
       "  <tbody>\n",
       "    <tr>\n",
       "      <td>C</td>\n",
       "      <td>7.0</td>\n",
       "      <td>35.0</td>\n",
       "      <td>88.0</td>\n",
       "    </tr>\n",
       "    <tr>\n",
       "      <td>A</td>\n",
       "      <td>3.0</td>\n",
       "      <td>25.0</td>\n",
       "      <td>45.0</td>\n",
       "    </tr>\n",
       "    <tr>\n",
       "      <td>B</td>\n",
       "      <td>5.0</td>\n",
       "      <td>56.0</td>\n",
       "      <td>76.0</td>\n",
       "    </tr>\n",
       "    <tr>\n",
       "      <td>F</td>\n",
       "      <td>NaN</td>\n",
       "      <td>NaN</td>\n",
       "      <td>NaN</td>\n",
       "    </tr>\n",
       "    <tr>\n",
       "      <td>D</td>\n",
       "      <td>2.0</td>\n",
       "      <td>34.0</td>\n",
       "      <td>79.0</td>\n",
       "    </tr>\n",
       "  </tbody>\n",
       "</table>\n",
       "</div>"
      ],
      "text/plain": [
       "    V1    V2    V3\n",
       "C  7.0  35.0  88.0\n",
       "A  3.0  25.0  45.0\n",
       "B  5.0  56.0  76.0\n",
       "F  NaN   NaN   NaN\n",
       "D  2.0  34.0  79.0"
      ]
     },
     "execution_count": 45,
     "metadata": {},
     "output_type": "execute_result"
    }
   ],
   "source": [
    "arr=np.array([[3,5,7,2],[25,56,35,34],[45,76,88,79]])\n",
    "Exam=DataFrame(arr.T,columns=[\"V1\",\"V2\",\"V3\"],index=[\"A\",\"B\",\"C\",\"D\"])\n",
    "#gender=Series([\"남\",\"여\",\"남\",\"남\"],index=[\"D\",\"A\",\"E\",\"B\"]) \n",
    "#Exam[\"gender\"]=gender\n",
    "print(Exam)\n",
    "Exam.reindex([\"C\",\"A\",\"B\",\"F\",\"D\"],method=\"bfill\") #원래행렬을 기준으로 뒤의값 채우기. D는 뒤에 뭐가 없으므로 뒤에 표시안되있음."
   ]
  },
  {
   "cell_type": "code",
   "execution_count": 46,
   "metadata": {},
   "outputs": [
    {
     "name": "stdout",
     "output_type": "stream",
     "text": [
      "   V1  V2  V3\n",
      "A   3  25  45\n",
      "B   5  56  76\n",
      "C   7  35  88\n",
      "F   2  34  79\n"
     ]
    },
    {
     "data": {
      "text/html": [
       "<div>\n",
       "<style scoped>\n",
       "    .dataframe tbody tr th:only-of-type {\n",
       "        vertical-align: middle;\n",
       "    }\n",
       "\n",
       "    .dataframe tbody tr th {\n",
       "        vertical-align: top;\n",
       "    }\n",
       "\n",
       "    .dataframe thead th {\n",
       "        text-align: right;\n",
       "    }\n",
       "</style>\n",
       "<table border=\"1\" class=\"dataframe\">\n",
       "  <thead>\n",
       "    <tr style=\"text-align: right;\">\n",
       "      <th></th>\n",
       "      <th>V1</th>\n",
       "      <th>V2</th>\n",
       "      <th>V3</th>\n",
       "    </tr>\n",
       "  </thead>\n",
       "  <tbody>\n",
       "    <tr>\n",
       "      <td>C</td>\n",
       "      <td>7</td>\n",
       "      <td>35</td>\n",
       "      <td>88</td>\n",
       "    </tr>\n",
       "    <tr>\n",
       "      <td>A</td>\n",
       "      <td>3</td>\n",
       "      <td>25</td>\n",
       "      <td>45</td>\n",
       "    </tr>\n",
       "    <tr>\n",
       "      <td>B</td>\n",
       "      <td>5</td>\n",
       "      <td>56</td>\n",
       "      <td>76</td>\n",
       "    </tr>\n",
       "    <tr>\n",
       "      <td>F</td>\n",
       "      <td>2</td>\n",
       "      <td>34</td>\n",
       "      <td>79</td>\n",
       "    </tr>\n",
       "    <tr>\n",
       "      <td>E</td>\n",
       "      <td>7</td>\n",
       "      <td>35</td>\n",
       "      <td>88</td>\n",
       "    </tr>\n",
       "  </tbody>\n",
       "</table>\n",
       "</div>"
      ],
      "text/plain": [
       "   V1  V2  V3\n",
       "C   7  35  88\n",
       "A   3  25  45\n",
       "B   5  56  76\n",
       "F   2  34  79\n",
       "E   7  35  88"
      ]
     },
     "execution_count": 46,
     "metadata": {},
     "output_type": "execute_result"
    }
   ],
   "source": [
    "arr=np.array([[3,5,7,2],[25,56,35,34],[45,76,88,79]])\n",
    "Exam=DataFrame(arr.T,columns=[\"V1\",\"V2\",\"V3\"],index=[\"A\",\"B\",\"C\",\"F\"])\n",
    "#gender=Series([\"남\",\"여\",\"남\",\"남\"],index=[\"D\",\"A\",\"E\",\"B\"]) \n",
    "#Exam[\"gender\"]=gender\n",
    "print(Exam)\n",
    "Exam.reindex([\"C\",\"A\",\"B\",\"F\",\"E\"],method=\"ffill\") #E는 D뒤 F앞으로 들어가므로 D가 기준 "
   ]
  },
  {
   "cell_type": "code",
   "execution_count": 47,
   "metadata": {},
   "outputs": [
    {
     "name": "stdout",
     "output_type": "stream",
     "text": [
      "   V1  V2  V3\n",
      "A   3  25  45\n",
      "B   5  56  76\n",
      "C   7  35  88\n",
      "F   2  34  79\n"
     ]
    },
    {
     "data": {
      "text/html": [
       "<div>\n",
       "<style scoped>\n",
       "    .dataframe tbody tr th:only-of-type {\n",
       "        vertical-align: middle;\n",
       "    }\n",
       "\n",
       "    .dataframe tbody tr th {\n",
       "        vertical-align: top;\n",
       "    }\n",
       "\n",
       "    .dataframe thead th {\n",
       "        text-align: right;\n",
       "    }\n",
       "</style>\n",
       "<table border=\"1\" class=\"dataframe\">\n",
       "  <thead>\n",
       "    <tr style=\"text-align: right;\">\n",
       "      <th></th>\n",
       "      <th>V1</th>\n",
       "      <th>V2</th>\n",
       "      <th>V3</th>\n",
       "    </tr>\n",
       "  </thead>\n",
       "  <tbody>\n",
       "    <tr>\n",
       "      <td>C</td>\n",
       "      <td>7</td>\n",
       "      <td>35</td>\n",
       "      <td>88</td>\n",
       "    </tr>\n",
       "    <tr>\n",
       "      <td>A</td>\n",
       "      <td>3</td>\n",
       "      <td>25</td>\n",
       "      <td>45</td>\n",
       "    </tr>\n",
       "    <tr>\n",
       "      <td>B</td>\n",
       "      <td>5</td>\n",
       "      <td>56</td>\n",
       "      <td>76</td>\n",
       "    </tr>\n",
       "    <tr>\n",
       "      <td>F</td>\n",
       "      <td>2</td>\n",
       "      <td>34</td>\n",
       "      <td>79</td>\n",
       "    </tr>\n",
       "    <tr>\n",
       "      <td>E</td>\n",
       "      <td>2</td>\n",
       "      <td>34</td>\n",
       "      <td>79</td>\n",
       "    </tr>\n",
       "  </tbody>\n",
       "</table>\n",
       "</div>"
      ],
      "text/plain": [
       "   V1  V2  V3\n",
       "C   7  35  88\n",
       "A   3  25  45\n",
       "B   5  56  76\n",
       "F   2  34  79\n",
       "E   2  34  79"
      ]
     },
     "execution_count": 47,
     "metadata": {},
     "output_type": "execute_result"
    }
   ],
   "source": [
    "arr=np.array([[3,5,7,2],[25,56,35,34],[45,76,88,79]])\n",
    "Exam=DataFrame(arr.T,columns=[\"V1\",\"V2\",\"V3\"],index=[\"A\",\"B\",\"C\",\"F\"])\n",
    "#gender=Series([\"남\",\"여\",\"남\",\"남\"],index=[\"D\",\"A\",\"E\",\"B\"]) \n",
    "#Exam[\"gender\"]=gender\n",
    "print(Exam)\n",
    "Exam.reindex([\"C\",\"A\",\"B\",\"F\",\"E\"],method=\"bfill\") #E는 D뒤 F앞으로 들어가므로 F가 기준 "
   ]
  },
  {
   "cell_type": "code",
   "execution_count": 48,
   "metadata": {},
   "outputs": [
    {
     "data": {
      "text/html": [
       "<div>\n",
       "<style scoped>\n",
       "    .dataframe tbody tr th:only-of-type {\n",
       "        vertical-align: middle;\n",
       "    }\n",
       "\n",
       "    .dataframe tbody tr th {\n",
       "        vertical-align: top;\n",
       "    }\n",
       "\n",
       "    .dataframe thead th {\n",
       "        text-align: right;\n",
       "    }\n",
       "</style>\n",
       "<table border=\"1\" class=\"dataframe\">\n",
       "  <thead>\n",
       "    <tr style=\"text-align: right;\">\n",
       "      <th></th>\n",
       "      <th>att</th>\n",
       "      <th>V1</th>\n",
       "      <th>V2</th>\n",
       "      <th>V3</th>\n",
       "    </tr>\n",
       "  </thead>\n",
       "  <tbody>\n",
       "    <tr>\n",
       "      <td>A</td>\n",
       "      <td>NaN</td>\n",
       "      <td>3</td>\n",
       "      <td>25</td>\n",
       "      <td>45</td>\n",
       "    </tr>\n",
       "    <tr>\n",
       "      <td>B</td>\n",
       "      <td>NaN</td>\n",
       "      <td>5</td>\n",
       "      <td>56</td>\n",
       "      <td>76</td>\n",
       "    </tr>\n",
       "    <tr>\n",
       "      <td>C</td>\n",
       "      <td>NaN</td>\n",
       "      <td>7</td>\n",
       "      <td>35</td>\n",
       "      <td>88</td>\n",
       "    </tr>\n",
       "    <tr>\n",
       "      <td>F</td>\n",
       "      <td>NaN</td>\n",
       "      <td>2</td>\n",
       "      <td>34</td>\n",
       "      <td>79</td>\n",
       "    </tr>\n",
       "  </tbody>\n",
       "</table>\n",
       "</div>"
      ],
      "text/plain": [
       "   att  V1  V2  V3\n",
       "A  NaN   3  25  45\n",
       "B  NaN   5  56  76\n",
       "C  NaN   7  35  88\n",
       "F  NaN   2  34  79"
      ]
     },
     "execution_count": 48,
     "metadata": {},
     "output_type": "execute_result"
    }
   ],
   "source": [
    "Exam.reindex(columns=[\"att\",\"V1\",\"V2\",\"V3\"],method=\"bfill\") #열쪽 재배열할때는 method사용 불가"
   ]
  },
  {
   "cell_type": "code",
   "execution_count": 49,
   "metadata": {
    "scrolled": true
   },
   "outputs": [
    {
     "name": "stdout",
     "output_type": "stream",
     "text": [
      "데이터프레임 :\n",
      "   att  V1  V2  V3\n",
      "A  999   3  25  45\n",
      "B  999   5  56  76\n",
      "C  999   7  35  88\n",
      "F  999   2  34  79\n"
     ]
    },
    {
     "data": {
      "text/html": [
       "<div>\n",
       "<style scoped>\n",
       "    .dataframe tbody tr th:only-of-type {\n",
       "        vertical-align: middle;\n",
       "    }\n",
       "\n",
       "    .dataframe tbody tr th {\n",
       "        vertical-align: top;\n",
       "    }\n",
       "\n",
       "    .dataframe thead th {\n",
       "        text-align: right;\n",
       "    }\n",
       "</style>\n",
       "<table border=\"1\" class=\"dataframe\">\n",
       "  <thead>\n",
       "    <tr style=\"text-align: right;\">\n",
       "      <th></th>\n",
       "      <th>att</th>\n",
       "      <th>V1</th>\n",
       "      <th>V2</th>\n",
       "      <th>V3</th>\n",
       "    </tr>\n",
       "  </thead>\n",
       "  <tbody>\n",
       "    <tr>\n",
       "      <td>A</td>\n",
       "      <td>999</td>\n",
       "      <td>3</td>\n",
       "      <td>25</td>\n",
       "      <td>45</td>\n",
       "    </tr>\n",
       "    <tr>\n",
       "      <td>B</td>\n",
       "      <td>999</td>\n",
       "      <td>5</td>\n",
       "      <td>56</td>\n",
       "      <td>76</td>\n",
       "    </tr>\n",
       "    <tr>\n",
       "      <td>F</td>\n",
       "      <td>999</td>\n",
       "      <td>2</td>\n",
       "      <td>34</td>\n",
       "      <td>79</td>\n",
       "    </tr>\n",
       "  </tbody>\n",
       "</table>\n",
       "</div>"
      ],
      "text/plain": [
       "   att  V1  V2  V3\n",
       "A  999   3  25  45\n",
       "B  999   5  56  76\n",
       "F  999   2  34  79"
      ]
     },
     "execution_count": 49,
     "metadata": {},
     "output_type": "execute_result"
    }
   ],
   "source": [
    "df=Exam.reindex(columns=[\"att\",\"V1\",\"V2\",\"V3\"],fill_value=999)\n",
    "print(\"데이터프레임 :\\n{0}\".format(df))\n",
    "df.drop([\"C\"]) # C인덱스갖는 열삭제"
   ]
  },
  {
   "cell_type": "code",
   "execution_count": 50,
   "metadata": {},
   "outputs": [
    {
     "name": "stdout",
     "output_type": "stream",
     "text": [
      "데이터프레임 :\n",
      "   att  V1  V2  V3\n",
      "A  999   3  25  45\n",
      "B  999   5  56  76\n",
      "C  999   7  35  88\n",
      "F  999   2  34  79\n"
     ]
    },
    {
     "data": {
      "text/html": [
       "<div>\n",
       "<style scoped>\n",
       "    .dataframe tbody tr th:only-of-type {\n",
       "        vertical-align: middle;\n",
       "    }\n",
       "\n",
       "    .dataframe tbody tr th {\n",
       "        vertical-align: top;\n",
       "    }\n",
       "\n",
       "    .dataframe thead th {\n",
       "        text-align: right;\n",
       "    }\n",
       "</style>\n",
       "<table border=\"1\" class=\"dataframe\">\n",
       "  <thead>\n",
       "    <tr style=\"text-align: right;\">\n",
       "      <th></th>\n",
       "      <th>att</th>\n",
       "      <th>V1</th>\n",
       "      <th>V2</th>\n",
       "      <th>V3</th>\n",
       "    </tr>\n",
       "  </thead>\n",
       "  <tbody>\n",
       "    <tr>\n",
       "      <td>A</td>\n",
       "      <td>999</td>\n",
       "      <td>3</td>\n",
       "      <td>25</td>\n",
       "      <td>45</td>\n",
       "    </tr>\n",
       "    <tr>\n",
       "      <td>B</td>\n",
       "      <td>999</td>\n",
       "      <td>5</td>\n",
       "      <td>56</td>\n",
       "      <td>76</td>\n",
       "    </tr>\n",
       "    <tr>\n",
       "      <td>F</td>\n",
       "      <td>999</td>\n",
       "      <td>2</td>\n",
       "      <td>34</td>\n",
       "      <td>79</td>\n",
       "    </tr>\n",
       "  </tbody>\n",
       "</table>\n",
       "</div>"
      ],
      "text/plain": [
       "   att  V1  V2  V3\n",
       "A  999   3  25  45\n",
       "B  999   5  56  76\n",
       "F  999   2  34  79"
      ]
     },
     "execution_count": 50,
     "metadata": {},
     "output_type": "execute_result"
    }
   ],
   "source": [
    "arr=np.array([[3,5,7,2],[25,56,35,34],[45,76,88,79]])\n",
    "Exam=DataFrame(arr.T,columns=[\"V1\",\"V2\",\"V3\"],index=[\"A\",\"B\",\"C\",\"F\"])\n",
    "df=Exam.reindex(columns=[\"att\",\"V1\",\"V2\",\"V3\"],fill_value=999)\n",
    "print(\"데이터프레임 :\\n{0}\".format(df))\n",
    "\n",
    "df.drop([\"C\"],axis=0) #행 삭제"
   ]
  },
  {
   "cell_type": "code",
   "execution_count": 51,
   "metadata": {},
   "outputs": [
    {
     "data": {
      "text/html": [
       "<div>\n",
       "<style scoped>\n",
       "    .dataframe tbody tr th:only-of-type {\n",
       "        vertical-align: middle;\n",
       "    }\n",
       "\n",
       "    .dataframe tbody tr th {\n",
       "        vertical-align: top;\n",
       "    }\n",
       "\n",
       "    .dataframe thead th {\n",
       "        text-align: right;\n",
       "    }\n",
       "</style>\n",
       "<table border=\"1\" class=\"dataframe\">\n",
       "  <thead>\n",
       "    <tr style=\"text-align: right;\">\n",
       "      <th></th>\n",
       "      <th>att</th>\n",
       "      <th>V2</th>\n",
       "      <th>V3</th>\n",
       "    </tr>\n",
       "  </thead>\n",
       "  <tbody>\n",
       "    <tr>\n",
       "      <td>A</td>\n",
       "      <td>999</td>\n",
       "      <td>25</td>\n",
       "      <td>45</td>\n",
       "    </tr>\n",
       "    <tr>\n",
       "      <td>B</td>\n",
       "      <td>999</td>\n",
       "      <td>56</td>\n",
       "      <td>76</td>\n",
       "    </tr>\n",
       "    <tr>\n",
       "      <td>C</td>\n",
       "      <td>999</td>\n",
       "      <td>35</td>\n",
       "      <td>88</td>\n",
       "    </tr>\n",
       "    <tr>\n",
       "      <td>F</td>\n",
       "      <td>999</td>\n",
       "      <td>34</td>\n",
       "      <td>79</td>\n",
       "    </tr>\n",
       "  </tbody>\n",
       "</table>\n",
       "</div>"
      ],
      "text/plain": [
       "   att  V2  V3\n",
       "A  999  25  45\n",
       "B  999  56  76\n",
       "C  999  35  88\n",
       "F  999  34  79"
      ]
     },
     "execution_count": 51,
     "metadata": {},
     "output_type": "execute_result"
    }
   ],
   "source": [
    "#행삭제, 열삭제한다해서 원본이 바뀌지는 않음\n",
    "\n",
    "df.drop([\"V1\"],axis=1) #열 삭제"
   ]
  },
  {
   "cell_type": "code",
   "execution_count": 5,
   "metadata": {},
   "outputs": [
    {
     "name": "stdout",
     "output_type": "stream",
     "text": [
      "0    3\n",
      "1    5\n",
      "2    2\n",
      "3    6\n",
      "dtype: int64 \n",
      "\n",
      " 1    5\n",
      "0    3\n",
      "2    2\n",
      "dtype: int64\n"
     ]
    }
   ],
   "source": [
    "Ex=Series([3,5,2,6])\n",
    "Ex.reindex([2,0,3,5,1],method=\"ffill\")\n",
    "print(Ex, \"\\n\\n\", Ex[[1,0,2]])"
   ]
  },
  {
   "cell_type": "code",
   "execution_count": 10,
   "metadata": {},
   "outputs": [
    {
     "name": "stdout",
     "output_type": "stream",
     "text": [
      "2    2\n",
      "0    3\n",
      "3    6\n",
      "5    3\n",
      "1    5\n",
      "dtype: int64\n",
      "[True, False, False, True, True]\n",
      "2    2\n",
      "0    3\n",
      "3    6\n",
      "5    3\n",
      "1    5\n",
      "dtype: int64 \n",
      "\n",
      " 2    2\n",
      "5    3\n",
      "1    5\n",
      "dtype: int64\n"
     ]
    }
   ],
   "source": [
    "Ex=Series([3,5,2,6,3])\n",
    "Ex=Ex.reindex([2,0,3,5,1],method=\"ffill\")\n",
    "print(Ex)\n",
    "b_data=[True,False,False,True,True] #데이터길이에 맞게끔만 하면됨. 논리값넣으면 값추출됨\n",
    "print(b_data)\n",
    "print(Ex, \"\\n\\n\", Ex[b_data])"
   ]
  },
  {
   "cell_type": "code",
   "execution_count": 11,
   "metadata": {},
   "outputs": [
    {
     "name": "stdout",
     "output_type": "stream",
     "text": [
      "2    False\n",
      "0    False\n",
      "3     True\n",
      "5     True\n",
      "1     True\n",
      "dtype: bool\n",
      "2    2\n",
      "0    3\n",
      "3    6\n",
      "5    6\n",
      "1    5\n",
      "dtype: int64 \n",
      "\n",
      " 3    6\n",
      "5    6\n",
      "1    5\n",
      "dtype: int64\n"
     ]
    }
   ],
   "source": [
    "Ex=Series([3,5,2,6])\n",
    "Ex=Ex.reindex([2,0,3,5,1],method=\"ffill\")\n",
    "b_data=(Ex>=3.5) #데이터길이에 맞게끔만 하면됨. 논리값넣으면 값추출됨\n",
    "print(b_data)\n",
    "print(Ex, \"\\n\\n\", Ex[b_data])"
   ]
  },
  {
   "cell_type": "code",
   "execution_count": 26,
   "metadata": {},
   "outputs": [
    {
     "data": {
      "text/plain": [
       "array([False,  True,  True,  True,  True, False,  True, False,  True,\n",
       "        True,  True,  True,  True,  True, False,  True,  True,  True,\n",
       "        True,  True,  True,  True,  True,  True,  True,  True,  True,\n",
       "        True,  True,  True,  True,  True,  True,  True,  True,  True,\n",
       "        True, False,  True,  True,  True,  True,  True, False,  True,\n",
       "        True,  True,  True,  True,  True,  True,  True,  True,  True,\n",
       "        True, False,  True,  True,  True,  True,  True,  True,  True,\n",
       "       False,  True,  True,  True,  True,  True,  True,  True, False,\n",
       "        True,  True, False,  True,  True,  True,  True,  True, False,\n",
       "        True,  True,  True,  True,  True,  True, False,  True,  True,\n",
       "       False,  True,  True, False, False,  True,  True,  True,  True,\n",
       "        True])"
      ]
     },
     "execution_count": 26,
     "metadata": {},
     "output_type": "execute_result"
    }
   ],
   "source": [
    "x=np.random.rand(100)\n",
    "gender=np.where(x>0.5,\"M\",\"F\")\n",
    "height=np.rint(np.random.normal(loc=175,scale=6,size=100))\n",
    "weight=np.rint(np.random.normal(loc=68,scale=3,size=100))\n",
    "DF=DataFrame(np.array([gender,height,weight]).T,columns=[\"gender\",\"height\",\"weight\"]) #array로 만들었기 때문에 다 문자로 바뀜\n",
    "#이런 식으로 데이터가 있다고 가정\n",
    "np.random.seed(12298) #없어도되는 코드. 그냥 편의상고정해놓음.\n",
    "rand_num=np.random.rand(100) #0에서 1사이의 수 뽑음 \n",
    "#90%는 train, 10%는 test뽑는다고 하면,\n",
    "select=rand_num<0.9\n",
    "np.sum(select) # 약 90프로가 속함.\n",
    "select"
   ]
  },
  {
   "cell_type": "code",
   "execution_count": 28,
   "metadata": {},
   "outputs": [
    {
     "data": {
      "text/html": [
       "<div>\n",
       "<style scoped>\n",
       "    .dataframe tbody tr th:only-of-type {\n",
       "        vertical-align: middle;\n",
       "    }\n",
       "\n",
       "    .dataframe tbody tr th {\n",
       "        vertical-align: top;\n",
       "    }\n",
       "\n",
       "    .dataframe thead th {\n",
       "        text-align: right;\n",
       "    }\n",
       "</style>\n",
       "<table border=\"1\" class=\"dataframe\">\n",
       "  <thead>\n",
       "    <tr style=\"text-align: right;\">\n",
       "      <th></th>\n",
       "      <th>gender</th>\n",
       "      <th>height</th>\n",
       "      <th>weight</th>\n",
       "    </tr>\n",
       "  </thead>\n",
       "  <tbody>\n",
       "    <tr>\n",
       "      <th>1</th>\n",
       "      <td>F</td>\n",
       "      <td>180.0</td>\n",
       "      <td>71.0</td>\n",
       "    </tr>\n",
       "    <tr>\n",
       "      <th>2</th>\n",
       "      <td>F</td>\n",
       "      <td>166.0</td>\n",
       "      <td>67.0</td>\n",
       "    </tr>\n",
       "    <tr>\n",
       "      <th>3</th>\n",
       "      <td>M</td>\n",
       "      <td>173.0</td>\n",
       "      <td>73.0</td>\n",
       "    </tr>\n",
       "    <tr>\n",
       "      <th>4</th>\n",
       "      <td>F</td>\n",
       "      <td>187.0</td>\n",
       "      <td>66.0</td>\n",
       "    </tr>\n",
       "    <tr>\n",
       "      <th>6</th>\n",
       "      <td>F</td>\n",
       "      <td>174.0</td>\n",
       "      <td>66.0</td>\n",
       "    </tr>\n",
       "    <tr>\n",
       "      <th>8</th>\n",
       "      <td>F</td>\n",
       "      <td>177.0</td>\n",
       "      <td>67.0</td>\n",
       "    </tr>\n",
       "    <tr>\n",
       "      <th>9</th>\n",
       "      <td>F</td>\n",
       "      <td>175.0</td>\n",
       "      <td>67.0</td>\n",
       "    </tr>\n",
       "    <tr>\n",
       "      <th>10</th>\n",
       "      <td>F</td>\n",
       "      <td>172.0</td>\n",
       "      <td>64.0</td>\n",
       "    </tr>\n",
       "    <tr>\n",
       "      <th>11</th>\n",
       "      <td>M</td>\n",
       "      <td>175.0</td>\n",
       "      <td>66.0</td>\n",
       "    </tr>\n",
       "    <tr>\n",
       "      <th>12</th>\n",
       "      <td>F</td>\n",
       "      <td>178.0</td>\n",
       "      <td>68.0</td>\n",
       "    </tr>\n",
       "    <tr>\n",
       "      <th>13</th>\n",
       "      <td>M</td>\n",
       "      <td>184.0</td>\n",
       "      <td>67.0</td>\n",
       "    </tr>\n",
       "    <tr>\n",
       "      <th>15</th>\n",
       "      <td>F</td>\n",
       "      <td>171.0</td>\n",
       "      <td>69.0</td>\n",
       "    </tr>\n",
       "    <tr>\n",
       "      <th>16</th>\n",
       "      <td>M</td>\n",
       "      <td>171.0</td>\n",
       "      <td>74.0</td>\n",
       "    </tr>\n",
       "    <tr>\n",
       "      <th>17</th>\n",
       "      <td>F</td>\n",
       "      <td>177.0</td>\n",
       "      <td>68.0</td>\n",
       "    </tr>\n",
       "    <tr>\n",
       "      <th>18</th>\n",
       "      <td>M</td>\n",
       "      <td>177.0</td>\n",
       "      <td>70.0</td>\n",
       "    </tr>\n",
       "    <tr>\n",
       "      <th>19</th>\n",
       "      <td>F</td>\n",
       "      <td>161.0</td>\n",
       "      <td>67.0</td>\n",
       "    </tr>\n",
       "    <tr>\n",
       "      <th>20</th>\n",
       "      <td>F</td>\n",
       "      <td>178.0</td>\n",
       "      <td>64.0</td>\n",
       "    </tr>\n",
       "    <tr>\n",
       "      <th>21</th>\n",
       "      <td>M</td>\n",
       "      <td>189.0</td>\n",
       "      <td>65.0</td>\n",
       "    </tr>\n",
       "    <tr>\n",
       "      <th>22</th>\n",
       "      <td>F</td>\n",
       "      <td>177.0</td>\n",
       "      <td>66.0</td>\n",
       "    </tr>\n",
       "    <tr>\n",
       "      <th>23</th>\n",
       "      <td>F</td>\n",
       "      <td>176.0</td>\n",
       "      <td>70.0</td>\n",
       "    </tr>\n",
       "    <tr>\n",
       "      <th>24</th>\n",
       "      <td>F</td>\n",
       "      <td>169.0</td>\n",
       "      <td>69.0</td>\n",
       "    </tr>\n",
       "    <tr>\n",
       "      <th>25</th>\n",
       "      <td>F</td>\n",
       "      <td>181.0</td>\n",
       "      <td>67.0</td>\n",
       "    </tr>\n",
       "    <tr>\n",
       "      <th>26</th>\n",
       "      <td>M</td>\n",
       "      <td>182.0</td>\n",
       "      <td>64.0</td>\n",
       "    </tr>\n",
       "    <tr>\n",
       "      <th>27</th>\n",
       "      <td>F</td>\n",
       "      <td>186.0</td>\n",
       "      <td>69.0</td>\n",
       "    </tr>\n",
       "    <tr>\n",
       "      <th>28</th>\n",
       "      <td>M</td>\n",
       "      <td>172.0</td>\n",
       "      <td>68.0</td>\n",
       "    </tr>\n",
       "    <tr>\n",
       "      <th>29</th>\n",
       "      <td>M</td>\n",
       "      <td>189.0</td>\n",
       "      <td>72.0</td>\n",
       "    </tr>\n",
       "    <tr>\n",
       "      <th>30</th>\n",
       "      <td>F</td>\n",
       "      <td>177.0</td>\n",
       "      <td>71.0</td>\n",
       "    </tr>\n",
       "    <tr>\n",
       "      <th>31</th>\n",
       "      <td>M</td>\n",
       "      <td>176.0</td>\n",
       "      <td>67.0</td>\n",
       "    </tr>\n",
       "    <tr>\n",
       "      <th>32</th>\n",
       "      <td>F</td>\n",
       "      <td>163.0</td>\n",
       "      <td>70.0</td>\n",
       "    </tr>\n",
       "    <tr>\n",
       "      <th>33</th>\n",
       "      <td>F</td>\n",
       "      <td>185.0</td>\n",
       "      <td>67.0</td>\n",
       "    </tr>\n",
       "    <tr>\n",
       "      <th>...</th>\n",
       "      <td>...</td>\n",
       "      <td>...</td>\n",
       "      <td>...</td>\n",
       "    </tr>\n",
       "    <tr>\n",
       "      <th>62</th>\n",
       "      <td>M</td>\n",
       "      <td>176.0</td>\n",
       "      <td>70.0</td>\n",
       "    </tr>\n",
       "    <tr>\n",
       "      <th>64</th>\n",
       "      <td>F</td>\n",
       "      <td>169.0</td>\n",
       "      <td>69.0</td>\n",
       "    </tr>\n",
       "    <tr>\n",
       "      <th>65</th>\n",
       "      <td>F</td>\n",
       "      <td>173.0</td>\n",
       "      <td>71.0</td>\n",
       "    </tr>\n",
       "    <tr>\n",
       "      <th>66</th>\n",
       "      <td>F</td>\n",
       "      <td>184.0</td>\n",
       "      <td>68.0</td>\n",
       "    </tr>\n",
       "    <tr>\n",
       "      <th>67</th>\n",
       "      <td>F</td>\n",
       "      <td>181.0</td>\n",
       "      <td>68.0</td>\n",
       "    </tr>\n",
       "    <tr>\n",
       "      <th>68</th>\n",
       "      <td>F</td>\n",
       "      <td>178.0</td>\n",
       "      <td>66.0</td>\n",
       "    </tr>\n",
       "    <tr>\n",
       "      <th>69</th>\n",
       "      <td>M</td>\n",
       "      <td>166.0</td>\n",
       "      <td>70.0</td>\n",
       "    </tr>\n",
       "    <tr>\n",
       "      <th>70</th>\n",
       "      <td>M</td>\n",
       "      <td>179.0</td>\n",
       "      <td>67.0</td>\n",
       "    </tr>\n",
       "    <tr>\n",
       "      <th>72</th>\n",
       "      <td>F</td>\n",
       "      <td>175.0</td>\n",
       "      <td>68.0</td>\n",
       "    </tr>\n",
       "    <tr>\n",
       "      <th>73</th>\n",
       "      <td>F</td>\n",
       "      <td>168.0</td>\n",
       "      <td>70.0</td>\n",
       "    </tr>\n",
       "    <tr>\n",
       "      <th>75</th>\n",
       "      <td>M</td>\n",
       "      <td>181.0</td>\n",
       "      <td>73.0</td>\n",
       "    </tr>\n",
       "    <tr>\n",
       "      <th>76</th>\n",
       "      <td>M</td>\n",
       "      <td>175.0</td>\n",
       "      <td>69.0</td>\n",
       "    </tr>\n",
       "    <tr>\n",
       "      <th>77</th>\n",
       "      <td>M</td>\n",
       "      <td>173.0</td>\n",
       "      <td>67.0</td>\n",
       "    </tr>\n",
       "    <tr>\n",
       "      <th>78</th>\n",
       "      <td>M</td>\n",
       "      <td>173.0</td>\n",
       "      <td>64.0</td>\n",
       "    </tr>\n",
       "    <tr>\n",
       "      <th>79</th>\n",
       "      <td>F</td>\n",
       "      <td>175.0</td>\n",
       "      <td>68.0</td>\n",
       "    </tr>\n",
       "    <tr>\n",
       "      <th>81</th>\n",
       "      <td>F</td>\n",
       "      <td>177.0</td>\n",
       "      <td>70.0</td>\n",
       "    </tr>\n",
       "    <tr>\n",
       "      <th>82</th>\n",
       "      <td>F</td>\n",
       "      <td>177.0</td>\n",
       "      <td>71.0</td>\n",
       "    </tr>\n",
       "    <tr>\n",
       "      <th>83</th>\n",
       "      <td>F</td>\n",
       "      <td>178.0</td>\n",
       "      <td>67.0</td>\n",
       "    </tr>\n",
       "    <tr>\n",
       "      <th>84</th>\n",
       "      <td>F</td>\n",
       "      <td>176.0</td>\n",
       "      <td>66.0</td>\n",
       "    </tr>\n",
       "    <tr>\n",
       "      <th>85</th>\n",
       "      <td>M</td>\n",
       "      <td>170.0</td>\n",
       "      <td>72.0</td>\n",
       "    </tr>\n",
       "    <tr>\n",
       "      <th>86</th>\n",
       "      <td>F</td>\n",
       "      <td>171.0</td>\n",
       "      <td>73.0</td>\n",
       "    </tr>\n",
       "    <tr>\n",
       "      <th>88</th>\n",
       "      <td>F</td>\n",
       "      <td>170.0</td>\n",
       "      <td>70.0</td>\n",
       "    </tr>\n",
       "    <tr>\n",
       "      <th>89</th>\n",
       "      <td>F</td>\n",
       "      <td>186.0</td>\n",
       "      <td>72.0</td>\n",
       "    </tr>\n",
       "    <tr>\n",
       "      <th>91</th>\n",
       "      <td>F</td>\n",
       "      <td>180.0</td>\n",
       "      <td>65.0</td>\n",
       "    </tr>\n",
       "    <tr>\n",
       "      <th>92</th>\n",
       "      <td>M</td>\n",
       "      <td>186.0</td>\n",
       "      <td>73.0</td>\n",
       "    </tr>\n",
       "    <tr>\n",
       "      <th>95</th>\n",
       "      <td>F</td>\n",
       "      <td>171.0</td>\n",
       "      <td>72.0</td>\n",
       "    </tr>\n",
       "    <tr>\n",
       "      <th>96</th>\n",
       "      <td>F</td>\n",
       "      <td>176.0</td>\n",
       "      <td>67.0</td>\n",
       "    </tr>\n",
       "    <tr>\n",
       "      <th>97</th>\n",
       "      <td>M</td>\n",
       "      <td>173.0</td>\n",
       "      <td>68.0</td>\n",
       "    </tr>\n",
       "    <tr>\n",
       "      <th>98</th>\n",
       "      <td>F</td>\n",
       "      <td>179.0</td>\n",
       "      <td>69.0</td>\n",
       "    </tr>\n",
       "    <tr>\n",
       "      <th>99</th>\n",
       "      <td>F</td>\n",
       "      <td>174.0</td>\n",
       "      <td>66.0</td>\n",
       "    </tr>\n",
       "  </tbody>\n",
       "</table>\n",
       "<p>85 rows × 3 columns</p>\n",
       "</div>"
      ],
      "text/plain": [
       "   gender height weight\n",
       "1       F  180.0   71.0\n",
       "2       F  166.0   67.0\n",
       "3       M  173.0   73.0\n",
       "4       F  187.0   66.0\n",
       "6       F  174.0   66.0\n",
       "8       F  177.0   67.0\n",
       "9       F  175.0   67.0\n",
       "10      F  172.0   64.0\n",
       "11      M  175.0   66.0\n",
       "12      F  178.0   68.0\n",
       "13      M  184.0   67.0\n",
       "15      F  171.0   69.0\n",
       "16      M  171.0   74.0\n",
       "17      F  177.0   68.0\n",
       "18      M  177.0   70.0\n",
       "19      F  161.0   67.0\n",
       "20      F  178.0   64.0\n",
       "21      M  189.0   65.0\n",
       "22      F  177.0   66.0\n",
       "23      F  176.0   70.0\n",
       "24      F  169.0   69.0\n",
       "25      F  181.0   67.0\n",
       "26      M  182.0   64.0\n",
       "27      F  186.0   69.0\n",
       "28      M  172.0   68.0\n",
       "29      M  189.0   72.0\n",
       "30      F  177.0   71.0\n",
       "31      M  176.0   67.0\n",
       "32      F  163.0   70.0\n",
       "33      F  185.0   67.0\n",
       "..    ...    ...    ...\n",
       "62      M  176.0   70.0\n",
       "64      F  169.0   69.0\n",
       "65      F  173.0   71.0\n",
       "66      F  184.0   68.0\n",
       "67      F  181.0   68.0\n",
       "68      F  178.0   66.0\n",
       "69      M  166.0   70.0\n",
       "70      M  179.0   67.0\n",
       "72      F  175.0   68.0\n",
       "73      F  168.0   70.0\n",
       "75      M  181.0   73.0\n",
       "76      M  175.0   69.0\n",
       "77      M  173.0   67.0\n",
       "78      M  173.0   64.0\n",
       "79      F  175.0   68.0\n",
       "81      F  177.0   70.0\n",
       "82      F  177.0   71.0\n",
       "83      F  178.0   67.0\n",
       "84      F  176.0   66.0\n",
       "85      M  170.0   72.0\n",
       "86      F  171.0   73.0\n",
       "88      F  170.0   70.0\n",
       "89      F  186.0   72.0\n",
       "91      F  180.0   65.0\n",
       "92      M  186.0   73.0\n",
       "95      F  171.0   72.0\n",
       "96      F  176.0   67.0\n",
       "97      M  173.0   68.0\n",
       "98      F  179.0   69.0\n",
       "99      F  174.0   66.0\n",
       "\n",
       "[85 rows x 3 columns]"
      ]
     },
     "execution_count": 28,
     "metadata": {},
     "output_type": "execute_result"
    }
   ],
   "source": [
    "trainDF=DF[select] # 85개의 train data 뽑힘.\n",
    "trainDF"
   ]
  },
  {
   "cell_type": "code",
   "execution_count": 29,
   "metadata": {},
   "outputs": [
    {
     "data": {
      "text/html": [
       "<div>\n",
       "<style scoped>\n",
       "    .dataframe tbody tr th:only-of-type {\n",
       "        vertical-align: middle;\n",
       "    }\n",
       "\n",
       "    .dataframe tbody tr th {\n",
       "        vertical-align: top;\n",
       "    }\n",
       "\n",
       "    .dataframe thead th {\n",
       "        text-align: right;\n",
       "    }\n",
       "</style>\n",
       "<table border=\"1\" class=\"dataframe\">\n",
       "  <thead>\n",
       "    <tr style=\"text-align: right;\">\n",
       "      <th></th>\n",
       "      <th>gender</th>\n",
       "      <th>height</th>\n",
       "      <th>weight</th>\n",
       "    </tr>\n",
       "  </thead>\n",
       "  <tbody>\n",
       "    <tr>\n",
       "      <th>0</th>\n",
       "      <td>F</td>\n",
       "      <td>179.0</td>\n",
       "      <td>68.0</td>\n",
       "    </tr>\n",
       "    <tr>\n",
       "      <th>5</th>\n",
       "      <td>M</td>\n",
       "      <td>180.0</td>\n",
       "      <td>61.0</td>\n",
       "    </tr>\n",
       "    <tr>\n",
       "      <th>7</th>\n",
       "      <td>M</td>\n",
       "      <td>185.0</td>\n",
       "      <td>70.0</td>\n",
       "    </tr>\n",
       "    <tr>\n",
       "      <th>14</th>\n",
       "      <td>M</td>\n",
       "      <td>171.0</td>\n",
       "      <td>66.0</td>\n",
       "    </tr>\n",
       "    <tr>\n",
       "      <th>37</th>\n",
       "      <td>M</td>\n",
       "      <td>170.0</td>\n",
       "      <td>65.0</td>\n",
       "    </tr>\n",
       "    <tr>\n",
       "      <th>43</th>\n",
       "      <td>M</td>\n",
       "      <td>179.0</td>\n",
       "      <td>68.0</td>\n",
       "    </tr>\n",
       "    <tr>\n",
       "      <th>55</th>\n",
       "      <td>F</td>\n",
       "      <td>171.0</td>\n",
       "      <td>64.0</td>\n",
       "    </tr>\n",
       "    <tr>\n",
       "      <th>63</th>\n",
       "      <td>F</td>\n",
       "      <td>175.0</td>\n",
       "      <td>69.0</td>\n",
       "    </tr>\n",
       "    <tr>\n",
       "      <th>71</th>\n",
       "      <td>M</td>\n",
       "      <td>166.0</td>\n",
       "      <td>64.0</td>\n",
       "    </tr>\n",
       "    <tr>\n",
       "      <th>74</th>\n",
       "      <td>M</td>\n",
       "      <td>170.0</td>\n",
       "      <td>66.0</td>\n",
       "    </tr>\n",
       "    <tr>\n",
       "      <th>80</th>\n",
       "      <td>M</td>\n",
       "      <td>183.0</td>\n",
       "      <td>66.0</td>\n",
       "    </tr>\n",
       "    <tr>\n",
       "      <th>87</th>\n",
       "      <td>M</td>\n",
       "      <td>184.0</td>\n",
       "      <td>70.0</td>\n",
       "    </tr>\n",
       "    <tr>\n",
       "      <th>90</th>\n",
       "      <td>M</td>\n",
       "      <td>169.0</td>\n",
       "      <td>63.0</td>\n",
       "    </tr>\n",
       "    <tr>\n",
       "      <th>93</th>\n",
       "      <td>F</td>\n",
       "      <td>169.0</td>\n",
       "      <td>65.0</td>\n",
       "    </tr>\n",
       "    <tr>\n",
       "      <th>94</th>\n",
       "      <td>F</td>\n",
       "      <td>188.0</td>\n",
       "      <td>70.0</td>\n",
       "    </tr>\n",
       "  </tbody>\n",
       "</table>\n",
       "</div>"
      ],
      "text/plain": [
       "   gender height weight\n",
       "0       F  179.0   68.0\n",
       "5       M  180.0   61.0\n",
       "7       M  185.0   70.0\n",
       "14      M  171.0   66.0\n",
       "37      M  170.0   65.0\n",
       "43      M  179.0   68.0\n",
       "55      F  171.0   64.0\n",
       "63      F  175.0   69.0\n",
       "71      M  166.0   64.0\n",
       "74      M  170.0   66.0\n",
       "80      M  183.0   66.0\n",
       "87      M  184.0   70.0\n",
       "90      M  169.0   63.0\n",
       "93      F  169.0   65.0\n",
       "94      F  188.0   70.0"
      ]
     },
     "execution_count": 29,
     "metadata": {},
     "output_type": "execute_result"
    }
   ],
   "source": [
    "testDF=DF[~select] # 15개의 test data 뽑힘.\n",
    "testDF"
   ]
  },
  {
   "cell_type": "code",
   "execution_count": 31,
   "metadata": {},
   "outputs": [
    {
     "name": "stdout",
     "output_type": "stream",
     "text": [
      "   gender height weight\n",
      "1       F  180.0   71.0\n",
      "2       F  166.0   67.0\n",
      "3       M  173.0   73.0\n",
      "4       F  187.0   66.0\n",
      "6       F  174.0   66.0\n",
      "8       F  177.0   67.0\n",
      "9       F  175.0   67.0\n",
      "10      F  172.0   64.0\n",
      "11      M  175.0   66.0\n",
      "12      F  178.0   68.0\n",
      "13      M  184.0   67.0\n",
      "15      F  171.0   69.0\n",
      "16      M  171.0   74.0\n",
      "17      F  177.0   68.0\n",
      "18      M  177.0   70.0\n",
      "19      F  161.0   67.0\n",
      "20      F  178.0   64.0\n",
      "21      M  189.0   65.0\n",
      "22      F  177.0   66.0\n",
      "23      F  176.0   70.0\n",
      "24      F  169.0   69.0\n",
      "25      F  181.0   67.0\n",
      "26      M  182.0   64.0\n",
      "27      F  186.0   69.0\n",
      "28      M  172.0   68.0\n",
      "29      M  189.0   72.0\n",
      "30      F  177.0   71.0\n",
      "31      M  176.0   67.0\n",
      "32      F  163.0   70.0\n",
      "33      F  185.0   67.0\n",
      "..    ...    ...    ...\n",
      "62      M  176.0   70.0\n",
      "64      F  169.0   69.0\n",
      "65      F  173.0   71.0\n",
      "66      F  184.0   68.0\n",
      "67      F  181.0   68.0\n",
      "68      F  178.0   66.0\n",
      "69      M  166.0   70.0\n",
      "70      M  179.0   67.0\n",
      "72      F  175.0   68.0\n",
      "73      F  168.0   70.0\n",
      "75      M  181.0   73.0\n",
      "76      M  175.0   69.0\n",
      "77      M  173.0   67.0\n",
      "78      M  173.0   64.0\n",
      "79      F  175.0   68.0\n",
      "81      F  177.0   70.0\n",
      "82      F  177.0   71.0\n",
      "83      F  178.0   67.0\n",
      "84      F  176.0   66.0\n",
      "85      M  170.0   72.0\n",
      "86      F  171.0   73.0\n",
      "88      F  170.0   70.0\n",
      "89      F  186.0   72.0\n",
      "91      F  180.0   65.0\n",
      "92      M  186.0   73.0\n",
      "95      F  171.0   72.0\n",
      "96      F  176.0   67.0\n",
      "97      M  173.0   68.0\n",
      "98      F  179.0   69.0\n",
      "99      F  174.0   66.0\n",
      "\n",
      "[85 rows x 3 columns] \n",
      "\n",
      "    gender height weight\n",
      "0       F  179.0   68.0\n",
      "5       M  180.0   61.0\n",
      "7       M  185.0   70.0\n",
      "14      M  171.0   66.0\n",
      "37      M  170.0   65.0\n",
      "43      M  179.0   68.0\n",
      "55      F  171.0   64.0\n",
      "63      F  175.0   69.0\n",
      "71      M  166.0   64.0\n",
      "74      M  170.0   66.0\n",
      "80      M  183.0   66.0\n",
      "87      M  184.0   70.0\n",
      "90      M  169.0   63.0\n",
      "93      F  169.0   65.0\n",
      "94      F  188.0   70.0\n"
     ]
    }
   ],
   "source": [
    "print(trainDF, \"\\n\\n\", testDF)"
   ]
  },
  {
   "cell_type": "code",
   "execution_count": 34,
   "metadata": {},
   "outputs": [
    {
     "data": {
      "text/html": [
       "<div>\n",
       "<style scoped>\n",
       "    .dataframe tbody tr th:only-of-type {\n",
       "        vertical-align: middle;\n",
       "    }\n",
       "\n",
       "    .dataframe tbody tr th {\n",
       "        vertical-align: top;\n",
       "    }\n",
       "\n",
       "    .dataframe thead th {\n",
       "        text-align: right;\n",
       "    }\n",
       "</style>\n",
       "<table border=\"1\" class=\"dataframe\">\n",
       "  <thead>\n",
       "    <tr style=\"text-align: right;\">\n",
       "      <th></th>\n",
       "      <th>gender</th>\n",
       "      <th>height</th>\n",
       "      <th>weight</th>\n",
       "    </tr>\n",
       "  </thead>\n",
       "  <tbody>\n",
       "    <tr>\n",
       "      <th>5</th>\n",
       "      <td>M</td>\n",
       "      <td>180.0</td>\n",
       "      <td>61.0</td>\n",
       "    </tr>\n",
       "    <tr>\n",
       "      <th>7</th>\n",
       "      <td>M</td>\n",
       "      <td>185.0</td>\n",
       "      <td>70.0</td>\n",
       "    </tr>\n",
       "    <tr>\n",
       "      <th>13</th>\n",
       "      <td>M</td>\n",
       "      <td>184.0</td>\n",
       "      <td>67.0</td>\n",
       "    </tr>\n",
       "    <tr>\n",
       "      <th>21</th>\n",
       "      <td>M</td>\n",
       "      <td>189.0</td>\n",
       "      <td>65.0</td>\n",
       "    </tr>\n",
       "    <tr>\n",
       "      <th>26</th>\n",
       "      <td>M</td>\n",
       "      <td>182.0</td>\n",
       "      <td>64.0</td>\n",
       "    </tr>\n",
       "    <tr>\n",
       "      <th>29</th>\n",
       "      <td>M</td>\n",
       "      <td>189.0</td>\n",
       "      <td>72.0</td>\n",
       "    </tr>\n",
       "    <tr>\n",
       "      <th>35</th>\n",
       "      <td>M</td>\n",
       "      <td>182.0</td>\n",
       "      <td>72.0</td>\n",
       "    </tr>\n",
       "    <tr>\n",
       "      <th>41</th>\n",
       "      <td>M</td>\n",
       "      <td>180.0</td>\n",
       "      <td>64.0</td>\n",
       "    </tr>\n",
       "    <tr>\n",
       "      <th>75</th>\n",
       "      <td>M</td>\n",
       "      <td>181.0</td>\n",
       "      <td>73.0</td>\n",
       "    </tr>\n",
       "    <tr>\n",
       "      <th>80</th>\n",
       "      <td>M</td>\n",
       "      <td>183.0</td>\n",
       "      <td>66.0</td>\n",
       "    </tr>\n",
       "    <tr>\n",
       "      <th>87</th>\n",
       "      <td>M</td>\n",
       "      <td>184.0</td>\n",
       "      <td>70.0</td>\n",
       "    </tr>\n",
       "    <tr>\n",
       "      <th>92</th>\n",
       "      <td>M</td>\n",
       "      <td>186.0</td>\n",
       "      <td>73.0</td>\n",
       "    </tr>\n",
       "  </tbody>\n",
       "</table>\n",
       "</div>"
      ],
      "text/plain": [
       "   gender  height  weight\n",
       "5       M   180.0    61.0\n",
       "7       M   185.0    70.0\n",
       "13      M   184.0    67.0\n",
       "21      M   189.0    65.0\n",
       "26      M   182.0    64.0\n",
       "29      M   189.0    72.0\n",
       "35      M   182.0    72.0\n",
       "41      M   180.0    64.0\n",
       "75      M   181.0    73.0\n",
       "80      M   183.0    66.0\n",
       "87      M   184.0    70.0\n",
       "92      M   186.0    73.0"
      ]
     },
     "execution_count": 34,
     "metadata": {},
     "output_type": "execute_result"
    }
   ],
   "source": [
    "# 남녀성비를 대충 맞추고 싶으면 // 미리 성별로 나눠놓고 남자중 50프로, 여자중 50프로 뽑도록 하면된다.\n",
    "x=np.random.rand(100)\n",
    "gender=np.where(x>0.5,\"M\",\"F\")\n",
    "height=np.rint(np.random.normal(loc=175,scale=6,size=100))\n",
    "weight=np.rint(np.random.normal(loc=68,scale=3,size=100))\n",
    "# DF=DataFrame(np.array([gender,height,weight]).T,columns=[\"gender\",\"height\",\"weight\"]) #array로 만들었기 때문에 다 문자로 바뀜!\n",
    "DF=DataFrame({\"gender\":gender,\"height\":height,\"weight\":weight}) #그런거 대신 이렇게 만들어줘야\n",
    "\n",
    "#이런 식으로 데이터가 있다고 가정\n",
    "np.random.seed(12298) #없어도되는 코드. 그냥 편의상고정해놓음.\n",
    "rand_num=np.random.rand(100) #0에서 1사이의 수 뽑음 \n",
    "#90%는 train, 10%는 test뽑는다고 하면,\n",
    "select=rand_num<0.9\n",
    "np.sum(select) # 약 90프로가 속함.\n",
    "select\n",
    "\n",
    "\n",
    "male=DF[DF.gender==\"M\"]; female=DF[DF.gender==\"F\"]\n",
    "NewData=DF[(DF.gender==\"M\")&(DF.height>=180)]\n",
    "NewData"
   ]
  },
  {
   "cell_type": "code",
   "execution_count": 58,
   "metadata": {},
   "outputs": [
    {
     "name": "stdout",
     "output_type": "stream",
     "text": [
      "A    6\n",
      "B    5\n",
      "D    3\n",
      "E    8\n",
      "F    6\n",
      "H    5\n",
      "dtype: int32 \n",
      "\n",
      " B    18\n",
      "C    15\n",
      "A    17\n",
      "D    14\n",
      "F    21\n",
      "E    20\n",
      "dtype: int32 \n",
      "\n",
      " A    23.0\n",
      "B    23.0\n",
      "C     NaN\n",
      "D    17.0\n",
      "E    28.0\n",
      "F    27.0\n",
      "H     NaN\n",
      "dtype: float64 \n",
      "\n"
     ]
    }
   ],
   "source": [
    "Ex1=Series(np.random.binomial(n=10,p=0.6,size=6),index=[\"A\",\"B\",\"D\",\"E\",\"F\",\"H\"])\n",
    "Ex2=Series(np.random.binomial(n=50,p=0.4,size=6),index=[\"B\",\"C\",\"A\",\"D\",\"F\",\"E\"])\n",
    "print(Ex1,\"\\n\\n\",Ex2,\"\\n\\n\",Ex1+Ex2,\"\\n\") #그냥 산술연산자는 하나도 없으면 없게 뜸!"
   ]
  },
  {
   "cell_type": "code",
   "execution_count": 60,
   "metadata": {},
   "outputs": [
    {
     "name": "stdout",
     "output_type": "stream",
     "text": [
      "A    23.0\n",
      "B    23.0\n",
      "C     NaN\n",
      "D    17.0\n",
      "E    28.0\n",
      "F    27.0\n",
      "H     NaN\n",
      "dtype: float64\n"
     ]
    }
   ],
   "source": [
    "print(Ex1.add(Ex2)) # 옵션 안넣으면 그냥 산술자랑 동일"
   ]
  },
  {
   "cell_type": "code",
   "execution_count": 59,
   "metadata": {},
   "outputs": [
    {
     "name": "stdout",
     "output_type": "stream",
     "text": [
      "A    23.0\n",
      "B    23.0\n",
      "C    15.0\n",
      "D    17.0\n",
      "E    28.0\n",
      "F    27.0\n",
      "H     5.0\n",
      "dtype: float64\n"
     ]
    }
   ],
   "source": [
    "print(Ex1.add(Ex2,fill_value=0)) # 옵션넣으면 없는값은0으로 채워넣어 더함"
   ]
  },
  {
   "cell_type": "code",
   "execution_count": 68,
   "metadata": {},
   "outputs": [
    {
     "name": "stdout",
     "output_type": "stream",
     "text": [
      "     att  hw  mid  fin\n",
      "st1    5   8   36   32\n",
      "st2    7   7   32   27\n",
      "st3    8   9   25   19\n",
      "st4    6   6   28   20 \n",
      "\n",
      " att    3\n",
      "hw     5\n",
      "etc    1\n",
      "dtype: int64 \n",
      "\n",
      "       att  etc  fin    hw  mid\n",
      "st1   8.0  NaN  NaN  13.0  NaN\n",
      "st2  10.0  NaN  NaN  12.0  NaN\n",
      "st3  11.0  NaN  NaN  14.0  NaN\n",
      "st4   9.0  NaN  NaN  11.0  NaN\n"
     ]
    }
   ],
   "source": [
    "Ex1=Series([3,5,1],index=[\"att\",\"hw\",\"etc\"])\n",
    "Ex2=Series([3,5,1],index=[\"st1\",\"st4\",\"st2\"])\n",
    "DF=DataFrame({\"att\":[5,7,8,6],\"hw\":[8,7,9,6],\"mid\":[36,32,25,28],\"fin\":[32,27,19,20]},index=[\"st1\",\"st2\",\"st3\",\"st4\"])\n",
    "print(DF, \"\\n\\n\", Ex1, \"\\n\\n\", DF+Ex1) #더해줄 값 없으면 결측"
   ]
  },
  {
   "cell_type": "code",
   "execution_count": 70,
   "metadata": {},
   "outputs": [
    {
     "data": {
      "text/html": [
       "<div>\n",
       "<style scoped>\n",
       "    .dataframe tbody tr th:only-of-type {\n",
       "        vertical-align: middle;\n",
       "    }\n",
       "\n",
       "    .dataframe tbody tr th {\n",
       "        vertical-align: top;\n",
       "    }\n",
       "\n",
       "    .dataframe thead th {\n",
       "        text-align: right;\n",
       "    }\n",
       "</style>\n",
       "<table border=\"1\" class=\"dataframe\">\n",
       "  <thead>\n",
       "    <tr style=\"text-align: right;\">\n",
       "      <th></th>\n",
       "      <th>att</th>\n",
       "      <th>etc</th>\n",
       "      <th>fin</th>\n",
       "      <th>hw</th>\n",
       "      <th>mid</th>\n",
       "    </tr>\n",
       "  </thead>\n",
       "  <tbody>\n",
       "    <tr>\n",
       "      <th>st1</th>\n",
       "      <td>8.0</td>\n",
       "      <td>NaN</td>\n",
       "      <td>NaN</td>\n",
       "      <td>13.0</td>\n",
       "      <td>NaN</td>\n",
       "    </tr>\n",
       "    <tr>\n",
       "      <th>st2</th>\n",
       "      <td>10.0</td>\n",
       "      <td>NaN</td>\n",
       "      <td>NaN</td>\n",
       "      <td>12.0</td>\n",
       "      <td>NaN</td>\n",
       "    </tr>\n",
       "    <tr>\n",
       "      <th>st3</th>\n",
       "      <td>11.0</td>\n",
       "      <td>NaN</td>\n",
       "      <td>NaN</td>\n",
       "      <td>14.0</td>\n",
       "      <td>NaN</td>\n",
       "    </tr>\n",
       "    <tr>\n",
       "      <th>st4</th>\n",
       "      <td>9.0</td>\n",
       "      <td>NaN</td>\n",
       "      <td>NaN</td>\n",
       "      <td>11.0</td>\n",
       "      <td>NaN</td>\n",
       "    </tr>\n",
       "  </tbody>\n",
       "</table>\n",
       "</div>"
      ],
      "text/plain": [
       "      att  etc  fin    hw  mid\n",
       "st1   8.0  NaN  NaN  13.0  NaN\n",
       "st2  10.0  NaN  NaN  12.0  NaN\n",
       "st3  11.0  NaN  NaN  14.0  NaN\n",
       "st4   9.0  NaN  NaN  11.0  NaN"
      ]
     },
     "execution_count": 70,
     "metadata": {},
     "output_type": "execute_result"
    }
   ],
   "source": [
    "DF.add(Ex1) # default : 열 인덱스"
   ]
  },
  {
   "cell_type": "code",
   "execution_count": 72,
   "metadata": {},
   "outputs": [
    {
     "data": {
      "text/html": [
       "<div>\n",
       "<style scoped>\n",
       "    .dataframe tbody tr th:only-of-type {\n",
       "        vertical-align: middle;\n",
       "    }\n",
       "\n",
       "    .dataframe tbody tr th {\n",
       "        vertical-align: top;\n",
       "    }\n",
       "\n",
       "    .dataframe thead th {\n",
       "        text-align: right;\n",
       "    }\n",
       "</style>\n",
       "<table border=\"1\" class=\"dataframe\">\n",
       "  <thead>\n",
       "    <tr style=\"text-align: right;\">\n",
       "      <th></th>\n",
       "      <th>att</th>\n",
       "      <th>hw</th>\n",
       "      <th>mid</th>\n",
       "      <th>fin</th>\n",
       "    </tr>\n",
       "  </thead>\n",
       "  <tbody>\n",
       "    <tr>\n",
       "      <th>att</th>\n",
       "      <td>NaN</td>\n",
       "      <td>NaN</td>\n",
       "      <td>NaN</td>\n",
       "      <td>NaN</td>\n",
       "    </tr>\n",
       "    <tr>\n",
       "      <th>etc</th>\n",
       "      <td>NaN</td>\n",
       "      <td>NaN</td>\n",
       "      <td>NaN</td>\n",
       "      <td>NaN</td>\n",
       "    </tr>\n",
       "    <tr>\n",
       "      <th>hw</th>\n",
       "      <td>NaN</td>\n",
       "      <td>NaN</td>\n",
       "      <td>NaN</td>\n",
       "      <td>NaN</td>\n",
       "    </tr>\n",
       "    <tr>\n",
       "      <th>st1</th>\n",
       "      <td>NaN</td>\n",
       "      <td>NaN</td>\n",
       "      <td>NaN</td>\n",
       "      <td>NaN</td>\n",
       "    </tr>\n",
       "    <tr>\n",
       "      <th>st2</th>\n",
       "      <td>NaN</td>\n",
       "      <td>NaN</td>\n",
       "      <td>NaN</td>\n",
       "      <td>NaN</td>\n",
       "    </tr>\n",
       "    <tr>\n",
       "      <th>st3</th>\n",
       "      <td>NaN</td>\n",
       "      <td>NaN</td>\n",
       "      <td>NaN</td>\n",
       "      <td>NaN</td>\n",
       "    </tr>\n",
       "    <tr>\n",
       "      <th>st4</th>\n",
       "      <td>NaN</td>\n",
       "      <td>NaN</td>\n",
       "      <td>NaN</td>\n",
       "      <td>NaN</td>\n",
       "    </tr>\n",
       "  </tbody>\n",
       "</table>\n",
       "</div>"
      ],
      "text/plain": [
       "     att  hw  mid  fin\n",
       "att  NaN NaN  NaN  NaN\n",
       "etc  NaN NaN  NaN  NaN\n",
       "hw   NaN NaN  NaN  NaN\n",
       "st1  NaN NaN  NaN  NaN\n",
       "st2  NaN NaN  NaN  NaN\n",
       "st3  NaN NaN  NaN  NaN\n",
       "st4  NaN NaN  NaN  NaN"
      ]
     },
     "execution_count": 72,
     "metadata": {},
     "output_type": "execute_result"
    }
   ],
   "source": [
    "DF.add(Ex1,axis=0) # default : 행 인덱스"
   ]
  },
  {
   "cell_type": "code",
   "execution_count": 73,
   "metadata": {},
   "outputs": [
    {
     "data": {
      "text/html": [
       "<div>\n",
       "<style scoped>\n",
       "    .dataframe tbody tr th:only-of-type {\n",
       "        vertical-align: middle;\n",
       "    }\n",
       "\n",
       "    .dataframe tbody tr th {\n",
       "        vertical-align: top;\n",
       "    }\n",
       "\n",
       "    .dataframe thead th {\n",
       "        text-align: right;\n",
       "    }\n",
       "</style>\n",
       "<table border=\"1\" class=\"dataframe\">\n",
       "  <thead>\n",
       "    <tr style=\"text-align: right;\">\n",
       "      <th></th>\n",
       "      <th>att</th>\n",
       "      <th>hw</th>\n",
       "      <th>mid</th>\n",
       "      <th>fin</th>\n",
       "    </tr>\n",
       "  </thead>\n",
       "  <tbody>\n",
       "    <tr>\n",
       "      <th>st1</th>\n",
       "      <td>8.0</td>\n",
       "      <td>11.0</td>\n",
       "      <td>39.0</td>\n",
       "      <td>35.0</td>\n",
       "    </tr>\n",
       "    <tr>\n",
       "      <th>st2</th>\n",
       "      <td>8.0</td>\n",
       "      <td>8.0</td>\n",
       "      <td>33.0</td>\n",
       "      <td>28.0</td>\n",
       "    </tr>\n",
       "    <tr>\n",
       "      <th>st3</th>\n",
       "      <td>NaN</td>\n",
       "      <td>NaN</td>\n",
       "      <td>NaN</td>\n",
       "      <td>NaN</td>\n",
       "    </tr>\n",
       "    <tr>\n",
       "      <th>st4</th>\n",
       "      <td>11.0</td>\n",
       "      <td>11.0</td>\n",
       "      <td>33.0</td>\n",
       "      <td>25.0</td>\n",
       "    </tr>\n",
       "  </tbody>\n",
       "</table>\n",
       "</div>"
      ],
      "text/plain": [
       "      att    hw   mid   fin\n",
       "st1   8.0  11.0  39.0  35.0\n",
       "st2   8.0   8.0  33.0  28.0\n",
       "st3   NaN   NaN   NaN   NaN\n",
       "st4  11.0  11.0  33.0  25.0"
      ]
     },
     "execution_count": 73,
     "metadata": {},
     "output_type": "execute_result"
    }
   ],
   "source": [
    "DF.add(Ex2,axis=0)"
   ]
  },
  {
   "cell_type": "code",
   "execution_count": 76,
   "metadata": {},
   "outputs": [
    {
     "name": "stdout",
     "output_type": "stream",
     "text": [
      "att     20.085537\n",
      "hw     148.413159\n",
      "etc      2.718282\n",
      "dtype: float64 \n",
      "\n",
      " att    1.732051\n",
      "hw     2.236068\n",
      "etc    1.000000\n",
      "dtype: float64\n"
     ]
    }
   ],
   "source": [
    "print(np.exp(Ex1), \"\\n\\n\", np.sqrt(Ex1)) # 시리즈의 원소별 지수값, 제곱근값"
   ]
  },
  {
   "cell_type": "code",
   "execution_count": 77,
   "metadata": {},
   "outputs": [
    {
     "name": "stdout",
     "output_type": "stream",
     "text": [
      "att    3\n",
      "hw     2\n",
      "etc    1\n",
      "dtype: int64\n"
     ]
    }
   ],
   "source": [
    "Ex1=Series([3,5,1],index=[\"att\",\"hw\",\"etc\"])\n",
    "Ex2=Series([4,2,10],index=[\"st1\",\"st4\",\"st2\"])\n",
    "print(np.minimum(Ex1,Ex2)) # numpy에서는 자리(들어가있는 순서)로 계산. index를 전혀고려하지 않음. 고로 크기도 똑같아야함!\n",
    "# numpy함수를 쓰려면, 인덱스를 보지 않고 그냥 배열로 생각하고 계산해야함!"
   ]
  },
  {
   "cell_type": "code",
   "execution_count": 79,
   "metadata": {},
   "outputs": [
    {
     "name": "stdout",
     "output_type": "stream",
     "text": [
      "     att  hw  mid  fin\n",
      "st1    5   8   36   32\n",
      "st2    7   7   32   27\n",
      "st3    8   9   25   19\n",
      "st4    6   6   28   20 \n",
      "\n",
      " att     26\n",
      "hw      30\n",
      "mid    121\n",
      "fin     98\n",
      "dtype: int64\n"
     ]
    }
   ],
   "source": [
    "DF=DataFrame({\"att\":[5,7,8,6],\"hw\":[8,7,9,6],\"mid\":[36,32,25,28],\"fin\":[32,27,19,20]},index=[\"st1\",\"st2\",\"st3\",\"st4\"])\n",
    "print(DF, \"\\n\\n\", DF.apply(np.sum)) #numpy 함수이용해서 구하기 열별로 계산."
   ]
  },
  {
   "cell_type": "code",
   "execution_count": 81,
   "metadata": {},
   "outputs": [
    {
     "name": "stdout",
     "output_type": "stream",
     "text": [
      "     att  hw  mid  fin\n",
      "st1    5   8   36   32\n",
      "st2    7   7   32   27\n",
      "st3    8   9   25   19\n",
      "st4    6   6   28   20 \n",
      "\n",
      " st1    81\n",
      "st2    73\n",
      "st3    61\n",
      "st4    60\n",
      "dtype: int64\n"
     ]
    }
   ],
   "source": [
    "print(DF, \"\\n\\n\", DF.apply(np.sum, axis=1)) # 행별 계산"
   ]
  },
  {
   "cell_type": "code",
   "execution_count": 83,
   "metadata": {},
   "outputs": [
    {
     "name": "stdout",
     "output_type": "stream",
     "text": [
      "     att  hw  mid  fin\n",
      "st1    5   8   36   32\n",
      "st2    7   7   32   27\n",
      "st3    8   9   25   19\n",
      "st4    6   6   28   20 \n",
      "\n",
      "     att  hw  mid  fin\n",
      "최소    5   6   25   19\n",
      "최대    8   9   36   32\n",
      "범위    3   3   11   13\n"
     ]
    },
    {
     "data": {
      "text/html": [
       "<div>\n",
       "<style scoped>\n",
       "    .dataframe tbody tr th:only-of-type {\n",
       "        vertical-align: middle;\n",
       "    }\n",
       "\n",
       "    .dataframe tbody tr th {\n",
       "        vertical-align: top;\n",
       "    }\n",
       "\n",
       "    .dataframe thead th {\n",
       "        text-align: right;\n",
       "    }\n",
       "</style>\n",
       "<table border=\"1\" class=\"dataframe\">\n",
       "  <thead>\n",
       "    <tr style=\"text-align: right;\">\n",
       "      <th></th>\n",
       "      <th>att</th>\n",
       "      <th>hw</th>\n",
       "      <th>mid</th>\n",
       "      <th>fin</th>\n",
       "    </tr>\n",
       "  </thead>\n",
       "  <tbody>\n",
       "    <tr>\n",
       "      <th>최소</th>\n",
       "      <td>5</td>\n",
       "      <td>6</td>\n",
       "      <td>25</td>\n",
       "      <td>19</td>\n",
       "    </tr>\n",
       "    <tr>\n",
       "      <th>최대</th>\n",
       "      <td>8</td>\n",
       "      <td>9</td>\n",
       "      <td>36</td>\n",
       "      <td>32</td>\n",
       "    </tr>\n",
       "    <tr>\n",
       "      <th>범위</th>\n",
       "      <td>3</td>\n",
       "      <td>3</td>\n",
       "      <td>11</td>\n",
       "      <td>13</td>\n",
       "    </tr>\n",
       "  </tbody>\n",
       "</table>\n",
       "</div>"
      ],
      "text/plain": [
       "    att  hw  mid  fin\n",
       "최소    5   6   25   19\n",
       "최대    8   9   36   32\n",
       "범위    3   3   11   13"
      ]
     },
     "execution_count": 83,
     "metadata": {},
     "output_type": "execute_result"
    }
   ],
   "source": [
    "def f(x):\n",
    "    return(Series([x.min(),x.max(),x.max()-x.min()],index=[\"최소\",\"최대\",\"범위\"]))\n",
    "print(DF,\"\\n\\n\",DF.apply(f)) #default가 열계산이므로 축바꾸지 않음\n",
    "DF.apply(f) #시리즈 4개를 받아 데이터프레임처럼 보여줌"
   ]
  },
  {
   "cell_type": "code",
   "execution_count": 84,
   "metadata": {},
   "outputs": [
    {
     "name": "stdout",
     "output_type": "stream",
     "text": [
      "     att  hw  mid  fin\n",
      "st1    5   8   36   32\n",
      "st2    7   7   32   27\n",
      "st3    8   9   25   19\n",
      "st4    6   6   28   20 \n",
      "\n",
      "      최소  최대  범위\n",
      "st1   5  36  31\n",
      "st2   7  32  25\n",
      "st3   8  25  17\n",
      "st4   6  28  22\n"
     ]
    },
    {
     "data": {
      "text/html": [
       "<div>\n",
       "<style scoped>\n",
       "    .dataframe tbody tr th:only-of-type {\n",
       "        vertical-align: middle;\n",
       "    }\n",
       "\n",
       "    .dataframe tbody tr th {\n",
       "        vertical-align: top;\n",
       "    }\n",
       "\n",
       "    .dataframe thead th {\n",
       "        text-align: right;\n",
       "    }\n",
       "</style>\n",
       "<table border=\"1\" class=\"dataframe\">\n",
       "  <thead>\n",
       "    <tr style=\"text-align: right;\">\n",
       "      <th></th>\n",
       "      <th>att</th>\n",
       "      <th>hw</th>\n",
       "      <th>mid</th>\n",
       "      <th>fin</th>\n",
       "    </tr>\n",
       "  </thead>\n",
       "  <tbody>\n",
       "    <tr>\n",
       "      <th>최소</th>\n",
       "      <td>5</td>\n",
       "      <td>6</td>\n",
       "      <td>25</td>\n",
       "      <td>19</td>\n",
       "    </tr>\n",
       "    <tr>\n",
       "      <th>최대</th>\n",
       "      <td>8</td>\n",
       "      <td>9</td>\n",
       "      <td>36</td>\n",
       "      <td>32</td>\n",
       "    </tr>\n",
       "    <tr>\n",
       "      <th>범위</th>\n",
       "      <td>3</td>\n",
       "      <td>3</td>\n",
       "      <td>11</td>\n",
       "      <td>13</td>\n",
       "    </tr>\n",
       "  </tbody>\n",
       "</table>\n",
       "</div>"
      ],
      "text/plain": [
       "    att  hw  mid  fin\n",
       "최소    5   6   25   19\n",
       "최대    8   9   36   32\n",
       "범위    3   3   11   13"
      ]
     },
     "execution_count": 84,
     "metadata": {},
     "output_type": "execute_result"
    }
   ],
   "source": [
    "print(DF,\"\\n\\n\",DF.apply(f,axis=1)) #행계산\n",
    "DF.apply(f) #시리즈 4개를 받아 데이터프레임처럼 보여줌"
   ]
  },
  {
   "cell_type": "code",
   "execution_count": 85,
   "metadata": {},
   "outputs": [
    {
     "name": "stdout",
     "output_type": "stream",
     "text": [
      "     att  hw  mid  fin\n",
      "st1    5   8   36   32\n",
      "st2    7   7   32   27\n",
      "st3    8   9   25   19\n",
      "st4    6   6   28   20 \n",
      "\n",
      "              att           hw           mid           fin\n",
      "st1   148.413159  2980.957987  4.311232e+15  7.896296e+13\n",
      "st2  1096.633158  1096.633158  7.896296e+13  5.320482e+11\n",
      "st3  2980.957987  8103.083928  7.200490e+10  1.784823e+08\n",
      "st4   403.428793   403.428793  1.446257e+12  4.851652e+08\n"
     ]
    },
    {
     "data": {
      "text/html": [
       "<div>\n",
       "<style scoped>\n",
       "    .dataframe tbody tr th:only-of-type {\n",
       "        vertical-align: middle;\n",
       "    }\n",
       "\n",
       "    .dataframe tbody tr th {\n",
       "        vertical-align: top;\n",
       "    }\n",
       "\n",
       "    .dataframe thead th {\n",
       "        text-align: right;\n",
       "    }\n",
       "</style>\n",
       "<table border=\"1\" class=\"dataframe\">\n",
       "  <thead>\n",
       "    <tr style=\"text-align: right;\">\n",
       "      <th></th>\n",
       "      <th>att</th>\n",
       "      <th>hw</th>\n",
       "      <th>mid</th>\n",
       "      <th>fin</th>\n",
       "    </tr>\n",
       "  </thead>\n",
       "  <tbody>\n",
       "    <tr>\n",
       "      <th>st1</th>\n",
       "      <td>148.413159</td>\n",
       "      <td>2980.957987</td>\n",
       "      <td>4.311232e+15</td>\n",
       "      <td>7.896296e+13</td>\n",
       "    </tr>\n",
       "    <tr>\n",
       "      <th>st2</th>\n",
       "      <td>1096.633158</td>\n",
       "      <td>1096.633158</td>\n",
       "      <td>7.896296e+13</td>\n",
       "      <td>5.320482e+11</td>\n",
       "    </tr>\n",
       "    <tr>\n",
       "      <th>st3</th>\n",
       "      <td>2980.957987</td>\n",
       "      <td>8103.083928</td>\n",
       "      <td>7.200490e+10</td>\n",
       "      <td>1.784823e+08</td>\n",
       "    </tr>\n",
       "    <tr>\n",
       "      <th>st4</th>\n",
       "      <td>403.428793</td>\n",
       "      <td>403.428793</td>\n",
       "      <td>1.446257e+12</td>\n",
       "      <td>4.851652e+08</td>\n",
       "    </tr>\n",
       "  </tbody>\n",
       "</table>\n",
       "</div>"
      ],
      "text/plain": [
       "             att           hw           mid           fin\n",
       "st1   148.413159  2980.957987  4.311232e+15  7.896296e+13\n",
       "st2  1096.633158  1096.633158  7.896296e+13  5.320482e+11\n",
       "st3  2980.957987  8103.083928  7.200490e+10  1.784823e+08\n",
       "st4   403.428793   403.428793  1.446257e+12  4.851652e+08"
      ]
     },
     "execution_count": 85,
     "metadata": {},
     "output_type": "execute_result"
    }
   ],
   "source": [
    "print(DF, \"\\n\\n\", DF.applymap(np.exp))\n",
    "np.exp(DF) # 두개 다 동"
   ]
  },
  {
   "cell_type": "code",
   "execution_count": 90,
   "metadata": {
    "scrolled": false
   },
   "outputs": [
    {
     "name": "stdout",
     "output_type": "stream",
     "text": [
      "a3    3.0\n",
      "a2    5.0\n",
      "a1    inf\n",
      "a8    7.0\n",
      "a6    5.0\n",
      "a4    NaN\n",
      "a7    6.0\n",
      "a5    1.0\n",
      "dtype: float64 \n",
      "\n",
      " a1    inf\n",
      "a2    5.0\n",
      "a3    3.0\n",
      "a4    NaN\n",
      "a5    1.0\n",
      "a6    5.0\n",
      "a7    6.0\n",
      "a8    7.0\n",
      "dtype: float64 \n",
      "\n",
      " a8    7.0\n",
      "a7    6.0\n",
      "a6    5.0\n",
      "a5    1.0\n",
      "a4    NaN\n",
      "a3    3.0\n",
      "a2    5.0\n",
      "a1    inf\n",
      "dtype: float64\n"
     ]
    }
   ],
   "source": [
    "Ex1=Series([3,5,np.inf,7,5,np.nan,6,1],index=[\"a3\",\"a2\",\"a1\",\"a8\",\"a6\",\"a4\",\"a7\",\"a5\"])\n",
    "DF=DataFrame({\"att\":[5,7,8,6],\"hw\":[8,7,9,6],\"mid\":[36,32,25,28],\"fin\":[32,27,19,20]},index=[\"st1\",\"st2\",\"st3\",\"st4\"])\n",
    "print(Ex1,\"\\n\\n\",Ex1.sort_index(),\"\\n\\n\",Ex1.sort_index(ascending=False)) # 오름차순, 내림차순 # 인덱스와 values는 함께 움직임"
   ]
  },
  {
   "cell_type": "code",
   "execution_count": 92,
   "metadata": {
    "scrolled": false
   },
   "outputs": [
    {
     "name": "stdout",
     "output_type": "stream",
     "text": [
      "a3    3.0\n",
      "a2    5.0\n",
      "a1    inf\n",
      "a8    7.0\n",
      "a6    5.0\n",
      "a4    NaN\n",
      "a7    6.0\n",
      "a5    1.0\n",
      "dtype: float64 \n",
      "\n",
      " a5    1.0\n",
      "a3    3.0\n",
      "a2    5.0\n",
      "a6    5.0\n",
      "a7    6.0\n",
      "a8    7.0\n",
      "a1    inf\n",
      "a4    NaN\n",
      "dtype: float64 \n",
      "\n",
      " a1    inf\n",
      "a8    7.0\n",
      "a7    6.0\n",
      "a6    5.0\n",
      "a2    5.0\n",
      "a3    3.0\n",
      "a5    1.0\n",
      "a4    NaN\n",
      "dtype: float64\n"
     ]
    }
   ],
   "source": [
    "print(Ex1,\"\\n\\n\",Ex1.sort_values(),\"\\n\\n\",Ex1.sort_values(ascending=False)) #값으로 정렬 오름차순기준 #내림차순"
   ]
  },
  {
   "cell_type": "code",
   "execution_count": 94,
   "metadata": {},
   "outputs": [
    {
     "name": "stdout",
     "output_type": "stream",
     "text": [
      "     att  hw  mid  fin\n",
      "st1    5   8   36   32\n",
      "st2    7   7   32   27\n",
      "st3    8   9   25   19\n",
      "st4    6   6   28   20 \n",
      "\n",
      "      att  hw  mid  fin\n",
      "st1    5   8   36   32\n",
      "st2    7   7   32   27\n",
      "st3    8   9   25   19\n",
      "st4    6   6   28   20 \n",
      "\n",
      "      mid  hw  fin  att\n",
      "st1   36   8   32    5\n",
      "st2   32   7   27    7\n",
      "st3   25   9   19    8\n",
      "st4   28   6   20    6\n"
     ]
    }
   ],
   "source": [
    "print(DF,\"\\n\\n\",DF.sort_index(),\"\\n\\n\",DF.sort_index(ascending=False,axis=1)) # 축=1 -> 열이 함께 움직임"
   ]
  },
  {
   "cell_type": "code",
   "execution_count": 96,
   "metadata": {},
   "outputs": [
    {
     "name": "stdout",
     "output_type": "stream",
     "text": [
      "     att  hw  mid  fin\n",
      "st1    5   8   36   32\n",
      "st2    7   7   32   27\n",
      "st3    8   9   25   19\n",
      "st4    6   6   28   20 \n",
      "\n",
      "      att  hw  mid  fin\n",
      "st3    8   9   25   19\n",
      "st4    6   6   28   20\n",
      "st2    7   7   32   27\n",
      "st1    5   8   36   32 \n",
      "\n",
      "      att  hw  mid  fin\n",
      "st1    5   8   36   32\n",
      "st2    7   7   32   27\n",
      "st4    6   6   28   20\n",
      "st3    8   9   25   19\n"
     ]
    }
   ],
   "source": [
    "print(DF,\"\\n\\n\",DF.sort_values(by=\"fin\"),\"\\n\\n\",DF.sort_values(ascending=False,by=\"fin\")) #by : 어떤 인덱스를 기준으로 할건지 정해"
   ]
  },
  {
   "cell_type": "code",
   "execution_count": 100,
   "metadata": {},
   "outputs": [
    {
     "name": "stdout",
     "output_type": "stream",
     "text": [
      "     att  hw  mid  fin\n",
      "st1    5   8   36   32\n",
      "st2    7   7   32   27\n",
      "st3    8   9   25   19\n",
      "st4    6   6   28   20\n",
      "st5    7   6   22   27 \n",
      "\n",
      "      att  hw  mid  fin\n",
      "st3    8   9   25   19\n",
      "st4    6   6   28   20\n",
      "st2    7   7   32   27\n",
      "st5    7   6   22   27\n",
      "st1    5   8   36   32 \n",
      "\n",
      "     att  hw  mid  fin\n",
      "st3    8   9   25   19\n",
      "st4    6   6   28   20\n",
      "st5    7   6   22   27\n",
      "st2    7   7   32   27\n",
      "st1    5   8   36   32\n"
     ]
    }
   ],
   "source": [
    "#동률인 경우 기준을 여러개로 잡는 경우가 있음\n",
    "DF=DataFrame({\"att\":[5,7,8,6,7],\"hw\":[8,7,9,6,6],\"mid\":[36,32,25,28,22],\"fin\":[32,27,19,20,27]},index=[\"st1\",\"st2\",\"st3\",\"st4\",\"st5\"])\n",
    "print(DF,\"\\n\\n\",DF.sort_values(by=\"fin\"),\"\\n\")#동률이라 입력된 순서대로 동률 처리\n",
    "print(DF.sort_values(by=[\"fin\",\"mid\"])) #fin에서 동률인건 mid로 다시 정"
   ]
  },
  {
   "cell_type": "code",
   "execution_count": 102,
   "metadata": {},
   "outputs": [
    {
     "name": "stdout",
     "output_type": "stream",
     "text": [
      "a3    3.0\n",
      "a2    5.0\n",
      "a1    inf\n",
      "a8    7.0\n",
      "a6    5.0\n",
      "a4    NaN\n",
      "a7    6.0\n",
      "a5    1.0\n",
      "dtype: float64 \n",
      "\n",
      " a3    2.0\n",
      "a2    3.5\n",
      "a1    7.0\n",
      "a8    6.0\n",
      "a6    3.5\n",
      "a4    NaN\n",
      "a7    5.0\n",
      "a5    1.0\n",
      "dtype: float64\n"
     ]
    }
   ],
   "source": [
    "print(Ex1, \"\\n\\n\",Ex1.rank()) # 순위값 #작은게 1"
   ]
  },
  {
   "cell_type": "code",
   "execution_count": 104,
   "metadata": {},
   "outputs": [
    {
     "name": "stdout",
     "output_type": "stream",
     "text": [
      "a3    3.0\n",
      "a2    5.0\n",
      "a1    inf\n",
      "a8    7.0\n",
      "a6    5.0\n",
      "a4    NaN\n",
      "a7    6.0\n",
      "a5    1.0\n",
      "dtype: float64 \n",
      "\n",
      " a3    2.0\n",
      "a2    3.0\n",
      "a1    7.0\n",
      "a8    6.0\n",
      "a6    3.0\n",
      "a4    NaN\n",
      "a7    5.0\n",
      "a5    1.0\n",
      "dtype: float64\n"
     ]
    }
   ],
   "source": [
    "print(Ex1, \"\\n\\n\",Ex1.rank(method=\"min\")) "
   ]
  },
  {
   "cell_type": "code",
   "execution_count": 105,
   "metadata": {},
   "outputs": [
    {
     "name": "stdout",
     "output_type": "stream",
     "text": [
      "a3    3.0\n",
      "a2    5.0\n",
      "a1    inf\n",
      "a8    7.0\n",
      "a6    5.0\n",
      "a4    NaN\n",
      "a7    6.0\n",
      "a5    1.0\n",
      "dtype: float64 \n",
      "\n",
      " a3    2.0\n",
      "a2    3.0\n",
      "a1    7.0\n",
      "a8    6.0\n",
      "a6    4.0\n",
      "a4    NaN\n",
      "a7    5.0\n",
      "a5    1.0\n",
      "dtype: float64\n"
     ]
    }
   ],
   "source": [
    "print(Ex1, \"\\n\\n\",Ex1.rank(method=\"first\")) # 들어간 순서대로"
   ]
  },
  {
   "cell_type": "code",
   "execution_count": 106,
   "metadata": {},
   "outputs": [
    {
     "name": "stdout",
     "output_type": "stream",
     "text": [
      "     att  hw  mid  fin\n",
      "st1    5   8   36   32\n",
      "st2    7   7   32   27\n",
      "st3    8   9   25   19\n",
      "st4    6   6   28   20\n",
      "st5    7   6   22   27 \n",
      "\n",
      "      att   hw  mid  fin\n",
      "st1  1.0  4.0  5.0  5.0\n",
      "st2  3.5  3.0  4.0  3.5\n",
      "st3  5.0  5.0  2.0  1.0\n",
      "st4  2.0  1.5  3.0  2.0\n",
      "st5  3.5  1.5  1.0  3.5\n"
     ]
    }
   ],
   "source": [
    "print(DF, \"\\n\\n\",DF.rank(method=\"average\")) "
   ]
  },
  {
   "cell_type": "code",
   "execution_count": 107,
   "metadata": {},
   "outputs": [
    {
     "name": "stdout",
     "output_type": "stream",
     "text": [
      "     att  hw  mid  fin\n",
      "st1    5   8   36   32\n",
      "st2    7   7   32   27\n",
      "st3    8   9   25   19\n",
      "st4    6   6   28   20\n",
      "st5    7   6   22   27 \n",
      "\n",
      "      att   hw  mid  fin\n",
      "st1  1.0  2.0  4.0  3.0\n",
      "st2  1.5  1.5  4.0  3.0\n",
      "st3  1.0  2.0  4.0  3.0\n",
      "st4  1.5  1.5  4.0  3.0\n",
      "st5  2.0  1.0  3.0  4.0\n"
     ]
    }
   ],
   "source": [
    "print(DF, \"\\n\\n\",DF.rank(axis=1,method=\"average\"))  #행별 순위계산"
   ]
  },
  {
   "cell_type": "code",
   "execution_count": 109,
   "metadata": {},
   "outputs": [
    {
     "name": "stdout",
     "output_type": "stream",
     "text": [
      "True \n",
      "      att  hw  mid  fin\n",
      "st1    5   8   36   32\n",
      "st2    7   7   32   27\n",
      "st3    8   9   25   19\n",
      "st4    6   6   28   20\n",
      "st5    7   6   22   27\n"
     ]
    }
   ],
   "source": [
    "print(Ex1.index.is_unique,\"\\n\",DF) #괄호없이 사용 #중복색인있는지 확"
   ]
  },
  {
   "cell_type": "code",
   "execution_count": 110,
   "metadata": {},
   "outputs": [
    {
     "data": {
      "text/plain": [
       "inf"
      ]
     },
     "execution_count": 110,
     "metadata": {},
     "output_type": "execute_result"
    }
   ],
   "source": [
    "Ex1.mean() # 무한대 포함 -> 무한대값이 나옴"
   ]
  },
  {
   "cell_type": "code",
   "execution_count": 111,
   "metadata": {},
   "outputs": [
    {
     "data": {
      "text/plain": [
       "nan"
      ]
     },
     "execution_count": 111,
     "metadata": {},
     "output_type": "execute_result"
    }
   ],
   "source": [
    "Ex1.mean(skipna=False) # 결측값을 무시하지 않음 (EX1이 결측이 있으므로 결과는 nan)"
   ]
  },
  {
   "cell_type": "code",
   "execution_count": 112,
   "metadata": {},
   "outputs": [
    {
     "data": {
      "text/plain": [
       "5.142857142857143"
      ]
     },
     "execution_count": 112,
     "metadata": {},
     "output_type": "execute_result"
    }
   ],
   "source": [
    "Ex1=Series([3,5,9,7,5,np.nan,6,1],index=[\"a3\",\"a2\",\"a1\",\"a8\",\"a6\",\"a4\",\"a7\",\"a5\"])\n",
    "Ex1.mean() # default : NA skip"
   ]
  },
  {
   "cell_type": "code",
   "execution_count": 115,
   "metadata": {},
   "outputs": [
    {
     "name": "stdout",
     "output_type": "stream",
     "text": [
      "     att  hw  mid  fin\n",
      "st1    5   8   36   32\n",
      "st2    7   7   32   27\n",
      "st3    8   9   25   19\n",
      "st4    6   6   28   20\n",
      "st5    7   6   22   27 \n",
      "\n",
      " att     6.6\n",
      "hw      7.2\n",
      "mid    28.6\n",
      "fin    25.0\n",
      "dtype: float64\n"
     ]
    }
   ],
   "source": [
    "print(DF, \"\\n\\n\", DF.mean()) # 각 변수별 평균"
   ]
  },
  {
   "cell_type": "code",
   "execution_count": 117,
   "metadata": {},
   "outputs": [
    {
     "name": "stdout",
     "output_type": "stream",
     "text": [
      "     att   hw  mid   fin\n",
      "st1    5  8.0   36  32.0\n",
      "st2    7  7.0   32  27.0\n",
      "st3    8  9.0   25   NaN\n",
      "st4    6  NaN   28  20.0\n",
      "st5    7  6.0   22  27.0\n"
     ]
    },
    {
     "data": {
      "text/plain": [
       "att     6.6\n",
       "hw      7.5\n",
       "mid    28.6\n",
       "fin    26.5\n",
       "dtype: float64"
      ]
     },
     "execution_count": 117,
     "metadata": {},
     "output_type": "execute_result"
    }
   ],
   "source": [
    "DF=DataFrame({\"att\":[5,7,8,6,7],\"hw\":[8,7,9,np.nan,6],\n",
    "              \"mid\":[36,32,25,28,22],\"fin\":[32,27,np.nan,20,27]},index=[\"st1\",\"st2\",\"st3\",\"st4\",\"st5\"])\n",
    "print(DF)\n",
    "DF.mean()"
   ]
  },
  {
   "cell_type": "code",
   "execution_count": 118,
   "metadata": {},
   "outputs": [
    {
     "data": {
      "text/plain": [
       "att     6.6\n",
       "hw      NaN\n",
       "mid    28.6\n",
       "fin     NaN\n",
       "dtype: float64"
      ]
     },
     "execution_count": 118,
     "metadata": {},
     "output_type": "execute_result"
    }
   ],
   "source": [
    "DF.mean(skipna=False) "
   ]
  },
  {
   "cell_type": "code",
   "execution_count": 120,
   "metadata": {
    "scrolled": true
   },
   "outputs": [
    {
     "name": "stdout",
     "output_type": "stream",
     "text": [
      "     att   hw  mid   fin\n",
      "st1    5  8.0   36  32.0\n",
      "st2    7  7.0   32  27.0\n",
      "st3    8  9.0   25   NaN\n",
      "st4    6  NaN   28  20.0\n",
      "st5    7  6.0   22  27.0\n"
     ]
    },
    {
     "data": {
      "text/plain": [
       "st1    20.25\n",
       "st2    18.25\n",
       "st3    14.00\n",
       "st4    18.00\n",
       "st5    15.50\n",
       "dtype: float64"
      ]
     },
     "execution_count": 120,
     "metadata": {},
     "output_type": "execute_result"
    }
   ],
   "source": [
    "print(DF)\n",
    "DF.mean(axis=1) # 행평균 "
   ]
  },
  {
   "cell_type": "code",
   "execution_count": 121,
   "metadata": {},
   "outputs": [
    {
     "name": "stdout",
     "output_type": "stream",
     "text": [
      "     att   hw  mid   fin\n",
      "st1    5  8.0   36  32.0\n",
      "st2    7  7.0   32  27.0\n",
      "st3    8  9.0   25   NaN\n",
      "st4    6  NaN   28  20.0\n",
      "st5    7  6.0   22  27.0\n"
     ]
    },
    {
     "data": {
      "text/html": [
       "<div>\n",
       "<style scoped>\n",
       "    .dataframe tbody tr th:only-of-type {\n",
       "        vertical-align: middle;\n",
       "    }\n",
       "\n",
       "    .dataframe tbody tr th {\n",
       "        vertical-align: top;\n",
       "    }\n",
       "\n",
       "    .dataframe thead th {\n",
       "        text-align: right;\n",
       "    }\n",
       "</style>\n",
       "<table border=\"1\" class=\"dataframe\">\n",
       "  <thead>\n",
       "    <tr style=\"text-align: right;\">\n",
       "      <th></th>\n",
       "      <th>att</th>\n",
       "      <th>hw</th>\n",
       "      <th>mid</th>\n",
       "      <th>fin</th>\n",
       "    </tr>\n",
       "  </thead>\n",
       "  <tbody>\n",
       "    <tr>\n",
       "      <th>st1</th>\n",
       "      <td>5.0</td>\n",
       "      <td>8.0</td>\n",
       "      <td>36.0</td>\n",
       "      <td>32.0</td>\n",
       "    </tr>\n",
       "    <tr>\n",
       "      <th>st2</th>\n",
       "      <td>12.0</td>\n",
       "      <td>15.0</td>\n",
       "      <td>68.0</td>\n",
       "      <td>59.0</td>\n",
       "    </tr>\n",
       "    <tr>\n",
       "      <th>st3</th>\n",
       "      <td>20.0</td>\n",
       "      <td>24.0</td>\n",
       "      <td>93.0</td>\n",
       "      <td>NaN</td>\n",
       "    </tr>\n",
       "    <tr>\n",
       "      <th>st4</th>\n",
       "      <td>26.0</td>\n",
       "      <td>NaN</td>\n",
       "      <td>121.0</td>\n",
       "      <td>79.0</td>\n",
       "    </tr>\n",
       "    <tr>\n",
       "      <th>st5</th>\n",
       "      <td>33.0</td>\n",
       "      <td>30.0</td>\n",
       "      <td>143.0</td>\n",
       "      <td>106.0</td>\n",
       "    </tr>\n",
       "  </tbody>\n",
       "</table>\n",
       "</div>"
      ],
      "text/plain": [
       "      att    hw    mid    fin\n",
       "st1   5.0   8.0   36.0   32.0\n",
       "st2  12.0  15.0   68.0   59.0\n",
       "st3  20.0  24.0   93.0    NaN\n",
       "st4  26.0   NaN  121.0   79.0\n",
       "st5  33.0  30.0  143.0  106.0"
      ]
     },
     "execution_count": 121,
     "metadata": {},
     "output_type": "execute_result"
    }
   ],
   "source": [
    "print(DF)\n",
    "DF.cumsum() # 누적합 #NA있는부분은 NA. 그이후에는 NA를 뛰어넘음"
   ]
  },
  {
   "cell_type": "code",
   "execution_count": 122,
   "metadata": {},
   "outputs": [
    {
     "name": "stdout",
     "output_type": "stream",
     "text": [
      "     att   hw  mid   fin\n",
      "st1    5  8.0   36  32.0\n",
      "st2    7  7.0   32  27.0\n",
      "st3    8  9.0   25   NaN\n",
      "st4    6  NaN   28  20.0\n",
      "st5    7  6.0   22  27.0\n"
     ]
    },
    {
     "data": {
      "text/html": [
       "<div>\n",
       "<style scoped>\n",
       "    .dataframe tbody tr th:only-of-type {\n",
       "        vertical-align: middle;\n",
       "    }\n",
       "\n",
       "    .dataframe tbody tr th {\n",
       "        vertical-align: top;\n",
       "    }\n",
       "\n",
       "    .dataframe thead th {\n",
       "        text-align: right;\n",
       "    }\n",
       "</style>\n",
       "<table border=\"1\" class=\"dataframe\">\n",
       "  <thead>\n",
       "    <tr style=\"text-align: right;\">\n",
       "      <th></th>\n",
       "      <th>att</th>\n",
       "      <th>hw</th>\n",
       "      <th>mid</th>\n",
       "      <th>fin</th>\n",
       "    </tr>\n",
       "  </thead>\n",
       "  <tbody>\n",
       "    <tr>\n",
       "      <th>st1</th>\n",
       "      <td>5.0</td>\n",
       "      <td>8.0</td>\n",
       "      <td>36.0</td>\n",
       "      <td>32.0</td>\n",
       "    </tr>\n",
       "    <tr>\n",
       "      <th>st2</th>\n",
       "      <td>12.0</td>\n",
       "      <td>15.0</td>\n",
       "      <td>68.0</td>\n",
       "      <td>59.0</td>\n",
       "    </tr>\n",
       "    <tr>\n",
       "      <th>st3</th>\n",
       "      <td>20.0</td>\n",
       "      <td>24.0</td>\n",
       "      <td>93.0</td>\n",
       "      <td>NaN</td>\n",
       "    </tr>\n",
       "    <tr>\n",
       "      <th>st4</th>\n",
       "      <td>26.0</td>\n",
       "      <td>NaN</td>\n",
       "      <td>121.0</td>\n",
       "      <td>NaN</td>\n",
       "    </tr>\n",
       "    <tr>\n",
       "      <th>st5</th>\n",
       "      <td>33.0</td>\n",
       "      <td>NaN</td>\n",
       "      <td>143.0</td>\n",
       "      <td>NaN</td>\n",
       "    </tr>\n",
       "  </tbody>\n",
       "</table>\n",
       "</div>"
      ],
      "text/plain": [
       "      att    hw    mid   fin\n",
       "st1   5.0   8.0   36.0  32.0\n",
       "st2  12.0  15.0   68.0  59.0\n",
       "st3  20.0  24.0   93.0   NaN\n",
       "st4  26.0   NaN  121.0   NaN\n",
       "st5  33.0   NaN  143.0   NaN"
      ]
     },
     "execution_count": 122,
     "metadata": {},
     "output_type": "execute_result"
    }
   ],
   "source": [
    "print(DF)\n",
    "DF.cumsum(skipna=False) # 누적합 #NA값이 나오면서부터 결측`"
   ]
  },
  {
   "cell_type": "code",
   "execution_count": 123,
   "metadata": {},
   "outputs": [
    {
     "name": "stdout",
     "output_type": "stream",
     "text": [
      "     att   hw  mid   fin\n",
      "st1    5  8.0   36  32.0\n",
      "st2    7  7.0   32  27.0\n",
      "st3    8  9.0   25   NaN\n",
      "st4    6  NaN   28  20.0\n",
      "st5    7  6.0   22  27.0\n"
     ]
    },
    {
     "data": {
      "text/html": [
       "<div>\n",
       "<style scoped>\n",
       "    .dataframe tbody tr th:only-of-type {\n",
       "        vertical-align: middle;\n",
       "    }\n",
       "\n",
       "    .dataframe tbody tr th {\n",
       "        vertical-align: top;\n",
       "    }\n",
       "\n",
       "    .dataframe thead th {\n",
       "        text-align: right;\n",
       "    }\n",
       "</style>\n",
       "<table border=\"1\" class=\"dataframe\">\n",
       "  <thead>\n",
       "    <tr style=\"text-align: right;\">\n",
       "      <th></th>\n",
       "      <th>att</th>\n",
       "      <th>hw</th>\n",
       "      <th>mid</th>\n",
       "      <th>fin</th>\n",
       "    </tr>\n",
       "  </thead>\n",
       "  <tbody>\n",
       "    <tr>\n",
       "      <th>0.15</th>\n",
       "      <td>5.6</td>\n",
       "      <td>6.45</td>\n",
       "      <td>23.8</td>\n",
       "      <td>23.15</td>\n",
       "    </tr>\n",
       "    <tr>\n",
       "      <th>0.95</th>\n",
       "      <td>7.8</td>\n",
       "      <td>8.85</td>\n",
       "      <td>35.2</td>\n",
       "      <td>31.25</td>\n",
       "    </tr>\n",
       "  </tbody>\n",
       "</table>\n",
       "</div>"
      ],
      "text/plain": [
       "      att    hw   mid    fin\n",
       "0.15  5.6  6.45  23.8  23.15\n",
       "0.95  7.8  8.85  35.2  31.25"
      ]
     },
     "execution_count": 123,
     "metadata": {},
     "output_type": "execute_result"
    }
   ],
   "source": [
    "print(DF)\n",
    "DF.quantile(q=[0.15,0.95]) #15퍼센트분위수, 95퍼센트분위수=상위5프로`"
   ]
  },
  {
   "cell_type": "code",
   "execution_count": 124,
   "metadata": {},
   "outputs": [
    {
     "name": "stdout",
     "output_type": "stream",
     "text": [
      "     att   hw  mid   fin\n",
      "st1    5  8.0   36  32.0\n",
      "st2    7  7.0   32  27.0\n",
      "st3    8  9.0   25   NaN\n",
      "st4    6  NaN   28  20.0\n",
      "st5    7  6.0   22  27.0\n"
     ]
    },
    {
     "data": {
      "text/html": [
       "<div>\n",
       "<style scoped>\n",
       "    .dataframe tbody tr th:only-of-type {\n",
       "        vertical-align: middle;\n",
       "    }\n",
       "\n",
       "    .dataframe tbody tr th {\n",
       "        vertical-align: top;\n",
       "    }\n",
       "\n",
       "    .dataframe thead th {\n",
       "        text-align: right;\n",
       "    }\n",
       "</style>\n",
       "<table border=\"1\" class=\"dataframe\">\n",
       "  <thead>\n",
       "    <tr style=\"text-align: right;\">\n",
       "      <th></th>\n",
       "      <th>att</th>\n",
       "      <th>hw</th>\n",
       "      <th>mid</th>\n",
       "      <th>fin</th>\n",
       "    </tr>\n",
       "  </thead>\n",
       "  <tbody>\n",
       "    <tr>\n",
       "      <th>st1</th>\n",
       "      <td>NaN</td>\n",
       "      <td>NaN</td>\n",
       "      <td>NaN</td>\n",
       "      <td>NaN</td>\n",
       "    </tr>\n",
       "    <tr>\n",
       "      <th>st2</th>\n",
       "      <td>2.0</td>\n",
       "      <td>-1.0</td>\n",
       "      <td>-4.0</td>\n",
       "      <td>-5.0</td>\n",
       "    </tr>\n",
       "    <tr>\n",
       "      <th>st3</th>\n",
       "      <td>1.0</td>\n",
       "      <td>2.0</td>\n",
       "      <td>-7.0</td>\n",
       "      <td>NaN</td>\n",
       "    </tr>\n",
       "    <tr>\n",
       "      <th>st4</th>\n",
       "      <td>-2.0</td>\n",
       "      <td>NaN</td>\n",
       "      <td>3.0</td>\n",
       "      <td>NaN</td>\n",
       "    </tr>\n",
       "    <tr>\n",
       "      <th>st5</th>\n",
       "      <td>1.0</td>\n",
       "      <td>NaN</td>\n",
       "      <td>-6.0</td>\n",
       "      <td>7.0</td>\n",
       "    </tr>\n",
       "  </tbody>\n",
       "</table>\n",
       "</div>"
      ],
      "text/plain": [
       "     att   hw  mid  fin\n",
       "st1  NaN  NaN  NaN  NaN\n",
       "st2  2.0 -1.0 -4.0 -5.0\n",
       "st3  1.0  2.0 -7.0  NaN\n",
       "st4 -2.0  NaN  3.0  NaN\n",
       "st5  1.0  NaN -6.0  7.0"
      ]
     },
     "execution_count": 124,
     "metadata": {},
     "output_type": "execute_result"
    }
   ],
   "source": [
    "print(DF)\n",
    "DF.diff() #1차차분` 자기자신과 자기전거를 뺌`"
   ]
  },
  {
   "cell_type": "code",
   "execution_count": 125,
   "metadata": {},
   "outputs": [
    {
     "name": "stdout",
     "output_type": "stream",
     "text": [
      "     att   hw  mid   fin\n",
      "st1    5  8.0   36  32.0\n",
      "st2    7  7.0   32  27.0\n",
      "st3    8  9.0   25   NaN\n",
      "st4    6  NaN   28  20.0\n",
      "st5    7  6.0   22  27.0\n"
     ]
    },
    {
     "data": {
      "text/html": [
       "<div>\n",
       "<style scoped>\n",
       "    .dataframe tbody tr th:only-of-type {\n",
       "        vertical-align: middle;\n",
       "    }\n",
       "\n",
       "    .dataframe tbody tr th {\n",
       "        vertical-align: top;\n",
       "    }\n",
       "\n",
       "    .dataframe thead th {\n",
       "        text-align: right;\n",
       "    }\n",
       "</style>\n",
       "<table border=\"1\" class=\"dataframe\">\n",
       "  <thead>\n",
       "    <tr style=\"text-align: right;\">\n",
       "      <th></th>\n",
       "      <th>att</th>\n",
       "      <th>hw</th>\n",
       "      <th>mid</th>\n",
       "      <th>fin</th>\n",
       "    </tr>\n",
       "  </thead>\n",
       "  <tbody>\n",
       "    <tr>\n",
       "      <th>count</th>\n",
       "      <td>5.000000</td>\n",
       "      <td>4.000000</td>\n",
       "      <td>5.000000</td>\n",
       "      <td>4.000000</td>\n",
       "    </tr>\n",
       "    <tr>\n",
       "      <th>mean</th>\n",
       "      <td>6.600000</td>\n",
       "      <td>7.500000</td>\n",
       "      <td>28.600000</td>\n",
       "      <td>26.500000</td>\n",
       "    </tr>\n",
       "    <tr>\n",
       "      <th>std</th>\n",
       "      <td>1.140175</td>\n",
       "      <td>1.290994</td>\n",
       "      <td>5.549775</td>\n",
       "      <td>4.932883</td>\n",
       "    </tr>\n",
       "    <tr>\n",
       "      <th>min</th>\n",
       "      <td>5.000000</td>\n",
       "      <td>6.000000</td>\n",
       "      <td>22.000000</td>\n",
       "      <td>20.000000</td>\n",
       "    </tr>\n",
       "    <tr>\n",
       "      <th>25%</th>\n",
       "      <td>6.000000</td>\n",
       "      <td>6.750000</td>\n",
       "      <td>25.000000</td>\n",
       "      <td>25.250000</td>\n",
       "    </tr>\n",
       "    <tr>\n",
       "      <th>50%</th>\n",
       "      <td>7.000000</td>\n",
       "      <td>7.500000</td>\n",
       "      <td>28.000000</td>\n",
       "      <td>27.000000</td>\n",
       "    </tr>\n",
       "    <tr>\n",
       "      <th>75%</th>\n",
       "      <td>7.000000</td>\n",
       "      <td>8.250000</td>\n",
       "      <td>32.000000</td>\n",
       "      <td>28.250000</td>\n",
       "    </tr>\n",
       "    <tr>\n",
       "      <th>max</th>\n",
       "      <td>8.000000</td>\n",
       "      <td>9.000000</td>\n",
       "      <td>36.000000</td>\n",
       "      <td>32.000000</td>\n",
       "    </tr>\n",
       "  </tbody>\n",
       "</table>\n",
       "</div>"
      ],
      "text/plain": [
       "            att        hw        mid        fin\n",
       "count  5.000000  4.000000   5.000000   4.000000\n",
       "mean   6.600000  7.500000  28.600000  26.500000\n",
       "std    1.140175  1.290994   5.549775   4.932883\n",
       "min    5.000000  6.000000  22.000000  20.000000\n",
       "25%    6.000000  6.750000  25.000000  25.250000\n",
       "50%    7.000000  7.500000  28.000000  27.000000\n",
       "75%    7.000000  8.250000  32.000000  28.250000\n",
       "max    8.000000  9.000000  36.000000  32.000000"
      ]
     },
     "execution_count": 125,
     "metadata": {},
     "output_type": "execute_result"
    }
   ],
   "source": [
    "print(DF)\n",
    "DF.describe() #기술통계랑`"
   ]
  },
  {
   "cell_type": "code",
   "execution_count": 126,
   "metadata": {},
   "outputs": [
    {
     "data": {
      "text/plain": [
       "count     100\n",
       "unique      2\n",
       "top         F\n",
       "freq       57\n",
       "Name: gender, dtype: object"
      ]
     },
     "execution_count": 126,
     "metadata": {},
     "output_type": "execute_result"
    }
   ],
   "source": [
    "x=np.random.rand(100)\n",
    "gender=np.where(x>0.5,\"M\",\"F\")\n",
    "height=np.rint(np.random.normal(loc=175,scale=6,size=100))\n",
    "weight=np.rint(np.random.normal(loc=68,scale=3,size=100))\n",
    "# DF=DataFrame(np.array([gender,height,weight]).T,columns=[\"gender\",\"height\",\"weight\"]) #array로 만들었기 때문에 다 문자로 바뀜!\n",
    "DF=DataFrame({\"gender\":gender,\"height\":height,\"weight\":weight}) #그런거 대신 이렇게 만들어줘야\n",
    "DF.gender.describe() #문자는 count가 갯수. "
   ]
  }
 ],
 "metadata": {
  "kernelspec": {
   "display_name": "MyPython",
   "language": "python",
   "name": "mypython"
  },
  "language_info": {
   "codemirror_mode": {
    "name": "ipython",
    "version": 3
   },
   "file_extension": ".py",
   "mimetype": "text/x-python",
   "name": "python",
   "nbconvert_exporter": "python",
   "pygments_lexer": "ipython3",
   "version": "3.6.9"
  },
  "widgets": {
   "state": {},
   "version": "1.1.2"
  }
 },
 "nbformat": 4,
 "nbformat_minor": 2
}
