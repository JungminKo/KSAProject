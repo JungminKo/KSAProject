{
 "cells": [
  {
   "cell_type": "code",
   "execution_count": 1,
   "metadata": {},
   "outputs": [],
   "source": [
    "import numpy as np # 별명 사용"
   ]
  },
  {
   "cell_type": "code",
   "execution_count": 2,
   "metadata": {},
   "outputs": [
    {
     "data": {
      "text/plain": [
       "(array([[ 0.19801011,  1.79781081],\n",
       "        [-1.38234631, -0.21522018],\n",
       "        [-0.43589275, -0.7115123 ]]), (3, 2), dtype('float64'))"
      ]
     },
     "execution_count": 2,
     "metadata": {},
     "output_type": "execute_result"
    }
   ],
   "source": [
    "A= np.random.randn(3,2) #randn : 표준정규분포, random : 난수발생\n",
    "A, A.shape, A.dtype"
   ]
  },
  {
   "cell_type": "code",
   "execution_count": 3,
   "metadata": {},
   "outputs": [
    {
     "data": {
      "text/plain": [
       "(array([1, 2, 4, 4]), array([4, 2, 5, 4, 3]), array([4, 2, 5, 4, 3]))"
      ]
     },
     "execution_count": 3,
     "metadata": {},
     "output_type": "execute_result"
    }
   ],
   "source": [
    "ls1=[1,2,4,4]\n",
    "ls2=[33,25,74,78]\n",
    "np.array(ls1), np.array([4,2,5,4,3]), np.array((4,2,5,4,3)) #벡터"
   ]
  },
  {
   "cell_type": "code",
   "execution_count": 4,
   "metadata": {},
   "outputs": [
    {
     "data": {
      "text/plain": [
       "array([[ 1,  2,  4,  4],\n",
       "       [33, 25, 74, 78]])"
      ]
     },
     "execution_count": 4,
     "metadata": {},
     "output_type": "execute_result"
    }
   ],
   "source": [
    "ls1=[1,2,4,4]\n",
    "ls2=[33,25,74,78]\n",
    "vec_x=np.array((4,2,5,4,3))\n",
    "mat_A=np.array([ls1,ls2])\n",
    "mat_A # 행렬"
   ]
  },
  {
   "cell_type": "code",
   "execution_count": 5,
   "metadata": {},
   "outputs": [
    {
     "name": "stdout",
     "output_type": "stream",
     "text": [
      "(5,) int32\n",
      "(2, 4) int32\n"
     ]
    }
   ],
   "source": [
    "ls1=[1,2,4,4]\n",
    "ls2=[33,25,74,78]\n",
    "vec_x=np.array((4,2,5,4,3))\n",
    "mat_A=np.array([ls1,ls2])\n",
    "print(vec_x.shape, vec_x.dtype)\n",
    "print(mat_A.shape, mat_A.dtype)"
   ]
  },
  {
   "cell_type": "code",
   "execution_count": 6,
   "metadata": {},
   "outputs": [
    {
     "data": {
      "text/plain": [
       "array([1, 2, 4, 4])"
      ]
     },
     "execution_count": 6,
     "metadata": {},
     "output_type": "execute_result"
    }
   ],
   "source": [
    "ls1=[1,2,4,4]\n",
    "ls2=[33,25,74,78]\n",
    "np.asarray(ls1)"
   ]
  },
  {
   "cell_type": "code",
   "execution_count": 7,
   "metadata": {},
   "outputs": [
    {
     "name": "stdout",
     "output_type": "stream",
     "text": [
      "(4,) int32\n"
     ]
    }
   ],
   "source": [
    "ls1=[1,2,4,4]\n",
    "ls2=[33,25,74,78]\n",
    "vec_y=np.asarray(ls2)\n",
    "print(vec_y.shape, vec_y.dtype)"
   ]
  },
  {
   "cell_type": "code",
   "execution_count": 8,
   "metadata": {},
   "outputs": [
    {
     "name": "stdout",
     "output_type": "stream",
     "text": [
      "(5,) int32\n",
      "(2, 4) int32\n",
      "(4,) int32\n",
      "(2, 4) int32\n",
      "1900099437512 1900355977824\n",
      "1900355980144 1900355980144\n"
     ]
    }
   ],
   "source": [
    "ls1=[1,2,4,4]\n",
    "ls2=[33,25,74,78]\n",
    "vec_x=np.array((4,2,5,4,3))\n",
    "mat_A=np.array([ls1,ls2])\n",
    "print(vec_x.shape, vec_x.dtype)\n",
    "print(mat_A.shape, mat_A.dtype)\n",
    "\n",
    "vec_y=np.asarray(ls2)\n",
    "mat_B=np.asarray(mat_A) \n",
    "print(vec_y.shape, vec_y.dtype)\n",
    "print(mat_B.shape, mat_B.dtype)\n",
    "\n",
    "print(id(ls2),id(vec_y)) #array가 아니면 새롭게 객체 생성\n",
    "print(id(mat_A),id(mat_B)) # 이미 array이면, id가 공유되도록 "
   ]
  },
  {
   "cell_type": "code",
   "execution_count": 9,
   "metadata": {},
   "outputs": [
    {
     "data": {
      "text/plain": [
       "array([1, 3, 5, 7, 9])"
      ]
     },
     "execution_count": 9,
     "metadata": {},
     "output_type": "execute_result"
    }
   ],
   "source": [
    "ls1=[1,2,4,4]\n",
    "ls2=[33,25,74,78]\n",
    "vec_x=np.arange(1,10,2)\n",
    "vec_x # range와 동일하나 array로 생김"
   ]
  },
  {
   "cell_type": "code",
   "execution_count": 10,
   "metadata": {},
   "outputs": [
    {
     "data": {
      "text/plain": [
       "array([0., 0.])"
      ]
     },
     "execution_count": 10,
     "metadata": {},
     "output_type": "execute_result"
    }
   ],
   "source": [
    "np.zeros(2)"
   ]
  },
  {
   "cell_type": "code",
   "execution_count": 11,
   "metadata": {},
   "outputs": [
    {
     "data": {
      "text/plain": [
       "array([[0., 0., 0., 0., 0.],\n",
       "       [0., 0., 0., 0., 0.],\n",
       "       [0., 0., 0., 0., 0.],\n",
       "       [0., 0., 0., 0., 0.]])"
      ]
     },
     "execution_count": 11,
     "metadata": {},
     "output_type": "execute_result"
    }
   ],
   "source": [
    "np.zeros((4,5)) # 튜플 형식으로 지정"
   ]
  },
  {
   "cell_type": "code",
   "execution_count": 12,
   "metadata": {},
   "outputs": [
    {
     "name": "stdout",
     "output_type": "stream",
     "text": [
      "[[0 0 0 0]\n",
      " [0 0 0 0]]\n",
      "[[ 1  2  4  4]\n",
      " [33 25 74 78]]\n"
     ]
    }
   ],
   "source": [
    "ls1=[1,2,4,4]\n",
    "ls2=[33,25,74,78]\n",
    "mat_A=np.array([ls1,ls2])\n",
    "\n",
    "print(np.zeros_like(mat_A)) #mat_A와 크기가 같은 배열 만들어\n",
    "print(mat_A)"
   ]
  },
  {
   "cell_type": "code",
   "execution_count": 13,
   "metadata": {},
   "outputs": [
    {
     "name": "stdout",
     "output_type": "stream",
     "text": [
      "[[1. 0. 0. 0. 0.]\n",
      " [0. 1. 0. 0. 0.]\n",
      " [0. 0. 1. 0. 0.]\n",
      " [0. 0. 0. 1. 0.]\n",
      " [0. 0. 0. 0. 1.]]\n"
     ]
    }
   ],
   "source": [
    "print(np.eye(5))"
   ]
  },
  {
   "cell_type": "code",
   "execution_count": 14,
   "metadata": {},
   "outputs": [
    {
     "name": "stdout",
     "output_type": "stream",
     "text": [
      "[[1. 0. 0. 0. 0.]\n",
      " [0. 1. 0. 0. 0.]\n",
      " [0. 0. 1. 0. 0.]\n",
      " [0. 0. 0. 1. 0.]\n",
      " [0. 0. 0. 0. 1.]]\n"
     ]
    }
   ],
   "source": [
    "print(np.identity(5))"
   ]
  },
  {
   "cell_type": "code",
   "execution_count": 15,
   "metadata": {},
   "outputs": [
    {
     "name": "stdout",
     "output_type": "stream",
     "text": [
      "[b'1' b'2' b'4' b'4'] |S1\n"
     ]
    }
   ],
   "source": [
    "ls1=[1,2,4,4]\n",
    "ls2=[33,3,25,362,74,76,78,19]\n",
    "vec_x=np.array(ls1, dtype=np.string_)\n",
    "print(vec_x, vec_x.dtype) # type : 고정길이형 1"
   ]
  },
  {
   "cell_type": "code",
   "execution_count": 16,
   "metadata": {},
   "outputs": [
    {
     "name": "stdout",
     "output_type": "stream",
     "text": [
      "[1. 2. 4. 4.] float64\n"
     ]
    }
   ],
   "source": [
    "ls1=[1,2,4,4]\n",
    "ls2=[33,3,25,362,74,76,78,19]\n",
    "vec_x=np.array(ls1)\n",
    "vec_x=vec_x.astype(np.float64)\n",
    "print(vec_x, vec_x.dtype) # type : 64비트 실수"
   ]
  },
  {
   "cell_type": "code",
   "execution_count": 17,
   "metadata": {},
   "outputs": [
    {
     "name": "stdout",
     "output_type": "stream",
     "text": [
      "[[ 1.     2.     4.     4.   ]\n",
      " [33.3   25.362 74.76  78.19 ]] float64\n",
      "[[ 1  2  4  4]\n",
      " [33 25 74 78]] int16\n"
     ]
    }
   ],
   "source": [
    "ls1=[1,2,4,4]\n",
    "ls2=[33.3,25.362,74.76,78.19]\n",
    "mat=np.array([ls1,ls2]) \n",
    "print(mat,mat.dtype) # type : 64비트 실수\n",
    "mat=mat.astype(np.int16)\n",
    "print(mat,mat.dtype) # type : 16비트 정수"
   ]
  },
  {
   "cell_type": "code",
   "execution_count": 18,
   "metadata": {},
   "outputs": [
    {
     "name": "stdout",
     "output_type": "stream",
     "text": [
      "[1 2 4 4] [2 4 8 8] [0.25 0.5  1.   1.  ]\n",
      "[[ 1.     2.     4.     4.   ]\n",
      " [33.3   25.362 74.76  78.19 ]]\n",
      "[[ 1.     2.     4.     4.   ]\n",
      " [33.3   25.362 74.76  78.19 ]] [[  2.      4.      8.      8.   ]\n",
      " [ 66.6    50.724 149.52  156.38 ]] [[11.    12.    14.    14.   ]\n",
      " [43.3   35.362 84.76  88.19 ]]\n"
     ]
    }
   ],
   "source": [
    "ls1=[1,2,4,4]\n",
    "ls2=[33.3,25.362,74.76,78.19]\n",
    "vec=np.array(ls1)\n",
    "print(vec, 2*vec, vec/4)\n",
    "mat=np.array([ls1,ls2])\n",
    "print(mat)\n",
    "print(mat, 2*mat, mat+10)"
   ]
  },
  {
   "cell_type": "code",
   "execution_count": 19,
   "metadata": {},
   "outputs": [
    {
     "name": "stdout",
     "output_type": "stream",
     "text": [
      "[ 33.3    50.724 299.04  312.76 ]\n"
     ]
    }
   ],
   "source": [
    "ls1=[1,2,4,4]\n",
    "ls2=[33.3,25.362,74.76,78.19]\n",
    "vec1=np.array(ls1)\n",
    "vec2=np.array(ls2)\n",
    "print(vec1*vec2) #안의 원소끼리 곱하"
   ]
  },
  {
   "cell_type": "code",
   "execution_count": 20,
   "metadata": {},
   "outputs": [
    {
     "name": "stdout",
     "output_type": "stream",
     "text": [
      "[[  2.     10.      4.      8.   ]\n",
      " [ 99.9    25.362 299.04  547.33 ]]\n"
     ]
    }
   ],
   "source": [
    "ls1=[1,2,4,4]\n",
    "ls2=[33.3,25.362,74.76,78.19]\n",
    "vec1=np.array([ls1,ls2])\n",
    "vec2=np.array([[2,5,1,2],[3,1,4,7]])\n",
    "print(vec1*vec2) #안의 원소끼리 곱하기. 일반적인 행렬의 곱이 아님"
   ]
  },
  {
   "cell_type": "code",
   "execution_count": 21,
   "metadata": {},
   "outputs": [
    {
     "name": "stdout",
     "output_type": "stream",
     "text": [
      "2 2\n"
     ]
    }
   ],
   "source": [
    "ls1=[1,2,4,77,2,9,5,4,3]\n",
    "ls2=[33.3,25.362,74.76,78.19]\n",
    "vec=np.array(ls1)\n",
    "print(ls1[4],vec[4])"
   ]
  },
  {
   "cell_type": "code",
   "execution_count": 22,
   "metadata": {},
   "outputs": [
    {
     "name": "stdout",
     "output_type": "stream",
     "text": [
      "[1, 2, 4, 77, 2, 9, 5, 4, 3] \t [ 1  2  4 77  2  9  5  4  3]\n",
      "2 \t 2\n",
      "[4, 77, 2] \t [ 4 77  2]\n"
     ]
    }
   ],
   "source": [
    "ls1=[1,2,4,77,2,9,5,4,3]\n",
    "ls2=[33.3,25.362,74.76,78.19]\n",
    "vec=np.array(ls1)\n",
    "print(ls1, \"\\t\", vec)\n",
    "print(ls1[4], \"\\t\", vec[4])\n",
    "print(ls1[2:5], \"\\t\", vec[2:5]) # 동일"
   ]
  },
  {
   "cell_type": "code",
   "execution_count": 23,
   "metadata": {},
   "outputs": [
    {
     "name": "stdout",
     "output_type": "stream",
     "text": [
      "[1, 2, 4, 77, 999, 9, 5, 4, 3] \t [  1   2   4  77 999   9   5   4   3]\n",
      "[1, 2, 4, 999, 5, 4, 3] \t [  1   2   4 999 999 999   5   4   3]\n"
     ]
    }
   ],
   "source": [
    "ls1=[1,2,4,77,2,9,5,4,3]\n",
    "ls2=[33.3,25.362,74.76,78.19]\n",
    "vec=np.array(ls1)\n",
    "ls1[4]=999; vec[4]=999 # 동일\n",
    "print(ls1, \"\\t\", vec) \n",
    "ls1[3:6]=[999]; vec[3:6]=999 # 다름 - 리스트는 3,4,5자리를 합쳐 999. 벡터는 각각 999로 바\n",
    "print(ls1, \"\\t\", vec) "
   ]
  },
  {
   "cell_type": "code",
   "execution_count": 24,
   "metadata": {},
   "outputs": [
    {
     "name": "stdout",
     "output_type": "stream",
     "text": [
      "[ 1  2  4 77  2  9  5  4  3] \t [ 4 77  2  9]\n",
      "[   1    2    4   77 9999    9    5    4    3] \t [   4   77 9999    9]\n"
     ]
    }
   ],
   "source": [
    "ls1=[1,2,4,77,2,9,5,4,3]\n",
    "ls2=[33.3,25.362,74.76,78.19]\n",
    "vec=np.array(ls1)\n",
    "sub_vec1=vec[2:6]\n",
    "print(vec,\"\\t\",sub_vec1)\n",
    "sub_vec1[2]=9999 # sub vector의 값을 바꾸면 원래 벡터의 값도 바\n",
    "print(vec,\"\\t\",sub_vec1)"
   ]
  },
  {
   "cell_type": "code",
   "execution_count": 25,
   "metadata": {},
   "outputs": [
    {
     "name": "stdout",
     "output_type": "stream",
     "text": [
      "[ 1  2  4 77  2  9  5  4  3] \t [ 4 77  2  9] [ 4 77  2  9]\n",
      "[   1    2    4   77 9999    9    5    4    3] \t [   4   77 9999    9] [ 4 77  2  9]\n"
     ]
    }
   ],
   "source": [
    "ls1=[1,2,4,77,2,9,5,4,3]\n",
    "ls2=[33.3,25.362,74.76,78.19]\n",
    "vec=np.array(ls1)\n",
    "sub_vec1=vec[2:6]\n",
    "sub_vec2=vec[2:6].copy() # 다른 객체로 생성\n",
    "print(vec,\"\\t\",sub_vec1,sub_vec2)\n",
    "sub_vec1[2]=9999 \n",
    "print(vec,\"\\t\",sub_vec1,sub_vec2)"
   ]
  },
  {
   "cell_type": "code",
   "execution_count": 26,
   "metadata": {},
   "outputs": [
    {
     "name": "stdout",
     "output_type": "stream",
     "text": [
      "[[ 1.     2.     4.     7.     2.     9.     5.     4.     3.   ]\n",
      " [33.3   25.362 74.76  78.19  34.6   43.6   90.2   57.3   25.6  ]\n",
      " [10.    20.    40.    20.    60.    30.    20.    10.    80.   ]] \n",
      "\n",
      "[33.3   25.362 74.76  78.19  34.6   43.6   90.2   57.3   25.6  ] \n",
      "\n",
      "[[ 1.     2.     4.     7.     2.     9.     5.     4.     3.   ]\n",
      " [33.3   25.362 74.76  78.19  34.6   43.6   90.2   57.3   25.6  ]] \n",
      "\n",
      "43.6 \n",
      "\n",
      "43.6 \n",
      "\n",
      "[[ 4.    7.    2.  ]\n",
      " [74.76 78.19 34.6 ]]\n"
     ]
    }
   ],
   "source": [
    "ls1=[1,2,4,7,2,9,5,4,3]\n",
    "ls2=[33.3,25.362,74.76,78.19,34.6,43.6,90.2,57.3,25.6]\n",
    "ls3=[10,20,40,20,60,30,20,10,80]\n",
    "A=np.array([ls1,ls2,ls3])\n",
    "print(A,\"\\n\")\n",
    "print(A[1],\"\\n\") #1번 행\n",
    "print(A[:2],\"\\n\") #0,1번 행\n",
    "print(A[1,5],\"\\n\") #1행 5열\n",
    "print(A[1][5],\"\\n\") #위와 동일\n",
    "print(A[:2,2:5]) #0,1행+2~4열"
   ]
  },
  {
   "cell_type": "code",
   "execution_count": 27,
   "metadata": {},
   "outputs": [
    {
     "name": "stdout",
     "output_type": "stream",
     "text": [
      "[[ 4.    7.    2.  ]\n",
      " [74.76 78.19 34.6 ]] \n",
      "\n",
      "[] \n",
      "\n",
      "[[ 4.    7.    2.  ]\n",
      " [74.76 78.19 34.6 ]]\n"
     ]
    }
   ],
   "source": [
    "print(A[:2,2:5], \"\\n\") #0,1행+2~4열\n",
    "print(A[:2][2:5],\"\\n\") # 위랑 같지 않음\n",
    "\n",
    "print(A[:2][:,2:5]) #앞에서 뽑힌 모든 행이라는 의미로 \":,\"을 덧붙여줘야함"
   ]
  },
  {
   "cell_type": "code",
   "execution_count": 28,
   "metadata": {},
   "outputs": [
    {
     "name": "stdout",
     "output_type": "stream",
     "text": [
      "[[[ 1  2  5  3]\n",
      "  [10 40 20 60]\n",
      "  [ 4  2  5  4]]\n",
      "\n",
      " [[ 0  3  1  6]\n",
      "  [12 32 67 35]\n",
      "  [ 7  1  2  9]]] \n",
      "\n",
      "60 \t 60 \n",
      "\n",
      "[[ 1  2  5  3]\n",
      " [10 40 20 60]\n",
      " [ 4  2  5  4]] \n",
      " [[ 1  2  5]\n",
      " [10 40 20]]\n"
     ]
    }
   ],
   "source": [
    "ls11=[1,2,5,3]; ls12=[10,40,20,60]; ls13=[4,2,5,4]\n",
    "ls21=[0,3,1,6]; ls22=[12,32,67,35]; ls23=[7,1,2,9]\n",
    "arr3d=np.array([[ls11,ls12,ls13],[ls21,ls22,ls23]])\n",
    "print(arr3d,\"\\n\") # 3차원 배열\n",
    "print(arr3d[0,1,3], \"\\t\", arr3d[0][1,3], \"\\n\")\n",
    "print(arr3d[0],\"\\n\", arr3d[0,:2,:3])"
   ]
  },
  {
   "cell_type": "code",
   "execution_count": 29,
   "metadata": {},
   "outputs": [
    {
     "name": "stdout",
     "output_type": "stream",
     "text": [
      "[[[   1    2    5    3]\n",
      "  [  10   40   20   60]\n",
      "  [   4    2    5    4]]\n",
      "\n",
      " [[   0    3    1    6]\n",
      "  [  12   32 9999   35]\n",
      "  [   7    1    2    9]]] \n",
      " [[  10   40   20   60]\n",
      " [  12   32 9999   35]] \n",
      " [[10 40 20 60]\n",
      " [12 32 67 35]]\n"
     ]
    }
   ],
   "source": [
    "ls11=[1,2,5,3]; ls12=[10,40,20,60]; ls13=[4,2,5,4]\n",
    "ls21=[0,3,1,6]; ls22=[12,32,67,35]; ls23=[7,1,2,9]\n",
    "arr3d=np.array([[ls11,ls12,ls13],[ls21,ls22,ls23]])\n",
    "sub_arr1=arr3d[:2,1] # 값공유 -값 바꾸면 원래거랑 같이 바뀜\n",
    "sub_arr2=arr3d[:2,1].copy() #복사 - 원래거에 영향안줌\n",
    "arr3d[1,1,2]=9999\n",
    "print(arr3d,\"\\n\",sub_arr1, \"\\n\",sub_arr2)"
   ]
  },
  {
   "cell_type": "code",
   "execution_count": 30,
   "metadata": {},
   "outputs": [
    {
     "name": "stdout",
     "output_type": "stream",
     "text": [
      "[[ 1  2  5  3]\n",
      " [10 40 20 60]\n",
      " [ 4  2  5  4]] \n",
      "\n",
      "[10 40 20 60] \n",
      " [[10 40 20 60]]\n"
     ]
    }
   ],
   "source": [
    "ls11=[1,2,5,3]; ls12=[10,40,20,60]; ls13=[4,2,5,4]\n",
    "ls21=[0,3,1,6]; ls22=[12,32,67,35]; ls23=[7,1,2,9]\n",
    "mat1=np.array([ls11,ls12,ls13])\n",
    "print(mat1, \"\\n\")\n",
    "print(mat1[1],\"\\n\",mat1[[False,True,False]]) # 논리값을 이용한 인덱싱과 슬라이싱"
   ]
  },
  {
   "cell_type": "code",
   "execution_count": 31,
   "metadata": {},
   "outputs": [
    {
     "name": "stdout",
     "output_type": "stream",
     "text": [
      "[[ 1  2  5  3]\n",
      " [10 40 20 60]\n",
      " [ 4  2  5  4]] \n",
      "\n",
      "[[False False False False]\n",
      " [ True  True  True  True]\n",
      " [False False False False]] \n",
      "\n",
      "[10 40 20 60] \n",
      " [10 40 20 60] \n",
      "\n",
      "[[False False  True False]\n",
      " [ True  True  True  True]\n",
      " [False False  True False]] \n",
      "\n",
      "[10 40 20 60] \n",
      " [ 5 10 40 20 60  5]\n"
     ]
    }
   ],
   "source": [
    "ls11=[1,2,5,3]; ls12=[10,40,20,60]; ls13=[4,2,5,4]\n",
    "ls21=[0,3,1,6]; ls22=[12,32,67,35]; ls23=[7,1,2,9]\n",
    "mat1=np.array([ls11,ls12,ls13])\n",
    "print(mat1, \"\\n\")\n",
    "print(mat1>=10,\"\\n\")\n",
    "print(mat1[1],\"\\n\",mat1[mat1>=10],\"\\n\") # 논리값을 이용한 인덱싱과 슬라이싱\n",
    "print(mat1>=5,\"\\n\")\n",
    "print(mat1[1],\"\\n\",mat1[mat1>=5])  #이건 행렬로 만들 수 없으니 벡터형으로 돌려줌."
   ]
  },
  {
   "cell_type": "code",
   "execution_count": 32,
   "metadata": {},
   "outputs": [
    {
     "name": "stdout",
     "output_type": "stream",
     "text": [
      "['남' '여' '여' '남' '남' '여'] \n",
      " [[  1   2   5   3]\n",
      " [ 10  40  20  60]\n",
      " [  4   2   5   4]\n",
      " [  3   2   6   7]\n",
      " [104 203 435 205]\n",
      " [111 324 654 654]] \n",
      "\n",
      "[ True False False  True  True False] \n",
      "\n",
      "[[  1   2   5   3]\n",
      " [  3   2   6   7]\n",
      " [104 203 435 205]] \n",
      " [[ 10  40  20  60]\n",
      " [  4   2   5   4]\n",
      " [111 324 654 654]]\n"
     ]
    }
   ],
   "source": [
    "gender=np.array([\"남\",\"여\",\"여\",\"남\",\"남\",\"여\"])\n",
    "ls11=[1,2,5,3]; ls12=[10,40,20,60]; ls13=[4,2,5,4]\n",
    "ls21=[3,2,6,7]; ls22=[104,203,435,205]; ls23=[111,324,654,654]\n",
    "mat=np.array([ls11,ls12,ls13,ls21,ls22,ls23])\n",
    "print(gender,\"\\n\",mat,\"\\n\")\n",
    "\n",
    "##이 상황에서 남자 여자 분류하려고함\n",
    "\n",
    "result=gender==\"남\"\n",
    "print(result,\"\\n\")\n",
    "\n",
    "male=mat[result]\n",
    "female=mat[~result]\n",
    "print(male,\"\\n\",female) # 조건에 맞는 값 추출 가능"
   ]
  },
  {
   "cell_type": "code",
   "execution_count": 33,
   "metadata": {},
   "outputs": [
    {
     "name": "stdout",
     "output_type": "stream",
     "text": [
      "['남' '여' '여' '남' '남' '여'] \n",
      " [[  1   2   5   3]\n",
      " [ 10  40  20  60]\n",
      " [  4   2   5   4]\n",
      " [  3   2   6   7]\n",
      " [104 203 435 205]\n",
      " [111 324 654 654]] \n",
      "\n",
      "[10 20 50 30 40 20 50 40 30 20 60 70] \n",
      "\n",
      "[[ True  True  True  True]\n",
      " [False False False False]\n",
      " [ True  True  True  True]\n",
      " [ True  True  True  True]\n",
      " [False False False False]\n",
      " [False False False False]] \n",
      "\n",
      "[[  0   0   0   0]\n",
      " [ 10  40  20  60]\n",
      " [  0   0   0   0]\n",
      " [  0   0   0   0]\n",
      " [104 203 435 205]\n",
      " [111 324 654 654]]\n"
     ]
    }
   ],
   "source": [
    "gender=np.array([\"남\",\"여\",\"여\",\"남\",\"남\",\"여\"])\n",
    "ls11=[1,2,5,3]; ls12=[10,40,20,60]; ls13=[4,2,5,4]\n",
    "ls21=[3,2,6,7]; ls22=[104,203,435,205]; ls23=[111,324,654,654]\n",
    "mat=np.array([ls11,ls12,ls13,ls21,ls22,ls23])\n",
    "print(gender,\"\\n\",mat,\"\\n\")\n",
    "\n",
    "print(mat[mat<10]*10,\"\\n\") #조건에 맞는 값 수정 가능\n",
    "print(mat<10,\"\\n\")\n",
    "\n",
    "mat[mat<10]=0 #10보다 작은 값 0으로 대체 가능\n",
    "print(mat)"
   ]
  },
  {
   "cell_type": "code",
   "execution_count": 34,
   "metadata": {},
   "outputs": [
    {
     "name": "stdout",
     "output_type": "stream",
     "text": [
      "[[-0.13014938  0.69358316 -1.00593982 -0.66332942 -1.34500065]\n",
      " [-1.71026042 -0.20593122  0.46371448 -3.21499102  2.16175731]\n",
      " [ 0.03723059  0.13681185  0.61508708  1.12230507  0.81109664]\n",
      " [-1.15141743 -0.32741229 -0.32193327  0.04331723  1.66471423]\n",
      " [-0.45750994  0.76848434 -0.94828413 -0.24094546  0.38523596]\n",
      " [ 0.57137016  0.65802574  0.78266147  0.88224178  0.73538028]\n",
      " [ 0.27729955  0.5772262   0.70061758 -0.92752541  0.27433218]] \n",
      "\n",
      "[0.88224178 0.69358316 0.81109664] \n",
      "\n",
      " [[ 0.88224178  0.65802574  0.73538028]\n",
      " [-0.66332942  0.69358316 -1.34500065]\n",
      " [ 1.12230507  0.13681185  0.81109664]]\n"
     ]
    }
   ],
   "source": [
    "ex=np.random.randn(7,5)\n",
    "print(ex,\"\\n\")\n",
    "print(ex[[5,0,2],[3,1,4]],\"\\n\\n\",ex[[5,0,2]][:,[3,1,4]]) \n",
    "#5행 3열, 0행1열, 2행4열 뽑음 / 5행의 3,1,4열, 0행의 3,1,4열 이런식으로 뽑음"
   ]
  },
  {
   "cell_type": "code",
   "execution_count": 35,
   "metadata": {},
   "outputs": [
    {
     "name": "stdout",
     "output_type": "stream",
     "text": [
      "[[[ 0  1  2]\n",
      "  [ 3  4  5]\n",
      "  [ 6  7  8]\n",
      "  [ 9 10 11]]\n",
      "\n",
      " [[12 13 14]\n",
      "  [15 16 17]\n",
      "  [18 19 20]\n",
      "  [21 22 23]]] \n",
      "\n",
      " [[[ 0 12]\n",
      "  [ 3 15]\n",
      "  [ 6 18]\n",
      "  [ 9 21]]\n",
      "\n",
      " [[ 1 13]\n",
      "  [ 4 16]\n",
      "  [ 7 19]\n",
      "  [10 22]]\n",
      "\n",
      " [[ 2 14]\n",
      "  [ 5 17]\n",
      "  [ 8 20]\n",
      "  [11 23]]] \n",
      "\n",
      " [[[ 0  3  6  9]\n",
      "  [12 15 18 21]]\n",
      "\n",
      " [[ 1  4  7 10]\n",
      "  [13 16 19 22]]\n",
      "\n",
      " [[ 2  5  8 11]\n",
      "  [14 17 20 23]]]\n"
     ]
    }
   ],
   "source": [
    "ex=np.arange(24).reshape(2,4,3)\n",
    "print(ex, \"\\n\\n\", ex.transpose(), \"\\n\\n\", ex.transpose(2,0,1))"
   ]
  },
  {
   "cell_type": "code",
   "execution_count": 36,
   "metadata": {},
   "outputs": [
    {
     "name": "stdout",
     "output_type": "stream",
     "text": [
      "[[[ 0  1  2]\n",
      "  [12 13 14]]\n",
      "\n",
      " [[ 3  4  5]\n",
      "  [15 16 17]]\n",
      "\n",
      " [[ 6  7  8]\n",
      "  [18 19 20]]\n",
      "\n",
      " [[ 9 10 11]\n",
      "  [21 22 23]]] \n",
      "\n",
      " [[[ 0  1  2]\n",
      "  [12 13 14]]\n",
      "\n",
      " [[ 3  4  5]\n",
      "  [15 16 17]]\n",
      "\n",
      " [[ 6  7  8]\n",
      "  [18 19 20]]\n",
      "\n",
      " [[ 9 10 11]\n",
      "  [21 22 23]]]\n"
     ]
    }
   ],
   "source": [
    "ex=np.arange(24).reshape(2,4,3)\n",
    "print(ex.transpose(1,0,2), \"\\n\\n\", ex.swapaxes(1,0)) #동"
   ]
  },
  {
   "cell_type": "code",
   "execution_count": 37,
   "metadata": {},
   "outputs": [
    {
     "data": {
      "text/plain": [
       "array([ 1.,  4.,  2., inf, nan])"
      ]
     },
     "execution_count": 37,
     "metadata": {},
     "output_type": "execute_result"
    }
   ],
   "source": [
    "ex=np.arange(24).reshape(2,4,3)\n",
    "np.array([1,4,2,np.inf,np.nan]) #무한대값, NA값"
   ]
  },
  {
   "cell_type": "code",
   "execution_count": 38,
   "metadata": {},
   "outputs": [
    {
     "name": "stdout",
     "output_type": "stream",
     "text": [
      "[[ 0  1  2  3  4  5]\n",
      " [ 6  7  8  9 10 11]\n",
      " [12 13 14 15 16 17]] \n",
      " [[ 1.27728114 -0.23223773  0.95220891 -0.00987384 -0.22701706 -1.26668899]\n",
      " [-0.68612289  1.83906004 -0.95510073 -0.6263894  -1.1569747  -0.31945667]\n",
      " [ 0.73650282 -0.18270208 -0.53147079 -1.52155732  0.32561023 -0.28642848]]\n",
      "[[1.27728114 0.23223773 0.95220891 0.00987384 0.22701706 1.26668899]\n",
      " [0.68612289 1.83906004 0.95510073 0.6263894  1.1569747  0.31945667]\n",
      " [0.73650282 0.18270208 0.53147079 1.52155732 0.32561023 0.28642848]]\n",
      "[[ 1. -1.  1. -1. -1. -1.]\n",
      " [-1.  1. -1. -1. -1. -1.]\n",
      " [ 1. -1. -1. -1.  1. -1.]]\n",
      "[[ True  True  True  True  True  True]\n",
      " [ True  True  True  True  True  True]\n",
      " [ True  True  True  True  True  True]]\n"
     ]
    }
   ],
   "source": [
    "A=np.arange(18).reshape(3,6)\n",
    "B=np.random.randn(3,6)\n",
    "print(A,\"\\n\",B)\n",
    "print(np.abs(B)) #음수를 양수로\n",
    "print(np.sign(B)) #음수는 -1, 양수는 1\n",
    "print(np.isfinite(B)) #각각의 원소가 무한인지, 유한인지 판단"
   ]
  },
  {
   "cell_type": "code",
   "execution_count": 39,
   "metadata": {},
   "outputs": [
    {
     "name": "stdout",
     "output_type": "stream",
     "text": [
      "[[  0   1   4   9  16  25]\n",
      " [ 36  49  64  81 100 121]\n",
      " [144 169 196 225 256 289]]\n",
      "[[  0   1   4   9  16  25]\n",
      " [ 36  49  64  81 100 121]\n",
      " [144 169 196 225 256 289]]\n"
     ]
    }
   ],
   "source": [
    "print(np.square(A))\n",
    "print(A**2) # 위의 식과 동일"
   ]
  },
  {
   "cell_type": "code",
   "execution_count": 40,
   "metadata": {},
   "outputs": [
    {
     "name": "stdout",
     "output_type": "stream",
     "text": [
      "[[ 1.27728114  0.76776227  2.95220891  2.99012616  3.77298294  3.73331101]\n",
      " [ 5.31387711  8.83906004  7.04489927  8.3736106   8.8430253  10.68054333]\n",
      " [12.73650282 12.81729792 13.46852921 13.47844268 16.32561023 16.71357152]]\n",
      "[[ 1.27728114  0.76776227  2.95220891  2.99012616  3.77298294  3.73331101]\n",
      " [ 5.31387711  8.83906004  7.04489927  8.3736106   8.8430253  10.68054333]\n",
      " [12.73650282 12.81729792 13.46852921 13.47844268 16.32561023 16.71357152]]\n"
     ]
    }
   ],
   "source": [
    "print(np.add(A,B))\n",
    "print(A+B)  # 위의 식과 동일"
   ]
  },
  {
   "cell_type": "code",
   "execution_count": 41,
   "metadata": {},
   "outputs": [
    {
     "name": "stdout",
     "output_type": "stream",
     "text": [
      "[[  0.          -0.23223773   1.90441781  -0.02962152  -0.90806824\n",
      "   -6.33344494]\n",
      " [ -4.11673732  12.87342031  -7.64080585  -5.63750462 -11.56974704\n",
      "   -3.51402337]\n",
      " [  8.83803381  -2.37512704  -7.44059102 -22.82335978   5.20976373\n",
      "   -4.86928415]]\n",
      "[[  0.          -0.23223773   1.90441781  -0.02962152  -0.90806824\n",
      "   -6.33344494]\n",
      " [ -4.11673732  12.87342031  -7.64080585  -5.63750462 -11.56974704\n",
      "   -3.51402337]\n",
      " [  8.83803381  -2.37512704  -7.44059102 -22.82335978   5.20976373\n",
      "   -4.86928415]]\n"
     ]
    }
   ],
   "source": [
    "print(np.multiply(A,B))\n",
    "print(A*B)  # 위의 식과 동일"
   ]
  },
  {
   "cell_type": "code",
   "execution_count": 42,
   "metadata": {},
   "outputs": [
    {
     "name": "stdout",
     "output_type": "stream",
     "text": [
      "[[0.00000000e+00 1.00000000e+00 1.93483281e+00 9.89211101e-01\n",
      "  7.29998740e-01 1.30203420e-01]\n",
      " [2.92477605e-01 3.58249868e+01 1.37232853e-01 2.52506525e-01\n",
      "  6.96667090e-02 4.64857841e-01]\n",
      " [6.23476413e+00 6.25864376e-01 2.45961102e-01 1.62371476e-02\n",
      "  2.46645836e+00 4.44185509e-01]]\n",
      "[[0.00000000e+00 1.00000000e+00 1.93483281e+00 9.89211101e-01\n",
      "  7.29998740e-01 1.30203420e-01]\n",
      " [2.92477605e-01 3.58249868e+01 1.37232853e-01 2.52506525e-01\n",
      "  6.96667090e-02 4.64857841e-01]\n",
      " [6.23476413e+00 6.25864376e-01 2.45961102e-01 1.62371476e-02\n",
      "  2.46645836e+00 4.44185509e-01]]\n"
     ]
    }
   ],
   "source": [
    "print(np.power(A,B))\n",
    "print(A**B)  # 위의 식과 동일"
   ]
  },
  {
   "cell_type": "code",
   "execution_count": 43,
   "metadata": {},
   "outputs": [
    {
     "name": "stdout",
     "output_type": "stream",
     "text": [
      "[[False  True  True  True  True  True]\n",
      " [ True  True  True  True  True  True]\n",
      " [ True  True  True  True  True  True]]\n",
      "[[False  True  True  True  True  True]\n",
      " [ True  True  True  True  True  True]\n",
      " [ True  True  True  True  True  True]]\n"
     ]
    }
   ],
   "source": [
    "print(np.greater(A,B)) #A>B\n",
    "print(A>B)  # 위의 식과 동일"
   ]
  },
  {
   "cell_type": "code",
   "execution_count": 44,
   "metadata": {},
   "outputs": [
    {
     "name": "stdout",
     "output_type": "stream",
     "text": [
      "[[ True False  True False False False]\n",
      " [False  True False False False False]\n",
      " [ True False False False  True False]]\n"
     ]
    }
   ],
   "source": [
    "print((B>=0) & (B<2)) # B>=0 and B<2 로 치면 안됨. 왜안되는지는 아직 모름."
   ]
  },
  {
   "cell_type": "code",
   "execution_count": 45,
   "metadata": {},
   "outputs": [
    {
     "name": "stdout",
     "output_type": "stream",
     "text": [
      "[1.27728114 0.95220891 1.83906004 0.73650282 0.32561023]\n"
     ]
    }
   ],
   "source": [
    "print(B[(B>=0) & (B<2)]) # 0<=B<2인것만 추"
   ]
  },
  {
   "cell_type": "code",
   "execution_count": 46,
   "metadata": {},
   "outputs": [
    {
     "name": "stdout",
     "output_type": "stream",
     "text": [
      "[[ True False  True False False False]\n",
      " [False  True False False False False]\n",
      " [ True False False False  True False]]\n"
     ]
    }
   ],
   "source": [
    "print(np.logical_and((B>=0),(B<2)))"
   ]
  },
  {
   "cell_type": "code",
   "execution_count": 47,
   "metadata": {},
   "outputs": [
    {
     "data": {
      "text/plain": [
       "array([ 1, -8,  3])"
      ]
     },
     "execution_count": 47,
     "metadata": {},
     "output_type": "execute_result"
    }
   ],
   "source": [
    "np.where([True,False,True],[1,2,3],[-9,-8,-7]) #원래라면 조건식이 들어가야함"
   ]
  },
  {
   "cell_type": "code",
   "execution_count": 48,
   "metadata": {},
   "outputs": [
    {
     "data": {
      "text/plain": [
       "array([[ 1, -8],\n",
       "       [ 3,  4]])"
      ]
     },
     "execution_count": 48,
     "metadata": {},
     "output_type": "execute_result"
    }
   ],
   "source": [
    "np.where([[True,False],\n",
    "          [True, True]],\n",
    "          [[1,2],\n",
    "           [3,4]],\n",
    "          [[-9,-8],\n",
    "           [-7,-6]])  #2차원도 가"
   ]
  },
  {
   "cell_type": "code",
   "execution_count": 49,
   "metadata": {},
   "outputs": [
    {
     "name": "stdout",
     "output_type": "stream",
     "text": [
      "9.333333333333334 5.2\n",
      "9.333333333333334 5.2\n",
      "10.71862346054235 10.71862346054235\n",
      "10.71862346054235 11.74166370948626\n",
      "10.71862346054235\n"
     ]
    }
   ],
   "source": [
    "A=np.array([2,5,3,6,7,33])\n",
    "B=np.array([3,6,4,6,7])\n",
    "print(np.mean(A), np.mean(B))\n",
    "print(A.mean(), B.mean()) # 둘다 가능\n",
    "\n",
    "print(A.std(ddof=0),np.std(A,ddof=0))\n",
    "print(A.std(ddof=0),np.std(A,ddof=1))\n",
    "print(A.std()) # 아무것도 안적으면 default 는 n으로 나눈 것"
   ]
  },
  {
   "cell_type": "code",
   "execution_count": 50,
   "metadata": {},
   "outputs": [
    {
     "name": "stdout",
     "output_type": "stream",
     "text": [
      "5 0\n"
     ]
    }
   ],
   "source": [
    "A=np.array([2,5,3,6,7,33])\n",
    "B=np.array([3,6,4,6,7])\n",
    "print(A.argmax(),A.argmin()) # 최소값의 인덱스. 최대값의 인덱스"
   ]
  },
  {
   "cell_type": "code",
   "execution_count": 51,
   "metadata": {},
   "outputs": [
    {
     "name": "stdout",
     "output_type": "stream",
     "text": [
      "7.416666666666667 7.416666666666667\n"
     ]
    }
   ],
   "source": [
    "A=np.array([[2,5,3],[6,7,33],[4,2,7],[7,9,4]])\n",
    "B=np.array([2,5,3,6,7,33,4,2,7,7,9,4])\n",
    "print(A.mean(),np.mean(A)) #아무인수없이 쓰면 전체에 대해 평균값 구해"
   ]
  },
  {
   "cell_type": "code",
   "execution_count": 52,
   "metadata": {},
   "outputs": [
    {
     "name": "stdout",
     "output_type": "stream",
     "text": [
      "[ 4.75  5.75 11.75] [ 3.33333333 15.33333333  4.33333333  6.66666667]\n"
     ]
    }
   ],
   "source": [
    "A=np.array([[2,5,3],[6,7,33],[4,2,7],[7,9,4]])\n",
    "B=np.array([2,5,3,6,7,33,4,2,7,7,9,4])\n",
    "print(A.mean(axis=0),np.mean(A,axis=1)) #열평균 # 행평균"
   ]
  },
  {
   "cell_type": "code",
   "execution_count": 53,
   "metadata": {},
   "outputs": [
    {
     "name": "stdout",
     "output_type": "stream",
     "text": [
      "[ 2.21735578  2.98607881 14.26826315] [ 1.52752523 15.30795     2.51661148  2.51661148]\n"
     ]
    }
   ],
   "source": [
    "A=np.array([[2,5,3],[6,7,33],[4,2,7],[7,9,4]])\n",
    "B=np.array([2,5,3,6,7,33,4,2,7,7,9,4])\n",
    "print(A.std(axis=0,ddof=1),np.std(A,axis=1,ddof=1)) #열표준편차 # 행표준편차"
   ]
  },
  {
   "cell_type": "code",
   "execution_count": 54,
   "metadata": {},
   "outputs": [
    {
     "name": "stdout",
     "output_type": "stream",
     "text": [
      "[False  True False  True  True  True False False  True  True  True False]\n",
      "(12,) bool\n",
      "7\n",
      "0.5833333333333334\n"
     ]
    }
   ],
   "source": [
    "A=np.array([[2,5,3],[6,7,33],[4,2,7],[7,9,4]])\n",
    "B=np.array([2,5,3,6,7,33,4,2,7,7,9,4])\n",
    "print(B>=5) # 얘도 배열임!\n",
    "print((B>=5).shape, (B>=5).dtype) # 배열의 특성 지님 -> 배열의 연산 가능\n",
    "print((B>=5).sum()) # 자동적으로 논리값이 숫자로 cast되면서, 5이상인건 1, 5미만인건 0이됨. 그말은 저 값의 의미는 5이상인 값의 갯수\n",
    "print((B>=5).mean()) # B>=5인 값은 1, B<5인 것은 0이므로 평균내면 5이상인거의 비율나타남"
   ]
  },
  {
   "cell_type": "code",
   "execution_count": 55,
   "metadata": {},
   "outputs": [
    {
     "name": "stdout",
     "output_type": "stream",
     "text": [
      "[ 2  2  3  4  4  5  6  7  7  7  9 33] [ 2  5  3  6  7 33  4  2  7  7  9  4]\n",
      "None [ 2  2  3  4  4  5  6  7  7  7  9 33]\n"
     ]
    }
   ],
   "source": [
    "A=np.array([[2,5,3],[6,7,33],[4,2,7],[7,9,4]])\n",
    "B=np.array([2,5,3,6,7,33,4,2,7,7,9,4])\n",
    "print(np.sort(B),B) #함수로 쓰면 B의 값이 바뀌지 않음\n",
    "print(B.sort(),B) #메소드를 사용하면 B의 값이 바뀜"
   ]
  },
  {
   "cell_type": "code",
   "execution_count": 3,
   "metadata": {},
   "outputs": [
    {
     "data": {
      "text/plain": [
       "<numpy.lib.npyio.NpzFile at 0x1d44b3f5518>"
      ]
     },
     "execution_count": 3,
     "metadata": {},
     "output_type": "execute_result"
    }
   ],
   "source": [
    "npy_AB=np.load(\"C:/Users/Affinity/Desktop/Python_Data/ch02_data/arr_AB.npz\")\n",
    "npy_AB"
   ]
  },
  {
   "cell_type": "code",
   "execution_count": 4,
   "metadata": {},
   "outputs": [
    {
     "data": {
      "text/plain": [
       "array([[ 2,  5,  3],\n",
       "       [ 6,  7, 33],\n",
       "       [ 4,  2,  7],\n",
       "       [ 7,  9,  4]])"
      ]
     },
     "execution_count": 4,
     "metadata": {},
     "output_type": "execute_result"
    }
   ],
   "source": [
    "npy_AB[\"A2d\"] # load 후 불러올때는 키워드를 사용"
   ]
  },
  {
   "cell_type": "code",
   "execution_count": 5,
   "metadata": {},
   "outputs": [
    {
     "data": {
      "text/plain": [
       "array([ 2,  5,  3,  6,  7, 33,  4,  2,  7,  7,  9,  4])"
      ]
     },
     "execution_count": 5,
     "metadata": {},
     "output_type": "execute_result"
    }
   ],
   "source": [
    "npy_AB[\"B1d\"]"
   ]
  },
  {
   "cell_type": "code",
   "execution_count": 6,
   "metadata": {},
   "outputs": [
    {
     "name": "stdout",
     "output_type": "stream",
     "text": [
      "[[ 81.4 195.   57. ]\n",
      " [122.2 179.   61. ]\n",
      " [101.7 205.   60. ]\n",
      " [175.6 204.   62. ]\n",
      " [150.3 201.   61. ]\n",
      " [ 64.8 184.   54. ]\n",
      " [ 92.1 210.   58. ]\n",
      " [113.8 209.   61. ]]\n"
     ]
    }
   ],
   "source": [
    "A=np.loadtxt(\"C:/Users/Affinity/Desktop/Python_Data/ch02_data/steel.txt\",\n",
    "         skiprows=5, delimiter=\"\\t\")\n",
    "print(A)"
   ]
  },
  {
   "cell_type": "code",
   "execution_count": 7,
   "metadata": {},
   "outputs": [
    {
     "name": "stdout",
     "output_type": "stream",
     "text": [
      "[112.7375 198.375   59.25  ]\n"
     ]
    }
   ],
   "source": [
    "print(A.mean(axis=0)) # 열평균 # Y:강도, X1:온도, X2:압력이므로, mean한거보면 평균강도, 평균온도, 평균압력구한것임"
   ]
  },
  {
   "cell_type": "code",
   "execution_count": 8,
   "metadata": {},
   "outputs": [
    {
     "name": "stdout",
     "output_type": "stream",
     "text": [
      "[[ 81.4 122.2 101.7 175.6 150.3  64.8  92.1 113.8]\n",
      " [ 57.   61.   60.   62.   61.   54.   58.   61. ]]\n"
     ]
    }
   ],
   "source": [
    "A=np.loadtxt(\"C:/Users/Affinity/Desktop/Python_Data/ch02_data/steel.txt\",\n",
    "         skiprows=5, delimiter=\"\\t\", usecols=(0,2), unpack=True) # usecols에 따라 불러올 인덱스 지정 # unpack 옵션으로 전치된 자료 불러오기\n",
    "print(A)"
   ]
  },
  {
   "cell_type": "code",
   "execution_count": 13,
   "metadata": {},
   "outputs": [
    {
     "name": "stdout",
     "output_type": "stream",
     "text": [
      "[[0 1]\n",
      " [2 3]\n",
      " [4 5]\n",
      " [6 7]]\n",
      "[[3 5 7 2]\n",
      " [4 3 6 2]]\n",
      "[[5 3 6 4]\n",
      " [7 6 4 5]\n",
      " [5 8 4 2]\n",
      " [6 5 3 7]]\n",
      "[[50 67]\n",
      " [42 57]] [5 6 4 7]\n"
     ]
    }
   ],
   "source": [
    "A=np.arange(8).reshape(4,2)\n",
    "B=np.array([[3,5,7,2],[4,3,6,2]])\n",
    "C=np.array([[5,3,6,4],[7,6,4,5],[5,8,4,2],[6,5,3,7]])\n",
    "print(A);print(B);print(C)\n",
    "print(np.dot(B,A),np.diag(C)) #행렬곱 #대각성"
   ]
  },
  {
   "cell_type": "code",
   "execution_count": 15,
   "metadata": {},
   "outputs": [
    {
     "name": "stdout",
     "output_type": "stream",
     "text": [
      "[[-0.13168724  0.79835391 -0.29218107 -0.41152263]\n",
      " [-0.06995885 -0.26337449  0.25102881  0.1563786 ]\n",
      " [ 0.28395062 -0.28395062  0.09876543  0.01234568]\n",
      " [ 0.04115226 -0.3744856   0.02880658  0.37860082]] [[ 1.00000000e+00  8.88178420e-16  0.00000000e+00  0.00000000e+00]\n",
      " [ 5.55111512e-17  1.00000000e+00  0.00000000e+00  4.44089210e-16]\n",
      " [-1.11022302e-16  8.88178420e-16  1.00000000e+00  4.44089210e-16]\n",
      " [ 5.55111512e-17  0.00000000e+00  4.44089210e-16  1.00000000e+00]]\n"
     ]
    }
   ],
   "source": [
    "print(np.linalg.inv(C), np.dot(C,np.linalg.inv(C))) # 정확하게 항등행렬이 나오는것은 아님. 실수계산오차발생."
   ]
  },
  {
   "cell_type": "code",
   "execution_count": 18,
   "metadata": {},
   "outputs": [
    {
     "name": "stdout",
     "output_type": "stream",
     "text": [
      "[[ 1.  0.  0.  0.]\n",
      " [ 0.  1.  0.  0.]\n",
      " [-0.  0.  1.  0.]\n",
      " [ 0.  0.  0.  1.]]\n"
     ]
    }
   ],
   "source": [
    "print(np.rint(np.dot(C,np.linalg.inv(C))))"
   ]
  },
  {
   "cell_type": "code",
   "execution_count": 7,
   "metadata": {},
   "outputs": [
    {
     "name": "stdout",
     "output_type": "stream",
     "text": [
      "[[ 81.4 195.   57. ]\n",
      " [122.2 179.   61. ]\n",
      " [101.7 205.   60. ]\n",
      " [175.6 204.   62. ]\n",
      " [150.3 201.   61. ]\n",
      " [ 64.8 184.   54. ]\n",
      " [ 92.1 210.   58. ]\n",
      " [113.8 209.   61. ]] [[  1. 195.  57.]\n",
      " [  1. 179.  61.]\n",
      " [  1. 205.  60.]\n",
      " [  1. 204.  62.]\n",
      " [  1. 201.  61.]\n",
      " [  1. 184.  54.]\n",
      " [  1. 210.  58.]\n",
      " [  1. 209.  61.]] [ 81.4 122.2 101.7 175.6 150.3  64.8  92.1 113.8]\n",
      "[-5.54311223e+02 -1.79739607e-01  1.18599927e+01] [  1 200  60] [-554.31122321  -35.94792132  711.59956219] 121.34041766671066\n"
     ]
    },
    {
     "name": "stderr",
     "output_type": "stream",
     "text": [
      "C:\\ProgramData\\Anaconda3\\envs\\mypython\\lib\\site-packages\\ipykernel_launcher.py:7: FutureWarning: `rcond` parameter will change to the default of machine precision times ``max(M, N)`` where M and N are the input matrix dimensions.\n",
      "To use the future default and silence this warning we advise to pass `rcond=None`, to keep using the old, explicitly pass `rcond=-1`.\n",
      "  import sys\n",
      "C:\\ProgramData\\Anaconda3\\envs\\mypython\\lib\\site-packages\\ipykernel_launcher.py:9: FutureWarning: `rcond` parameter will change to the default of machine precision times ``max(M, N)`` where M and N are the input matrix dimensions.\n",
      "To use the future default and silence this warning we advise to pass `rcond=None`, to keep using the old, explicitly pass `rcond=-1`.\n",
      "  if __name__ == '__main__':\n"
     ]
    }
   ],
   "source": [
    "steel=np.loadtxt(\"C:/Users/Affinity/Desktop/Python_Data/ch02_data/steel.txt\",\n",
    "         skiprows=5, delimiter=\"\\t\") \n",
    "y=steel[:,0].copy()\n",
    "X=steel.copy()\n",
    "X[:,0]=1 #이렇게 꼭 1로 맞춰줘야하나,,,?\n",
    "print(steel,X,y)\n",
    "np.linalg.lstsq(X,y) #첫번째께 회귀계수, 두번째께 SSE, 세번째께 SVD분해 시, 대각행렬의 대각선값=eigenvalue의 제곱근\n",
    "\n",
    "b=np.linalg.lstsq(X,y)[0]\n",
    "New_x=np.array([1,200,60]) #회귀값 대입할때 상수쪽인 1을 먼저 대입하고 그다음 x, y 대입\n",
    "print(b,New_x,b*New_x,np.sum(b*New_x)) #같은 위치의 성분끼리 곱함 #온도가 200이고, 강도가 60일 때, 회귀값"
   ]
  },
  {
   "cell_type": "code",
   "execution_count": 8,
   "metadata": {},
   "outputs": [
    {
     "data": {
      "text/plain": [
       "array([ 1.73919585,  0.50599101, -0.26687567,  1.23856025, -0.32294896,\n",
       "       -0.01788394, -0.24303828, -0.29062318,  0.35343799, -0.46611075,\n",
       "       -0.09703844, -0.67254183,  1.25056213, -0.24011036, -0.19528616,\n",
       "       -1.00240569, -1.18454009, -1.86219704, -2.47810331, -0.30566062,\n",
       "        0.56781602,  0.63782422, -1.16539407,  0.86624232, -1.66642432,\n",
       "       -0.72210704, -0.41908173,  2.31806048, -1.71908065,  0.59330108,\n",
       "       -0.291832  ,  0.97589165,  0.09934599,  0.20355159,  0.98667732,\n",
       "       -0.71055382,  1.24367292,  0.04315909,  0.92117838,  0.17057704,\n",
       "       -0.85253291, -0.18210235, -0.04849096, -1.47358538, -0.17550988,\n",
       "        0.42982689, -1.76789614, -1.75165023,  0.90605788,  2.42367493,\n",
       "       -0.54990433, -0.20866008,  1.39972106, -0.16304727,  0.50333425,\n",
       "        0.65440624, -0.46231803,  0.1069416 ,  1.22423412, -0.90860007,\n",
       "       -0.33953471,  0.44870075,  1.45735046,  0.16270114,  0.32678353,\n",
       "       -1.18681404, -1.80237794,  0.28654284,  2.00919131, -1.2988738 ,\n",
       "       -0.27463296,  1.71744506, -1.146376  ,  0.1198776 ,  0.38322234,\n",
       "       -0.62073541,  0.72563133, -0.14728888, -0.53616163, -0.98454436,\n",
       "        1.13284086, -0.60068458,  0.44868444, -2.83264753,  0.10245121,\n",
       "        0.05729006, -0.16980934,  0.75081316, -0.41816401, -1.54334182,\n",
       "       -1.60067035,  0.44454285, -0.40668606,  0.66476166, -0.59053305,\n",
       "        0.62690291,  0.21174283,  0.0366209 , -1.72667753,  0.41793641])"
      ]
     },
     "execution_count": 8,
     "metadata": {},
     "output_type": "execute_result"
    }
   ],
   "source": [
    "np.random.randn(100) # 표준정규분포에서 난수 발생."
   ]
  },
  {
   "cell_type": "code",
   "execution_count": 10,
   "metadata": {},
   "outputs": [
    {
     "data": {
      "text/plain": [
       "array([15.54606227, 20.71682097, 20.96217087, 17.28308818, 22.24693366,\n",
       "       19.31684116, 15.43784335, 17.57596682, 18.02291441, 19.07273027,\n",
       "       19.65563745, 19.9113746 , 19.17809522, 20.50356151, 19.65843283,\n",
       "       20.29155415, 21.23047931, 21.81941269, 20.53801035, 18.79135926,\n",
       "       26.47783259, 23.44883749, 15.98003733, 20.54731802, 18.0130708 ,\n",
       "       20.90282091, 18.57175807, 20.0311379 , 21.72030198, 18.64065245,\n",
       "       19.92458099, 20.70663278, 19.08802812, 18.95272051, 18.90973492,\n",
       "       22.28129167, 20.3289863 , 20.03185354, 19.63413819, 22.0141818 ,\n",
       "       21.15235539, 22.10922422, 19.04163592, 19.76330474, 16.30814481,\n",
       "       23.92655232, 18.91913307, 20.48990231, 17.04321672, 22.65978148,\n",
       "       20.3945803 , 20.22340721, 23.28873483, 20.92910401, 18.33601603,\n",
       "       20.75840373, 18.62803268, 21.15179837, 18.19112223, 17.78657517,\n",
       "       19.75987961, 23.2549974 , 19.98389457, 19.35008328, 18.25620038,\n",
       "       19.74581199, 18.3591694 , 20.44362543, 17.46014979, 16.82750477,\n",
       "       21.36535519, 17.73004011, 19.98802543, 20.8491339 , 23.43019875,\n",
       "       22.74137222, 19.41839388, 18.23925712, 18.81433066, 19.58223601,\n",
       "       18.59886823, 18.90969128, 22.92126811, 19.9782977 , 18.96972139,\n",
       "       21.76583322, 19.90654621, 21.4183499 , 19.6824654 , 17.88890449,\n",
       "       15.11569525, 24.62733516, 16.23312871, 20.16458459, 23.43606191,\n",
       "       20.78938305, 20.02140067, 21.28713684, 20.76668901, 17.57471196])"
      ]
     },
     "execution_count": 10,
     "metadata": {},
     "output_type": "execute_result"
    }
   ],
   "source": [
    "np.random.normal(loc=20,scale=2,size=100) # 모평균 : loc, 모표준편 : scale"
   ]
  },
  {
   "cell_type": "code",
   "execution_count": 64,
   "metadata": {},
   "outputs": [
    {
     "name": "stdout",
     "output_type": "stream",
     "text": [
      "(10, 3) \n",
      "\n",
      "[[1 3 6]\n",
      " [1 5 4]\n",
      " [1 3 6]\n",
      " [1 4 6]\n",
      " [1 7 3]\n",
      " [1 8 4]\n",
      " [1 9 7]\n",
      " [1 3 6]\n",
      " [1 5 2]\n",
      " [1 7 6]] \n",
      " [ 1.  -2.5  5.5] \n",
      " [27.33761383  4.64475994 26.33692771 24.87434807 -0.59560571  1.36159678\n",
      " 18.01011745 29.68483392  3.54460502 19.2632266 ] \n",
      "\n"
     ]
    },
    {
     "name": "stderr",
     "output_type": "stream",
     "text": [
      "C:\\ProgramData\\Anaconda3\\envs\\mypython\\lib\\site-packages\\ipykernel_launcher.py:7: FutureWarning: `rcond` parameter will change to the default of machine precision times ``max(M, N)`` where M and N are the input matrix dimensions.\n",
      "To use the future default and silence this warning we advise to pass `rcond=None`, to keep using the old, explicitly pass `rcond=-1`.\n",
      "  import sys\n"
     ]
    },
    {
     "data": {
      "text/plain": [
       "(array([ 1.02384185, -2.63505021,  5.73033433]),\n",
       " array([69.65011522]),\n",
       " 3,\n",
       " array([24.13008397,  6.1037028 ,  0.6956002 ]))"
      ]
     },
     "execution_count": 64,
     "metadata": {},
     "output_type": "execute_result"
    }
   ],
   "source": [
    "x=np.array([[1,3,6],[1,5,4],[1,3,6],[1,4,6],[1,7,3],[1,8,4],[1,9,7],[1,3,6],[1,5,2],[1,7,6]])\n",
    "print(x.shape,\"\\n\")\n",
    "beta=np.array([1,-2.5,5.5])\n",
    "e=np.random.normal(loc=0,scale=2,size=10)\n",
    "y=np.dot(x,beta)+e\n",
    "print(x,\"\\n\",beta,\"\\n\",y,\"\\n\")\n",
    "np.linalg.lstsq(x,y)"
   ]
  },
  {
   "cell_type": "code",
   "execution_count": 65,
   "metadata": {},
   "outputs": [
    {
     "name": "stdout",
     "output_type": "stream",
     "text": [
      "(10, 3) \n",
      "\n",
      "[[1 3 6]\n",
      " [1 5 4]\n",
      " [1 3 6]\n",
      " [1 4 6]\n",
      " [1 7 3]\n",
      " [1 8 4]\n",
      " [1 9 7]\n",
      " [1 3 6]\n",
      " [1 5 2]\n",
      " [1 7 6]] \n",
      " [ 1.  -2.5  5.5] \n",
      " [27.44287033  8.11804861 29.36541394 23.37469621 -1.44117747  4.77432588\n",
      " 18.71917683 25.22695299 -0.46860726 12.01463009] \n",
      "\n"
     ]
    },
    {
     "name": "stderr",
     "output_type": "stream",
     "text": [
      "C:\\ProgramData\\Anaconda3\\envs\\mypython\\lib\\site-packages\\ipykernel_launcher.py:8: FutureWarning: `rcond` parameter will change to the default of machine precision times ``max(M, N)`` where M and N are the input matrix dimensions.\n",
      "To use the future default and silence this warning we advise to pass `rcond=None`, to keep using the old, explicitly pass `rcond=-1`.\n",
      "  \n"
     ]
    },
    {
     "data": {
      "text/plain": [
       "(array([ 0.14457203, -2.5512041 ,  5.66891263]),\n",
       " array([43.38911395]),\n",
       " 3,\n",
       " array([24.13008397,  6.1037028 ,  0.6956002 ]))"
      ]
     },
     "execution_count": 65,
     "metadata": {},
     "output_type": "execute_result"
    }
   ],
   "source": [
    "x=np.array([[1,3,6],[1,5,4],[1,3,6],[1,4,6],[1,7,3],[1,8,4],[1,9,7],[1,3,6],[1,5,2],[1,7,6]])\n",
    "print(x.shape,\"\\n\")\n",
    "beta=np.array([1,-2.5,5.5])\n",
    "np.random.seed(1234) # 시드값 설정 - 고정\n",
    "e=np.random.normal(loc=0,scale=2,size=10)\n",
    "y=np.dot(x,beta)+e\n",
    "print(x,\"\\n\",beta,\"\\n\",y,\"\\n\")\n",
    "np.linalg.lstsq(x,y)"
   ]
  },
  {
   "cell_type": "code",
   "execution_count": null,
   "metadata": {},
   "outputs": [],
   "source": []
  }
 ],
 "metadata": {
  "kernelspec": {
   "display_name": "MyPython",
   "language": "python",
   "name": "mypython"
  },
  "language_info": {
   "codemirror_mode": {
    "name": "ipython",
    "version": 3
   },
   "file_extension": ".py",
   "mimetype": "text/x-python",
   "name": "python",
   "nbconvert_exporter": "python",
   "pygments_lexer": "ipython3",
   "version": "3.6.9"
  },
  "widgets": {
   "state": {},
   "version": "1.1.2"
  }
 },
 "nbformat": 4,
 "nbformat_minor": 2
}
